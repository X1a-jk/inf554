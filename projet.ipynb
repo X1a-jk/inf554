{
 "cells": [
  {
   "cell_type": "code",
   "execution_count": null,
   "id": "f018519c",
   "metadata": {},
   "outputs": [],
   "source": [
    "# 思路：把数据分成两部分，一部分只有数字变量，一部分是text\n",
    "# 分别进行embedding化成向量后在训练的途中结合在一起，最后求出回归的值"
   ]
  },
  {
   "cell_type": "code",
   "execution_count": null,
   "id": "7d0ed507",
   "metadata": {},
   "outputs": [],
   "source": [
    "# Training process"
   ]
  },
  {
   "cell_type": "code",
   "execution_count": 1,
   "id": "a06bcb0c",
   "metadata": {},
   "outputs": [],
   "source": [
    "import csv\n",
    "import numpy as np\n",
    "import pandas as pd\n",
    "from sklearn.ensemble import GradientBoostingRegressor\n",
    "from sklearn.dummy import DummyRegressor\n",
    "from sklearn.feature_extraction.text import TfidfVectorizer\n",
    "from sklearn.metrics import mean_absolute_error\n",
    "from sklearn.linear_model import Lasso\n",
    "from sklearn.ensemble import RandomForestRegressor\n",
    "from sklearn.neighbors import KNeighborsRegressor\n",
    "from sklearn.svm import SVR\n",
    "from sklearn.linear_model import LinearRegression\n",
    "from sklearn.linear_model import LogisticRegression\n",
    "from sklearn.decomposition import PCA\n",
    "\n",
    "from verstack.stratified_continuous_split import scsplit # pip install verstack\n",
    "from nltk.corpus import stopwords \n",
    "\n",
    "import torch\n",
    "import torch.nn.functional as F\n",
    "\n",
    "\n",
    "\n",
    "from scipy import spatial\n",
    "import matplotlib.pyplot as plt\n",
    "from sklearn.manifold import TSNE\n",
    "\n",
    "import os\n",
    "import gensim\n",
    "from gensim.models.doc2vec import Doc2Vec\n",
    "import warnings\n",
    "warnings.filterwarnings(action='ignore', category=UserWarning, module='gensim')"
   ]
  },
  {
   "cell_type": "code",
   "execution_count": 2,
   "id": "f309a01b",
   "metadata": {},
   "outputs": [],
   "source": [
    "device = torch.device(\"cuda:0\" if torch.cuda.is_available() else \"cpu\")"
   ]
  },
  {
   "cell_type": "code",
   "execution_count": 3,
   "id": "6a9a4207",
   "metadata": {},
   "outputs": [
    {
     "data": {
      "text/html": [
       "<div>\n",
       "<style scoped>\n",
       "    .dataframe tbody tr th:only-of-type {\n",
       "        vertical-align: middle;\n",
       "    }\n",
       "\n",
       "    .dataframe tbody tr th {\n",
       "        vertical-align: top;\n",
       "    }\n",
       "\n",
       "    .dataframe thead th {\n",
       "        text-align: right;\n",
       "    }\n",
       "</style>\n",
       "<table border=\"1\" class=\"dataframe\">\n",
       "  <thead>\n",
       "    <tr style=\"text-align: right;\">\n",
       "      <th></th>\n",
       "      <th>text</th>\n",
       "      <th>retweets_count</th>\n",
       "      <th>favorites_count</th>\n",
       "      <th>followers_count</th>\n",
       "      <th>statuses_count</th>\n",
       "      <th>friends_count</th>\n",
       "      <th>mentions</th>\n",
       "      <th>urls</th>\n",
       "      <th>verified</th>\n",
       "      <th>hashtags</th>\n",
       "      <th>timestamp</th>\n",
       "      <th>TweetID</th>\n",
       "    </tr>\n",
       "  </thead>\n",
       "  <tbody>\n",
       "    <tr>\n",
       "      <th>0</th>\n",
       "      <td>rt refarcir macron ans nom prépare</td>\n",
       "      <td>3</td>\n",
       "      <td>0</td>\n",
       "      <td>3682</td>\n",
       "      <td>453535</td>\n",
       "      <td>3628</td>\n",
       "      <td>[]</td>\n",
       "      <td>[]</td>\n",
       "      <td>0</td>\n",
       "      <td>[]</td>\n",
       "      <td>1646978048000</td>\n",
       "      <td>832509</td>\n",
       "    </tr>\n",
       "    <tr>\n",
       "      <th>1</th>\n",
       "      <td>populaire</td>\n",
       "      <td>0</td>\n",
       "      <td>0</td>\n",
       "      <td>86</td>\n",
       "      <td>1016</td>\n",
       "      <td>284</td>\n",
       "      <td>[]</td>\n",
       "      <td>[]</td>\n",
       "      <td>0</td>\n",
       "      <td>[]</td>\n",
       "      <td>1647694288000</td>\n",
       "      <td>1388011</td>\n",
       "    </tr>\n",
       "    <tr>\n",
       "      <th>2</th>\n",
       "      <td>faut dégager cinglé</td>\n",
       "      <td>3</td>\n",
       "      <td>1</td>\n",
       "      <td>1944</td>\n",
       "      <td>28234</td>\n",
       "      <td>1995</td>\n",
       "      <td>[]</td>\n",
       "      <td>[]</td>\n",
       "      <td>0</td>\n",
       "      <td>[]</td>\n",
       "      <td>1647370048000</td>\n",
       "      <td>63896</td>\n",
       "    </tr>\n",
       "    <tr>\n",
       "      <th>3</th>\n",
       "      <td>enseignants mettre prescriptions président rép...</td>\n",
       "      <td>0</td>\n",
       "      <td>0</td>\n",
       "      <td>1</td>\n",
       "      <td>1072</td>\n",
       "      <td>0</td>\n",
       "      <td>[]</td>\n",
       "      <td>['https://t.co/rytlted08g']</td>\n",
       "      <td>0</td>\n",
       "      <td>[]</td>\n",
       "      <td>1647256282000</td>\n",
       "      <td>979251</td>\n",
       "    </tr>\n",
       "    <tr>\n",
       "      <th>4</th>\n",
       "      <td>mafieuse oppressive macron</td>\n",
       "      <td>0</td>\n",
       "      <td>0</td>\n",
       "      <td>13957</td>\n",
       "      <td>25311</td>\n",
       "      <td>10841</td>\n",
       "      <td>[]</td>\n",
       "      <td>[]</td>\n",
       "      <td>0</td>\n",
       "      <td>[]</td>\n",
       "      <td>1647258374000</td>\n",
       "      <td>1040049</td>\n",
       "    </tr>\n",
       "  </tbody>\n",
       "</table>\n",
       "</div>"
      ],
      "text/plain": [
       "                                                text  retweets_count  \\\n",
       "0                 rt refarcir macron ans nom prépare               3   \n",
       "1                                          populaire               0   \n",
       "2                                faut dégager cinglé               3   \n",
       "3  enseignants mettre prescriptions président rép...               0   \n",
       "4                         mafieuse oppressive macron               0   \n",
       "\n",
       "   favorites_count  followers_count  statuses_count  friends_count mentions  \\\n",
       "0                0             3682          453535           3628       []   \n",
       "1                0               86            1016            284       []   \n",
       "2                1             1944           28234           1995       []   \n",
       "3                0                1            1072              0       []   \n",
       "4                0            13957           25311          10841       []   \n",
       "\n",
       "                          urls  verified hashtags      timestamp  TweetID  \n",
       "0                           []         0       []  1646978048000   832509  \n",
       "1                           []         0       []  1647694288000  1388011  \n",
       "2                           []         0       []  1647370048000    63896  \n",
       "3  ['https://t.co/rytlted08g']         0       []  1647256282000   979251  \n",
       "4                           []         0       []  1647258374000  1040049  "
      ]
     },
     "execution_count": 3,
     "metadata": {},
     "output_type": "execute_result"
    }
   ],
   "source": [
    "# Load the training data\n",
    "train_data = pd.read_csv(\"data/train.csv\")\n",
    "train_data.head()"
   ]
  },
  {
   "cell_type": "code",
   "execution_count": 3,
   "id": "cdad9d6c",
   "metadata": {},
   "outputs": [
    {
     "data": {
      "text/plain": [
       "(353969, 12)"
      ]
     },
     "execution_count": 3,
     "metadata": {},
     "output_type": "execute_result"
    }
   ],
   "source": [
    "train_data.shape"
   ]
  },
  {
   "cell_type": "code",
   "execution_count": 4,
   "id": "39f1e76b",
   "metadata": {},
   "outputs": [],
   "source": [
    "# replace the columns of [\"mentions\",\"urls\",\"hashtags\"] by the number of their elements\n",
    "def count_item(str_):\n",
    "    str_=str_[1:-1]\n",
    "    if (len(str_)==0):\n",
    "        return 0\n",
    "    list_str_=str_.split(\",\")\n",
    "    return len(list_str_)"
   ]
  },
  {
   "cell_type": "code",
   "execution_count": 5,
   "id": "45b7d2ef",
   "metadata": {},
   "outputs": [],
   "source": [
    "def count_num(data,list_column):\n",
    "    for name_column in list_column:\n",
    "        data[name_column]=[count_item(content) for content in data[name_column]]"
   ]
  },
  {
   "cell_type": "code",
   "execution_count": 6,
   "id": "b90dd23c",
   "metadata": {},
   "outputs": [],
   "source": [
    "data_analyse=train_data.drop([\"TweetID\",\"timestamp\",\"text\"], axis=1)\n",
    "count_num(data_analyse,[\"mentions\",\"urls\",\"hashtags\"])"
   ]
  },
  {
   "cell_type": "code",
   "execution_count": 7,
   "id": "a51b5e72",
   "metadata": {},
   "outputs": [
    {
     "data": {
      "text/html": [
       "<div>\n",
       "<style scoped>\n",
       "    .dataframe tbody tr th:only-of-type {\n",
       "        vertical-align: middle;\n",
       "    }\n",
       "\n",
       "    .dataframe tbody tr th {\n",
       "        vertical-align: top;\n",
       "    }\n",
       "\n",
       "    .dataframe thead th {\n",
       "        text-align: right;\n",
       "    }\n",
       "</style>\n",
       "<table border=\"1\" class=\"dataframe\">\n",
       "  <thead>\n",
       "    <tr style=\"text-align: right;\">\n",
       "      <th></th>\n",
       "      <th>retweets_count</th>\n",
       "      <th>favorites_count</th>\n",
       "      <th>followers_count</th>\n",
       "      <th>statuses_count</th>\n",
       "      <th>friends_count</th>\n",
       "      <th>mentions</th>\n",
       "      <th>urls</th>\n",
       "      <th>verified</th>\n",
       "      <th>hashtags</th>\n",
       "    </tr>\n",
       "  </thead>\n",
       "  <tbody>\n",
       "    <tr>\n",
       "      <th>0</th>\n",
       "      <td>3</td>\n",
       "      <td>0</td>\n",
       "      <td>3682</td>\n",
       "      <td>453535</td>\n",
       "      <td>3628</td>\n",
       "      <td>0</td>\n",
       "      <td>0</td>\n",
       "      <td>0</td>\n",
       "      <td>0</td>\n",
       "    </tr>\n",
       "    <tr>\n",
       "      <th>1</th>\n",
       "      <td>0</td>\n",
       "      <td>0</td>\n",
       "      <td>86</td>\n",
       "      <td>1016</td>\n",
       "      <td>284</td>\n",
       "      <td>0</td>\n",
       "      <td>0</td>\n",
       "      <td>0</td>\n",
       "      <td>0</td>\n",
       "    </tr>\n",
       "    <tr>\n",
       "      <th>2</th>\n",
       "      <td>3</td>\n",
       "      <td>1</td>\n",
       "      <td>1944</td>\n",
       "      <td>28234</td>\n",
       "      <td>1995</td>\n",
       "      <td>0</td>\n",
       "      <td>0</td>\n",
       "      <td>0</td>\n",
       "      <td>0</td>\n",
       "    </tr>\n",
       "    <tr>\n",
       "      <th>3</th>\n",
       "      <td>0</td>\n",
       "      <td>0</td>\n",
       "      <td>1</td>\n",
       "      <td>1072</td>\n",
       "      <td>0</td>\n",
       "      <td>0</td>\n",
       "      <td>1</td>\n",
       "      <td>0</td>\n",
       "      <td>0</td>\n",
       "    </tr>\n",
       "    <tr>\n",
       "      <th>4</th>\n",
       "      <td>0</td>\n",
       "      <td>0</td>\n",
       "      <td>13957</td>\n",
       "      <td>25311</td>\n",
       "      <td>10841</td>\n",
       "      <td>0</td>\n",
       "      <td>0</td>\n",
       "      <td>0</td>\n",
       "      <td>0</td>\n",
       "    </tr>\n",
       "  </tbody>\n",
       "</table>\n",
       "</div>"
      ],
      "text/plain": [
       "   retweets_count  favorites_count  followers_count  statuses_count  \\\n",
       "0               3                0             3682          453535   \n",
       "1               0                0               86            1016   \n",
       "2               3                1             1944           28234   \n",
       "3               0                0                1            1072   \n",
       "4               0                0            13957           25311   \n",
       "\n",
       "   friends_count  mentions  urls  verified  hashtags  \n",
       "0           3628         0     0         0         0  \n",
       "1            284         0     0         0         0  \n",
       "2           1995         0     0         0         0  \n",
       "3              0         0     1         0         0  \n",
       "4          10841         0     0         0         0  "
      ]
     },
     "execution_count": 7,
     "metadata": {},
     "output_type": "execute_result"
    }
   ],
   "source": [
    "data_analyse.head()"
   ]
  },
  {
   "cell_type": "code",
   "execution_count": 9,
   "id": "26aad805",
   "metadata": {},
   "outputs": [
    {
     "data": {
      "image/png": "[encoded data removed]",
      "text/plain": [
       "<Figure size 640x480 with 2 Axes>"
      ]
     },
     "metadata": {},
     "output_type": "display_data"
    }
   ],
   "source": [
    "data_cov=np.cov(data_analyse.T)\n",
    "plt.imshow(data_cov, cmap=plt.cm.hot, vmin=-1, vmax=1)\n",
    "plt.colorbar()\n",
    "plt.show()"
   ]
  },
  {
   "cell_type": "code",
   "execution_count": 10,
   "id": "9381bcc5",
   "metadata": {},
   "outputs": [
    {
     "data": {
      "text/html": [
       "<div>\n",
       "<style scoped>\n",
       "    .dataframe tbody tr th:only-of-type {\n",
       "        vertical-align: middle;\n",
       "    }\n",
       "\n",
       "    .dataframe tbody tr th {\n",
       "        vertical-align: top;\n",
       "    }\n",
       "\n",
       "    .dataframe thead th {\n",
       "        text-align: right;\n",
       "    }\n",
       "</style>\n",
       "<table border=\"1\" class=\"dataframe\">\n",
       "  <thead>\n",
       "    <tr style=\"text-align: right;\">\n",
       "      <th></th>\n",
       "      <th>0</th>\n",
       "      <th>1</th>\n",
       "      <th>2</th>\n",
       "      <th>3</th>\n",
       "      <th>4</th>\n",
       "      <th>5</th>\n",
       "      <th>6</th>\n",
       "      <th>7</th>\n",
       "      <th>8</th>\n",
       "    </tr>\n",
       "  </thead>\n",
       "  <tbody>\n",
       "    <tr>\n",
       "      <th>0</th>\n",
       "      <td>5.855757e+04</td>\n",
       "      <td>1.709865e+05</td>\n",
       "      <td>3.702179e+06</td>\n",
       "      <td>-2.817059e+04</td>\n",
       "      <td>1.401132e+04</td>\n",
       "      <td>0.0</td>\n",
       "      <td>3.068365</td>\n",
       "      <td>4.110938</td>\n",
       "      <td>0.776434</td>\n",
       "    </tr>\n",
       "    <tr>\n",
       "      <th>1</th>\n",
       "      <td>1.709865e+05</td>\n",
       "      <td>7.259796e+05</td>\n",
       "      <td>1.298201e+07</td>\n",
       "      <td>-2.858000e+05</td>\n",
       "      <td>2.144170e+04</td>\n",
       "      <td>0.0</td>\n",
       "      <td>5.638866</td>\n",
       "      <td>11.519760</td>\n",
       "      <td>-0.747641</td>\n",
       "    </tr>\n",
       "    <tr>\n",
       "      <th>2</th>\n",
       "      <td>3.702179e+06</td>\n",
       "      <td>1.298201e+07</td>\n",
       "      <td>6.753319e+10</td>\n",
       "      <td>4.797285e+09</td>\n",
       "      <td>5.286065e+06</td>\n",
       "      <td>0.0</td>\n",
       "      <td>7585.033178</td>\n",
       "      <td>16478.893056</td>\n",
       "      <td>1077.745043</td>\n",
       "    </tr>\n",
       "    <tr>\n",
       "      <th>3</th>\n",
       "      <td>-2.817059e+04</td>\n",
       "      <td>-2.858000e+05</td>\n",
       "      <td>4.797285e+09</td>\n",
       "      <td>1.285625e+10</td>\n",
       "      <td>6.914994e+07</td>\n",
       "      <td>0.0</td>\n",
       "      <td>-3696.893972</td>\n",
       "      <td>1532.060995</td>\n",
       "      <td>2000.633368</td>\n",
       "    </tr>\n",
       "    <tr>\n",
       "      <th>4</th>\n",
       "      <td>1.401132e+04</td>\n",
       "      <td>2.144170e+04</td>\n",
       "      <td>5.286065e+06</td>\n",
       "      <td>6.914994e+07</td>\n",
       "      <td>6.264675e+06</td>\n",
       "      <td>0.0</td>\n",
       "      <td>23.748410</td>\n",
       "      <td>15.354028</td>\n",
       "      <td>100.913752</td>\n",
       "    </tr>\n",
       "    <tr>\n",
       "      <th>5</th>\n",
       "      <td>0.000000e+00</td>\n",
       "      <td>0.000000e+00</td>\n",
       "      <td>0.000000e+00</td>\n",
       "      <td>0.000000e+00</td>\n",
       "      <td>0.000000e+00</td>\n",
       "      <td>0.0</td>\n",
       "      <td>0.000000</td>\n",
       "      <td>0.000000</td>\n",
       "      <td>0.000000</td>\n",
       "    </tr>\n",
       "    <tr>\n",
       "      <th>6</th>\n",
       "      <td>3.068365e+00</td>\n",
       "      <td>5.638866e+00</td>\n",
       "      <td>7.585033e+03</td>\n",
       "      <td>-3.696894e+03</td>\n",
       "      <td>2.374841e+01</td>\n",
       "      <td>0.0</td>\n",
       "      <td>0.259797</td>\n",
       "      <td>0.010174</td>\n",
       "      <td>-0.003258</td>\n",
       "    </tr>\n",
       "    <tr>\n",
       "      <th>7</th>\n",
       "      <td>4.110938e+00</td>\n",
       "      <td>1.151976e+01</td>\n",
       "      <td>1.647889e+04</td>\n",
       "      <td>1.532061e+03</td>\n",
       "      <td>1.535403e+01</td>\n",
       "      <td>0.0</td>\n",
       "      <td>0.010174</td>\n",
       "      <td>0.029105</td>\n",
       "      <td>0.003022</td>\n",
       "    </tr>\n",
       "    <tr>\n",
       "      <th>8</th>\n",
       "      <td>7.764342e-01</td>\n",
       "      <td>-7.476406e-01</td>\n",
       "      <td>1.077745e+03</td>\n",
       "      <td>2.000633e+03</td>\n",
       "      <td>1.009138e+02</td>\n",
       "      <td>0.0</td>\n",
       "      <td>-0.003258</td>\n",
       "      <td>0.003022</td>\n",
       "      <td>0.595495</td>\n",
       "    </tr>\n",
       "  </tbody>\n",
       "</table>\n",
       "</div>"
      ],
      "text/plain": [
       "              0             1             2             3             4    5  \\\n",
       "0  5.855757e+04  1.709865e+05  3.702179e+06 -2.817059e+04  1.401132e+04  0.0   \n",
       "1  1.709865e+05  7.259796e+05  1.298201e+07 -2.858000e+05  2.144170e+04  0.0   \n",
       "2  3.702179e+06  1.298201e+07  6.753319e+10  4.797285e+09  5.286065e+06  0.0   \n",
       "3 -2.817059e+04 -2.858000e+05  4.797285e+09  1.285625e+10  6.914994e+07  0.0   \n",
       "4  1.401132e+04  2.144170e+04  5.286065e+06  6.914994e+07  6.264675e+06  0.0   \n",
       "5  0.000000e+00  0.000000e+00  0.000000e+00  0.000000e+00  0.000000e+00  0.0   \n",
       "6  3.068365e+00  5.638866e+00  7.585033e+03 -3.696894e+03  2.374841e+01  0.0   \n",
       "7  4.110938e+00  1.151976e+01  1.647889e+04  1.532061e+03  1.535403e+01  0.0   \n",
       "8  7.764342e-01 -7.476406e-01  1.077745e+03  2.000633e+03  1.009138e+02  0.0   \n",
       "\n",
       "             6             7            8  \n",
       "0     3.068365      4.110938     0.776434  \n",
       "1     5.638866     11.519760    -0.747641  \n",
       "2  7585.033178  16478.893056  1077.745043  \n",
       "3 -3696.893972   1532.060995  2000.633368  \n",
       "4    23.748410     15.354028   100.913752  \n",
       "5     0.000000      0.000000     0.000000  \n",
       "6     0.259797      0.010174    -0.003258  \n",
       "7     0.010174      0.029105     0.003022  \n",
       "8    -0.003258      0.003022     0.595495  "
      ]
     },
     "execution_count": 10,
     "metadata": {},
     "output_type": "execute_result"
    }
   ],
   "source": [
    "pd.DataFrame(data_cov)"
   ]
  },
  {
   "cell_type": "code",
   "execution_count": 59,
   "id": "2c8ba882",
   "metadata": {},
   "outputs": [],
   "source": [
    "pca=PCA(n_components=2,copy=True)"
   ]
  },
  {
   "cell_type": "code",
   "execution_count": 60,
   "id": "4fb0793c",
   "metadata": {},
   "outputs": [
    {
     "data": {
      "text/plain": [
       "PCA(n_components=2)"
      ]
     },
     "execution_count": 60,
     "metadata": {},
     "output_type": "execute_result"
    }
   ],
   "source": [
    "pca.fit(data_analyse)"
   ]
  },
  {
   "cell_type": "code",
   "execution_count": 65,
   "id": "3c4bc1c1",
   "metadata": {},
   "outputs": [
    {
     "data": {
      "text/plain": [
       "(353969, 2)"
      ]
     },
     "execution_count": 65,
     "metadata": {},
     "output_type": "execute_result"
    }
   ],
   "source": [
    "data_pca=pca.fit_transform(data_analyse)\n",
    "data_pca.shape"
   ]
  },
  {
   "cell_type": "code",
   "execution_count": 66,
   "id": "10828852",
   "metadata": {},
   "outputs": [
    {
     "data": {
      "text/plain": [
       "array([ 18700.15084755, -24136.83478264, -19924.51556502, ...,\n",
       "       -22367.53339664, -24130.00371346, -24303.57400447])"
      ]
     },
     "execution_count": 66,
     "metadata": {},
     "output_type": "execute_result"
    }
   ],
   "source": [
    "data_pca[:,0]"
   ]
  },
  {
   "cell_type": "code",
   "execution_count": 84,
   "id": "f5ca1ebf",
   "metadata": {},
   "outputs": [
    {
     "data": {
      "image/png": "[encoded data removed]",
      "text/plain": [
       "<Figure size 640x480 with 1 Axes>"
      ]
     },
     "metadata": {},
     "output_type": "display_data"
    }
   ],
   "source": [
    "# cmap=plt.colormaps[\"tab20c\"]\n",
    "fig = plt.figure()\n",
    "ax = plt.axes()\n",
    "ax.scatter(data_pca[:,0],data_pca[:,1],s=np.array(data_analyse[\"retweets_count\"].tolist())*0.01+0.01,c=data_analyse[\"retweets_count\"].tolist(),cmap=\"RdYlGn\")\n",
    "ax.axis(\"equal\")  \n",
    "plt.show()"
   ]
  },
  {
   "cell_type": "code",
   "execution_count": 7,
   "id": "953789ef",
   "metadata": {},
   "outputs": [],
   "source": [
    "# Here we split our training data into trainig and testing set. This way we can estimate the evaluation of our model without uploading to Kaggle and avoid overfitting over our evaluation dataset.\n",
    "# scsplit method is used in order to split our regression data in a stratisfied way and keep a similar distribution of retweet counts between the two sets\n",
    "X_train, X_test, y_train, y_test = scsplit(train_data, train_data['retweets_count'], stratify=train_data['retweets_count'], train_size=0.7, test_size=0.3)\n",
    "\n",
    "# We remove the actual number of retweets from our features since it is the value that we are trying to predict\n",
    "X_train = X_train.drop([\"retweets_count\",\"TweetID\"], axis=1)\n",
    "X_test = X_test.drop([\"retweets_count\",\"TweetID\"], axis=1)"
   ]
  },
  {
   "cell_type": "code",
   "execution_count": 4,
   "id": "40419d5a",
   "metadata": {},
   "outputs": [
    {
     "data": {
      "text/html": [
       "<div>\n",
       "<style scoped>\n",
       "    .dataframe tbody tr th:only-of-type {\n",
       "        vertical-align: middle;\n",
       "    }\n",
       "\n",
       "    .dataframe tbody tr th {\n",
       "        vertical-align: top;\n",
       "    }\n",
       "\n",
       "    .dataframe thead th {\n",
       "        text-align: right;\n",
       "    }\n",
       "</style>\n",
       "<table border=\"1\" class=\"dataframe\">\n",
       "  <thead>\n",
       "    <tr style=\"text-align: right;\">\n",
       "      <th></th>\n",
       "      <th>text</th>\n",
       "      <th>favorites_count</th>\n",
       "      <th>followers_count</th>\n",
       "      <th>statuses_count</th>\n",
       "      <th>friends_count</th>\n",
       "      <th>mentions</th>\n",
       "      <th>urls</th>\n",
       "      <th>verified</th>\n",
       "      <th>hashtags</th>\n",
       "      <th>timestamp</th>\n",
       "    </tr>\n",
       "  </thead>\n",
       "  <tbody>\n",
       "    <tr>\n",
       "      <th>340724</th>\n",
       "      <td>macron réélu melanmachin jamais fort heureusement</td>\n",
       "      <td>0</td>\n",
       "      <td>4</td>\n",
       "      <td>84</td>\n",
       "      <td>6</td>\n",
       "      <td>[]</td>\n",
       "      <td>[]</td>\n",
       "      <td>0</td>\n",
       "      <td>[]</td>\n",
       "      <td>1647292340000</td>\n",
       "    </tr>\n",
       "    <tr>\n",
       "      <th>92844</th>\n",
       "      <td>sondages candidats tour gauche important faire...</td>\n",
       "      <td>313</td>\n",
       "      <td>8408</td>\n",
       "      <td>32672</td>\n",
       "      <td>8622</td>\n",
       "      <td>[]</td>\n",
       "      <td>['https://t.co/kraasmxhlz']</td>\n",
       "      <td>0</td>\n",
       "      <td>[]</td>\n",
       "      <td>1647353797000</td>\n",
       "    </tr>\n",
       "    <tr>\n",
       "      <th>112020</th>\n",
       "      <td>bonsoir famille lâchez votez allez bordeauxxxx</td>\n",
       "      <td>0</td>\n",
       "      <td>559</td>\n",
       "      <td>10866</td>\n",
       "      <td>691</td>\n",
       "      <td>[]</td>\n",
       "      <td>['https://t.co/ozjik9ybmx']</td>\n",
       "      <td>0</td>\n",
       "      <td>[]</td>\n",
       "      <td>1647635808000</td>\n",
       "    </tr>\n",
       "    <tr>\n",
       "      <th>266279</th>\n",
       "      <td>pécresse vendu rachete double</td>\n",
       "      <td>3</td>\n",
       "      <td>443</td>\n",
       "      <td>8980</td>\n",
       "      <td>741</td>\n",
       "      <td>[]</td>\n",
       "      <td>[]</td>\n",
       "      <td>0</td>\n",
       "      <td>['lefaceaface', 'lci', 'pecressenaufrage', 'al...</td>\n",
       "      <td>1646941168000</td>\n",
       "    </tr>\n",
       "    <tr>\n",
       "      <th>82695</th>\n",
       "      <td>fou hidalgo dernière sondages canard boiteux c...</td>\n",
       "      <td>50</td>\n",
       "      <td>22</td>\n",
       "      <td>3830</td>\n",
       "      <td>177</td>\n",
       "      <td>[]</td>\n",
       "      <td>[]</td>\n",
       "      <td>0</td>\n",
       "      <td>[]</td>\n",
       "      <td>1647017617000</td>\n",
       "    </tr>\n",
       "  </tbody>\n",
       "</table>\n",
       "</div>"
      ],
      "text/plain": [
       "                                                     text  favorites_count  \\\n",
       "340724  macron réélu melanmachin jamais fort heureusement                0   \n",
       "92844   sondages candidats tour gauche important faire...              313   \n",
       "112020     bonsoir famille lâchez votez allez bordeauxxxx                0   \n",
       "266279                      pécresse vendu rachete double                3   \n",
       "82695   fou hidalgo dernière sondages canard boiteux c...               50   \n",
       "\n",
       "        followers_count  statuses_count  friends_count mentions  \\\n",
       "340724                4              84              6       []   \n",
       "92844              8408           32672           8622       []   \n",
       "112020              559           10866            691       []   \n",
       "266279              443            8980            741       []   \n",
       "82695                22            3830            177       []   \n",
       "\n",
       "                               urls  verified  \\\n",
       "340724                           []         0   \n",
       "92844   ['https://t.co/kraasmxhlz']         0   \n",
       "112020  ['https://t.co/ozjik9ybmx']         0   \n",
       "266279                           []         0   \n",
       "82695                            []         0   \n",
       "\n",
       "                                                 hashtags      timestamp  \n",
       "340724                                                 []  1647292340000  \n",
       "92844                                                  []  1647353797000  \n",
       "112020                                                 []  1647635808000  \n",
       "266279  ['lefaceaface', 'lci', 'pecressenaufrage', 'al...  1646941168000  \n",
       "82695                                                  []  1647017617000  "
      ]
     },
     "execution_count": 4,
     "metadata": {},
     "output_type": "execute_result"
    }
   ],
   "source": [
    "X_train.head()"
   ]
  },
  {
   "cell_type": "code",
   "execution_count": 8,
   "id": "f282c54c",
   "metadata": {},
   "outputs": [],
   "source": [
    "count_num(X_train,[\"mentions\",\"urls\",\"hashtags\"])\n",
    "count_num(X_test,[\"mentions\",\"urls\",\"hashtags\"])"
   ]
  },
  {
   "cell_type": "code",
   "execution_count": 8,
   "id": "c9a0e2de",
   "metadata": {},
   "outputs": [
    {
     "data": {
      "text/html": [
       "<div>\n",
       "<style scoped>\n",
       "    .dataframe tbody tr th:only-of-type {\n",
       "        vertical-align: middle;\n",
       "    }\n",
       "\n",
       "    .dataframe tbody tr th {\n",
       "        vertical-align: top;\n",
       "    }\n",
       "\n",
       "    .dataframe thead th {\n",
       "        text-align: right;\n",
       "    }\n",
       "</style>\n",
       "<table border=\"1\" class=\"dataframe\">\n",
       "  <thead>\n",
       "    <tr style=\"text-align: right;\">\n",
       "      <th></th>\n",
       "      <th>text</th>\n",
       "      <th>favorites_count</th>\n",
       "      <th>followers_count</th>\n",
       "      <th>statuses_count</th>\n",
       "      <th>friends_count</th>\n",
       "      <th>mentions</th>\n",
       "      <th>urls</th>\n",
       "      <th>verified</th>\n",
       "      <th>hashtags</th>\n",
       "      <th>timestamp</th>\n",
       "    </tr>\n",
       "  </thead>\n",
       "  <tbody>\n",
       "    <tr>\n",
       "      <th>340724</th>\n",
       "      <td>macron réélu melanmachin jamais fort heureusement</td>\n",
       "      <td>0</td>\n",
       "      <td>4</td>\n",
       "      <td>84</td>\n",
       "      <td>6</td>\n",
       "      <td>0</td>\n",
       "      <td>0</td>\n",
       "      <td>0</td>\n",
       "      <td>0</td>\n",
       "      <td>1647292340000</td>\n",
       "    </tr>\n",
       "    <tr>\n",
       "      <th>92844</th>\n",
       "      <td>sondages candidats tour gauche important faire...</td>\n",
       "      <td>313</td>\n",
       "      <td>8408</td>\n",
       "      <td>32672</td>\n",
       "      <td>8622</td>\n",
       "      <td>0</td>\n",
       "      <td>1</td>\n",
       "      <td>0</td>\n",
       "      <td>0</td>\n",
       "      <td>1647353797000</td>\n",
       "    </tr>\n",
       "    <tr>\n",
       "      <th>112020</th>\n",
       "      <td>bonsoir famille lâchez votez allez bordeauxxxx</td>\n",
       "      <td>0</td>\n",
       "      <td>559</td>\n",
       "      <td>10866</td>\n",
       "      <td>691</td>\n",
       "      <td>0</td>\n",
       "      <td>1</td>\n",
       "      <td>0</td>\n",
       "      <td>0</td>\n",
       "      <td>1647635808000</td>\n",
       "    </tr>\n",
       "    <tr>\n",
       "      <th>266279</th>\n",
       "      <td>pécresse vendu rachete double</td>\n",
       "      <td>3</td>\n",
       "      <td>443</td>\n",
       "      <td>8980</td>\n",
       "      <td>741</td>\n",
       "      <td>0</td>\n",
       "      <td>0</td>\n",
       "      <td>0</td>\n",
       "      <td>5</td>\n",
       "      <td>1646941168000</td>\n",
       "    </tr>\n",
       "    <tr>\n",
       "      <th>82695</th>\n",
       "      <td>fou hidalgo dernière sondages canard boiteux c...</td>\n",
       "      <td>50</td>\n",
       "      <td>22</td>\n",
       "      <td>3830</td>\n",
       "      <td>177</td>\n",
       "      <td>0</td>\n",
       "      <td>0</td>\n",
       "      <td>0</td>\n",
       "      <td>0</td>\n",
       "      <td>1647017617000</td>\n",
       "    </tr>\n",
       "  </tbody>\n",
       "</table>\n",
       "</div>"
      ],
      "text/plain": [
       "                                                     text  favorites_count  \\\n",
       "340724  macron réélu melanmachin jamais fort heureusement                0   \n",
       "92844   sondages candidats tour gauche important faire...              313   \n",
       "112020     bonsoir famille lâchez votez allez bordeauxxxx                0   \n",
       "266279                      pécresse vendu rachete double                3   \n",
       "82695   fou hidalgo dernière sondages canard boiteux c...               50   \n",
       "\n",
       "        followers_count  statuses_count  friends_count  mentions  urls  \\\n",
       "340724                4              84              6         0     0   \n",
       "92844              8408           32672           8622         0     1   \n",
       "112020              559           10866            691         0     1   \n",
       "266279              443            8980            741         0     0   \n",
       "82695                22            3830            177         0     0   \n",
       "\n",
       "        verified  hashtags      timestamp  \n",
       "340724         0         0  1647292340000  \n",
       "92844          0         0  1647353797000  \n",
       "112020         0         0  1647635808000  \n",
       "266279         0         5  1646941168000  \n",
       "82695          0         0  1647017617000  "
      ]
     },
     "execution_count": 8,
     "metadata": {},
     "output_type": "execute_result"
    }
   ],
   "source": [
    "X_train.head()"
   ]
  },
  {
   "cell_type": "code",
   "execution_count": 12,
   "id": "2d5c84ed",
   "metadata": {},
   "outputs": [
    {
     "data": {
      "image/png": "[encoded data removed]",
      "text/plain": [
       "<Figure size 640x480 with 1 Axes>"
      ]
     },
     "metadata": {},
     "output_type": "display_data"
    }
   ],
   "source": [
    "np.log10(X_train['followers_count']).plot.hist(bins=50,range=[0,10])\n",
    "plt.tick_params(labelsize=15)\n",
    "plt.title('folloers distribution', fontsize=17)\n",
    "plt.show()"
   ]
  },
  {
   "cell_type": "code",
   "execution_count": 13,
   "id": "f03edffe",
   "metadata": {},
   "outputs": [
    {
     "data": {
      "image/png": "[encoded data removed]",
      "text/plain": [
       "<Figure size 640x480 with 1 Axes>"
      ]
     },
     "metadata": {},
     "output_type": "display_data"
    }
   ],
   "source": [
    "np.log10(X_train['friends_count']).plot.hist(bins=50,range=[0,10])\n",
    "plt.tick_params(labelsize=15)\n",
    "plt.title('friends distribution', fontsize=17)\n",
    "plt.show()"
   ]
  },
  {
   "cell_type": "code",
   "execution_count": 9,
   "id": "53f38086",
   "metadata": {},
   "outputs": [],
   "source": [
    "# standardise the columns of numeric values\n",
    "def standardise(data,list_column):\n",
    "    for name_column in list_column:\n",
    "        if data[name_column].std()!=0:\n",
    "            data[name_column]=(data[name_column]-data[name_column].mean())/data[name_column].std()\n",
    "        else:\n",
    "            data[name_column]=(data[name_column]-data[name_column].mean())"
   ]
  },
  {
   "cell_type": "code",
   "execution_count": 10,
   "id": "70331046",
   "metadata": {},
   "outputs": [],
   "source": [
    "standardise(X_train,[\"favorites_count\",\"followers_count\",\"statuses_count\",\"friends_count\",\"mentions\",\"urls\",\"verified\",\"hashtags\",\"timestamp\"])\n",
    "standardise(X_test,[\"favorites_count\",\"followers_count\",\"statuses_count\",\"friends_count\",\"mentions\",\"urls\",\"verified\",\"hashtags\",\"timestamp\"])"
   ]
  },
  {
   "cell_type": "code",
   "execution_count": 16,
   "id": "d99a2a77",
   "metadata": {},
   "outputs": [
    {
     "data": {
      "text/html": [
       "<div>\n",
       "<style scoped>\n",
       "    .dataframe tbody tr th:only-of-type {\n",
       "        vertical-align: middle;\n",
       "    }\n",
       "\n",
       "    .dataframe tbody tr th {\n",
       "        vertical-align: top;\n",
       "    }\n",
       "\n",
       "    .dataframe thead th {\n",
       "        text-align: right;\n",
       "    }\n",
       "</style>\n",
       "<table border=\"1\" class=\"dataframe\">\n",
       "  <thead>\n",
       "    <tr style=\"text-align: right;\">\n",
       "      <th></th>\n",
       "      <th>text</th>\n",
       "      <th>favorites_count</th>\n",
       "      <th>followers_count</th>\n",
       "      <th>statuses_count</th>\n",
       "      <th>friends_count</th>\n",
       "      <th>mentions</th>\n",
       "      <th>urls</th>\n",
       "      <th>verified</th>\n",
       "      <th>hashtags</th>\n",
       "      <th>timestamp</th>\n",
       "    </tr>\n",
       "  </thead>\n",
       "  <tbody>\n",
       "    <tr>\n",
       "      <th>189606</th>\n",
       "      <td>article constitution procédé nouvelle dissolut...</td>\n",
       "      <td>-0.055739</td>\n",
       "      <td>-0.065147</td>\n",
       "      <td>1.901790</td>\n",
       "      <td>-0.476549</td>\n",
       "      <td>0.0</td>\n",
       "      <td>0.925575</td>\n",
       "      <td>-0.175443</td>\n",
       "      <td>-0.384052</td>\n",
       "      <td>0.086927</td>\n",
       "    </tr>\n",
       "    <tr>\n",
       "      <th>213943</th>\n",
       "      <td>faire confiance tyrans pareil</td>\n",
       "      <td>-0.050964</td>\n",
       "      <td>-0.075350</td>\n",
       "      <td>-0.414226</td>\n",
       "      <td>0.691358</td>\n",
       "      <td>0.0</td>\n",
       "      <td>-1.034808</td>\n",
       "      <td>-0.175443</td>\n",
       "      <td>3.480158</td>\n",
       "      <td>0.056251</td>\n",
       "    </tr>\n",
       "    <tr>\n",
       "      <th>163776</th>\n",
       "      <td>tweet pue gauche pourtant jsuis</td>\n",
       "      <td>-0.055739</td>\n",
       "      <td>-0.078332</td>\n",
       "      <td>-0.422332</td>\n",
       "      <td>-0.512745</td>\n",
       "      <td>0.0</td>\n",
       "      <td>-1.034808</td>\n",
       "      <td>-0.175443</td>\n",
       "      <td>-0.384052</td>\n",
       "      <td>0.142391</td>\n",
       "    </tr>\n",
       "    <tr>\n",
       "      <th>49651</th>\n",
       "      <td>rt partie</td>\n",
       "      <td>-0.055739</td>\n",
       "      <td>-0.062549</td>\n",
       "      <td>5.617279</td>\n",
       "      <td>1.419288</td>\n",
       "      <td>0.0</td>\n",
       "      <td>-1.034808</td>\n",
       "      <td>-0.175443</td>\n",
       "      <td>-0.384052</td>\n",
       "      <td>0.140013</td>\n",
       "    </tr>\n",
       "    <tr>\n",
       "      <th>163469</th>\n",
       "      <td>rt essentiel question vote blanc consiste élec...</td>\n",
       "      <td>-0.055739</td>\n",
       "      <td>-0.071335</td>\n",
       "      <td>1.490695</td>\n",
       "      <td>0.393348</td>\n",
       "      <td>0.0</td>\n",
       "      <td>-1.034808</td>\n",
       "      <td>-0.175443</td>\n",
       "      <td>-0.384052</td>\n",
       "      <td>0.122947</td>\n",
       "    </tr>\n",
       "  </tbody>\n",
       "</table>\n",
       "</div>"
      ],
      "text/plain": [
       "                                                     text  favorites_count  \\\n",
       "189606  article constitution procédé nouvelle dissolut...        -0.055739   \n",
       "213943                      faire confiance tyrans pareil        -0.050964   \n",
       "163776                    tweet pue gauche pourtant jsuis        -0.055739   \n",
       "49651                                           rt partie        -0.055739   \n",
       "163469  rt essentiel question vote blanc consiste élec...        -0.055739   \n",
       "\n",
       "        followers_count  statuses_count  friends_count  mentions      urls  \\\n",
       "189606        -0.065147        1.901790      -0.476549       0.0  0.925575   \n",
       "213943        -0.075350       -0.414226       0.691358       0.0 -1.034808   \n",
       "163776        -0.078332       -0.422332      -0.512745       0.0 -1.034808   \n",
       "49651         -0.062549        5.617279       1.419288       0.0 -1.034808   \n",
       "163469        -0.071335        1.490695       0.393348       0.0 -1.034808   \n",
       "\n",
       "        verified  hashtags  timestamp  \n",
       "189606 -0.175443 -0.384052   0.086927  \n",
       "213943 -0.175443  3.480158   0.056251  \n",
       "163776 -0.175443 -0.384052   0.142391  \n",
       "49651  -0.175443 -0.384052   0.140013  \n",
       "163469 -0.175443 -0.384052   0.122947  "
      ]
     },
     "execution_count": 16,
     "metadata": {},
     "output_type": "execute_result"
    }
   ],
   "source": [
    "X_test.head()"
   ]
  },
  {
   "cell_type": "code",
   "execution_count": null,
   "id": "650c6a6b",
   "metadata": {},
   "outputs": [],
   "source": [
    "# split the table into 2 parts: one with the text and the other with the numbers"
   ]
  },
  {
   "cell_type": "code",
   "execution_count": 11,
   "id": "b55868ce",
   "metadata": {},
   "outputs": [
    {
     "data": {
      "text/html": [
       "<div>\n",
       "<style scoped>\n",
       "    .dataframe tbody tr th:only-of-type {\n",
       "        vertical-align: middle;\n",
       "    }\n",
       "\n",
       "    .dataframe tbody tr th {\n",
       "        vertical-align: top;\n",
       "    }\n",
       "\n",
       "    .dataframe thead th {\n",
       "        text-align: right;\n",
       "    }\n",
       "</style>\n",
       "<table border=\"1\" class=\"dataframe\">\n",
       "  <thead>\n",
       "    <tr style=\"text-align: right;\">\n",
       "      <th></th>\n",
       "      <th>favorites_count</th>\n",
       "      <th>followers_count</th>\n",
       "      <th>statuses_count</th>\n",
       "      <th>friends_count</th>\n",
       "      <th>mentions</th>\n",
       "      <th>urls</th>\n",
       "      <th>verified</th>\n",
       "      <th>hashtags</th>\n",
       "      <th>timestamp</th>\n",
       "    </tr>\n",
       "  </thead>\n",
       "  <tbody>\n",
       "    <tr>\n",
       "      <th>303242</th>\n",
       "      <td>-0.055617</td>\n",
       "      <td>-0.075053</td>\n",
       "      <td>-0.299582</td>\n",
       "      <td>0.158277</td>\n",
       "      <td>0.0</td>\n",
       "      <td>-1.037267</td>\n",
       "      <td>-0.175529</td>\n",
       "      <td>0.916075</td>\n",
       "      <td>-0.015577</td>\n",
       "    </tr>\n",
       "    <tr>\n",
       "      <th>44027</th>\n",
       "      <td>-0.055617</td>\n",
       "      <td>-0.077780</td>\n",
       "      <td>-0.392448</td>\n",
       "      <td>-0.545376</td>\n",
       "      <td>0.0</td>\n",
       "      <td>-1.037267</td>\n",
       "      <td>-0.175529</td>\n",
       "      <td>-0.384756</td>\n",
       "      <td>0.087356</td>\n",
       "    </tr>\n",
       "    <tr>\n",
       "      <th>152938</th>\n",
       "      <td>-0.055617</td>\n",
       "      <td>-0.078206</td>\n",
       "      <td>-0.415958</td>\n",
       "      <td>-0.552626</td>\n",
       "      <td>0.0</td>\n",
       "      <td>-1.037267</td>\n",
       "      <td>-0.175529</td>\n",
       "      <td>-0.384756</td>\n",
       "      <td>-0.012243</td>\n",
       "    </tr>\n",
       "    <tr>\n",
       "      <th>250138</th>\n",
       "      <td>-0.055617</td>\n",
       "      <td>-0.073838</td>\n",
       "      <td>0.108052</td>\n",
       "      <td>-0.209459</td>\n",
       "      <td>0.0</td>\n",
       "      <td>-1.037267</td>\n",
       "      <td>-0.175529</td>\n",
       "      <td>-0.384756</td>\n",
       "      <td>0.046891</td>\n",
       "    </tr>\n",
       "    <tr>\n",
       "      <th>330912</th>\n",
       "      <td>-0.055617</td>\n",
       "      <td>-0.074952</td>\n",
       "      <td>-0.406574</td>\n",
       "      <td>-0.160320</td>\n",
       "      <td>0.0</td>\n",
       "      <td>-1.037267</td>\n",
       "      <td>-0.175529</td>\n",
       "      <td>0.916075</td>\n",
       "      <td>0.011600</td>\n",
       "    </tr>\n",
       "  </tbody>\n",
       "</table>\n",
       "</div>"
      ],
      "text/plain": [
       "        favorites_count  followers_count  statuses_count  friends_count  \\\n",
       "303242        -0.055617        -0.075053       -0.299582       0.158277   \n",
       "44027         -0.055617        -0.077780       -0.392448      -0.545376   \n",
       "152938        -0.055617        -0.078206       -0.415958      -0.552626   \n",
       "250138        -0.055617        -0.073838        0.108052      -0.209459   \n",
       "330912        -0.055617        -0.074952       -0.406574      -0.160320   \n",
       "\n",
       "        mentions      urls  verified  hashtags  timestamp  \n",
       "303242       0.0 -1.037267 -0.175529  0.916075  -0.015577  \n",
       "44027        0.0 -1.037267 -0.175529 -0.384756   0.087356  \n",
       "152938       0.0 -1.037267 -0.175529 -0.384756  -0.012243  \n",
       "250138       0.0 -1.037267 -0.175529 -0.384756   0.046891  \n",
       "330912       0.0 -1.037267 -0.175529  0.916075   0.011600  "
      ]
     },
     "execution_count": 11,
     "metadata": {},
     "output_type": "execute_result"
    }
   ],
   "source": [
    "X_train_num=X_train[[\"favorites_count\",\"followers_count\",\"statuses_count\",\"friends_count\",\"mentions\",\"urls\",\"verified\",\"hashtags\",\"timestamp\"]]\n",
    "\n",
    "X_test_num=X_test[[\"favorites_count\",\"followers_count\",\"statuses_count\",\"friends_count\",\"mentions\",\"urls\",\"verified\",\"hashtags\",\"timestamp\"]]\n",
    "\n",
    "X_train_num.head()"
   ]
  },
  {
   "cell_type": "code",
   "execution_count": 12,
   "id": "e35c7275",
   "metadata": {},
   "outputs": [
    {
     "data": {
      "text/plain": [
       "303242    rt jamais oublier collabo parti communiste chi...\n",
       "44027                                       haine président\n",
       "152938    rt servi servilement idéologie europeiste audi...\n",
       "250138    rt posez question lrem prochaine mise examen c...\n",
       "330912    rt potentiel électoral samedi mars stabilise r...\n",
       "Name: text, dtype: object"
      ]
     },
     "execution_count": 12,
     "metadata": {},
     "output_type": "execute_result"
    }
   ],
   "source": [
    "X_train_text=X_train[\"text\"]\n",
    "X_test_text=X_test[\"text\"]\n",
    "X_train_text.head()"
   ]
  },
  {
   "cell_type": "code",
   "execution_count": 19,
   "id": "1fa2cc84",
   "metadata": {},
   "outputs": [],
   "source": [
    "# these parts are used to train the embedding of the vocabulary, only needed to be run once"
   ]
  },
  {
   "cell_type": "code",
   "execution_count": 13,
   "id": "f369b5b5",
   "metadata": {},
   "outputs": [],
   "source": [
    "def get_text(file):\n",
    "    data_text=pd.read_table(file)\n",
    "    return data_text"
   ]
  },
  {
   "cell_type": "code",
   "execution_count": 14,
   "id": "a959b271",
   "metadata": {},
   "outputs": [
    {
     "data": {
      "text/plain": [
       "['aurant la thérapie , et au niveau sexuel ',\n",
       " 'pas encore  ',\n",
       " 'il veut mettre fin au mariage  ',\n",
       " 'je suis une mauvaise artiste  ',\n",
       " \"ce cours t'a pourtant fait du bien  \"]"
      ]
     },
     "execution_count": 14,
     "metadata": {},
     "output_type": "execute_result"
    }
   ],
   "source": [
    "path_text_dataset='French-Word-Embeddings/Data/data.txt'\n",
    "text_dataset=get_text(path_text_dataset).values\n",
    "text_dataset=[item[0][:-1] for item in text_dataset]\n",
    "text_dataset[:5]"
   ]
  },
  {
   "cell_type": "code",
   "execution_count": 15,
   "id": "a7b5842c",
   "metadata": {},
   "outputs": [],
   "source": [
    "TaggedDocument=gensim.models.doc2vec.TaggedDocument\n",
    "def X_text(sentences):\n",
    "    X=[]\n",
    "    for i,text in enumerate(sentences):\n",
    "        words=text.split(\" \")\n",
    "        l=len(words)\n",
    "        words=words[:-2]\n",
    "        document=TaggedDocument(words,tags=[i])\n",
    "        X.append(document)\n",
    "    return X"
   ]
  },
  {
   "cell_type": "code",
   "execution_count": 16,
   "id": "e2f3186c",
   "metadata": {},
   "outputs": [
    {
     "data": {
      "text/plain": [
       "[TaggedDocument(words=['aurant', 'la', 'thérapie', ',', 'et', 'au', 'niveau'], tags=[0]),\n",
       " TaggedDocument(words=['pas', 'encore'], tags=[1]),\n",
       " TaggedDocument(words=['il', 'veut', 'mettre', 'fin', 'au', 'mariage'], tags=[2]),\n",
       " TaggedDocument(words=['je', 'suis', 'une', 'mauvaise', 'artiste'], tags=[3]),\n",
       " TaggedDocument(words=['ce', 'cours', \"t'a\", 'pourtant', 'fait', 'du', 'bien'], tags=[4])]"
      ]
     },
     "execution_count": 16,
     "metadata": {},
     "output_type": "execute_result"
    }
   ],
   "source": [
    "X_documents=X_text(text_dataset)\n",
    "X_documents[:5]"
   ]
  },
  {
   "cell_type": "code",
   "execution_count": null,
   "id": "5437db3b",
   "metadata": {},
   "outputs": [],
   "source": []
  },
  {
   "cell_type": "code",
   "execution_count": null,
   "id": "14c31355",
   "metadata": {},
   "outputs": [],
   "source": []
  },
  {
   "cell_type": "code",
   "execution_count": null,
   "id": "51ba407a",
   "metadata": {},
   "outputs": [],
   "source": []
  },
  {
   "cell_type": "code",
   "execution_count": null,
   "id": "95cc444d",
   "metadata": {},
   "outputs": [],
   "source": []
  },
  {
   "cell_type": "code",
   "execution_count": 16,
   "id": "e693d710",
   "metadata": {},
   "outputs": [],
   "source": [
    "def train_text(text_train,size=100,epochs=10):\n",
    "    model=Doc2Vec(text_train,min_count=1,window=3,vector_size=size,sample=1e-3,negative=5,epochs=epochs)\n",
    "    model.train(text_train,total_examples=model.corpus_count,epochs=model.epochs)\n",
    "    return model"
   ]
  },
  {
   "cell_type": "code",
   "execution_count": 18,
   "id": "eaa2bca5",
   "metadata": {},
   "outputs": [],
   "source": [
    "model_text=train_text(X_documents)\n",
    "if not os.path.exists('./WE_models'):\n",
    "    os.mkdir('./WE_models')\n",
    "model_text.save('WE_models/d2v_100D')"
   ]
  },
  {
   "cell_type": "code",
   "execution_count": null,
   "id": "27d97304",
   "metadata": {},
   "outputs": [],
   "source": [
    "# load the model"
   ]
  },
  {
   "cell_type": "code",
   "execution_count": null,
   "id": "98230a1b",
   "metadata": {},
   "outputs": [],
   "source": []
  },
  {
   "cell_type": "code",
   "execution_count": null,
   "id": "c76da5aa",
   "metadata": {},
   "outputs": [],
   "source": []
  },
  {
   "cell_type": "code",
   "execution_count": 17,
   "id": "62f68562",
   "metadata": {},
   "outputs": [],
   "source": [
    "model_text=Doc2Vec.load('WE_models/d2v_100D')"
   ]
  },
  {
   "cell_type": "code",
   "execution_count": 18,
   "id": "fb1b5936",
   "metadata": {},
   "outputs": [],
   "source": [
    "def text2vec(text_train,alpha=0.05, min_alpha=0.025, epochs=10):\n",
    "    list_text=[]\n",
    "    for sentence in text_train:\n",
    "        words=sentence.split(\" \")\n",
    "        vec=model_text.infer_vector(doc_words=words, alpha=alpha, min_alpha=min_alpha, epochs=epochs).tolist()\n",
    "        list_text.append(vec)\n",
    "    return np.array(list_text)"
   ]
  },
  {
   "cell_type": "code",
   "execution_count": 19,
   "id": "56170757",
   "metadata": {},
   "outputs": [
    {
     "data": {
      "text/plain": [
       "tensor([[ 0.1365, -0.2539, -0.1900,  ..., -0.2024, -0.3403, -0.2197],\n",
       "        [-0.0332, -0.1846,  0.1024,  ...,  0.0202, -0.1659, -0.0284],\n",
       "        [ 0.0717, -0.3217,  0.1707,  ..., -0.0607, -0.0546,  0.3065],\n",
       "        ...,\n",
       "        [ 0.1774, -0.3922, -0.0091,  ...,  0.0247, -0.1649, -0.0170],\n",
       "        [ 0.8420, -0.3545, -0.1410,  ..., -0.0791,  0.2907,  0.4693],\n",
       "        [ 0.1175, -0.5477, -0.1867,  ..., -0.4736, -0.2299,  0.0729]])"
      ]
     },
     "execution_count": 19,
     "metadata": {},
     "output_type": "execute_result"
    }
   ],
   "source": [
    "# tencor of the text part\n",
    "X_train_text_vec=text2vec(X_train_text,alpha=0.05, min_alpha=0.025, epochs=10)\n",
    "X_train_text_tensor=torch.Tensor(X_train_text_vec)\n",
    "X_train_text_tensor"
   ]
  },
  {
   "cell_type": "code",
   "execution_count": 20,
   "id": "e673de0e",
   "metadata": {},
   "outputs": [
    {
     "data": {
      "text/plain": [
       "tensor([ 0.1365, -0.2539, -0.1900, -0.0183, -0.1249, -0.2657, -0.2947,  0.1664,\n",
       "         0.1706,  0.0109, -0.4954,  0.2999, -0.3470,  0.5038,  0.4481, -0.0209,\n",
       "        -0.0613, -0.0904,  0.5193,  0.1538, -0.3541,  0.1184,  0.0974,  0.1239,\n",
       "        -0.2694, -0.0721, -0.0353, -0.0986,  0.5917, -0.1812, -0.5996,  0.4210,\n",
       "         0.5866, -0.4143,  0.4464,  0.1816, -0.3000,  0.0169, -0.2261,  0.5593,\n",
       "         0.2890, -0.1981,  0.3676, -0.0157, -0.1671, -0.1252,  0.0462,  0.3381,\n",
       "        -0.0652,  0.0042, -0.2098,  0.2528,  0.0336, -0.4749,  0.2263,  0.5638,\n",
       "         0.1933, -0.0614, -0.0980,  0.0937,  0.1522,  0.1028,  0.0317, -0.2617,\n",
       "         0.1405, -0.0461,  0.0602, -0.4215, -0.0168, -0.2810, -0.1537, -0.3595,\n",
       "        -0.1636,  0.0984, -0.2649, -0.1527, -0.0956, -0.4666, -0.1462, -0.0801,\n",
       "        -0.4064, -0.4506,  0.2985,  0.2979,  0.1930, -0.1089,  0.0767, -0.1421,\n",
       "        -0.0998,  0.0534,  0.1239,  0.3349,  0.0301,  0.1258, -0.2659, -0.2306,\n",
       "        -0.2205, -0.2024, -0.3403, -0.2197])"
      ]
     },
     "execution_count": 20,
     "metadata": {},
     "output_type": "execute_result"
    }
   ],
   "source": [
    "X_train_text_tensor[0]"
   ]
  },
  {
   "cell_type": "code",
   "execution_count": 21,
   "id": "367f3e8d",
   "metadata": {},
   "outputs": [
    {
     "data": {
      "text/plain": [
       "tensor([[-0.0509, -0.1136,  0.1507,  ..., -0.1172,  0.2014,  0.0048],\n",
       "        [ 0.5537, -0.1874,  0.6107,  ...,  0.5456,  0.4527,  0.1043],\n",
       "        [ 0.3615,  0.1271,  0.2152,  ..., -0.1186,  0.1501, -0.0149],\n",
       "        ...,\n",
       "        [-0.0729, -0.1364,  0.0684,  ..., -0.2771, -0.2668,  0.0332],\n",
       "        [-0.4250, -0.2997,  0.5512,  ...,  0.1201,  0.2872,  0.3321],\n",
       "        [ 0.1256, -0.2388,  0.0581,  ...,  0.0571, -0.0966,  0.4031]])"
      ]
     },
     "execution_count": 21,
     "metadata": {},
     "output_type": "execute_result"
    }
   ],
   "source": [
    "X_test_text_vec=text2vec(X_test_text,alpha=0.05, min_alpha=0.025, epochs=10)\n",
    "X_test_text_tensor=torch.Tensor(X_test_text_vec)\n",
    "X_test_text_tensor"
   ]
  },
  {
   "cell_type": "code",
   "execution_count": 136,
   "id": "68175e2c",
   "metadata": {},
   "outputs": [],
   "source": [
    "# tensor of the numeric part\n",
    "X_train_num_vec=X_train_num.values\n",
    "X_train_num_tensor=torch.Tensor(X_train_num_vec)\n",
    "X_test_num_vec=X_test_num.values\n",
    "X_test_num_tensor=torch.Tensor(X_test_num_vec)"
   ]
  },
  {
   "cell_type": "code",
   "execution_count": 137,
   "id": "34f495db",
   "metadata": {},
   "outputs": [],
   "source": [
    "y_train_tensor=torch.Tensor(y_train.to_numpy())\n",
    "y_train_tensor=y_train_tensor.reshape((-1,1))\n",
    "y_test_tensor=torch.Tensor(y_test.to_numpy())\n",
    "y_test_tensor=y_test_tensor.reshape((-1,1))"
   ]
  },
  {
   "cell_type": "code",
   "execution_count": 24,
   "id": "d173fa4b",
   "metadata": {},
   "outputs": [],
   "source": [
    "dataset_XY = torch.utils.data.TensorDataset(X_train_num_tensor.to(device),X_train_text_tensor.to(device), y_train_tensor.to(device))\n",
    "testset_XY = torch.utils.data.TensorDataset(X_test_num_tensor.to(device), X_test_text_tensor.to(device), y_test_tensor.to(device))"
   ]
  },
  {
   "cell_type": "code",
   "execution_count": null,
   "id": "ae4d8927",
   "metadata": {},
   "outputs": [],
   "source": []
  },
  {
   "cell_type": "code",
   "execution_count": null,
   "id": "f778cba1",
   "metadata": {},
   "outputs": [],
   "source": []
  },
  {
   "cell_type": "code",
   "execution_count": null,
   "id": "fcc6b75f",
   "metadata": {},
   "outputs": [],
   "source": [
    "# ML methods"
   ]
  },
  {
   "cell_type": "code",
   "execution_count": 35,
   "id": "8167bcd8",
   "metadata": {},
   "outputs": [
    {
     "data": {
      "text/plain": [
       "(247778, 9)"
      ]
     },
     "execution_count": 35,
     "metadata": {},
     "output_type": "execute_result"
    }
   ],
   "source": [
    "X_train_num_vec.shape"
   ]
  },
  {
   "cell_type": "code",
   "execution_count": 37,
   "id": "a97380d3",
   "metadata": {},
   "outputs": [
    {
     "data": {
      "text/plain": [
       "(247778, 100)"
      ]
     },
     "execution_count": 37,
     "metadata": {},
     "output_type": "execute_result"
    }
   ],
   "source": [
    "X_train_text_vec.shape"
   ]
  },
  {
   "cell_type": "code",
   "execution_count": 25,
   "id": "c21f2bf7",
   "metadata": {},
   "outputs": [],
   "source": [
    "def MAE(pred,real):\n",
    "    N=len(pred)\n",
    "    sum=0\n",
    "    for i in range(N):\n",
    "        sum+=abs(pred[i]-real[i])\n",
    "    return sum/N"
   ]
  },
  {
   "cell_type": "code",
   "execution_count": 26,
   "id": "dc92933d",
   "metadata": {},
   "outputs": [],
   "source": [
    "def ACC(pred,real):\n",
    "    N=len(pred)\n",
    "    sum=0\n",
    "    for i in range(N):\n",
    "        if pred[i]==real[i]:\n",
    "            sum+=1\n",
    "    return sum/N"
   ]
  },
  {
   "cell_type": "code",
   "execution_count": 27,
   "id": "c1b9f961",
   "metadata": {},
   "outputs": [
    {
     "data": {
      "text/plain": [
       "(247778, 109)"
      ]
     },
     "execution_count": 27,
     "metadata": {},
     "output_type": "execute_result"
    }
   ],
   "source": [
    "X_train_vec=np.hstack([X_train_text_vec,X_train_num_vec])\n",
    "X_train_vec.shape"
   ]
  },
  {
   "cell_type": "code",
   "execution_count": 123,
   "id": "0cb531b4",
   "metadata": {},
   "outputs": [],
   "source": [
    "X_train_tensor=torch.Tensor(X_train_vec)"
   ]
  },
  {
   "cell_type": "code",
   "execution_count": 28,
   "id": "d722fb52",
   "metadata": {},
   "outputs": [
    {
     "data": {
      "text/plain": [
       "(106191, 109)"
      ]
     },
     "execution_count": 28,
     "metadata": {},
     "output_type": "execute_result"
    }
   ],
   "source": [
    "X_test_vec=np.hstack([X_test_text_vec,X_test_num_vec])\n",
    "X_test_vec.shape"
   ]
  },
  {
   "cell_type": "code",
   "execution_count": 124,
   "id": "d6f5181a",
   "metadata": {},
   "outputs": [],
   "source": [
    "X_test_tensor=torch.Tensor(X_test_vec)"
   ]
  },
  {
   "cell_type": "code",
   "execution_count": 138,
   "id": "71a9cec2",
   "metadata": {},
   "outputs": [],
   "source": [
    "dataset_tot_XY = torch.utils.data.TensorDataset(X_train_tensor.to(device), y_train_tensor.to(device))\n",
    "testset_tot_XY = torch.utils.data.TensorDataset(X_test_tensor.to(device), y_test_tensor.to(device))"
   ]
  },
  {
   "cell_type": "code",
   "execution_count": null,
   "id": "a34b6f6a",
   "metadata": {},
   "outputs": [],
   "source": [
    "dataset_num_XY = torch.utils.data.TensorDataset(X_train_num_tensor.to(device), y_train_tensor.to(device))\n",
    "testset_num_XY = torch.utils.data.TensorDataset(X_test_num_tensor.to(device), y_test_tensor.to(device))"
   ]
  },
  {
   "cell_type": "code",
   "execution_count": null,
   "id": "050bd07a",
   "metadata": {},
   "outputs": [],
   "source": []
  },
  {
   "cell_type": "code",
   "execution_count": 31,
   "id": "18425207",
   "metadata": {},
   "outputs": [],
   "source": [
    "def model_result(model,X_train,y_train,X_test,y_test):\n",
    "    model.fit(X_train,y_train)\n",
    "    y_pred = model.predict(X_test)\n",
    "    y_pred = np.array([int(value) if value >= 0 else 0 for value in y_pred])\n",
    "    loss=MAE(y_pred,y_test)\n",
    "    acc=ACC(y_pred,y_test)\n",
    "    return loss,acc"
   ]
  },
  {
   "cell_type": "code",
   "execution_count": 41,
   "id": "a2ad8fb9",
   "metadata": {},
   "outputs": [
    {
     "name": "stdout",
     "output_type": "stream",
     "text": [
      "0.0\n",
      "0.1\n",
      "0.2\n",
      "0.30000000000000004\n",
      "0.4\n",
      "0.5\n",
      "0.6000000000000001\n",
      "0.7000000000000001\n",
      "0.8\n",
      "0.9\n",
      "1.0\n",
      "1.1\n",
      "1.2000000000000002\n",
      "1.3\n",
      "1.4000000000000001\n",
      "1.5\n",
      "1.6\n",
      "1.7000000000000002\n",
      "1.8\n",
      "1.9000000000000001\n",
      "2.0\n",
      "2.1\n",
      "2.2\n",
      "2.3000000000000003\n",
      "2.4000000000000004\n",
      "2.5\n",
      "2.6\n",
      "2.7\n",
      "2.8000000000000003\n",
      "2.9000000000000004\n"
     ]
    }
   ],
   "source": [
    "alpha_list=[0.1*i for i in range(30)]\n",
    "loss_Lasso_tot=[]\n",
    "acc_Lasso_tot=[]\n",
    "for alpha in alpha_list:    \n",
    "    print(alpha)\n",
    "    model_Lasso=Lasso(alpha=alpha)\n",
    "    loss_Lasso,acc_Lasso=model_result(model_Lasso,X_train_vec,y_train_vec,X_test_vec,y_test_vec)\n",
    "    loss_Lasso_tot.append(loss_Lasso[0])\n",
    "    acc_Lasso_tot.append(acc_Lasso)"
   ]
  },
  {
   "cell_type": "code",
   "execution_count": 42,
   "id": "6c9ad464",
   "metadata": {},
   "outputs": [
    {
     "data": {
      "image/png": "[encoded data removed]",
      "text/plain": [
       "<Figure size 640x480 with 1 Axes>"
      ]
     },
     "metadata": {},
     "output_type": "display_data"
    }
   ],
   "source": [
    "fig = plt.figure()\n",
    "ax = plt.axes()\n",
    "ax.scatter(alpha_list,loss_Lasso_tot)\n",
    "ax.plot(alpha_list,loss_Lasso_tot) \n",
    "plt.title(\"Loss for Lasso model\")\n",
    "plt.show()"
   ]
  },
  {
   "cell_type": "code",
   "execution_count": 43,
   "id": "6571084e",
   "metadata": {},
   "outputs": [
    {
     "data": {
      "image/png": "[encoded data removed]",
      "text/plain": [
       "<Figure size 640x480 with 1 Axes>"
      ]
     },
     "metadata": {},
     "output_type": "display_data"
    }
   ],
   "source": [
    "fig = plt.figure()\n",
    "ax = plt.axes()\n",
    "ax.plot(alpha_list,acc_Lasso_tot) \n",
    "plt.title(\"Accuracy for Lasso model\")\n",
    "plt.show()"
   ]
  },
  {
   "cell_type": "code",
   "execution_count": 44,
   "id": "2e8cf3bf",
   "metadata": {},
   "outputs": [],
   "source": [
    "model_Lasso=Lasso(alpha=0.1*np.argmin(np.array(loss_Lasso_tot)))"
   ]
  },
  {
   "cell_type": "code",
   "execution_count": 45,
   "id": "48d2e360",
   "metadata": {},
   "outputs": [],
   "source": [
    "loss_Lasso,acc_Lasso=model_result(model_Lasso,X_train_vec,y_train_vec,X_test_vec,y_test_vec)"
   ]
  },
  {
   "cell_type": "code",
   "execution_count": 46,
   "id": "b93c22f6",
   "metadata": {},
   "outputs": [
    {
     "data": {
      "text/plain": [
       "array([9.43105348])"
      ]
     },
     "execution_count": 46,
     "metadata": {},
     "output_type": "execute_result"
    }
   ],
   "source": [
    "loss_Lasso"
   ]
  },
  {
   "cell_type": "code",
   "execution_count": 47,
   "id": "be16ad1b",
   "metadata": {},
   "outputs": [
    {
     "data": {
      "text/plain": [
       "0.15275305816877136"
      ]
     },
     "execution_count": 47,
     "metadata": {},
     "output_type": "execute_result"
    }
   ],
   "source": [
    "acc_Lasso"
   ]
  },
  {
   "cell_type": "code",
   "execution_count": null,
   "id": "24ba1cba",
   "metadata": {},
   "outputs": [],
   "source": []
  },
  {
   "cell_type": "code",
   "execution_count": 166,
   "id": "c78da1cf",
   "metadata": {},
   "outputs": [],
   "source": [
    "loss_Lasso_num,acc_Lasso_num=model_result(model_Lasso,X_train_num_vec,y_train_vec,X_test_num_vec,y_test_vec)"
   ]
  },
  {
   "cell_type": "code",
   "execution_count": 167,
   "id": "17e78a86",
   "metadata": {},
   "outputs": [
    {
     "data": {
      "text/plain": [
       "array([11.01404074])"
      ]
     },
     "execution_count": 167,
     "metadata": {},
     "output_type": "execute_result"
    }
   ],
   "source": [
    "loss_Lasso_num"
   ]
  },
  {
   "cell_type": "code",
   "execution_count": 168,
   "id": "6ed3e3fa",
   "metadata": {},
   "outputs": [
    {
     "data": {
      "text/plain": [
       "0.18074978105489165"
      ]
     },
     "execution_count": 168,
     "metadata": {},
     "output_type": "execute_result"
    }
   ],
   "source": [
    "acc_Lasso_num"
   ]
  },
  {
   "cell_type": "code",
   "execution_count": null,
   "id": "cfb6b30c",
   "metadata": {},
   "outputs": [],
   "source": []
  },
  {
   "cell_type": "code",
   "execution_count": null,
   "id": "6c725cba",
   "metadata": {},
   "outputs": [],
   "source": []
  },
  {
   "cell_type": "code",
   "execution_count": 52,
   "id": "23fd68bc",
   "metadata": {},
   "outputs": [
    {
     "name": "stdout",
     "output_type": "stream",
     "text": [
      "7\n",
      "8\n",
      "9\n",
      "10\n",
      "11\n",
      "12\n",
      "13\n",
      "14\n"
     ]
    }
   ],
   "source": [
    "alpha_list=[(i+1) for i in range(6,14)]\n",
    "loss_Knn_tot=[]\n",
    "acc_Knn_tot=[]\n",
    "for alpha in alpha_list:    \n",
    "    print(alpha)\n",
    "    model_Knn=KNeighborsRegressor(n_neighbors=alpha)\n",
    "    loss_Knn,acc_Knn=model_result(model_Knn,X_train_vec,y_train_vec,X_test_vec,y_test_vec)\n",
    "    loss_Knn_tot.append(loss_Knn[0])\n",
    "    acc_Knn_tot.append(acc_Knn)"
   ]
  },
  {
   "cell_type": "code",
   "execution_count": 53,
   "id": "c1cab923",
   "metadata": {},
   "outputs": [
    {
     "data": {
      "image/png": "[encoded data removed]",
      "text/plain": [
       "<Figure size 640x480 with 1 Axes>"
      ]
     },
     "metadata": {},
     "output_type": "display_data"
    }
   ],
   "source": [
    "fig = plt.figure()\n",
    "ax = plt.axes()\n",
    "ax.scatter(alpha_list,loss_Knn_tot)\n",
    "ax.plot(alpha_list,loss_Knn_tot) \n",
    "plt.title(\"Loss for Knn model\")\n",
    "plt.show()"
   ]
  },
  {
   "cell_type": "code",
   "execution_count": 54,
   "id": "b66d4a1e",
   "metadata": {},
   "outputs": [
    {
     "data": {
      "image/png": "[encoded data removed]",
      "text/plain": [
       "<Figure size 640x480 with 1 Axes>"
      ]
     },
     "metadata": {},
     "output_type": "display_data"
    }
   ],
   "source": [
    "fig = plt.figure()\n",
    "ax = plt.axes()\n",
    "ax.plot(alpha_list,acc_Knn_tot) \n",
    "plt.title(\"Accuracy for Knn model\")\n",
    "plt.show()"
   ]
  },
  {
   "cell_type": "code",
   "execution_count": null,
   "id": "69abf178",
   "metadata": {},
   "outputs": [],
   "source": []
  },
  {
   "cell_type": "code",
   "execution_count": 62,
   "id": "2aba457c",
   "metadata": {},
   "outputs": [],
   "source": [
    "model_Knn=KNeighborsRegressor(n_neighbors=11)"
   ]
  },
  {
   "cell_type": "code",
   "execution_count": 63,
   "id": "b767094d",
   "metadata": {},
   "outputs": [],
   "source": [
    "loss_Knn,acc_Knn=model_result(model_Knn,X_train_vec,y_train_vec,X_test_vec,y_test_vec)"
   ]
  },
  {
   "cell_type": "code",
   "execution_count": 64,
   "id": "c163f9e7",
   "metadata": {},
   "outputs": [
    {
     "data": {
      "text/plain": [
       "array([10.21987739])"
      ]
     },
     "execution_count": 64,
     "metadata": {},
     "output_type": "execute_result"
    }
   ],
   "source": [
    "loss_Knn"
   ]
  },
  {
   "cell_type": "code",
   "execution_count": 65,
   "id": "ebf63192",
   "metadata": {},
   "outputs": [
    {
     "data": {
      "text/plain": [
       "0.28497706961983593"
      ]
     },
     "execution_count": 65,
     "metadata": {},
     "output_type": "execute_result"
    }
   ],
   "source": [
    "acc_Knn"
   ]
  },
  {
   "cell_type": "code",
   "execution_count": 49,
   "id": "91111e9d",
   "metadata": {},
   "outputs": [],
   "source": [
    "loss_Knn_num,acc_Knn_num=model_result(model_Knn,X_train_num_vec,y_train_vec,X_test_num_vec,y_test_vec)"
   ]
  },
  {
   "cell_type": "code",
   "execution_count": 50,
   "id": "92b37154",
   "metadata": {},
   "outputs": [
    {
     "data": {
      "text/plain": [
       "array([7.30500702])"
      ]
     },
     "execution_count": 50,
     "metadata": {},
     "output_type": "execute_result"
    }
   ],
   "source": [
    "loss_Knn_num"
   ]
  },
  {
   "cell_type": "code",
   "execution_count": 51,
   "id": "14d4f66e",
   "metadata": {},
   "outputs": [
    {
     "data": {
      "text/plain": [
       "0.3868877776836078"
      ]
     },
     "execution_count": 51,
     "metadata": {},
     "output_type": "execute_result"
    }
   ],
   "source": [
    "acc_Knn_num"
   ]
  },
  {
   "cell_type": "code",
   "execution_count": null,
   "id": "c7ed1175",
   "metadata": {},
   "outputs": [],
   "source": []
  },
  {
   "cell_type": "code",
   "execution_count": null,
   "id": "5a9fb7a3",
   "metadata": {},
   "outputs": [],
   "source": [
    "# 5 7.41351904 0.12514243203284647 7.36766769 0.12604646344793816"
   ]
  },
  {
   "cell_type": "code",
   "execution_count": 56,
   "id": "58c7654c",
   "metadata": {},
   "outputs": [
    {
     "name": "stdout",
     "output_type": "stream",
     "text": [
      "10\n",
      "11\n",
      "12\n",
      "13\n",
      "14\n",
      "15\n",
      "16\n",
      "17\n",
      "18\n",
      "19\n"
     ]
    }
   ],
   "source": [
    "alpha_list=[i for i in range(10,20)]\n",
    "loss_RF_tot=[]\n",
    "acc_RF_tot=[]\n",
    "for alpha in alpha_list:    \n",
    "    print(alpha)\n",
    "    model_RF=RandomForestRegressor(max_depth=alpha)\n",
    "    loss_RF,acc_RF=model_result(model_RF,X_train_vec,y_train_vec,X_test_vec,y_test_vec)\n",
    "    loss_RF_tot.append(loss_RF[0])\n",
    "    acc_RF_tot.append(acc_RF)"
   ]
  },
  {
   "cell_type": "code",
   "execution_count": 57,
   "id": "e16ee0cf",
   "metadata": {},
   "outputs": [
    {
     "data": {
      "image/png": "[encoded data removed]",
      "text/plain": [
       "<Figure size 640x480 with 1 Axes>"
      ]
     },
     "metadata": {},
     "output_type": "display_data"
    }
   ],
   "source": [
    "fig = plt.figure()\n",
    "ax = plt.axes()\n",
    "ax.scatter(alpha_list,loss_RF_tot)\n",
    "ax.plot(alpha_list,loss_RF_tot) \n",
    "plt.title(\"Loss for RF model\")\n",
    "plt.show()"
   ]
  },
  {
   "cell_type": "code",
   "execution_count": 58,
   "id": "9895faeb",
   "metadata": {},
   "outputs": [
    {
     "data": {
      "image/png": "[encoded data removed]",
      "text/plain": [
       "<Figure size 640x480 with 1 Axes>"
      ]
     },
     "metadata": {},
     "output_type": "display_data"
    }
   ],
   "source": [
    "fig = plt.figure()\n",
    "ax = plt.axes()\n",
    "ax.plot(alpha_list,acc_RF_tot) \n",
    "plt.title(\"Accuracy for RF model\")\n",
    "plt.show()"
   ]
  },
  {
   "cell_type": "code",
   "execution_count": null,
   "id": "875725b4",
   "metadata": {},
   "outputs": [],
   "source": []
  },
  {
   "cell_type": "code",
   "execution_count": 95,
   "id": "b251db19",
   "metadata": {},
   "outputs": [],
   "source": [
    "model_RF=RandomForestRegressor(max_depth=17)"
   ]
  },
  {
   "cell_type": "code",
   "execution_count": 96,
   "id": "2fe0885d",
   "metadata": {},
   "outputs": [],
   "source": [
    "loss_RF,acc_RF=model_result(model_RF,X_train_vec,y_train_vec,X_test_vec,y_test_vec)"
   ]
  },
  {
   "cell_type": "code",
   "execution_count": 97,
   "id": "991c2955",
   "metadata": {},
   "outputs": [
    {
     "data": {
      "text/plain": [
       "array([7.07086288])"
      ]
     },
     "execution_count": 97,
     "metadata": {},
     "output_type": "execute_result"
    }
   ],
   "source": [
    "loss_RF"
   ]
  },
  {
   "cell_type": "code",
   "execution_count": 98,
   "id": "a36f341b",
   "metadata": {},
   "outputs": [
    {
     "data": {
      "text/plain": [
       "0.12563211571602112"
      ]
     },
     "execution_count": 98,
     "metadata": {},
     "output_type": "execute_result"
    }
   ],
   "source": [
    "acc_RF"
   ]
  },
  {
   "cell_type": "code",
   "execution_count": 99,
   "id": "6565ac0b",
   "metadata": {},
   "outputs": [],
   "source": [
    "loss_RF_num,acc_RF_num=model_result(model_RF,X_train_num_vec,y_train_vec,X_test_num_vec,y_test_vec)"
   ]
  },
  {
   "cell_type": "code",
   "execution_count": 100,
   "id": "8a6546ff",
   "metadata": {},
   "outputs": [
    {
     "data": {
      "text/plain": [
       "array([7.0317541])"
      ]
     },
     "execution_count": 100,
     "metadata": {},
     "output_type": "execute_result"
    }
   ],
   "source": [
    "loss_RF_num"
   ]
  },
  {
   "cell_type": "code",
   "execution_count": 101,
   "id": "bd3d4f98",
   "metadata": {},
   "outputs": [
    {
     "data": {
      "text/plain": [
       "0.12377696791630176"
      ]
     },
     "execution_count": 101,
     "metadata": {},
     "output_type": "execute_result"
    }
   ],
   "source": [
    "acc_RF_num"
   ]
  },
  {
   "cell_type": "code",
   "execution_count": null,
   "id": "ef69a801",
   "metadata": {},
   "outputs": [],
   "source": []
  },
  {
   "cell_type": "code",
   "execution_count": 55,
   "id": "ce15d790",
   "metadata": {},
   "outputs": [],
   "source": [
    "model_SVR=SVR(kernel=\"rbf\",C=1.0, epsilon=0.2)"
   ]
  },
  {
   "cell_type": "code",
   "execution_count": null,
   "id": "ce3073f9",
   "metadata": {},
   "outputs": [],
   "source": [
    "loss_SVR,acc_SVR=model_result(model_SVR,X_train_vec,y_train_vec,X_test_vec,y_test_vec)"
   ]
  },
  {
   "cell_type": "code",
   "execution_count": null,
   "id": "b02f0a61",
   "metadata": {},
   "outputs": [],
   "source": [
    "loss_SVR"
   ]
  },
  {
   "cell_type": "code",
   "execution_count": null,
   "id": "47ee80d6",
   "metadata": {},
   "outputs": [],
   "source": [
    "acc_SVR"
   ]
  },
  {
   "cell_type": "code",
   "execution_count": null,
   "id": "c380b9ff",
   "metadata": {},
   "outputs": [],
   "source": [
    "loss_SVR_num,acc_SVR_num=model_result(model_SVR,X_train_num_vec,y_train_vec,X_test_num_vec,y_test_vec)"
   ]
  },
  {
   "cell_type": "code",
   "execution_count": null,
   "id": "f9e63cfd",
   "metadata": {},
   "outputs": [],
   "source": [
    "loss_SVR_num"
   ]
  },
  {
   "cell_type": "code",
   "execution_count": null,
   "id": "e6defadb",
   "metadata": {},
   "outputs": [],
   "source": [
    "acc_SVR_num"
   ]
  },
  {
   "cell_type": "code",
   "execution_count": null,
   "id": "6aa28f27",
   "metadata": {},
   "outputs": [],
   "source": []
  },
  {
   "cell_type": "code",
   "execution_count": 184,
   "id": "9d050aa0",
   "metadata": {},
   "outputs": [],
   "source": [
    "model_LR=LinearRegression()"
   ]
  },
  {
   "cell_type": "code",
   "execution_count": 36,
   "id": "37f4ea46",
   "metadata": {},
   "outputs": [],
   "source": [
    "loss_LR,acc_LR=model_result(model_LR,X_train_vec,y_train_vec,X_test_vec,y_test_vec)"
   ]
  },
  {
   "cell_type": "code",
   "execution_count": 37,
   "id": "5f9d489c",
   "metadata": {},
   "outputs": [
    {
     "data": {
      "text/plain": [
       "array([11.67475586])"
      ]
     },
     "execution_count": 37,
     "metadata": {},
     "output_type": "execute_result"
    }
   ],
   "source": [
    "loss_LR"
   ]
  },
  {
   "cell_type": "code",
   "execution_count": 38,
   "id": "42c4c635",
   "metadata": {},
   "outputs": [
    {
     "data": {
      "text/plain": [
       "0.22753340678588582"
      ]
     },
     "execution_count": 38,
     "metadata": {},
     "output_type": "execute_result"
    }
   ],
   "source": [
    "acc_LR"
   ]
  },
  {
   "cell_type": "code",
   "execution_count": 185,
   "id": "fc8c7959",
   "metadata": {},
   "outputs": [],
   "source": [
    "loss_LR_num,acc_LR_num=model_result(model_LR,X_train_num_vec,y_train_vec,X_test_num_vec,y_test_vec)"
   ]
  },
  {
   "cell_type": "code",
   "execution_count": 186,
   "id": "f6f19b44",
   "metadata": {},
   "outputs": [
    {
     "data": {
      "text/plain": [
       "array([11.04352535])"
      ]
     },
     "execution_count": 186,
     "metadata": {},
     "output_type": "execute_result"
    }
   ],
   "source": [
    "loss_LR_num"
   ]
  },
  {
   "cell_type": "code",
   "execution_count": 187,
   "id": "8cf7a38e",
   "metadata": {},
   "outputs": [
    {
     "data": {
      "text/plain": [
       "0.1861833865393489"
      ]
     },
     "execution_count": 187,
     "metadata": {},
     "output_type": "execute_result"
    }
   ],
   "source": [
    "acc_LR_num"
   ]
  },
  {
   "cell_type": "code",
   "execution_count": null,
   "id": "d62c31a4",
   "metadata": {},
   "outputs": [],
   "source": []
  },
  {
   "cell_type": "code",
   "execution_count": 59,
   "id": "55147bd1",
   "metadata": {},
   "outputs": [
    {
     "name": "stdout",
     "output_type": "stream",
     "text": [
      "1.5\n",
      "1.6\n",
      "1.7000000000000002\n",
      "1.8\n",
      "1.9\n",
      "2.0\n",
      "2.1\n",
      "2.2\n",
      "2.3\n"
     ]
    }
   ],
   "source": [
    "alpha_list=[1.0+0.1*i for i in range(5,14)]\n",
    "loss_LogR_tot=[]\n",
    "acc_LogR_tot=[]\n",
    "for alpha in alpha_list:    \n",
    "    print(alpha)\n",
    "    model_LogR=LogisticRegression(C=alpha)\n",
    "    loss_LogR,acc_LogR=model_result(model_LogR,X_train_vec,y_train_vec,X_test_vec,y_test_vec)\n",
    "    loss_LogR_tot.append(loss_LogR[0])\n",
    "    acc_LogR_tot.append(acc_LogR)"
   ]
  },
  {
   "cell_type": "code",
   "execution_count": 60,
   "id": "35106219",
   "metadata": {},
   "outputs": [
    {
     "data": {
      "image/png": "[encoded data removed]",
      "text/plain": [
       "<Figure size 640x480 with 1 Axes>"
      ]
     },
     "metadata": {},
     "output_type": "display_data"
    }
   ],
   "source": [
    "fig = plt.figure()\n",
    "ax = plt.axes()\n",
    "ax.scatter(alpha_list,loss_LogR_tot)\n",
    "ax.plot(alpha_list,loss_LogR_tot) \n",
    "plt.title(\"Loss for LogR model\")\n",
    "plt.show()"
   ]
  },
  {
   "cell_type": "code",
   "execution_count": 61,
   "id": "eca41c84",
   "metadata": {},
   "outputs": [
    {
     "data": {
      "image/png": "[encoded data removed]",
      "text/plain": [
       "<Figure size 640x480 with 1 Axes>"
      ]
     },
     "metadata": {},
     "output_type": "display_data"
    }
   ],
   "source": [
    "fig = plt.figure()\n",
    "ax = plt.axes()\n",
    "ax.plot(alpha_list,acc_LogR_tot) \n",
    "plt.title(\"Accuracy for LogR model\")\n",
    "plt.show()"
   ]
  },
  {
   "cell_type": "code",
   "execution_count": null,
   "id": "482fd818",
   "metadata": {},
   "outputs": [],
   "source": []
  },
  {
   "cell_type": "code",
   "execution_count": 91,
   "id": "6f006934",
   "metadata": {},
   "outputs": [],
   "source": [
    "model_LogR=LogisticRegression(C=2.0)"
   ]
  },
  {
   "cell_type": "code",
   "execution_count": 92,
   "id": "214d05ae",
   "metadata": {},
   "outputs": [],
   "source": [
    "loss_LogR,acc_LogR=model_result(model_LogR,X_train_vec,y_train_vec,X_test_vec,y_test_vec)"
   ]
  },
  {
   "cell_type": "code",
   "execution_count": 93,
   "id": "18500fce",
   "metadata": {},
   "outputs": [
    {
     "data": {
      "text/plain": [
       "array([14.28829185])"
      ]
     },
     "execution_count": 93,
     "metadata": {},
     "output_type": "execute_result"
    }
   ],
   "source": [
    "loss_LogR"
   ]
  },
  {
   "cell_type": "code",
   "execution_count": 94,
   "id": "c2da5b20",
   "metadata": {},
   "outputs": [
    {
     "data": {
      "text/plain": [
       "0.48661374316090816"
      ]
     },
     "execution_count": 94,
     "metadata": {},
     "output_type": "execute_result"
    }
   ],
   "source": [
    "acc_LogR"
   ]
  },
  {
   "cell_type": "code",
   "execution_count": 189,
   "id": "af3bb289",
   "metadata": {},
   "outputs": [],
   "source": [
    "loss_LogR_num,acc_LogR_num=model_result(model_LogR,X_train_num_vec,y_train_vec,X_test_num_vec,y_test_vec)"
   ]
  },
  {
   "cell_type": "code",
   "execution_count": 190,
   "id": "3c93eea0",
   "metadata": {},
   "outputs": [
    {
     "data": {
      "text/plain": [
       "array([16.27716096])"
      ]
     },
     "execution_count": 190,
     "metadata": {},
     "output_type": "execute_result"
    }
   ],
   "source": [
    "loss_LogR_num"
   ]
  },
  {
   "cell_type": "code",
   "execution_count": 191,
   "id": "8fd9a199",
   "metadata": {},
   "outputs": [
    {
     "data": {
      "text/plain": [
       "0.4866796621182586"
      ]
     },
     "execution_count": 191,
     "metadata": {},
     "output_type": "execute_result"
    }
   ],
   "source": [
    "acc_LogR_num"
   ]
  },
  {
   "cell_type": "code",
   "execution_count": null,
   "id": "f44eb132",
   "metadata": {},
   "outputs": [],
   "source": []
  },
  {
   "cell_type": "code",
   "execution_count": null,
   "id": "0ed6faac",
   "metadata": {},
   "outputs": [],
   "source": []
  },
  {
   "cell_type": "code",
   "execution_count": null,
   "id": "140843c6",
   "metadata": {},
   "outputs": [],
   "source": []
  },
  {
   "cell_type": "code",
   "execution_count": null,
   "id": "9ad756dc",
   "metadata": {},
   "outputs": [],
   "source": []
  },
  {
   "cell_type": "code",
   "execution_count": null,
   "id": "4c9c2f5a",
   "metadata": {},
   "outputs": [],
   "source": [
    "# build the net 这里开始要改的"
   ]
  },
  {
   "cell_type": "code",
   "execution_count": 108,
   "id": "ad9946ed",
   "metadata": {},
   "outputs": [],
   "source": [
    "class RegressionNet(torch.nn.Module):\n",
    "    def __init__(self, width_num, width_text, hidden,final):\n",
    "        super(RegressionNet, self).__init__()\n",
    "        self.layer_num_1 = torch.nn.Linear(width_num, hidden)\n",
    "        self.layer_num_2 = torch.nn.Linear(hidden,final)\n",
    "        self.layer_text_1 = torch.nn.Linear(width_text, hidden)\n",
    "        self.layer_text_2 = torch.nn.Linear(hidden,final)\n",
    "        self.predict=torch.nn.Linear(2*final, 1)\n",
    "        self.dropout=torch.nn.Dropout(p=0.5)\n",
    "    def forward(self, x_num,x_text):\n",
    "        # x_num=x_num.flatten()\n",
    "        \n",
    "        \n",
    "        x_num=self.layer_num_1(x_num)\n",
    "        x_num=self.dropout(x_num)\n",
    "        x_num = F.relu(x_num)\n",
    "        x_num=self.layer_num_2(x_num)\n",
    "        x_num=F.relu(x_num)\n",
    "        \n",
    "        # x_text=x_text.flatten()\n",
    "        x_text=self.layer_text_1(x_text)\n",
    "        x_text = self.dropout(x_text)\n",
    "        x_text = F.relu(x_text)\n",
    "        x_text=self.layer_text_2(x_text)\n",
    "        x_text = F.relu(x_text)\n",
    "        \n",
    "        x_tot=torch.concat([x_num,x_text],dim=1)  \n",
    "        x_tot=self.predict(x_tot)\n",
    "        # x_tot=x_tot.int()\n",
    "        for item in x_tot:\n",
    "            item=0.0 if item<0 else item\n",
    "        return x_tot"
   ]
  },
  {
   "cell_type": "code",
   "execution_count": 130,
   "id": "11307ac0",
   "metadata": {},
   "outputs": [],
   "source": [
    "class RegressionNet_lstm(torch.nn.Module):\n",
    "    def __init__(self, embedding_length,hidden_size, num_layers):\n",
    "        super(RegressionNet_lstm, self).__init__()\n",
    "        self.hidden_size=hidden_size\n",
    "        self.num_layers=num_layers\n",
    "        self.lstm=torch.nn.LSTM(embedding_length,hidden_size,num_layers,batch_first=True)\n",
    "        self.predict=torch.nn.Linear(hidden_size, 1)\n",
    "        self.dropout=torch.nn.Dropout(p=0.5)\n",
    "    def forward(self, x):\n",
    "        # x_num=x_num.flatten()\n",
    "        h0=torch.zeros(self.num_layers,x.size(0),self.hidden_size).to(device)\n",
    "        c0=torch.zeros(self.num_layers,x.size(0),self.hidden_size).to(device)\n",
    "        \n",
    "        out,_=self.lstm(x,(h0,c0))\n",
    "        \n",
    "        out=self.predict(out[:,-1,:])\n",
    "        # x_tot=x_tot.int()\n",
    "        x_tot=F.relu(out)\n",
    "        return x_tot"
   ]
  },
  {
   "cell_type": "code",
   "execution_count": 131,
   "id": "3e9eee05",
   "metadata": {},
   "outputs": [],
   "source": [
    "batch_size=16"
   ]
  },
  {
   "cell_type": "code",
   "execution_count": 132,
   "id": "b31b1d54",
   "metadata": {},
   "outputs": [],
   "source": [
    "RNet=RegressionNet(X_train_num_tensor.shape[1],X_train_text_tensor.shape[1],20,5).to(device)"
   ]
  },
  {
   "cell_type": "code",
   "execution_count": 133,
   "id": "bbffee28",
   "metadata": {},
   "outputs": [],
   "source": [
    "RNet_lstm=RegressionNet_lstm(X_train_tensor.shape[1],128,2).to(device)"
   ]
  },
  {
   "cell_type": "code",
   "execution_count": 111,
   "id": "f6958aa2",
   "metadata": {},
   "outputs": [],
   "source": [
    "def trainer(data_train,model,loss_fn,epoch=100,batch_size=16,rate=1e-3):\n",
    "    optimiser=torch.optim.Adam(model.parameters(),lr=rate)\n",
    "    loader_train=torch.utils.data.DataLoader(dataset=data_train,batch_size=batch_size,shuffle=True)\n",
    "    for i in range(epoch):\n",
    "        if i%20==0:\n",
    "            print(\"epoch \"+str(i))\n",
    "        for step,(batch_x_num,batch_x_text,batch_y) in enumerate(loader_train):    \n",
    "            #print(batch_x.float())\n",
    "            batch_x_num=batch_x_num.to(device)\n",
    "            batch_x_text=batch_x_text.to(device)\n",
    "            batch_y=batch_y.to(device)\n",
    "            pred=model(batch_x_num,batch_x_text)\n",
    "            #class_pred = torch.argmax(pred,dim = -1)\n",
    "            loss=loss_fn(pred,batch_y)  \n",
    "            \n",
    "            optimiser.zero_grad()\n",
    "            loss.backward()\n",
    "            optimiser.step()\n",
    "            if (step%10000==0) and step>0:\n",
    "                print(\"now training step \"+str(step))\n",
    "                print(loss)"
   ]
  },
  {
   "cell_type": "code",
   "execution_count": 112,
   "id": "db774bae",
   "metadata": {},
   "outputs": [
    {
     "name": "stdout",
     "output_type": "stream",
     "text": [
      "epoch 0\n",
      "now training step 10000\n",
      "tensor(-0., grad_fn=<DivBackward1>)\n",
      "now training step 10000\n",
      "tensor(-0., grad_fn=<DivBackward1>)\n",
      "now training step 10000\n",
      "tensor(-0., grad_fn=<DivBackward1>)\n",
      "now training step 10000\n",
      "tensor(-0., grad_fn=<DivBackward1>)\n",
      "now training step 10000\n",
      "tensor(-0., grad_fn=<DivBackward1>)\n",
      "now training step 10000\n",
      "tensor(-0., grad_fn=<DivBackward1>)\n",
      "now training step 10000\n",
      "tensor(-0., grad_fn=<DivBackward1>)\n",
      "now training step 10000\n",
      "tensor(-0., grad_fn=<DivBackward1>)\n",
      "now training step 10000\n",
      "tensor(-0., grad_fn=<DivBackward1>)\n",
      "now training step 10000\n",
      "tensor(-0., grad_fn=<DivBackward1>)\n",
      "now training step 10000\n",
      "tensor(-0., grad_fn=<DivBackward1>)\n",
      "now training step 10000\n",
      "tensor(-0., grad_fn=<DivBackward1>)\n",
      "now training step 10000\n",
      "tensor(-0., grad_fn=<DivBackward1>)\n",
      "now training step 10000\n",
      "tensor(-0., grad_fn=<DivBackward1>)\n",
      "now training step 10000\n",
      "tensor(-0., grad_fn=<DivBackward1>)\n",
      "now training step 10000\n",
      "tensor(-0., grad_fn=<DivBackward1>)\n",
      "now training step 10000\n",
      "tensor(-0., grad_fn=<DivBackward1>)\n",
      "now training step 10000\n",
      "tensor(-0., grad_fn=<DivBackward1>)\n",
      "now training step 10000\n",
      "tensor(-0., grad_fn=<DivBackward1>)\n",
      "now training step 10000\n",
      "tensor(-0., grad_fn=<DivBackward1>)\n",
      "epoch 20\n",
      "now training step 10000\n",
      "tensor(-0., grad_fn=<DivBackward1>)\n",
      "now training step 10000\n",
      "tensor(-0., grad_fn=<DivBackward1>)\n",
      "now training step 10000\n",
      "tensor(-0., grad_fn=<DivBackward1>)\n",
      "now training step 10000\n",
      "tensor(-0., grad_fn=<DivBackward1>)\n",
      "now training step 10000\n",
      "tensor(-0., grad_fn=<DivBackward1>)\n",
      "now training step 10000\n",
      "tensor(-0., grad_fn=<DivBackward1>)\n",
      "now training step 10000\n",
      "tensor(-0., grad_fn=<DivBackward1>)\n",
      "now training step 10000\n",
      "tensor(-0., grad_fn=<DivBackward1>)\n",
      "now training step 10000\n",
      "tensor(-0., grad_fn=<DivBackward1>)\n",
      "now training step 10000\n",
      "tensor(-0., grad_fn=<DivBackward1>)\n",
      "now training step 10000\n",
      "tensor(-0., grad_fn=<DivBackward1>)\n",
      "now training step 10000\n",
      "tensor(-0., grad_fn=<DivBackward1>)\n",
      "now training step 10000\n",
      "tensor(-0., grad_fn=<DivBackward1>)\n",
      "now training step 10000\n",
      "tensor(-0., grad_fn=<DivBackward1>)\n",
      "now training step 10000\n",
      "tensor(-0., grad_fn=<DivBackward1>)\n",
      "now training step 10000\n",
      "tensor(-0., grad_fn=<DivBackward1>)\n",
      "now training step 10000\n",
      "tensor(-0., grad_fn=<DivBackward1>)\n",
      "now training step 10000\n",
      "tensor(-0., grad_fn=<DivBackward1>)\n",
      "now training step 10000\n",
      "tensor(-0., grad_fn=<DivBackward1>)\n",
      "now training step 10000\n",
      "tensor(-0., grad_fn=<DivBackward1>)\n",
      "epoch 40\n",
      "now training step 10000\n",
      "tensor(-0., grad_fn=<DivBackward1>)\n",
      "now training step 10000\n",
      "tensor(-0., grad_fn=<DivBackward1>)\n",
      "now training step 10000\n",
      "tensor(-0., grad_fn=<DivBackward1>)\n",
      "now training step 10000\n",
      "tensor(-0., grad_fn=<DivBackward1>)\n",
      "now training step 10000\n",
      "tensor(-0., grad_fn=<DivBackward1>)\n",
      "now training step 10000\n",
      "tensor(-0., grad_fn=<DivBackward1>)\n",
      "now training step 10000\n",
      "tensor(-0., grad_fn=<DivBackward1>)\n",
      "now training step 10000\n",
      "tensor(-0., grad_fn=<DivBackward1>)\n",
      "now training step 10000\n",
      "tensor(-0., grad_fn=<DivBackward1>)\n",
      "now training step 10000\n",
      "tensor(-0., grad_fn=<DivBackward1>)\n",
      "now training step 10000\n",
      "tensor(-0., grad_fn=<DivBackward1>)\n",
      "now training step 10000\n",
      "tensor(-0., grad_fn=<DivBackward1>)\n",
      "now training step 10000\n",
      "tensor(-0., grad_fn=<DivBackward1>)\n",
      "now training step 10000\n",
      "tensor(-0., grad_fn=<DivBackward1>)\n",
      "now training step 10000\n",
      "tensor(-0., grad_fn=<DivBackward1>)\n",
      "now training step 10000\n",
      "tensor(-0., grad_fn=<DivBackward1>)\n",
      "now training step 10000\n",
      "tensor(-0., grad_fn=<DivBackward1>)\n",
      "now training step 10000\n",
      "tensor(-0., grad_fn=<DivBackward1>)\n",
      "now training step 10000\n",
      "tensor(-0., grad_fn=<DivBackward1>)\n",
      "now training step 10000\n",
      "tensor(-0., grad_fn=<DivBackward1>)\n",
      "epoch 60\n",
      "now training step 10000\n",
      "tensor(-0., grad_fn=<DivBackward1>)\n",
      "now training step 10000\n",
      "tensor(-0., grad_fn=<DivBackward1>)\n",
      "now training step 10000\n",
      "tensor(-0., grad_fn=<DivBackward1>)\n",
      "now training step 10000\n",
      "tensor(-0., grad_fn=<DivBackward1>)\n",
      "now training step 10000\n",
      "tensor(-0., grad_fn=<DivBackward1>)\n",
      "now training step 10000\n",
      "tensor(-0., grad_fn=<DivBackward1>)\n",
      "now training step 10000\n",
      "tensor(-0., grad_fn=<DivBackward1>)\n",
      "now training step 10000\n",
      "tensor(-0., grad_fn=<DivBackward1>)\n",
      "now training step 10000\n",
      "tensor(-0., grad_fn=<DivBackward1>)\n",
      "now training step 10000\n",
      "tensor(-0., grad_fn=<DivBackward1>)\n",
      "now training step 10000\n",
      "tensor(-0., grad_fn=<DivBackward1>)\n",
      "now training step 10000\n",
      "tensor(-0., grad_fn=<DivBackward1>)\n",
      "now training step 10000\n",
      "tensor(-0., grad_fn=<DivBackward1>)\n",
      "now training step 10000\n",
      "tensor(-0., grad_fn=<DivBackward1>)\n",
      "now training step 10000\n",
      "tensor(-0., grad_fn=<DivBackward1>)\n",
      "now training step 10000\n",
      "tensor(-0., grad_fn=<DivBackward1>)\n",
      "now training step 10000\n",
      "tensor(-0., grad_fn=<DivBackward1>)\n",
      "now training step 10000\n",
      "tensor(-0., grad_fn=<DivBackward1>)\n",
      "now training step 10000\n",
      "tensor(-0., grad_fn=<DivBackward1>)\n",
      "now training step 10000\n",
      "tensor(-0., grad_fn=<DivBackward1>)\n",
      "epoch 80\n",
      "now training step 10000\n",
      "tensor(-0., grad_fn=<DivBackward1>)\n",
      "now training step 10000\n",
      "tensor(-0., grad_fn=<DivBackward1>)\n",
      "now training step 10000\n",
      "tensor(-0., grad_fn=<DivBackward1>)\n",
      "now training step 10000\n",
      "tensor(-0., grad_fn=<DivBackward1>)\n",
      "now training step 10000\n",
      "tensor(-0., grad_fn=<DivBackward1>)\n",
      "now training step 10000\n",
      "tensor(-0., grad_fn=<DivBackward1>)\n",
      "now training step 10000\n",
      "tensor(-0., grad_fn=<DivBackward1>)\n",
      "now training step 10000\n",
      "tensor(-0., grad_fn=<DivBackward1>)\n",
      "now training step 10000\n",
      "tensor(-0., grad_fn=<DivBackward1>)\n",
      "now training step 10000\n",
      "tensor(-0., grad_fn=<DivBackward1>)\n",
      "now training step 10000\n",
      "tensor(-0., grad_fn=<DivBackward1>)\n",
      "now training step 10000\n",
      "tensor(-0., grad_fn=<DivBackward1>)\n",
      "now training step 10000\n",
      "tensor(-0., grad_fn=<DivBackward1>)\n",
      "now training step 10000\n",
      "tensor(-0., grad_fn=<DivBackward1>)\n",
      "now training step 10000\n",
      "tensor(-0., grad_fn=<DivBackward1>)\n",
      "now training step 10000\n",
      "tensor(-0., grad_fn=<DivBackward1>)\n",
      "now training step 10000\n",
      "tensor(-0., grad_fn=<DivBackward1>)\n",
      "now training step 10000\n",
      "tensor(-0., grad_fn=<DivBackward1>)\n",
      "now training step 10000\n",
      "tensor(-0., grad_fn=<DivBackward1>)\n",
      "now training step 10000\n",
      "tensor(-0., grad_fn=<DivBackward1>)\n"
     ]
    }
   ],
   "source": [
    "trainer(dataset_XY,RNet,torch.nn.CrossEntropyLoss(),epoch=100,batch_size=batch_size,rate=1e-3)"
   ]
  },
  {
   "cell_type": "code",
   "execution_count": 147,
   "id": "16d0bb56",
   "metadata": {},
   "outputs": [],
   "source": [
    "def trainer_lstm(data_train,model,loss_fn,epoch=100,batch_size=16,rate=1e-3):\n",
    "    optimiser=torch.optim.Adam(model.parameters(),lr=rate)\n",
    "    loader_train=torch.utils.data.DataLoader(dataset=data_train,batch_size=batch_size,shuffle=True)\n",
    "    for i in range(epoch):\n",
    "        if i%20==0:\n",
    "            print(\"epoch \"+str(i))\n",
    "        for step,(batch_x,batch_y) in enumerate(loader_train):    \n",
    "            #print(batch_x.float())\n",
    "            batch_x=batch_x.reshape((-1,batch_x.shape[0],batch_x.shape[1]))\n",
    "            batch_x=batch_x.to(device)\n",
    "            batch_y=batch_y.to(device)\n",
    "            pred=model(batch_x)\n",
    "            #class_pred = torch.argmax(pred,dim = -1)\n",
    "            loss=loss_fn(pred,batch_y)  \n",
    "            \n",
    "            optimiser.zero_grad()\n",
    "            loss.backward()\n",
    "            optimiser.step()\n",
    "            if (step%1000==0) and step>0:\n",
    "                print(\"now training step \"+str(step))\n",
    "                print(loss)"
   ]
  },
  {
   "cell_type": "code",
   "execution_count": null,
   "id": "a10a2d6b",
   "metadata": {},
   "outputs": [
    {
     "name": "stdout",
     "output_type": "stream",
     "text": [
      "epoch 0\n",
      "now training step 1000\n",
      "tensor([0.], grad_fn=<DivBackward0>)\n",
      "now training step 2000\n",
      "tensor([0.], grad_fn=<DivBackward0>)\n",
      "now training step 3000\n",
      "tensor([0.], grad_fn=<DivBackward0>)\n",
      "now training step 4000\n",
      "tensor([0.], grad_fn=<DivBackward0>)\n",
      "now training step 5000\n",
      "tensor([4.], grad_fn=<DivBackward0>)\n",
      "now training step 6000\n",
      "tensor([3.], grad_fn=<DivBackward0>)\n",
      "now training step 7000\n",
      "tensor([0.], grad_fn=<DivBackward0>)\n",
      "now training step 8000\n",
      "tensor([2.], grad_fn=<DivBackward0>)\n",
      "now training step 9000\n",
      "tensor([3.], grad_fn=<DivBackward0>)\n",
      "now training step 10000\n",
      "tensor([2.], grad_fn=<DivBackward0>)\n",
      "now training step 11000\n",
      "tensor([1.], grad_fn=<DivBackward0>)\n",
      "now training step 12000\n",
      "tensor([0.], grad_fn=<DivBackward0>)\n",
      "now training step 13000\n",
      "tensor([8.], grad_fn=<DivBackward0>)\n",
      "now training step 14000\n",
      "tensor([0.], grad_fn=<DivBackward0>)\n",
      "now training step 15000\n",
      "tensor([1.], grad_fn=<DivBackward0>)\n",
      "now training step 1000\n",
      "tensor([5.], grad_fn=<DivBackward0>)\n",
      "now training step 2000\n",
      "tensor([0.], grad_fn=<DivBackward0>)\n",
      "now training step 3000\n",
      "tensor([0.], grad_fn=<DivBackward0>)\n",
      "now training step 4000\n",
      "tensor([510.], grad_fn=<DivBackward0>)\n",
      "now training step 5000\n",
      "tensor([976.], grad_fn=<DivBackward0>)\n",
      "now training step 6000\n",
      "tensor([1.], grad_fn=<DivBackward0>)\n",
      "now training step 7000\n",
      "tensor([0.], grad_fn=<DivBackward0>)\n",
      "now training step 8000\n",
      "tensor([0.], grad_fn=<DivBackward0>)\n",
      "now training step 9000\n",
      "tensor([1.], grad_fn=<DivBackward0>)\n",
      "now training step 10000\n",
      "tensor([0.], grad_fn=<DivBackward0>)\n",
      "now training step 11000\n",
      "tensor([0.], grad_fn=<DivBackward0>)\n",
      "now training step 12000\n",
      "tensor([0.], grad_fn=<DivBackward0>)\n",
      "now training step 13000\n",
      "tensor([1.], grad_fn=<DivBackward0>)\n",
      "now training step 14000\n",
      "tensor([4.], grad_fn=<DivBackward0>)\n",
      "now training step 15000\n",
      "tensor([0.], grad_fn=<DivBackward0>)\n",
      "now training step 1000\n",
      "tensor([3.], grad_fn=<DivBackward0>)\n",
      "now training step 2000\n",
      "tensor([2.], grad_fn=<DivBackward0>)\n",
      "now training step 3000\n",
      "tensor([0.], grad_fn=<DivBackward0>)\n",
      "now training step 4000\n",
      "tensor([1.], grad_fn=<DivBackward0>)\n",
      "now training step 5000\n",
      "tensor([1.], grad_fn=<DivBackward0>)\n",
      "now training step 6000\n",
      "tensor([0.], grad_fn=<DivBackward0>)\n",
      "now training step 7000\n",
      "tensor([1.], grad_fn=<DivBackward0>)\n",
      "now training step 8000\n",
      "tensor([0.], grad_fn=<DivBackward0>)\n",
      "now training step 9000\n",
      "tensor([3.], grad_fn=<DivBackward0>)\n",
      "now training step 10000\n",
      "tensor([1.], grad_fn=<DivBackward0>)\n",
      "now training step 11000\n",
      "tensor([1.], grad_fn=<DivBackward0>)\n",
      "now training step 12000\n",
      "tensor([0.], grad_fn=<DivBackward0>)\n",
      "now training step 13000\n",
      "tensor([12.], grad_fn=<DivBackward0>)\n",
      "now training step 14000\n",
      "tensor([3.], grad_fn=<DivBackward0>)\n",
      "now training step 15000\n",
      "tensor([3.], grad_fn=<DivBackward0>)\n",
      "now training step 1000\n",
      "tensor([0.], grad_fn=<DivBackward0>)\n",
      "now training step 2000\n",
      "tensor([0.], grad_fn=<DivBackward0>)\n",
      "now training step 3000\n",
      "tensor([0.], grad_fn=<DivBackward0>)\n",
      "now training step 4000\n",
      "tensor([4.], grad_fn=<DivBackward0>)\n",
      "now training step 5000\n",
      "tensor([45.], grad_fn=<DivBackward0>)\n",
      "now training step 6000\n",
      "tensor([1.], grad_fn=<DivBackward0>)\n",
      "now training step 7000\n",
      "tensor([2.], grad_fn=<DivBackward0>)\n",
      "now training step 8000\n",
      "tensor([2.], grad_fn=<DivBackward0>)\n",
      "now training step 9000\n",
      "tensor([0.], grad_fn=<DivBackward0>)\n",
      "now training step 10000\n",
      "tensor([0.], grad_fn=<DivBackward0>)\n",
      "now training step 11000\n",
      "tensor([2.], grad_fn=<DivBackward0>)\n",
      "now training step 12000\n",
      "tensor([0.], grad_fn=<DivBackward0>)\n",
      "now training step 13000\n",
      "tensor([0.], grad_fn=<DivBackward0>)\n",
      "now training step 14000\n",
      "tensor([5.], grad_fn=<DivBackward0>)\n",
      "now training step 15000\n",
      "tensor([2.], grad_fn=<DivBackward0>)\n",
      "now training step 1000\n",
      "tensor([3.], grad_fn=<DivBackward0>)\n",
      "now training step 2000\n",
      "tensor([3.], grad_fn=<DivBackward0>)\n",
      "now training step 3000\n",
      "tensor([2.], grad_fn=<DivBackward0>)\n",
      "now training step 4000\n",
      "tensor([0.], grad_fn=<DivBackward0>)\n",
      "now training step 5000\n",
      "tensor([0.], grad_fn=<DivBackward0>)\n",
      "now training step 6000\n",
      "tensor([2.], grad_fn=<DivBackward0>)\n",
      "now training step 7000\n",
      "tensor([3.], grad_fn=<DivBackward0>)\n",
      "now training step 8000\n",
      "tensor([0.], grad_fn=<DivBackward0>)\n",
      "now training step 9000\n",
      "tensor([2.], grad_fn=<DivBackward0>)\n",
      "now training step 10000\n",
      "tensor([2.], grad_fn=<DivBackward0>)\n",
      "now training step 11000\n",
      "tensor([3.], grad_fn=<DivBackward0>)\n",
      "now training step 12000\n",
      "tensor([3.], grad_fn=<DivBackward0>)\n",
      "now training step 13000\n",
      "tensor([1.], grad_fn=<DivBackward0>)\n",
      "now training step 14000\n",
      "tensor([0.], grad_fn=<DivBackward0>)\n",
      "now training step 15000\n",
      "tensor([0.], grad_fn=<DivBackward0>)\n",
      "now training step 1000\n",
      "tensor([1.], grad_fn=<DivBackward0>)\n",
      "now training step 2000\n",
      "tensor([0.], grad_fn=<DivBackward0>)\n",
      "now training step 3000\n",
      "tensor([0.], grad_fn=<DivBackward0>)\n",
      "now training step 4000\n",
      "tensor([1.], grad_fn=<DivBackward0>)\n",
      "now training step 5000\n",
      "tensor([4.], grad_fn=<DivBackward0>)\n",
      "now training step 6000\n",
      "tensor([9.], grad_fn=<DivBackward0>)\n",
      "now training step 7000\n",
      "tensor([2.], grad_fn=<DivBackward0>)\n",
      "now training step 8000\n",
      "tensor([0.], grad_fn=<DivBackward0>)\n",
      "now training step 9000\n",
      "tensor([0.], grad_fn=<DivBackward0>)\n",
      "now training step 10000\n",
      "tensor([8.], grad_fn=<DivBackward0>)\n",
      "now training step 11000\n",
      "tensor([0.], grad_fn=<DivBackward0>)\n",
      "now training step 12000\n",
      "tensor([3.], grad_fn=<DivBackward0>)\n",
      "now training step 13000\n",
      "tensor([3.], grad_fn=<DivBackward0>)\n",
      "now training step 14000\n",
      "tensor([8.], grad_fn=<DivBackward0>)\n",
      "now training step 15000\n",
      "tensor([4.], grad_fn=<DivBackward0>)\n",
      "now training step 1000\n",
      "tensor([8.], grad_fn=<DivBackward0>)\n",
      "now training step 2000\n",
      "tensor([1.], grad_fn=<DivBackward0>)\n",
      "now training step 3000\n",
      "tensor([0.], grad_fn=<DivBackward0>)\n",
      "now training step 4000\n",
      "tensor([2.], grad_fn=<DivBackward0>)\n",
      "now training step 5000\n",
      "tensor([1085.], grad_fn=<DivBackward0>)\n",
      "now training step 6000\n",
      "tensor([3.], grad_fn=<DivBackward0>)\n",
      "now training step 7000\n",
      "tensor([3.], grad_fn=<DivBackward0>)\n",
      "now training step 8000\n",
      "tensor([3.], grad_fn=<DivBackward0>)\n",
      "now training step 9000\n",
      "tensor([1.], grad_fn=<DivBackward0>)\n",
      "now training step 10000\n",
      "tensor([0.], grad_fn=<DivBackward0>)\n",
      "now training step 11000\n",
      "tensor([0.], grad_fn=<DivBackward0>)\n",
      "now training step 12000\n",
      "tensor([0.], grad_fn=<DivBackward0>)\n",
      "now training step 13000\n",
      "tensor([43.], grad_fn=<DivBackward0>)\n",
      "now training step 14000\n",
      "tensor([2.], grad_fn=<DivBackward0>)\n",
      "now training step 15000\n",
      "tensor([5.], grad_fn=<DivBackward0>)\n",
      "now training step 1000\n",
      "tensor([4.], grad_fn=<DivBackward0>)\n",
      "now training step 2000\n",
      "tensor([0.], grad_fn=<DivBackward0>)\n",
      "now training step 3000\n",
      "tensor([6.], grad_fn=<DivBackward0>)\n",
      "now training step 4000\n",
      "tensor([2.], grad_fn=<DivBackward0>)\n",
      "now training step 5000\n",
      "tensor([1.], grad_fn=<DivBackward0>)\n",
      "now training step 6000\n",
      "tensor([2.], grad_fn=<DivBackward0>)\n",
      "now training step 7000\n",
      "tensor([0.], grad_fn=<DivBackward0>)\n",
      "now training step 8000\n",
      "tensor([0.], grad_fn=<DivBackward0>)\n",
      "now training step 9000\n",
      "tensor([0.], grad_fn=<DivBackward0>)\n",
      "now training step 10000\n",
      "tensor([16.], grad_fn=<DivBackward0>)\n",
      "now training step 11000\n",
      "tensor([0.], grad_fn=<DivBackward0>)\n",
      "now training step 12000\n",
      "tensor([0.], grad_fn=<DivBackward0>)\n",
      "now training step 13000\n",
      "tensor([1.], grad_fn=<DivBackward0>)\n",
      "now training step 14000\n",
      "tensor([0.], grad_fn=<DivBackward0>)\n",
      "now training step 15000\n",
      "tensor([0.], grad_fn=<DivBackward0>)\n",
      "now training step 1000\n",
      "tensor([0.], grad_fn=<DivBackward0>)\n",
      "now training step 2000\n",
      "tensor([0.], grad_fn=<DivBackward0>)\n",
      "now training step 3000\n",
      "tensor([0.], grad_fn=<DivBackward0>)\n",
      "now training step 4000\n",
      "tensor([0.], grad_fn=<DivBackward0>)\n",
      "now training step 5000\n",
      "tensor([3.], grad_fn=<DivBackward0>)\n",
      "now training step 6000\n",
      "tensor([76.], grad_fn=<DivBackward0>)\n",
      "now training step 7000\n",
      "tensor([0.], grad_fn=<DivBackward0>)\n",
      "now training step 8000\n",
      "tensor([3.], grad_fn=<DivBackward0>)\n",
      "now training step 9000\n",
      "tensor([0.], grad_fn=<DivBackward0>)\n",
      "now training step 10000\n",
      "tensor([0.], grad_fn=<DivBackward0>)\n",
      "now training step 11000\n",
      "tensor([3.], grad_fn=<DivBackward0>)\n",
      "now training step 12000\n",
      "tensor([0.], grad_fn=<DivBackward0>)\n",
      "now training step 13000\n",
      "tensor([2.], grad_fn=<DivBackward0>)\n",
      "now training step 14000\n",
      "tensor([18.], grad_fn=<DivBackward0>)\n",
      "now training step 15000\n",
      "tensor([3.], grad_fn=<DivBackward0>)\n",
      "now training step 1000\n",
      "tensor([2.], grad_fn=<DivBackward0>)\n"
     ]
    },
    {
     "name": "stdout",
     "output_type": "stream",
     "text": [
      "now training step 2000\n",
      "tensor([0.], grad_fn=<DivBackward0>)\n",
      "now training step 3000\n",
      "tensor([1.], grad_fn=<DivBackward0>)\n",
      "now training step 4000\n",
      "tensor([0.], grad_fn=<DivBackward0>)\n",
      "now training step 5000\n",
      "tensor([0.], grad_fn=<DivBackward0>)\n",
      "now training step 6000\n",
      "tensor([2.], grad_fn=<DivBackward0>)\n",
      "now training step 7000\n",
      "tensor([0.], grad_fn=<DivBackward0>)\n",
      "now training step 8000\n",
      "tensor([0.], grad_fn=<DivBackward0>)\n",
      "now training step 9000\n",
      "tensor([2.], grad_fn=<DivBackward0>)\n",
      "now training step 10000\n",
      "tensor([0.], grad_fn=<DivBackward0>)\n",
      "now training step 11000\n",
      "tensor([0.], grad_fn=<DivBackward0>)\n",
      "now training step 12000\n",
      "tensor([3.], grad_fn=<DivBackward0>)\n",
      "now training step 13000\n",
      "tensor([5.], grad_fn=<DivBackward0>)\n",
      "now training step 14000\n",
      "tensor([1.], grad_fn=<DivBackward0>)\n",
      "now training step 15000\n",
      "tensor([1.], grad_fn=<DivBackward0>)\n",
      "now training step 1000\n",
      "tensor([1.], grad_fn=<DivBackward0>)\n",
      "now training step 2000\n",
      "tensor([21.], grad_fn=<DivBackward0>)\n",
      "now training step 3000\n",
      "tensor([1.], grad_fn=<DivBackward0>)\n",
      "now training step 4000\n",
      "tensor([2.], grad_fn=<DivBackward0>)\n",
      "now training step 5000\n",
      "tensor([0.], grad_fn=<DivBackward0>)\n",
      "now training step 6000\n",
      "tensor([0.], grad_fn=<DivBackward0>)\n",
      "now training step 7000\n",
      "tensor([1.], grad_fn=<DivBackward0>)\n",
      "now training step 8000\n",
      "tensor([0.], grad_fn=<DivBackward0>)\n",
      "now training step 9000\n",
      "tensor([0.], grad_fn=<DivBackward0>)\n",
      "now training step 10000\n",
      "tensor([28.], grad_fn=<DivBackward0>)\n",
      "now training step 11000\n",
      "tensor([8.], grad_fn=<DivBackward0>)\n",
      "now training step 12000\n",
      "tensor([7.], grad_fn=<DivBackward0>)\n",
      "now training step 13000\n",
      "tensor([0.], grad_fn=<DivBackward0>)\n",
      "now training step 14000\n",
      "tensor([1.], grad_fn=<DivBackward0>)\n",
      "now training step 15000\n",
      "tensor([0.], grad_fn=<DivBackward0>)\n",
      "now training step 1000\n",
      "tensor([0.], grad_fn=<DivBackward0>)\n",
      "now training step 2000\n",
      "tensor([0.], grad_fn=<DivBackward0>)\n",
      "now training step 3000\n",
      "tensor([0.], grad_fn=<DivBackward0>)\n",
      "now training step 4000\n",
      "tensor([0.], grad_fn=<DivBackward0>)\n",
      "now training step 5000\n",
      "tensor([11.], grad_fn=<DivBackward0>)\n",
      "now training step 6000\n",
      "tensor([0.], grad_fn=<DivBackward0>)\n",
      "now training step 7000\n",
      "tensor([1.], grad_fn=<DivBackward0>)\n",
      "now training step 8000\n",
      "tensor([8.], grad_fn=<DivBackward0>)\n",
      "now training step 9000\n",
      "tensor([16.], grad_fn=<DivBackward0>)\n",
      "now training step 10000\n",
      "tensor([0.], grad_fn=<DivBackward0>)\n",
      "now training step 11000\n",
      "tensor([4.], grad_fn=<DivBackward0>)\n",
      "now training step 12000\n",
      "tensor([0.], grad_fn=<DivBackward0>)\n",
      "now training step 13000\n",
      "tensor([10.], grad_fn=<DivBackward0>)\n",
      "now training step 14000\n",
      "tensor([2.], grad_fn=<DivBackward0>)\n",
      "now training step 15000\n",
      "tensor([3.], grad_fn=<DivBackward0>)\n",
      "now training step 1000\n",
      "tensor([11.], grad_fn=<DivBackward0>)\n",
      "now training step 2000\n",
      "tensor([0.], grad_fn=<DivBackward0>)\n",
      "now training step 3000\n",
      "tensor([381.], grad_fn=<DivBackward0>)\n",
      "now training step 4000\n",
      "tensor([2.], grad_fn=<DivBackward0>)\n",
      "now training step 5000\n",
      "tensor([0.], grad_fn=<DivBackward0>)\n",
      "now training step 6000\n",
      "tensor([2.], grad_fn=<DivBackward0>)\n",
      "now training step 7000\n",
      "tensor([0.], grad_fn=<DivBackward0>)\n",
      "now training step 8000\n",
      "tensor([0.], grad_fn=<DivBackward0>)\n",
      "now training step 9000\n",
      "tensor([2.], grad_fn=<DivBackward0>)\n",
      "now training step 10000\n",
      "tensor([3.], grad_fn=<DivBackward0>)\n",
      "now training step 11000\n",
      "tensor([0.], grad_fn=<DivBackward0>)\n"
     ]
    }
   ],
   "source": [
    "trainer_lstm(dataset_tot_XY,RNet_lstm,MAE,epoch=100,batch_size=batch_size,rate=1e-3)"
   ]
  },
  {
   "cell_type": "code",
   "execution_count": null,
   "id": "4d06b952",
   "metadata": {},
   "outputs": [],
   "source": [
    "trainer_lstm(dataset_num_XY,RNet_lstm,MAE,epoch=100,batch_size=batch_size,rate=1e-3)"
   ]
  },
  {
   "cell_type": "code",
   "execution_count": 113,
   "id": "1bd31911",
   "metadata": {},
   "outputs": [],
   "source": [
    "def success_rate(model,loss_fn,batch_size,test_data):\n",
    "    loader_test=torch.utils.data.DataLoader(dataset=test_data,batch_size=batch_size,shuffle=True)\n",
    "    loss_record=[]\n",
    "    acc_record=[]\n",
    "    total=0\n",
    "    total_loss=0\n",
    "    for step,(batch_x_num,batch_x_text,batch_y) in enumerate(loader_test):    \n",
    "            #print(batch_x.float())\n",
    "        pred=model(batch_x_num,batch_x_text)\n",
    "        batch_x_num=batch_x_num.to(device)\n",
    "        batch_x_text=batch_x_text.to(device)\n",
    "        batch_y=batch_y.to(device)\n",
    "            #class_pred = torch.argmax(pred,dim = -1)\n",
    "        loss=loss_fn(pred,batch_y)  \n",
    "        total_loss+=loss\n",
    "        for i in range(len(pred)):\n",
    "            if int(pred[i])==int(batch_y[i]):\n",
    "                total+=1\n",
    "        # 应该要把预测结果都变成int的，但这样可能产生预测结果全是0，求不了梯度不能反向传播了，要想个办法\n",
    "        if step%1000==0:\n",
    "            loss_record.append(total_loss)\n",
    "            acc_record.append(total/((step+1)*batch_size))\n",
    "    return total/len(test_data),total_loss,loss_record,acc_record"
   ]
  },
  {
   "cell_type": "code",
   "execution_count": 115,
   "id": "35bb6ee1",
   "metadata": {},
   "outputs": [
    {
     "name": "stdout",
     "output_type": "stream",
     "text": [
      "0.4885913118814212\n",
      "tensor([104635.], grad_fn=<AddBackward0>)\n"
     ]
    }
   ],
   "source": [
    "# 屎一样的准确率和误差\n",
    "accuracy,MAE_loss,loss_record,acc_record=success_rate(RNet,MAE,batch_size,testset_XY)\n",
    "print(accuracy)\n",
    "print(MAE_loss)"
   ]
  },
  {
   "cell_type": "code",
   "execution_count": null,
   "id": "7071f598",
   "metadata": {},
   "outputs": [],
   "source": []
  },
  {
   "cell_type": "code",
   "execution_count": null,
   "id": "52a28f62",
   "metadata": {},
   "outputs": [],
   "source": [
    "def success_rate_lstm(model,loss_fn,batch_size,test_data):\n",
    "    loader_test=torch.utils.data.DataLoader(dataset=test_data,batch_size=batch_size,shuffle=True)\n",
    "    loss_record=[]\n",
    "    acc_record=[]\n",
    "    total=0\n",
    "    total_loss=0\n",
    "    with torch.no_grad():\n",
    "        for step,(batch_x,batch_y) in enumerate(loader_test):    \n",
    "            #print(batch_x.float())\n",
    "            batch_x=batch_x.reshape((-1,batch_size,batch_x.shape[1]))\n",
    "            batch_x=batch_x.to(device)\n",
    "            batch_y=batch_y.to(device)\n",
    "            pred=model(batch_x)\n",
    "            #class_pred = torch.argmax(pred,dim = -1)\n",
    "            loss=loss_fn(pred,batch_y)  \n",
    "            total_loss+=loss\n",
    "            for i in range(len(pred)):\n",
    "                if int(pred[i])==int(batch_y[i]):\n",
    "                    total+=1\n",
    "        # 应该要把预测结果都变成int的，但这样可能产生预测结果全是0，求不了梯度不能反向传播了，要想个办法\n",
    "            if step%1000==0:\n",
    "                loss_record.append(total_loss)\n",
    "                acc_record.append(total/((step+1)*batch_size))\n",
    "    return total/len(test_data),total_loss,loss_record,acc_record"
   ]
  },
  {
   "cell_type": "code",
   "execution_count": null,
   "id": "9423cc3c",
   "metadata": {},
   "outputs": [],
   "source": [
    "accuracy_lstm,MAE_loss_lstm,loss_record_lstm,acc_record_lstm=success_rate(RNet,MAE,batch_size,testset_tot_XY)"
   ]
  },
  {
   "cell_type": "code",
   "execution_count": null,
   "id": "53889ff2",
   "metadata": {},
   "outputs": [],
   "source": [
    "MAE_loss_lstm"
   ]
  },
  {
   "cell_type": "code",
   "execution_count": null,
   "id": "22d39c9e",
   "metadata": {},
   "outputs": [],
   "source": [
    "accuracy_lstm,MAE_loss_lstm,loss_record_lstm,acc_record_lstm=success_rate(RNet,MAE,batch_size,testset_num_XY)"
   ]
  },
  {
   "cell_type": "code",
   "execution_count": null,
   "id": "12dbfceb",
   "metadata": {},
   "outputs": [],
   "source": [
    "MAE_loss_lstm"
   ]
  },
  {
   "cell_type": "code",
   "execution_count": null,
   "id": "944bdeb0",
   "metadata": {},
   "outputs": [],
   "source": []
  },
  {
   "cell_type": "code",
   "execution_count": null,
   "id": "1d67a14a",
   "metadata": {},
   "outputs": [],
   "source": [
    "# start evaluation"
   ]
  },
  {
   "cell_type": "code",
   "execution_count": 83,
   "id": "649c657e",
   "metadata": {},
   "outputs": [
    {
     "data": {
      "text/html": [
       "<div>\n",
       "<style scoped>\n",
       "    .dataframe tbody tr th:only-of-type {\n",
       "        vertical-align: middle;\n",
       "    }\n",
       "\n",
       "    .dataframe tbody tr th {\n",
       "        vertical-align: top;\n",
       "    }\n",
       "\n",
       "    .dataframe thead th {\n",
       "        text-align: right;\n",
       "    }\n",
       "</style>\n",
       "<table border=\"1\" class=\"dataframe\">\n",
       "  <thead>\n",
       "    <tr style=\"text-align: right;\">\n",
       "      <th></th>\n",
       "      <th>text</th>\n",
       "      <th>favorites_count</th>\n",
       "      <th>followers_count</th>\n",
       "      <th>statuses_count</th>\n",
       "      <th>friends_count</th>\n",
       "      <th>mentions</th>\n",
       "      <th>urls</th>\n",
       "      <th>verified</th>\n",
       "      <th>hashtags</th>\n",
       "      <th>timestamp</th>\n",
       "      <th>TweetID</th>\n",
       "    </tr>\n",
       "  </thead>\n",
       "  <tbody>\n",
       "    <tr>\n",
       "      <th>0</th>\n",
       "      <td>descendue pourcentage vote</td>\n",
       "      <td>0</td>\n",
       "      <td>85</td>\n",
       "      <td>4442</td>\n",
       "      <td>327</td>\n",
       "      <td>[]</td>\n",
       "      <td>[]</td>\n",
       "      <td>0</td>\n",
       "      <td>['presidentielle2022', 'hidalgo']</td>\n",
       "      <td>1647607994000</td>\n",
       "      <td>1184643</td>\n",
       "    </tr>\n",
       "    <tr>\n",
       "      <th>1</th>\n",
       "      <td>photo demande arbre généalogique</td>\n",
       "      <td>0</td>\n",
       "      <td>427</td>\n",
       "      <td>33282</td>\n",
       "      <td>443</td>\n",
       "      <td>[]</td>\n",
       "      <td>[]</td>\n",
       "      <td>0</td>\n",
       "      <td>[]</td>\n",
       "      <td>1647601275000</td>\n",
       "      <td>1199190</td>\n",
       "    </tr>\n",
       "    <tr>\n",
       "      <th>2</th>\n",
       "      <td>dossiers promis poste gars vraiment fiable</td>\n",
       "      <td>6</td>\n",
       "      <td>1127</td>\n",
       "      <td>13111</td>\n",
       "      <td>1596</td>\n",
       "      <td>[]</td>\n",
       "      <td>[]</td>\n",
       "      <td>0</td>\n",
       "      <td>['macron']</td>\n",
       "      <td>1646900684000</td>\n",
       "      <td>917372</td>\n",
       "    </tr>\n",
       "    <tr>\n",
       "      <th>3</th>\n",
       "      <td>lol cas faut second tour macron sortir définit...</td>\n",
       "      <td>2</td>\n",
       "      <td>1699</td>\n",
       "      <td>25760</td>\n",
       "      <td>2036</td>\n",
       "      <td>[]</td>\n",
       "      <td>['https://t.co/7ox54d8dlm']</td>\n",
       "      <td>0</td>\n",
       "      <td>[]</td>\n",
       "      <td>1647161294000</td>\n",
       "      <td>731754</td>\n",
       "    </tr>\n",
       "    <tr>\n",
       "      <th>4</th>\n",
       "      <td>zemmour putain discours propagandiste littéral...</td>\n",
       "      <td>0</td>\n",
       "      <td>249</td>\n",
       "      <td>20718</td>\n",
       "      <td>369</td>\n",
       "      <td>[]</td>\n",
       "      <td>['https://t.co/tsw9cg6v9j', 'https://t.co/t0j9...</td>\n",
       "      <td>0</td>\n",
       "      <td>[]</td>\n",
       "      <td>1647724874000</td>\n",
       "      <td>1400049</td>\n",
       "    </tr>\n",
       "  </tbody>\n",
       "</table>\n",
       "</div>"
      ],
      "text/plain": [
       "                                                text  favorites_count  \\\n",
       "0                         descendue pourcentage vote                0   \n",
       "1                   photo demande arbre généalogique                0   \n",
       "2         dossiers promis poste gars vraiment fiable                6   \n",
       "3  lol cas faut second tour macron sortir définit...                2   \n",
       "4  zemmour putain discours propagandiste littéral...                0   \n",
       "\n",
       "   followers_count  statuses_count  friends_count mentions  \\\n",
       "0               85            4442            327       []   \n",
       "1              427           33282            443       []   \n",
       "2             1127           13111           1596       []   \n",
       "3             1699           25760           2036       []   \n",
       "4              249           20718            369       []   \n",
       "\n",
       "                                                urls  verified  \\\n",
       "0                                                 []         0   \n",
       "1                                                 []         0   \n",
       "2                                                 []         0   \n",
       "3                        ['https://t.co/7ox54d8dlm']         0   \n",
       "4  ['https://t.co/tsw9cg6v9j', 'https://t.co/t0j9...         0   \n",
       "\n",
       "                            hashtags      timestamp  TweetID  \n",
       "0  ['presidentielle2022', 'hidalgo']  1647607994000  1184643  \n",
       "1                                 []  1647601275000  1199190  \n",
       "2                         ['macron']  1646900684000   917372  \n",
       "3                                 []  1647161294000   731754  \n",
       "4                                 []  1647724874000  1400049  "
      ]
     },
     "execution_count": 83,
     "metadata": {},
     "output_type": "execute_result"
    }
   ],
   "source": [
    "X_eval = pd.read_csv(\"data/evaluation.csv\")\n",
    "X_eval.head()"
   ]
  },
  {
   "cell_type": "code",
   "execution_count": 84,
   "id": "3667398f",
   "metadata": {},
   "outputs": [],
   "source": [
    "count_num(X_eval,[\"mentions\",\"urls\",\"hashtags\"])\n",
    "standardise(X_eval,[\"favorites_count\",\"followers_count\",\"statuses_count\",\"friends_count\",\"mentions\",\"urls\",\"verified\",\"hashtags\",\"timestamp\"])"
   ]
  },
  {
   "cell_type": "code",
   "execution_count": 85,
   "id": "b047b572",
   "metadata": {},
   "outputs": [],
   "source": [
    "X_eval_num=X_eval[[\"favorites_count\",\"followers_count\",\"statuses_count\",\"friends_count\",\"mentions\",\"urls\",\"verified\",\"hashtags\",\"timestamp\"]]\n",
    "X_eval_text=X_eval[\"text\"]"
   ]
  },
  {
   "cell_type": "code",
   "execution_count": 86,
   "id": "a554f4e1",
   "metadata": {},
   "outputs": [
    {
     "data": {
      "text/plain": [
       "tensor([[-0.0876, -0.0849,  0.0715,  ..., -0.1274,  0.0259,  0.2036],\n",
       "        [-0.0584, -0.2370,  0.0921,  ..., -0.1721, -0.1280, -0.0466],\n",
       "        [-0.1301, -0.2114,  0.4126,  ..., -0.3209, -0.2384,  0.0885],\n",
       "        ...,\n",
       "        [ 0.0149, -0.2369,  0.5605,  ..., -0.2344, -0.2613,  0.3333],\n",
       "        [ 0.4778,  0.2952,  0.1626,  ...,  0.4370, -0.0958,  0.7919],\n",
       "        [-0.2888, -0.1849, -0.0242,  ...,  0.0029, -0.3252,  0.2898]])"
      ]
     },
     "execution_count": 86,
     "metadata": {},
     "output_type": "execute_result"
    }
   ],
   "source": [
    "X_eval_text_vec=text2vec(X_eval_text,alpha=0.05, min_alpha=0.025, epochs=10)\n",
    "X_eval_text_tensor=torch.Tensor(X_eval_text_vec)\n",
    "X_eval_text_tensor"
   ]
  },
  {
   "cell_type": "code",
   "execution_count": 87,
   "id": "6cd71c37",
   "metadata": {},
   "outputs": [],
   "source": [
    "X_eval_num_vec=X_eval_num.values\n",
    "X_eval_num_tensor=torch.Tensor(X_eval_num_vec)"
   ]
  },
  {
   "cell_type": "code",
   "execution_count": 88,
   "id": "c3c07306",
   "metadata": {},
   "outputs": [
    {
     "data": {
      "text/plain": [
       "(117990, 109)"
      ]
     },
     "execution_count": 88,
     "metadata": {},
     "output_type": "execute_result"
    }
   ],
   "source": [
    "X_eval_vec=np.hstack([X_eval_text_vec,X_eval_num_vec])\n",
    "X_eval_vec.shape"
   ]
  },
  {
   "cell_type": "code",
   "execution_count": 104,
   "id": "cbd4595d",
   "metadata": {},
   "outputs": [],
   "source": [
    "def evaluate_modle(model,filename):\n",
    "    # y_val = model.predict(X_eval_num_vec)\n",
    "    y_val = model.predict(X_eval_vec)\n",
    "    y_val = np.array([int(value) if value >= 0 else 0 for value in y_val])\n",
    "    y_val=y_val.reshape((-1,1))\n",
    "    with open(filename, 'w',newline='') as f:\n",
    "        writer = csv.writer(f)\n",
    "        writer.writerow([\"TweetID\", \"retweets_count\"])\n",
    "        for index, prediction in enumerate(y_val):\n",
    "            writer.writerow([str(X_eval['TweetID'].iloc[index]) , str(int(prediction))])"
   ]
  },
  {
   "cell_type": "code",
   "execution_count": 105,
   "id": "419421ee",
   "metadata": {},
   "outputs": [],
   "source": [
    "evaluate_modle(model_RF,\"RF_predictions.txt\")"
   ]
  },
  {
   "cell_type": "code",
   "execution_count": 54,
   "id": "bad7ae8e",
   "metadata": {},
   "outputs": [],
   "source": [
    "evaluate_modle(model_Knn,\"Knn_predictions.txt\")"
   ]
  },
  {
   "cell_type": "code",
   "execution_count": 118,
   "id": "5c4958ec",
   "metadata": {},
   "outputs": [],
   "source": [
    "dataset_eval = torch.utils.data.TensorDataset(X_eval_num_tensor.to(device),X_eval_text_tensor.to(device))"
   ]
  },
  {
   "cell_type": "code",
   "execution_count": 119,
   "id": "50b04bdc",
   "metadata": {},
   "outputs": [],
   "source": [
    "def evaluate(model,batch_size,test_eval):\n",
    "    res=[]\n",
    "    loader_eval=torch.utils.data.DataLoader(dataset=test_eval,batch_size=batch_size,shuffle=True)\n",
    "    for step,(batch_x_num,batch_x_text) in enumerate(loader_eval):   \n",
    "        batch_x_num=batch_x_num.to(device)\n",
    "        batch_x_text=batch_x_text.to(device)\n",
    "            #print(batch_x.float())\n",
    "        pred=model(batch_x_num,batch_x_text)\n",
    "            #class_pred = torch.argmax(pred,dim = -1)\n",
    "        # print(pred)\n",
    "        for i in range(len(pred)):\n",
    "            pd=int(pred[i]) if pred[i]>0 else 0\n",
    "            res.append(pd)\n",
    "        if (step%10==0):\n",
    "                print(\"now training step \"+str(step))\n",
    "    return res"
   ]
  },
  {
   "cell_type": "code",
   "execution_count": 120,
   "id": "bfe34ad3",
   "metadata": {},
   "outputs": [
    {
     "name": "stdout",
     "output_type": "stream",
     "text": [
      "now training step 0\n",
      "now training step 10\n",
      "now training step 20\n",
      "now training step 30\n",
      "now training step 40\n",
      "now training step 50\n",
      "now training step 60\n",
      "now training step 70\n",
      "now training step 80\n",
      "now training step 90\n",
      "now training step 100\n",
      "now training step 110\n",
      "now training step 120\n",
      "now training step 130\n",
      "now training step 140\n",
      "now training step 150\n",
      "now training step 160\n",
      "now training step 170\n",
      "now training step 180\n",
      "now training step 190\n",
      "now training step 200\n",
      "now training step 210\n",
      "now training step 220\n",
      "now training step 230\n",
      "now training step 240\n",
      "now training step 250\n",
      "now training step 260\n",
      "now training step 270\n",
      "now training step 280\n",
      "now training step 290\n",
      "now training step 300\n",
      "now training step 310\n",
      "now training step 320\n",
      "now training step 330\n",
      "now training step 340\n",
      "now training step 350\n",
      "now training step 360\n",
      "now training step 370\n",
      "now training step 380\n",
      "now training step 390\n",
      "now training step 400\n",
      "now training step 410\n",
      "now training step 420\n",
      "now training step 430\n",
      "now training step 440\n",
      "now training step 450\n",
      "now training step 460\n",
      "now training step 470\n",
      "now training step 480\n",
      "now training step 490\n",
      "now training step 500\n",
      "now training step 510\n",
      "now training step 520\n",
      "now training step 530\n",
      "now training step 540\n",
      "now training step 550\n",
      "now training step 560\n",
      "now training step 570\n",
      "now training step 580\n",
      "now training step 590\n",
      "now training step 600\n",
      "now training step 610\n",
      "now training step 620\n",
      "now training step 630\n",
      "now training step 640\n",
      "now training step 650\n",
      "now training step 660\n",
      "now training step 670\n",
      "now training step 680\n",
      "now training step 690\n",
      "now training step 700\n",
      "now training step 710\n",
      "now training step 720\n",
      "now training step 730\n",
      "now training step 740\n",
      "now training step 750\n",
      "now training step 760\n",
      "now training step 770\n",
      "now training step 780\n",
      "now training step 790\n",
      "now training step 800\n",
      "now training step 810\n",
      "now training step 820\n",
      "now training step 830\n",
      "now training step 840\n",
      "now training step 850\n",
      "now training step 860\n",
      "now training step 870\n",
      "now training step 880\n",
      "now training step 890\n",
      "now training step 900\n",
      "now training step 910\n",
      "now training step 920\n",
      "now training step 930\n",
      "now training step 940\n",
      "now training step 950\n",
      "now training step 960\n",
      "now training step 970\n",
      "now training step 980\n",
      "now training step 990\n",
      "now training step 1000\n",
      "now training step 1010\n",
      "now training step 1020\n",
      "now training step 1030\n",
      "now training step 1040\n",
      "now training step 1050\n",
      "now training step 1060\n",
      "now training step 1070\n",
      "now training step 1080\n",
      "now training step 1090\n",
      "now training step 1100\n",
      "now training step 1110\n",
      "now training step 1120\n",
      "now training step 1130\n",
      "now training step 1140\n",
      "now training step 1150\n",
      "now training step 1160\n",
      "now training step 1170\n",
      "now training step 1180\n",
      "now training step 1190\n",
      "now training step 1200\n",
      "now training step 1210\n",
      "now training step 1220\n",
      "now training step 1230\n",
      "now training step 1240\n",
      "now training step 1250\n",
      "now training step 1260\n",
      "now training step 1270\n",
      "now training step 1280\n",
      "now training step 1290\n",
      "now training step 1300\n",
      "now training step 1310\n",
      "now training step 1320\n",
      "now training step 1330\n",
      "now training step 1340\n",
      "now training step 1350\n",
      "now training step 1360\n",
      "now training step 1370\n",
      "now training step 1380\n",
      "now training step 1390\n",
      "now training step 1400\n",
      "now training step 1410\n",
      "now training step 1420\n",
      "now training step 1430\n",
      "now training step 1440\n",
      "now training step 1450\n",
      "now training step 1460\n",
      "now training step 1470\n",
      "now training step 1480\n",
      "now training step 1490\n",
      "now training step 1500\n",
      "now training step 1510\n",
      "now training step 1520\n",
      "now training step 1530\n",
      "now training step 1540\n",
      "now training step 1550\n",
      "now training step 1560\n",
      "now training step 1570\n",
      "now training step 1580\n",
      "now training step 1590\n",
      "now training step 1600\n",
      "now training step 1610\n",
      "now training step 1620\n",
      "now training step 1630\n",
      "now training step 1640\n",
      "now training step 1650\n",
      "now training step 1660\n",
      "now training step 1670\n",
      "now training step 1680\n",
      "now training step 1690\n",
      "now training step 1700\n",
      "now training step 1710\n",
      "now training step 1720\n",
      "now training step 1730\n",
      "now training step 1740\n",
      "now training step 1750\n",
      "now training step 1760\n",
      "now training step 1770\n",
      "now training step 1780\n",
      "now training step 1790\n",
      "now training step 1800\n",
      "now training step 1810\n",
      "now training step 1820\n",
      "now training step 1830\n",
      "now training step 1840\n",
      "now training step 1850\n",
      "now training step 1860\n",
      "now training step 1870\n",
      "now training step 1880\n",
      "now training step 1890\n",
      "now training step 1900\n",
      "now training step 1910\n",
      "now training step 1920\n",
      "now training step 1930\n",
      "now training step 1940\n",
      "now training step 1950\n",
      "now training step 1960\n",
      "now training step 1970\n",
      "now training step 1980\n",
      "now training step 1990\n",
      "now training step 2000\n",
      "now training step 2010\n",
      "now training step 2020\n",
      "now training step 2030\n",
      "now training step 2040\n",
      "now training step 2050\n",
      "now training step 2060\n",
      "now training step 2070\n",
      "now training step 2080\n",
      "now training step 2090\n",
      "now training step 2100\n",
      "now training step 2110\n",
      "now training step 2120\n",
      "now training step 2130\n",
      "now training step 2140\n",
      "now training step 2150\n",
      "now training step 2160\n",
      "now training step 2170\n",
      "now training step 2180\n",
      "now training step 2190\n",
      "now training step 2200\n",
      "now training step 2210\n",
      "now training step 2220\n",
      "now training step 2230\n",
      "now training step 2240\n",
      "now training step 2250\n",
      "now training step 2260\n",
      "now training step 2270\n",
      "now training step 2280\n",
      "now training step 2290\n",
      "now training step 2300\n",
      "now training step 2310\n",
      "now training step 2320\n",
      "now training step 2330\n",
      "now training step 2340\n",
      "now training step 2350\n",
      "now training step 2360\n",
      "now training step 2370\n",
      "now training step 2380\n",
      "now training step 2390\n",
      "now training step 2400\n",
      "now training step 2410\n",
      "now training step 2420\n",
      "now training step 2430\n",
      "now training step 2440\n",
      "now training step 2450\n",
      "now training step 2460\n",
      "now training step 2470\n",
      "now training step 2480\n",
      "now training step 2490\n",
      "now training step 2500\n",
      "now training step 2510\n",
      "now training step 2520\n",
      "now training step 2530\n",
      "now training step 2540\n",
      "now training step 2550\n",
      "now training step 2560\n",
      "now training step 2570\n",
      "now training step 2580\n",
      "now training step 2590\n",
      "now training step 2600\n",
      "now training step 2610\n",
      "now training step 2620\n",
      "now training step 2630\n",
      "now training step 2640\n",
      "now training step 2650\n",
      "now training step 2660\n",
      "now training step 2670\n",
      "now training step 2680\n",
      "now training step 2690\n",
      "now training step 2700\n",
      "now training step 2710\n",
      "now training step 2720\n",
      "now training step 2730\n",
      "now training step 2740\n",
      "now training step 2750\n",
      "now training step 2760\n",
      "now training step 2770\n",
      "now training step 2780\n",
      "now training step 2790\n",
      "now training step 2800\n",
      "now training step 2810\n",
      "now training step 2820\n",
      "now training step 2830\n",
      "now training step 2840\n",
      "now training step 2850\n",
      "now training step 2860\n",
      "now training step 2870\n",
      "now training step 2880\n",
      "now training step 2890\n",
      "now training step 2900\n",
      "now training step 2910\n",
      "now training step 2920\n",
      "now training step 2930\n",
      "now training step 2940\n",
      "now training step 2950\n",
      "now training step 2960\n",
      "now training step 2970\n",
      "now training step 2980\n",
      "now training step 2990\n",
      "now training step 3000\n",
      "now training step 3010\n",
      "now training step 3020\n",
      "now training step 3030\n",
      "now training step 3040\n",
      "now training step 3050\n",
      "now training step 3060\n",
      "now training step 3070\n",
      "now training step 3080\n",
      "now training step 3090\n",
      "now training step 3100\n",
      "now training step 3110\n",
      "now training step 3120\n",
      "now training step 3130\n",
      "now training step 3140\n",
      "now training step 3150\n",
      "now training step 3160\n",
      "now training step 3170\n",
      "now training step 3180\n",
      "now training step 3190\n",
      "now training step 3200\n",
      "now training step 3210\n",
      "now training step 3220\n",
      "now training step 3230\n",
      "now training step 3240\n",
      "now training step 3250\n",
      "now training step 3260\n",
      "now training step 3270\n",
      "now training step 3280\n",
      "now training step 3290\n",
      "now training step 3300\n",
      "now training step 3310\n",
      "now training step 3320\n",
      "now training step 3330\n",
      "now training step 3340\n",
      "now training step 3350\n",
      "now training step 3360\n",
      "now training step 3370\n",
      "now training step 3380\n",
      "now training step 3390\n",
      "now training step 3400\n",
      "now training step 3410\n",
      "now training step 3420\n",
      "now training step 3430\n",
      "now training step 3440\n",
      "now training step 3450\n",
      "now training step 3460\n",
      "now training step 3470\n",
      "now training step 3480\n",
      "now training step 3490\n",
      "now training step 3500\n",
      "now training step 3510\n",
      "now training step 3520\n",
      "now training step 3530\n",
      "now training step 3540\n",
      "now training step 3550\n",
      "now training step 3560\n",
      "now training step 3570\n",
      "now training step 3580\n",
      "now training step 3590\n",
      "now training step 3600\n",
      "now training step 3610\n",
      "now training step 3620\n",
      "now training step 3630\n",
      "now training step 3640\n",
      "now training step 3650\n",
      "now training step 3660\n",
      "now training step 3670\n",
      "now training step 3680\n",
      "now training step 3690\n",
      "now training step 3700\n",
      "now training step 3710\n",
      "now training step 3720\n",
      "now training step 3730\n",
      "now training step 3740\n",
      "now training step 3750\n",
      "now training step 3760\n",
      "now training step 3770\n",
      "now training step 3780\n",
      "now training step 3790\n",
      "now training step 3800\n",
      "now training step 3810\n"
     ]
    },
    {
     "name": "stdout",
     "output_type": "stream",
     "text": [
      "now training step 3820\n",
      "now training step 3830\n",
      "now training step 3840\n",
      "now training step 3850\n",
      "now training step 3860\n",
      "now training step 3870\n",
      "now training step 3880\n",
      "now training step 3890\n",
      "now training step 3900\n",
      "now training step 3910\n",
      "now training step 3920\n",
      "now training step 3930\n",
      "now training step 3940\n",
      "now training step 3950\n",
      "now training step 3960\n",
      "now training step 3970\n",
      "now training step 3980\n",
      "now training step 3990\n",
      "now training step 4000\n",
      "now training step 4010\n",
      "now training step 4020\n",
      "now training step 4030\n",
      "now training step 4040\n",
      "now training step 4050\n",
      "now training step 4060\n",
      "now training step 4070\n",
      "now training step 4080\n",
      "now training step 4090\n",
      "now training step 4100\n",
      "now training step 4110\n",
      "now training step 4120\n",
      "now training step 4130\n",
      "now training step 4140\n",
      "now training step 4150\n",
      "now training step 4160\n",
      "now training step 4170\n",
      "now training step 4180\n",
      "now training step 4190\n",
      "now training step 4200\n",
      "now training step 4210\n",
      "now training step 4220\n",
      "now training step 4230\n",
      "now training step 4240\n",
      "now training step 4250\n",
      "now training step 4260\n",
      "now training step 4270\n",
      "now training step 4280\n",
      "now training step 4290\n",
      "now training step 4300\n",
      "now training step 4310\n",
      "now training step 4320\n",
      "now training step 4330\n",
      "now training step 4340\n",
      "now training step 4350\n",
      "now training step 4360\n",
      "now training step 4370\n",
      "now training step 4380\n",
      "now training step 4390\n",
      "now training step 4400\n",
      "now training step 4410\n",
      "now training step 4420\n",
      "now training step 4430\n",
      "now training step 4440\n",
      "now training step 4450\n",
      "now training step 4460\n",
      "now training step 4470\n",
      "now training step 4480\n",
      "now training step 4490\n",
      "now training step 4500\n",
      "now training step 4510\n",
      "now training step 4520\n",
      "now training step 4530\n",
      "now training step 4540\n",
      "now training step 4550\n",
      "now training step 4560\n",
      "now training step 4570\n",
      "now training step 4580\n",
      "now training step 4590\n",
      "now training step 4600\n",
      "now training step 4610\n",
      "now training step 4620\n",
      "now training step 4630\n",
      "now training step 4640\n",
      "now training step 4650\n",
      "now training step 4660\n",
      "now training step 4670\n",
      "now training step 4680\n",
      "now training step 4690\n",
      "now training step 4700\n",
      "now training step 4710\n",
      "now training step 4720\n",
      "now training step 4730\n",
      "now training step 4740\n",
      "now training step 4750\n",
      "now training step 4760\n",
      "now training step 4770\n",
      "now training step 4780\n",
      "now training step 4790\n",
      "now training step 4800\n",
      "now training step 4810\n",
      "now training step 4820\n",
      "now training step 4830\n",
      "now training step 4840\n",
      "now training step 4850\n",
      "now training step 4860\n",
      "now training step 4870\n",
      "now training step 4880\n",
      "now training step 4890\n",
      "now training step 4900\n",
      "now training step 4910\n",
      "now training step 4920\n",
      "now training step 4930\n",
      "now training step 4940\n",
      "now training step 4950\n",
      "now training step 4960\n",
      "now training step 4970\n",
      "now training step 4980\n",
      "now training step 4990\n",
      "now training step 5000\n",
      "now training step 5010\n",
      "now training step 5020\n",
      "now training step 5030\n",
      "now training step 5040\n",
      "now training step 5050\n",
      "now training step 5060\n",
      "now training step 5070\n",
      "now training step 5080\n",
      "now training step 5090\n",
      "now training step 5100\n",
      "now training step 5110\n",
      "now training step 5120\n",
      "now training step 5130\n",
      "now training step 5140\n",
      "now training step 5150\n",
      "now training step 5160\n",
      "now training step 5170\n",
      "now training step 5180\n",
      "now training step 5190\n",
      "now training step 5200\n",
      "now training step 5210\n",
      "now training step 5220\n",
      "now training step 5230\n",
      "now training step 5240\n",
      "now training step 5250\n",
      "now training step 5260\n",
      "now training step 5270\n",
      "now training step 5280\n",
      "now training step 5290\n",
      "now training step 5300\n",
      "now training step 5310\n",
      "now training step 5320\n",
      "now training step 5330\n",
      "now training step 5340\n",
      "now training step 5350\n",
      "now training step 5360\n",
      "now training step 5370\n",
      "now training step 5380\n",
      "now training step 5390\n",
      "now training step 5400\n",
      "now training step 5410\n",
      "now training step 5420\n",
      "now training step 5430\n",
      "now training step 5440\n",
      "now training step 5450\n",
      "now training step 5460\n",
      "now training step 5470\n",
      "now training step 5480\n",
      "now training step 5490\n",
      "now training step 5500\n",
      "now training step 5510\n",
      "now training step 5520\n",
      "now training step 5530\n",
      "now training step 5540\n",
      "now training step 5550\n",
      "now training step 5560\n",
      "now training step 5570\n",
      "now training step 5580\n",
      "now training step 5590\n",
      "now training step 5600\n",
      "now training step 5610\n",
      "now training step 5620\n",
      "now training step 5630\n",
      "now training step 5640\n",
      "now training step 5650\n",
      "now training step 5660\n",
      "now training step 5670\n",
      "now training step 5680\n",
      "now training step 5690\n",
      "now training step 5700\n",
      "now training step 5710\n",
      "now training step 5720\n",
      "now training step 5730\n",
      "now training step 5740\n",
      "now training step 5750\n",
      "now training step 5760\n",
      "now training step 5770\n",
      "now training step 5780\n",
      "now training step 5790\n",
      "now training step 5800\n",
      "now training step 5810\n",
      "now training step 5820\n",
      "now training step 5830\n",
      "now training step 5840\n",
      "now training step 5850\n",
      "now training step 5860\n",
      "now training step 5870\n",
      "now training step 5880\n",
      "now training step 5890\n",
      "now training step 5900\n",
      "now training step 5910\n",
      "now training step 5920\n",
      "now training step 5930\n",
      "now training step 5940\n",
      "now training step 5950\n",
      "now training step 5960\n",
      "now training step 5970\n",
      "now training step 5980\n",
      "now training step 5990\n",
      "now training step 6000\n",
      "now training step 6010\n",
      "now training step 6020\n",
      "now training step 6030\n",
      "now training step 6040\n",
      "now training step 6050\n",
      "now training step 6060\n",
      "now training step 6070\n",
      "now training step 6080\n",
      "now training step 6090\n",
      "now training step 6100\n",
      "now training step 6110\n",
      "now training step 6120\n",
      "now training step 6130\n",
      "now training step 6140\n",
      "now training step 6150\n",
      "now training step 6160\n",
      "now training step 6170\n",
      "now training step 6180\n",
      "now training step 6190\n",
      "now training step 6200\n",
      "now training step 6210\n",
      "now training step 6220\n",
      "now training step 6230\n",
      "now training step 6240\n",
      "now training step 6250\n",
      "now training step 6260\n",
      "now training step 6270\n",
      "now training step 6280\n",
      "now training step 6290\n",
      "now training step 6300\n",
      "now training step 6310\n",
      "now training step 6320\n",
      "now training step 6330\n",
      "now training step 6340\n",
      "now training step 6350\n",
      "now training step 6360\n",
      "now training step 6370\n",
      "now training step 6380\n",
      "now training step 6390\n",
      "now training step 6400\n",
      "now training step 6410\n",
      "now training step 6420\n",
      "now training step 6430\n",
      "now training step 6440\n",
      "now training step 6450\n",
      "now training step 6460\n",
      "now training step 6470\n",
      "now training step 6480\n",
      "now training step 6490\n",
      "now training step 6500\n",
      "now training step 6510\n",
      "now training step 6520\n",
      "now training step 6530\n",
      "now training step 6540\n",
      "now training step 6550\n",
      "now training step 6560\n",
      "now training step 6570\n",
      "now training step 6580\n",
      "now training step 6590\n",
      "now training step 6600\n",
      "now training step 6610\n",
      "now training step 6620\n",
      "now training step 6630\n",
      "now training step 6640\n",
      "now training step 6650\n",
      "now training step 6660\n",
      "now training step 6670\n",
      "now training step 6680\n",
      "now training step 6690\n",
      "now training step 6700\n",
      "now training step 6710\n",
      "now training step 6720\n",
      "now training step 6730\n",
      "now training step 6740\n",
      "now training step 6750\n",
      "now training step 6760\n",
      "now training step 6770\n",
      "now training step 6780\n",
      "now training step 6790\n",
      "now training step 6800\n",
      "now training step 6810\n",
      "now training step 6820\n",
      "now training step 6830\n",
      "now training step 6840\n",
      "now training step 6850\n",
      "now training step 6860\n",
      "now training step 6870\n",
      "now training step 6880\n",
      "now training step 6890\n",
      "now training step 6900\n",
      "now training step 6910\n",
      "now training step 6920\n",
      "now training step 6930\n",
      "now training step 6940\n",
      "now training step 6950\n",
      "now training step 6960\n",
      "now training step 6970\n",
      "now training step 6980\n",
      "now training step 6990\n",
      "now training step 7000\n",
      "now training step 7010\n",
      "now training step 7020\n",
      "now training step 7030\n",
      "now training step 7040\n",
      "now training step 7050\n",
      "now training step 7060\n",
      "now training step 7070\n",
      "now training step 7080\n",
      "now training step 7090\n",
      "now training step 7100\n",
      "now training step 7110\n",
      "now training step 7120\n",
      "now training step 7130\n",
      "now training step 7140\n",
      "now training step 7150\n",
      "now training step 7160\n",
      "now training step 7170\n",
      "now training step 7180\n",
      "now training step 7190\n",
      "now training step 7200\n",
      "now training step 7210\n",
      "now training step 7220\n",
      "now training step 7230\n",
      "now training step 7240\n",
      "now training step 7250\n",
      "now training step 7260\n",
      "now training step 7270\n",
      "now training step 7280\n",
      "now training step 7290\n",
      "now training step 7300\n",
      "now training step 7310\n",
      "now training step 7320\n",
      "now training step 7330\n",
      "now training step 7340\n",
      "now training step 7350\n",
      "now training step 7360\n",
      "now training step 7370\n"
     ]
    }
   ],
   "source": [
    "evaluations=evaluate(RNet,batch_size,dataset_eval)"
   ]
  },
  {
   "cell_type": "code",
   "execution_count": 121,
   "id": "b490499d",
   "metadata": {},
   "outputs": [
    {
     "data": {
      "text/plain": [
       "[0, 0, 0, 0, 0]"
      ]
     },
     "execution_count": 121,
     "metadata": {},
     "output_type": "execute_result"
    }
   ],
   "source": [
    "evaluations[:5]"
   ]
  },
  {
   "cell_type": "code",
   "execution_count": 122,
   "id": "a8fed4c8",
   "metadata": {},
   "outputs": [],
   "source": [
    "with open(\"my_predictions.txt\", 'w',newline='') as f:\n",
    "    writer = csv.writer(f)\n",
    "    writer.writerow([\"TweetID\", \"retweets_count\"])\n",
    "    for index, prediction in enumerate(evaluations):\n",
    "        writer.writerow([str(X_eval['TweetID'].iloc[index]) , str(int(prediction))])"
   ]
  },
  {
   "cell_type": "code",
   "execution_count": null,
   "id": "132a19be",
   "metadata": {},
   "outputs": [],
   "source": []
  }
 ],
 "metadata": {
  "kernelspec": {
   "display_name": "Python 3 (ipykernel)",
   "language": "python",
   "name": "python3"
  },
  "language_info": {
   "codemirror_mode": {
    "name": "ipython",
    "version": 3
   },
   "file_extension": ".py",
   "mimetype": "text/x-python",
   "name": "python",
   "nbconvert_exporter": "python",
   "pygments_lexer": "ipython3",
   "version": "3.8.0"
  }
 },
 "nbformat": 4,
 "nbformat_minor": 5
}
