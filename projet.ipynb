{
 "cells": [
  {
   "cell_type": "code",
   "execution_count": null,
   "id": "f018519c",
   "metadata": {},
   "outputs": [],
   "source": [
    "# 思路：把数据分成两部分，一部分只有数字变量，一部分是text\n",
    "# 分别进行embedding化成向量后在训练的途中结合在一起，最后求出回归的值"
   ]
  },
  {
   "cell_type": "code",
   "execution_count": null,
   "id": "7d0ed507",
   "metadata": {},
   "outputs": [],
   "source": [
    "# Training process"
   ]
  },
  {
   "cell_type": "code",
   "execution_count": 47,
   "id": "a06bcb0c",
   "metadata": {},
   "outputs": [],
   "source": [
    "import csv\n",
    "import numpy as np\n",
    "import pandas as pd\n",
    "from sklearn.ensemble import GradientBoostingRegressor\n",
    "from sklearn.dummy import DummyRegressor\n",
    "from sklearn.feature_extraction.text import TfidfVectorizer\n",
    "from sklearn.metrics import mean_absolute_error\n",
    "from sklearn.linear_model import Lasso\n",
    "from sklearn.ensemble import RandomForestRegressor\n",
    "from sklearn.neighbors import KNeighborsRegressor\n",
    "from sklearn.svm import SVR\n",
    "\n",
    "\n",
    "from verstack.stratified_continuous_split import scsplit # pip install verstack\n",
    "from nltk.corpus import stopwords \n",
    "\n",
    "import torch\n",
    "import torch.nn.functional as F\n",
    "\n",
    "from scipy import spatial\n",
    "import matplotlib.pyplot as plt\n",
    "from sklearn.manifold import TSNE\n",
    "\n",
    "import os\n",
    "import gensim\n",
    "from gensim.models.doc2vec import Doc2Vec\n",
    "import warnings\n",
    "warnings.filterwarnings(action='ignore', category=UserWarning, module='gensim')"
   ]
  },
  {
   "cell_type": "code",
   "execution_count": 2,
   "id": "6a9a4207",
   "metadata": {},
   "outputs": [
    {
     "data": {
      "text/html": [
       "<div>\n",
       "<style scoped>\n",
       "    .dataframe tbody tr th:only-of-type {\n",
       "        vertical-align: middle;\n",
       "    }\n",
       "\n",
       "    .dataframe tbody tr th {\n",
       "        vertical-align: top;\n",
       "    }\n",
       "\n",
       "    .dataframe thead th {\n",
       "        text-align: right;\n",
       "    }\n",
       "</style>\n",
       "<table border=\"1\" class=\"dataframe\">\n",
       "  <thead>\n",
       "    <tr style=\"text-align: right;\">\n",
       "      <th></th>\n",
       "      <th>text</th>\n",
       "      <th>retweets_count</th>\n",
       "      <th>favorites_count</th>\n",
       "      <th>followers_count</th>\n",
       "      <th>statuses_count</th>\n",
       "      <th>friends_count</th>\n",
       "      <th>mentions</th>\n",
       "      <th>urls</th>\n",
       "      <th>verified</th>\n",
       "      <th>hashtags</th>\n",
       "      <th>timestamp</th>\n",
       "      <th>TweetID</th>\n",
       "    </tr>\n",
       "  </thead>\n",
       "  <tbody>\n",
       "    <tr>\n",
       "      <th>0</th>\n",
       "      <td>rt refarcir macron ans nom prépare</td>\n",
       "      <td>3</td>\n",
       "      <td>0</td>\n",
       "      <td>3682</td>\n",
       "      <td>453535</td>\n",
       "      <td>3628</td>\n",
       "      <td>[]</td>\n",
       "      <td>[]</td>\n",
       "      <td>0</td>\n",
       "      <td>[]</td>\n",
       "      <td>1646978048000</td>\n",
       "      <td>832509</td>\n",
       "    </tr>\n",
       "    <tr>\n",
       "      <th>1</th>\n",
       "      <td>populaire</td>\n",
       "      <td>0</td>\n",
       "      <td>0</td>\n",
       "      <td>86</td>\n",
       "      <td>1016</td>\n",
       "      <td>284</td>\n",
       "      <td>[]</td>\n",
       "      <td>[]</td>\n",
       "      <td>0</td>\n",
       "      <td>[]</td>\n",
       "      <td>1647694288000</td>\n",
       "      <td>1388011</td>\n",
       "    </tr>\n",
       "    <tr>\n",
       "      <th>2</th>\n",
       "      <td>faut dégager cinglé</td>\n",
       "      <td>3</td>\n",
       "      <td>1</td>\n",
       "      <td>1944</td>\n",
       "      <td>28234</td>\n",
       "      <td>1995</td>\n",
       "      <td>[]</td>\n",
       "      <td>[]</td>\n",
       "      <td>0</td>\n",
       "      <td>[]</td>\n",
       "      <td>1647370048000</td>\n",
       "      <td>63896</td>\n",
       "    </tr>\n",
       "    <tr>\n",
       "      <th>3</th>\n",
       "      <td>enseignants mettre prescriptions président rép...</td>\n",
       "      <td>0</td>\n",
       "      <td>0</td>\n",
       "      <td>1</td>\n",
       "      <td>1072</td>\n",
       "      <td>0</td>\n",
       "      <td>[]</td>\n",
       "      <td>['https://t.co/rytlted08g']</td>\n",
       "      <td>0</td>\n",
       "      <td>[]</td>\n",
       "      <td>1647256282000</td>\n",
       "      <td>979251</td>\n",
       "    </tr>\n",
       "    <tr>\n",
       "      <th>4</th>\n",
       "      <td>mafieuse oppressive macron</td>\n",
       "      <td>0</td>\n",
       "      <td>0</td>\n",
       "      <td>13957</td>\n",
       "      <td>25311</td>\n",
       "      <td>10841</td>\n",
       "      <td>[]</td>\n",
       "      <td>[]</td>\n",
       "      <td>0</td>\n",
       "      <td>[]</td>\n",
       "      <td>1647258374000</td>\n",
       "      <td>1040049</td>\n",
       "    </tr>\n",
       "  </tbody>\n",
       "</table>\n",
       "</div>"
      ],
      "text/plain": [
       "                                                text  retweets_count  \\\n",
       "0                 rt refarcir macron ans nom prépare               3   \n",
       "1                                          populaire               0   \n",
       "2                                faut dégager cinglé               3   \n",
       "3  enseignants mettre prescriptions président rép...               0   \n",
       "4                         mafieuse oppressive macron               0   \n",
       "\n",
       "   favorites_count  followers_count  statuses_count  friends_count mentions  \\\n",
       "0                0             3682          453535           3628       []   \n",
       "1                0               86            1016            284       []   \n",
       "2                1             1944           28234           1995       []   \n",
       "3                0                1            1072              0       []   \n",
       "4                0            13957           25311          10841       []   \n",
       "\n",
       "                          urls  verified hashtags      timestamp  TweetID  \n",
       "0                           []         0       []  1646978048000   832509  \n",
       "1                           []         0       []  1647694288000  1388011  \n",
       "2                           []         0       []  1647370048000    63896  \n",
       "3  ['https://t.co/rytlted08g']         0       []  1647256282000   979251  \n",
       "4                           []         0       []  1647258374000  1040049  "
      ]
     },
     "execution_count": 2,
     "metadata": {},
     "output_type": "execute_result"
    }
   ],
   "source": [
    "# Load the training data\n",
    "train_data = pd.read_csv(\"data/train.csv\")\n",
    "train_data.head()"
   ]
  },
  {
   "cell_type": "code",
   "execution_count": 3,
   "id": "953789ef",
   "metadata": {},
   "outputs": [],
   "source": [
    "# Here we split our training data into trainig and testing set. This way we can estimate the evaluation of our model without uploading to Kaggle and avoid overfitting over our evaluation dataset.\n",
    "# scsplit method is used in order to split our regression data in a stratisfied way and keep a similar distribution of retweet counts between the two sets\n",
    "X_train, X_test, y_train, y_test = scsplit(train_data, train_data['retweets_count'], stratify=train_data['retweets_count'], train_size=0.7, test_size=0.3)\n",
    "\n",
    "# We remove the actual number of retweets from our features since it is the value that we are trying to predict\n",
    "X_train = X_train.drop([\"retweets_count\",\"TweetID\"], axis=1)\n",
    "X_test = X_test.drop([\"retweets_count\",\"TweetID\"], axis=1)"
   ]
  },
  {
   "cell_type": "code",
   "execution_count": 4,
   "id": "40419d5a",
   "metadata": {},
   "outputs": [
    {
     "data": {
      "text/html": [
       "<div>\n",
       "<style scoped>\n",
       "    .dataframe tbody tr th:only-of-type {\n",
       "        vertical-align: middle;\n",
       "    }\n",
       "\n",
       "    .dataframe tbody tr th {\n",
       "        vertical-align: top;\n",
       "    }\n",
       "\n",
       "    .dataframe thead th {\n",
       "        text-align: right;\n",
       "    }\n",
       "</style>\n",
       "<table border=\"1\" class=\"dataframe\">\n",
       "  <thead>\n",
       "    <tr style=\"text-align: right;\">\n",
       "      <th></th>\n",
       "      <th>text</th>\n",
       "      <th>favorites_count</th>\n",
       "      <th>followers_count</th>\n",
       "      <th>statuses_count</th>\n",
       "      <th>friends_count</th>\n",
       "      <th>mentions</th>\n",
       "      <th>urls</th>\n",
       "      <th>verified</th>\n",
       "      <th>hashtags</th>\n",
       "      <th>timestamp</th>\n",
       "    </tr>\n",
       "  </thead>\n",
       "  <tbody>\n",
       "    <tr>\n",
       "      <th>248361</th>\n",
       "      <td>fond pouvaient passer tour réduirait risques c...</td>\n",
       "      <td>0</td>\n",
       "      <td>430</td>\n",
       "      <td>33796</td>\n",
       "      <td>528</td>\n",
       "      <td>[]</td>\n",
       "      <td>['https://t.co/djoxyewgdp']</td>\n",
       "      <td>0</td>\n",
       "      <td>[]</td>\n",
       "      <td>1647628404000</td>\n",
       "    </tr>\n",
       "    <tr>\n",
       "      <th>74899</th>\n",
       "      <td>rt mme pen intéressée élysée sauver rente élec...</td>\n",
       "      <td>0</td>\n",
       "      <td>281</td>\n",
       "      <td>4472</td>\n",
       "      <td>600</td>\n",
       "      <td>[]</td>\n",
       "      <td>[]</td>\n",
       "      <td>0</td>\n",
       "      <td>[]</td>\n",
       "      <td>1647198793000</td>\n",
       "    </tr>\n",
       "    <tr>\n",
       "      <th>122170</th>\n",
       "      <td>grand charles</td>\n",
       "      <td>0</td>\n",
       "      <td>483</td>\n",
       "      <td>6222</td>\n",
       "      <td>596</td>\n",
       "      <td>[]</td>\n",
       "      <td>[]</td>\n",
       "      <td>0</td>\n",
       "      <td>[]</td>\n",
       "      <td>1647406518000</td>\n",
       "    </tr>\n",
       "    <tr>\n",
       "      <th>261409</th>\n",
       "      <td>voit devient dangereux inquiétez ira réfugier ...</td>\n",
       "      <td>0</td>\n",
       "      <td>4027</td>\n",
       "      <td>210391</td>\n",
       "      <td>5000</td>\n",
       "      <td>[]</td>\n",
       "      <td>['https://t.co/19y52owwdy']</td>\n",
       "      <td>0</td>\n",
       "      <td>[]</td>\n",
       "      <td>1647024850000</td>\n",
       "    </tr>\n",
       "    <tr>\n",
       "      <th>45640</th>\n",
       "      <td>rt amateurisme sécurité veux protéger français...</td>\n",
       "      <td>0</td>\n",
       "      <td>872</td>\n",
       "      <td>13790</td>\n",
       "      <td>1243</td>\n",
       "      <td>[]</td>\n",
       "      <td>[]</td>\n",
       "      <td>0</td>\n",
       "      <td>[]</td>\n",
       "      <td>1647124135000</td>\n",
       "    </tr>\n",
       "  </tbody>\n",
       "</table>\n",
       "</div>"
      ],
      "text/plain": [
       "                                                     text  favorites_count  \\\n",
       "248361  fond pouvaient passer tour réduirait risques c...                0   \n",
       "74899   rt mme pen intéressée élysée sauver rente élec...                0   \n",
       "122170                                      grand charles                0   \n",
       "261409  voit devient dangereux inquiétez ira réfugier ...                0   \n",
       "45640   rt amateurisme sécurité veux protéger français...                0   \n",
       "\n",
       "        followers_count  statuses_count  friends_count mentions  \\\n",
       "248361              430           33796            528       []   \n",
       "74899               281            4472            600       []   \n",
       "122170              483            6222            596       []   \n",
       "261409             4027          210391           5000       []   \n",
       "45640               872           13790           1243       []   \n",
       "\n",
       "                               urls  verified hashtags      timestamp  \n",
       "248361  ['https://t.co/djoxyewgdp']         0       []  1647628404000  \n",
       "74899                            []         0       []  1647198793000  \n",
       "122170                           []         0       []  1647406518000  \n",
       "261409  ['https://t.co/19y52owwdy']         0       []  1647024850000  \n",
       "45640                            []         0       []  1647124135000  "
      ]
     },
     "execution_count": 4,
     "metadata": {},
     "output_type": "execute_result"
    }
   ],
   "source": [
    "X_train.head()"
   ]
  },
  {
   "cell_type": "code",
   "execution_count": 5,
   "id": "0baf1318",
   "metadata": {},
   "outputs": [],
   "source": [
    "# replace the columns of [\"mentions\",\"urls\",\"hashtags\"] by the number of their elements\n",
    "def count_item(str_):\n",
    "    str_=str_[1:-1]\n",
    "    if (len(str_)==0):\n",
    "        return 0\n",
    "    list_str_=str_.split(\",\")\n",
    "    return len(list_str_)"
   ]
  },
  {
   "cell_type": "code",
   "execution_count": 6,
   "id": "860813b2",
   "metadata": {},
   "outputs": [],
   "source": [
    "def count_num(data,list_column):\n",
    "    for name_column in list_column:\n",
    "        data[name_column]=[count_item(content) for content in data[name_column]]"
   ]
  },
  {
   "cell_type": "code",
   "execution_count": 7,
   "id": "f282c54c",
   "metadata": {},
   "outputs": [],
   "source": [
    "count_num(X_train,[\"mentions\",\"urls\",\"hashtags\"])\n",
    "count_num(X_test,[\"mentions\",\"urls\",\"hashtags\"])"
   ]
  },
  {
   "cell_type": "code",
   "execution_count": 8,
   "id": "c9a0e2de",
   "metadata": {},
   "outputs": [
    {
     "data": {
      "text/html": [
       "<div>\n",
       "<style scoped>\n",
       "    .dataframe tbody tr th:only-of-type {\n",
       "        vertical-align: middle;\n",
       "    }\n",
       "\n",
       "    .dataframe tbody tr th {\n",
       "        vertical-align: top;\n",
       "    }\n",
       "\n",
       "    .dataframe thead th {\n",
       "        text-align: right;\n",
       "    }\n",
       "</style>\n",
       "<table border=\"1\" class=\"dataframe\">\n",
       "  <thead>\n",
       "    <tr style=\"text-align: right;\">\n",
       "      <th></th>\n",
       "      <th>text</th>\n",
       "      <th>favorites_count</th>\n",
       "      <th>followers_count</th>\n",
       "      <th>statuses_count</th>\n",
       "      <th>friends_count</th>\n",
       "      <th>mentions</th>\n",
       "      <th>urls</th>\n",
       "      <th>verified</th>\n",
       "      <th>hashtags</th>\n",
       "      <th>timestamp</th>\n",
       "    </tr>\n",
       "  </thead>\n",
       "  <tbody>\n",
       "    <tr>\n",
       "      <th>248361</th>\n",
       "      <td>fond pouvaient passer tour réduirait risques c...</td>\n",
       "      <td>0</td>\n",
       "      <td>430</td>\n",
       "      <td>33796</td>\n",
       "      <td>528</td>\n",
       "      <td>0</td>\n",
       "      <td>1</td>\n",
       "      <td>0</td>\n",
       "      <td>0</td>\n",
       "      <td>1647628404000</td>\n",
       "    </tr>\n",
       "    <tr>\n",
       "      <th>74899</th>\n",
       "      <td>rt mme pen intéressée élysée sauver rente élec...</td>\n",
       "      <td>0</td>\n",
       "      <td>281</td>\n",
       "      <td>4472</td>\n",
       "      <td>600</td>\n",
       "      <td>0</td>\n",
       "      <td>0</td>\n",
       "      <td>0</td>\n",
       "      <td>0</td>\n",
       "      <td>1647198793000</td>\n",
       "    </tr>\n",
       "    <tr>\n",
       "      <th>122170</th>\n",
       "      <td>grand charles</td>\n",
       "      <td>0</td>\n",
       "      <td>483</td>\n",
       "      <td>6222</td>\n",
       "      <td>596</td>\n",
       "      <td>0</td>\n",
       "      <td>0</td>\n",
       "      <td>0</td>\n",
       "      <td>0</td>\n",
       "      <td>1647406518000</td>\n",
       "    </tr>\n",
       "    <tr>\n",
       "      <th>261409</th>\n",
       "      <td>voit devient dangereux inquiétez ira réfugier ...</td>\n",
       "      <td>0</td>\n",
       "      <td>4027</td>\n",
       "      <td>210391</td>\n",
       "      <td>5000</td>\n",
       "      <td>0</td>\n",
       "      <td>1</td>\n",
       "      <td>0</td>\n",
       "      <td>0</td>\n",
       "      <td>1647024850000</td>\n",
       "    </tr>\n",
       "    <tr>\n",
       "      <th>45640</th>\n",
       "      <td>rt amateurisme sécurité veux protéger français...</td>\n",
       "      <td>0</td>\n",
       "      <td>872</td>\n",
       "      <td>13790</td>\n",
       "      <td>1243</td>\n",
       "      <td>0</td>\n",
       "      <td>0</td>\n",
       "      <td>0</td>\n",
       "      <td>0</td>\n",
       "      <td>1647124135000</td>\n",
       "    </tr>\n",
       "  </tbody>\n",
       "</table>\n",
       "</div>"
      ],
      "text/plain": [
       "                                                     text  favorites_count  \\\n",
       "248361  fond pouvaient passer tour réduirait risques c...                0   \n",
       "74899   rt mme pen intéressée élysée sauver rente élec...                0   \n",
       "122170                                      grand charles                0   \n",
       "261409  voit devient dangereux inquiétez ira réfugier ...                0   \n",
       "45640   rt amateurisme sécurité veux protéger français...                0   \n",
       "\n",
       "        followers_count  statuses_count  friends_count  mentions  urls  \\\n",
       "248361              430           33796            528         0     1   \n",
       "74899               281            4472            600         0     0   \n",
       "122170              483            6222            596         0     0   \n",
       "261409             4027          210391           5000         0     1   \n",
       "45640               872           13790           1243         0     0   \n",
       "\n",
       "        verified  hashtags      timestamp  \n",
       "248361         0         0  1647628404000  \n",
       "74899          0         0  1647198793000  \n",
       "122170         0         0  1647406518000  \n",
       "261409         0         0  1647024850000  \n",
       "45640          0         0  1647124135000  "
      ]
     },
     "execution_count": 8,
     "metadata": {},
     "output_type": "execute_result"
    }
   ],
   "source": [
    "X_train.head()"
   ]
  },
  {
   "cell_type": "code",
   "execution_count": 12,
   "id": "320de118",
   "metadata": {},
   "outputs": [
    {
     "data": {
      "image/png": "[encoded data removed]",
      "text/plain": [
       "<Figure size 640x480 with 1 Axes>"
      ]
     },
     "metadata": {},
     "output_type": "display_data"
    }
   ],
   "source": [
    "np.log10(X_train['followers_count']).plot.hist(bins=50,range=[0,10])\n",
    "plt.tick_params(labelsize=15)\n",
    "plt.title('folloers distribution', fontsize=17)\n",
    "plt.show()"
   ]
  },
  {
   "cell_type": "code",
   "execution_count": 13,
   "id": "f67b6df4",
   "metadata": {},
   "outputs": [
    {
     "data": {
      "image/png": "[encoded data removed]",
      "text/plain": [
       "<Figure size 640x480 with 1 Axes>"
      ]
     },
     "metadata": {},
     "output_type": "display_data"
    }
   ],
   "source": [
    "np.log10(X_train['friends_count']).plot.hist(bins=50,range=[0,10])\n",
    "plt.tick_params(labelsize=15)\n",
    "plt.title('friends distribution', fontsize=17)\n",
    "plt.show()"
   ]
  },
  {
   "cell_type": "code",
   "execution_count": 14,
   "id": "53f38086",
   "metadata": {},
   "outputs": [],
   "source": [
    "# standardise the columns of numeric values\n",
    "def standardise(data,list_column):\n",
    "    for name_column in list_column:\n",
    "        if data[name_column].std()!=0:\n",
    "            data[name_column]=(data[name_column]-data[name_column].mean())/data[name_column].std()\n",
    "        else:\n",
    "            data[name_column]=(data[name_column]-data[name_column].mean())"
   ]
  },
  {
   "cell_type": "code",
   "execution_count": 15,
   "id": "70331046",
   "metadata": {},
   "outputs": [],
   "source": [
    "standardise(X_train,[\"favorites_count\",\"followers_count\",\"statuses_count\",\"friends_count\",\"mentions\",\"urls\",\"verified\",\"hashtags\",\"timestamp\"])\n",
    "standardise(X_test,[\"favorites_count\",\"followers_count\",\"statuses_count\",\"friends_count\",\"mentions\",\"urls\",\"verified\",\"hashtags\",\"timestamp\"])"
   ]
  },
  {
   "cell_type": "code",
   "execution_count": 16,
   "id": "d99a2a77",
   "metadata": {},
   "outputs": [
    {
     "data": {
      "text/html": [
       "<div>\n",
       "<style scoped>\n",
       "    .dataframe tbody tr th:only-of-type {\n",
       "        vertical-align: middle;\n",
       "    }\n",
       "\n",
       "    .dataframe tbody tr th {\n",
       "        vertical-align: top;\n",
       "    }\n",
       "\n",
       "    .dataframe thead th {\n",
       "        text-align: right;\n",
       "    }\n",
       "</style>\n",
       "<table border=\"1\" class=\"dataframe\">\n",
       "  <thead>\n",
       "    <tr style=\"text-align: right;\">\n",
       "      <th></th>\n",
       "      <th>text</th>\n",
       "      <th>favorites_count</th>\n",
       "      <th>followers_count</th>\n",
       "      <th>statuses_count</th>\n",
       "      <th>friends_count</th>\n",
       "      <th>mentions</th>\n",
       "      <th>urls</th>\n",
       "      <th>verified</th>\n",
       "      <th>hashtags</th>\n",
       "      <th>timestamp</th>\n",
       "    </tr>\n",
       "  </thead>\n",
       "  <tbody>\n",
       "    <tr>\n",
       "      <th>189606</th>\n",
       "      <td>article constitution procédé nouvelle dissolut...</td>\n",
       "      <td>-0.055739</td>\n",
       "      <td>-0.065147</td>\n",
       "      <td>1.901790</td>\n",
       "      <td>-0.476549</td>\n",
       "      <td>0.0</td>\n",
       "      <td>0.925575</td>\n",
       "      <td>-0.175443</td>\n",
       "      <td>-0.384052</td>\n",
       "      <td>0.086927</td>\n",
       "    </tr>\n",
       "    <tr>\n",
       "      <th>213943</th>\n",
       "      <td>faire confiance tyrans pareil</td>\n",
       "      <td>-0.050964</td>\n",
       "      <td>-0.075350</td>\n",
       "      <td>-0.414226</td>\n",
       "      <td>0.691358</td>\n",
       "      <td>0.0</td>\n",
       "      <td>-1.034808</td>\n",
       "      <td>-0.175443</td>\n",
       "      <td>3.480158</td>\n",
       "      <td>0.056251</td>\n",
       "    </tr>\n",
       "    <tr>\n",
       "      <th>163776</th>\n",
       "      <td>tweet pue gauche pourtant jsuis</td>\n",
       "      <td>-0.055739</td>\n",
       "      <td>-0.078332</td>\n",
       "      <td>-0.422332</td>\n",
       "      <td>-0.512745</td>\n",
       "      <td>0.0</td>\n",
       "      <td>-1.034808</td>\n",
       "      <td>-0.175443</td>\n",
       "      <td>-0.384052</td>\n",
       "      <td>0.142391</td>\n",
       "    </tr>\n",
       "    <tr>\n",
       "      <th>49651</th>\n",
       "      <td>rt partie</td>\n",
       "      <td>-0.055739</td>\n",
       "      <td>-0.062549</td>\n",
       "      <td>5.617279</td>\n",
       "      <td>1.419288</td>\n",
       "      <td>0.0</td>\n",
       "      <td>-1.034808</td>\n",
       "      <td>-0.175443</td>\n",
       "      <td>-0.384052</td>\n",
       "      <td>0.140013</td>\n",
       "    </tr>\n",
       "    <tr>\n",
       "      <th>163469</th>\n",
       "      <td>rt essentiel question vote blanc consiste élec...</td>\n",
       "      <td>-0.055739</td>\n",
       "      <td>-0.071335</td>\n",
       "      <td>1.490695</td>\n",
       "      <td>0.393348</td>\n",
       "      <td>0.0</td>\n",
       "      <td>-1.034808</td>\n",
       "      <td>-0.175443</td>\n",
       "      <td>-0.384052</td>\n",
       "      <td>0.122947</td>\n",
       "    </tr>\n",
       "  </tbody>\n",
       "</table>\n",
       "</div>"
      ],
      "text/plain": [
       "                                                     text  favorites_count  \\\n",
       "189606  article constitution procédé nouvelle dissolut...        -0.055739   \n",
       "213943                      faire confiance tyrans pareil        -0.050964   \n",
       "163776                    tweet pue gauche pourtant jsuis        -0.055739   \n",
       "49651                                           rt partie        -0.055739   \n",
       "163469  rt essentiel question vote blanc consiste élec...        -0.055739   \n",
       "\n",
       "        followers_count  statuses_count  friends_count  mentions      urls  \\\n",
       "189606        -0.065147        1.901790      -0.476549       0.0  0.925575   \n",
       "213943        -0.075350       -0.414226       0.691358       0.0 -1.034808   \n",
       "163776        -0.078332       -0.422332      -0.512745       0.0 -1.034808   \n",
       "49651         -0.062549        5.617279       1.419288       0.0 -1.034808   \n",
       "163469        -0.071335        1.490695       0.393348       0.0 -1.034808   \n",
       "\n",
       "        verified  hashtags  timestamp  \n",
       "189606 -0.175443 -0.384052   0.086927  \n",
       "213943 -0.175443  3.480158   0.056251  \n",
       "163776 -0.175443 -0.384052   0.142391  \n",
       "49651  -0.175443 -0.384052   0.140013  \n",
       "163469 -0.175443 -0.384052   0.122947  "
      ]
     },
     "execution_count": 16,
     "metadata": {},
     "output_type": "execute_result"
    }
   ],
   "source": [
    "X_test.head()"
   ]
  },
  {
   "cell_type": "code",
   "execution_count": null,
   "id": "650c6a6b",
   "metadata": {},
   "outputs": [],
   "source": [
    "# split the table into 2 parts: one with the text and the other with the numbers"
   ]
  },
  {
   "cell_type": "code",
   "execution_count": 17,
   "id": "b55868ce",
   "metadata": {},
   "outputs": [
    {
     "data": {
      "text/html": [
       "<div>\n",
       "<style scoped>\n",
       "    .dataframe tbody tr th:only-of-type {\n",
       "        vertical-align: middle;\n",
       "    }\n",
       "\n",
       "    .dataframe tbody tr th {\n",
       "        vertical-align: top;\n",
       "    }\n",
       "\n",
       "    .dataframe thead th {\n",
       "        text-align: right;\n",
       "    }\n",
       "</style>\n",
       "<table border=\"1\" class=\"dataframe\">\n",
       "  <thead>\n",
       "    <tr style=\"text-align: right;\">\n",
       "      <th></th>\n",
       "      <th>favorites_count</th>\n",
       "      <th>followers_count</th>\n",
       "      <th>statuses_count</th>\n",
       "      <th>friends_count</th>\n",
       "      <th>mentions</th>\n",
       "      <th>urls</th>\n",
       "      <th>verified</th>\n",
       "      <th>hashtags</th>\n",
       "      <th>timestamp</th>\n",
       "    </tr>\n",
       "  </thead>\n",
       "  <tbody>\n",
       "    <tr>\n",
       "      <th>248361</th>\n",
       "      <td>-0.054351</td>\n",
       "      <td>-0.075666</td>\n",
       "      <td>-0.126647</td>\n",
       "      <td>-0.371440</td>\n",
       "      <td>0.0</td>\n",
       "      <td>0.923061</td>\n",
       "      <td>-0.176066</td>\n",
       "      <td>-0.384336</td>\n",
       "      <td>0.131178</td>\n",
       "    </tr>\n",
       "    <tr>\n",
       "      <th>74899</th>\n",
       "      <td>-0.054351</td>\n",
       "      <td>-0.076230</td>\n",
       "      <td>-0.383837</td>\n",
       "      <td>-0.342755</td>\n",
       "      <td>0.0</td>\n",
       "      <td>-1.039528</td>\n",
       "      <td>-0.176066</td>\n",
       "      <td>-0.384336</td>\n",
       "      <td>0.039183</td>\n",
       "    </tr>\n",
       "    <tr>\n",
       "      <th>122170</th>\n",
       "      <td>-0.054351</td>\n",
       "      <td>-0.075465</td>\n",
       "      <td>-0.368489</td>\n",
       "      <td>-0.344348</td>\n",
       "      <td>0.0</td>\n",
       "      <td>-1.039528</td>\n",
       "      <td>-0.176066</td>\n",
       "      <td>-0.384336</td>\n",
       "      <td>0.083664</td>\n",
       "    </tr>\n",
       "    <tr>\n",
       "      <th>261409</th>\n",
       "      <td>-0.054351</td>\n",
       "      <td>-0.062029</td>\n",
       "      <td>1.422207</td>\n",
       "      <td>1.410270</td>\n",
       "      <td>0.0</td>\n",
       "      <td>0.923061</td>\n",
       "      <td>-0.176066</td>\n",
       "      <td>-0.384336</td>\n",
       "      <td>0.001936</td>\n",
       "    </tr>\n",
       "    <tr>\n",
       "      <th>45640</th>\n",
       "      <td>-0.054351</td>\n",
       "      <td>-0.073990</td>\n",
       "      <td>-0.302112</td>\n",
       "      <td>-0.086574</td>\n",
       "      <td>0.0</td>\n",
       "      <td>-1.039528</td>\n",
       "      <td>-0.176066</td>\n",
       "      <td>-0.384336</td>\n",
       "      <td>0.023196</td>\n",
       "    </tr>\n",
       "  </tbody>\n",
       "</table>\n",
       "</div>"
      ],
      "text/plain": [
       "        favorites_count  followers_count  statuses_count  friends_count  \\\n",
       "248361        -0.054351        -0.075666       -0.126647      -0.371440   \n",
       "74899         -0.054351        -0.076230       -0.383837      -0.342755   \n",
       "122170        -0.054351        -0.075465       -0.368489      -0.344348   \n",
       "261409        -0.054351        -0.062029        1.422207       1.410270   \n",
       "45640         -0.054351        -0.073990       -0.302112      -0.086574   \n",
       "\n",
       "        mentions      urls  verified  hashtags  timestamp  \n",
       "248361       0.0  0.923061 -0.176066 -0.384336   0.131178  \n",
       "74899        0.0 -1.039528 -0.176066 -0.384336   0.039183  \n",
       "122170       0.0 -1.039528 -0.176066 -0.384336   0.083664  \n",
       "261409       0.0  0.923061 -0.176066 -0.384336   0.001936  \n",
       "45640        0.0 -1.039528 -0.176066 -0.384336   0.023196  "
      ]
     },
     "execution_count": 17,
     "metadata": {},
     "output_type": "execute_result"
    }
   ],
   "source": [
    "X_train_num=X_train[[\"favorites_count\",\"followers_count\",\"statuses_count\",\"friends_count\",\"mentions\",\"urls\",\"verified\",\"hashtags\",\"timestamp\"]]\n",
    "\n",
    "X_test_num=X_test[[\"favorites_count\",\"followers_count\",\"statuses_count\",\"friends_count\",\"mentions\",\"urls\",\"verified\",\"hashtags\",\"timestamp\"]]\n",
    "\n",
    "X_train_num.head()"
   ]
  },
  {
   "cell_type": "code",
   "execution_count": 18,
   "id": "e35c7275",
   "metadata": {},
   "outputs": [
    {
     "data": {
      "text/plain": [
       "248361    fond pouvaient passer tour réduirait risques c...\n",
       "74899     rt mme pen intéressée élysée sauver rente élec...\n",
       "122170                                        grand charles\n",
       "261409    voit devient dangereux inquiétez ira réfugier ...\n",
       "45640     rt amateurisme sécurité veux protéger français...\n",
       "Name: text, dtype: object"
      ]
     },
     "execution_count": 18,
     "metadata": {},
     "output_type": "execute_result"
    }
   ],
   "source": [
    "X_train_text=X_train[\"text\"]\n",
    "X_test_text=X_test[\"text\"]\n",
    "X_train_text.head()"
   ]
  },
  {
   "cell_type": "code",
   "execution_count": null,
   "id": "723a74b8",
   "metadata": {},
   "outputs": [],
   "source": []
  },
  {
   "cell_type": "code",
   "execution_count": null,
   "id": "c296f6c2",
   "metadata": {},
   "outputs": [],
   "source": []
  },
  {
   "cell_type": "code",
   "execution_count": null,
   "id": "a861d5d8",
   "metadata": {},
   "outputs": [],
   "source": []
  },
  {
   "cell_type": "code",
   "execution_count": 19,
   "id": "1fa2cc84",
   "metadata": {},
   "outputs": [],
   "source": [
    "# these parts are used to train the embedding of the vocabulary, only needed to be run once"
   ]
  },
  {
   "cell_type": "code",
   "execution_count": 20,
   "id": "f369b5b5",
   "metadata": {},
   "outputs": [],
   "source": [
    "def get_text(file):\n",
    "    data_text=pd.read_table(file)\n",
    "    return data_text"
   ]
  },
  {
   "cell_type": "code",
   "execution_count": 21,
   "id": "a959b271",
   "metadata": {},
   "outputs": [
    {
     "data": {
      "text/plain": [
       "['aurant la thérapie , et au niveau sexuel ',\n",
       " 'pas encore  ',\n",
       " 'il veut mettre fin au mariage  ',\n",
       " 'je suis une mauvaise artiste  ',\n",
       " \"ce cours t'a pourtant fait du bien  \"]"
      ]
     },
     "execution_count": 21,
     "metadata": {},
     "output_type": "execute_result"
    }
   ],
   "source": [
    "path_text_dataset='French-Word-Embeddings/Data/data.txt'\n",
    "text_dataset=get_text(path_text_dataset).values\n",
    "text_dataset=[item[0][:-1] for item in text_dataset]\n",
    "text_dataset[:5]"
   ]
  },
  {
   "cell_type": "code",
   "execution_count": 22,
   "id": "a7b5842c",
   "metadata": {},
   "outputs": [],
   "source": [
    "TaggedDocument=gensim.models.doc2vec.TaggedDocument\n",
    "def X_text(sentences):\n",
    "    X=[]\n",
    "    for i,text in enumerate(sentences):\n",
    "        words=text.split(\" \")\n",
    "        l=len(words)\n",
    "        words=words[:-2]\n",
    "        document=TaggedDocument(words,tags=[i])\n",
    "        X.append(document)\n",
    "    return X"
   ]
  },
  {
   "cell_type": "code",
   "execution_count": 23,
   "id": "e2f3186c",
   "metadata": {},
   "outputs": [
    {
     "data": {
      "text/plain": [
       "[TaggedDocument(words=['aurant', 'la', 'thérapie', ',', 'et', 'au', 'niveau'], tags=[0]),\n",
       " TaggedDocument(words=['pas', 'encore'], tags=[1]),\n",
       " TaggedDocument(words=['il', 'veut', 'mettre', 'fin', 'au', 'mariage'], tags=[2]),\n",
       " TaggedDocument(words=['je', 'suis', 'une', 'mauvaise', 'artiste'], tags=[3]),\n",
       " TaggedDocument(words=['ce', 'cours', \"t'a\", 'pourtant', 'fait', 'du', 'bien'], tags=[4])]"
      ]
     },
     "execution_count": 23,
     "metadata": {},
     "output_type": "execute_result"
    }
   ],
   "source": [
    "X_documents=X_text(text_dataset)\n",
    "X_documents[:5]"
   ]
  },
  {
   "cell_type": "code",
   "execution_count": 24,
   "id": "e693d710",
   "metadata": {},
   "outputs": [],
   "source": [
    "def train_text(text_train,size=100,epochs=10):\n",
    "    model=Doc2Vec(text_train,min_count=1,window=3,vector_size=size,sample=1e-3,negative=5,epochs=epochs)\n",
    "    model.train(text_train,total_examples=model.corpus_count,epochs=model.epochs)\n",
    "    return model"
   ]
  },
  {
   "cell_type": "code",
   "execution_count": 25,
   "id": "eaa2bca5",
   "metadata": {},
   "outputs": [
    {
     "ename": "KeyboardInterrupt",
     "evalue": "",
     "output_type": "error",
     "traceback": [
      "\u001b[1;31m---------------------------------------------------------------------------\u001b[0m",
      "\u001b[1;31mKeyboardInterrupt\u001b[0m                         Traceback (most recent call last)",
      "Cell \u001b[1;32mIn [25], line 1\u001b[0m\n\u001b[1;32m----> 1\u001b[0m model_text\u001b[38;5;241m=\u001b[39m\u001b[43mtrain_text\u001b[49m\u001b[43m(\u001b[49m\u001b[43mX_documents\u001b[49m\u001b[43m)\u001b[49m\n\u001b[0;32m      2\u001b[0m \u001b[38;5;28;01mif\u001b[39;00m \u001b[38;5;129;01mnot\u001b[39;00m os\u001b[38;5;241m.\u001b[39mpath\u001b[38;5;241m.\u001b[39mexists(\u001b[38;5;124m'\u001b[39m\u001b[38;5;124m./WE_models\u001b[39m\u001b[38;5;124m'\u001b[39m):\n\u001b[0;32m      3\u001b[0m     os\u001b[38;5;241m.\u001b[39mmkdir(\u001b[38;5;124m'\u001b[39m\u001b[38;5;124m./WE_models\u001b[39m\u001b[38;5;124m'\u001b[39m)\n",
      "Cell \u001b[1;32mIn [24], line 2\u001b[0m, in \u001b[0;36mtrain_text\u001b[1;34m(text_train, size, epochs)\u001b[0m\n\u001b[0;32m      1\u001b[0m \u001b[38;5;28;01mdef\u001b[39;00m \u001b[38;5;21mtrain_text\u001b[39m(text_train,size\u001b[38;5;241m=\u001b[39m\u001b[38;5;241m100\u001b[39m,epochs\u001b[38;5;241m=\u001b[39m\u001b[38;5;241m10\u001b[39m):\n\u001b[1;32m----> 2\u001b[0m     model\u001b[38;5;241m=\u001b[39m\u001b[43mDoc2Vec\u001b[49m\u001b[43m(\u001b[49m\u001b[43mtext_train\u001b[49m\u001b[43m,\u001b[49m\u001b[43mmin_count\u001b[49m\u001b[38;5;241;43m=\u001b[39;49m\u001b[38;5;241;43m1\u001b[39;49m\u001b[43m,\u001b[49m\u001b[43mwindow\u001b[49m\u001b[38;5;241;43m=\u001b[39;49m\u001b[38;5;241;43m3\u001b[39;49m\u001b[43m,\u001b[49m\u001b[43mvector_size\u001b[49m\u001b[38;5;241;43m=\u001b[39;49m\u001b[43msize\u001b[49m\u001b[43m,\u001b[49m\u001b[43msample\u001b[49m\u001b[38;5;241;43m=\u001b[39;49m\u001b[38;5;241;43m1e-3\u001b[39;49m\u001b[43m,\u001b[49m\u001b[43mnegative\u001b[49m\u001b[38;5;241;43m=\u001b[39;49m\u001b[38;5;241;43m5\u001b[39;49m\u001b[43m,\u001b[49m\u001b[43mepochs\u001b[49m\u001b[38;5;241;43m=\u001b[39;49m\u001b[43mepochs\u001b[49m\u001b[43m)\u001b[49m\n\u001b[0;32m      3\u001b[0m     model\u001b[38;5;241m.\u001b[39mtrain(text_train,total_examples\u001b[38;5;241m=\u001b[39mmodel\u001b[38;5;241m.\u001b[39mcorpus_count,epochs\u001b[38;5;241m=\u001b[39mmodel\u001b[38;5;241m.\u001b[39mepochs)\n\u001b[0;32m      4\u001b[0m     \u001b[38;5;28;01mreturn\u001b[39;00m model\n",
      "File \u001b[1;32mD:\\anaconda\\envs\\xia\\lib\\site-packages\\gensim\\models\\doc2vec.py:296\u001b[0m, in \u001b[0;36mDoc2Vec.__init__\u001b[1;34m(self, documents, corpus_file, vector_size, dm_mean, dm, dbow_words, dm_concat, dm_tag_count, dv, dv_mapfile, comment, trim_rule, callbacks, window, epochs, shrink_windows, **kwargs)\u001b[0m\n\u001b[0;32m    292\u001b[0m \u001b[38;5;66;03m# EXPERIMENTAL lockf feature; create minimal no-op lockf arrays (1 element of 1.0)\u001b[39;00m\n\u001b[0;32m    293\u001b[0m \u001b[38;5;66;03m# advanced users should directly resize/adjust as desired after any vocab growth\u001b[39;00m\n\u001b[0;32m    294\u001b[0m \u001b[38;5;28mself\u001b[39m\u001b[38;5;241m.\u001b[39mdv\u001b[38;5;241m.\u001b[39mvectors_lockf \u001b[38;5;241m=\u001b[39m np\u001b[38;5;241m.\u001b[39mones(\u001b[38;5;241m1\u001b[39m, dtype\u001b[38;5;241m=\u001b[39mREAL)  \u001b[38;5;66;03m# 0.0 values suppress word-backprop-updates; 1.0 allows\u001b[39;00m\n\u001b[1;32m--> 296\u001b[0m \u001b[38;5;28;43msuper\u001b[39;49m\u001b[43m(\u001b[49m\u001b[43mDoc2Vec\u001b[49m\u001b[43m,\u001b[49m\u001b[43m \u001b[49m\u001b[38;5;28;43mself\u001b[39;49m\u001b[43m)\u001b[49m\u001b[38;5;241;43m.\u001b[39;49m\u001b[38;5;21;43m__init__\u001b[39;49m\u001b[43m(\u001b[49m\n\u001b[0;32m    297\u001b[0m \u001b[43m    \u001b[49m\u001b[43msentences\u001b[49m\u001b[38;5;241;43m=\u001b[39;49m\u001b[43mcorpus_iterable\u001b[49m\u001b[43m,\u001b[49m\n\u001b[0;32m    298\u001b[0m \u001b[43m    \u001b[49m\u001b[43mcorpus_file\u001b[49m\u001b[38;5;241;43m=\u001b[39;49m\u001b[43mcorpus_file\u001b[49m\u001b[43m,\u001b[49m\n\u001b[0;32m    299\u001b[0m \u001b[43m    \u001b[49m\u001b[43mvector_size\u001b[49m\u001b[38;5;241;43m=\u001b[39;49m\u001b[38;5;28;43mself\u001b[39;49m\u001b[38;5;241;43m.\u001b[39;49m\u001b[43mvector_size\u001b[49m\u001b[43m,\u001b[49m\n\u001b[0;32m    300\u001b[0m \u001b[43m    \u001b[49m\u001b[43msg\u001b[49m\u001b[38;5;241;43m=\u001b[39;49m\u001b[43m(\u001b[49m\u001b[38;5;241;43m1\u001b[39;49m\u001b[43m \u001b[49m\u001b[38;5;241;43m+\u001b[39;49m\u001b[43m \u001b[49m\u001b[43mdm\u001b[49m\u001b[43m)\u001b[49m\u001b[43m \u001b[49m\u001b[38;5;241;43m%\u001b[39;49m\u001b[43m \u001b[49m\u001b[38;5;241;43m2\u001b[39;49m\u001b[43m,\u001b[49m\n\u001b[0;32m    301\u001b[0m \u001b[43m    \u001b[49m\u001b[43mnull_word\u001b[49m\u001b[38;5;241;43m=\u001b[39;49m\u001b[38;5;28;43mself\u001b[39;49m\u001b[38;5;241;43m.\u001b[39;49m\u001b[43mdm_concat\u001b[49m\u001b[43m,\u001b[49m\n\u001b[0;32m    302\u001b[0m \u001b[43m    \u001b[49m\u001b[43mcallbacks\u001b[49m\u001b[38;5;241;43m=\u001b[39;49m\u001b[43mcallbacks\u001b[49m\u001b[43m,\u001b[49m\n\u001b[0;32m    303\u001b[0m \u001b[43m    \u001b[49m\u001b[43mwindow\u001b[49m\u001b[38;5;241;43m=\u001b[39;49m\u001b[43mwindow\u001b[49m\u001b[43m,\u001b[49m\n\u001b[0;32m    304\u001b[0m \u001b[43m    \u001b[49m\u001b[43mepochs\u001b[49m\u001b[38;5;241;43m=\u001b[39;49m\u001b[43mepochs\u001b[49m\u001b[43m,\u001b[49m\n\u001b[0;32m    305\u001b[0m \u001b[43m    \u001b[49m\u001b[43mshrink_windows\u001b[49m\u001b[38;5;241;43m=\u001b[39;49m\u001b[43mshrink_windows\u001b[49m\u001b[43m,\u001b[49m\n\u001b[0;32m    306\u001b[0m \u001b[43m    \u001b[49m\u001b[38;5;241;43m*\u001b[39;49m\u001b[38;5;241;43m*\u001b[39;49m\u001b[43mkwargs\u001b[49m\u001b[43m,\u001b[49m\n\u001b[0;32m    307\u001b[0m \u001b[43m\u001b[49m\u001b[43m)\u001b[49m\n",
      "File \u001b[1;32mD:\\anaconda\\envs\\xia\\lib\\site-packages\\gensim\\models\\word2vec.py:427\u001b[0m, in \u001b[0;36mWord2Vec.__init__\u001b[1;34m(self, sentences, corpus_file, vector_size, alpha, window, min_count, max_vocab_size, sample, seed, workers, min_alpha, sg, hs, negative, ns_exponent, cbow_mean, hashfxn, epochs, null_word, trim_rule, sorted_vocab, batch_words, compute_loss, callbacks, comment, max_final_vocab, shrink_windows)\u001b[0m\n\u001b[0;32m    425\u001b[0m     \u001b[38;5;28mself\u001b[39m\u001b[38;5;241m.\u001b[39m_check_corpus_sanity(corpus_iterable\u001b[38;5;241m=\u001b[39mcorpus_iterable, corpus_file\u001b[38;5;241m=\u001b[39mcorpus_file, passes\u001b[38;5;241m=\u001b[39m(epochs \u001b[38;5;241m+\u001b[39m \u001b[38;5;241m1\u001b[39m))\n\u001b[0;32m    426\u001b[0m     \u001b[38;5;28mself\u001b[39m\u001b[38;5;241m.\u001b[39mbuild_vocab(corpus_iterable\u001b[38;5;241m=\u001b[39mcorpus_iterable, corpus_file\u001b[38;5;241m=\u001b[39mcorpus_file, trim_rule\u001b[38;5;241m=\u001b[39mtrim_rule)\n\u001b[1;32m--> 427\u001b[0m     \u001b[38;5;28;43mself\u001b[39;49m\u001b[38;5;241;43m.\u001b[39;49m\u001b[43mtrain\u001b[49m\u001b[43m(\u001b[49m\n\u001b[0;32m    428\u001b[0m \u001b[43m        \u001b[49m\u001b[43mcorpus_iterable\u001b[49m\u001b[38;5;241;43m=\u001b[39;49m\u001b[43mcorpus_iterable\u001b[49m\u001b[43m,\u001b[49m\u001b[43m \u001b[49m\u001b[43mcorpus_file\u001b[49m\u001b[38;5;241;43m=\u001b[39;49m\u001b[43mcorpus_file\u001b[49m\u001b[43m,\u001b[49m\u001b[43m \u001b[49m\u001b[43mtotal_examples\u001b[49m\u001b[38;5;241;43m=\u001b[39;49m\u001b[38;5;28;43mself\u001b[39;49m\u001b[38;5;241;43m.\u001b[39;49m\u001b[43mcorpus_count\u001b[49m\u001b[43m,\u001b[49m\n\u001b[0;32m    429\u001b[0m \u001b[43m        \u001b[49m\u001b[43mtotal_words\u001b[49m\u001b[38;5;241;43m=\u001b[39;49m\u001b[38;5;28;43mself\u001b[39;49m\u001b[38;5;241;43m.\u001b[39;49m\u001b[43mcorpus_total_words\u001b[49m\u001b[43m,\u001b[49m\u001b[43m \u001b[49m\u001b[43mepochs\u001b[49m\u001b[38;5;241;43m=\u001b[39;49m\u001b[38;5;28;43mself\u001b[39;49m\u001b[38;5;241;43m.\u001b[39;49m\u001b[43mepochs\u001b[49m\u001b[43m,\u001b[49m\u001b[43m \u001b[49m\u001b[43mstart_alpha\u001b[49m\u001b[38;5;241;43m=\u001b[39;49m\u001b[38;5;28;43mself\u001b[39;49m\u001b[38;5;241;43m.\u001b[39;49m\u001b[43malpha\u001b[49m\u001b[43m,\u001b[49m\n\u001b[0;32m    430\u001b[0m \u001b[43m        \u001b[49m\u001b[43mend_alpha\u001b[49m\u001b[38;5;241;43m=\u001b[39;49m\u001b[38;5;28;43mself\u001b[39;49m\u001b[38;5;241;43m.\u001b[39;49m\u001b[43mmin_alpha\u001b[49m\u001b[43m,\u001b[49m\u001b[43m \u001b[49m\u001b[43mcompute_loss\u001b[49m\u001b[38;5;241;43m=\u001b[39;49m\u001b[38;5;28;43mself\u001b[39;49m\u001b[38;5;241;43m.\u001b[39;49m\u001b[43mcompute_loss\u001b[49m\u001b[43m,\u001b[49m\u001b[43m \u001b[49m\u001b[43mcallbacks\u001b[49m\u001b[38;5;241;43m=\u001b[39;49m\u001b[43mcallbacks\u001b[49m\u001b[43m)\u001b[49m\n\u001b[0;32m    431\u001b[0m \u001b[38;5;28;01melse\u001b[39;00m:\n\u001b[0;32m    432\u001b[0m     \u001b[38;5;28;01mif\u001b[39;00m trim_rule \u001b[38;5;129;01mis\u001b[39;00m \u001b[38;5;129;01mnot\u001b[39;00m \u001b[38;5;28;01mNone\u001b[39;00m:\n",
      "File \u001b[1;32mD:\\anaconda\\envs\\xia\\lib\\site-packages\\gensim\\models\\doc2vec.py:516\u001b[0m, in \u001b[0;36mDoc2Vec.train\u001b[1;34m(self, corpus_iterable, corpus_file, total_examples, total_words, epochs, start_alpha, end_alpha, word_count, queue_factor, report_delay, callbacks, **kwargs)\u001b[0m\n\u001b[0;32m    513\u001b[0m     kwargs[\u001b[38;5;124m'\u001b[39m\u001b[38;5;124moffsets\u001b[39m\u001b[38;5;124m'\u001b[39m] \u001b[38;5;241m=\u001b[39m offsets\n\u001b[0;32m    514\u001b[0m     kwargs[\u001b[38;5;124m'\u001b[39m\u001b[38;5;124mstart_doctags\u001b[39m\u001b[38;5;124m'\u001b[39m] \u001b[38;5;241m=\u001b[39m start_doctags\n\u001b[1;32m--> 516\u001b[0m \u001b[38;5;28;43msuper\u001b[39;49m\u001b[43m(\u001b[49m\u001b[43mDoc2Vec\u001b[49m\u001b[43m,\u001b[49m\u001b[43m \u001b[49m\u001b[38;5;28;43mself\u001b[39;49m\u001b[43m)\u001b[49m\u001b[38;5;241;43m.\u001b[39;49m\u001b[43mtrain\u001b[49m\u001b[43m(\u001b[49m\n\u001b[0;32m    517\u001b[0m \u001b[43m    \u001b[49m\u001b[43mcorpus_iterable\u001b[49m\u001b[38;5;241;43m=\u001b[39;49m\u001b[43mcorpus_iterable\u001b[49m\u001b[43m,\u001b[49m\u001b[43m \u001b[49m\u001b[43mcorpus_file\u001b[49m\u001b[38;5;241;43m=\u001b[39;49m\u001b[43mcorpus_file\u001b[49m\u001b[43m,\u001b[49m\n\u001b[0;32m    518\u001b[0m \u001b[43m    \u001b[49m\u001b[43mtotal_examples\u001b[49m\u001b[38;5;241;43m=\u001b[39;49m\u001b[43mtotal_examples\u001b[49m\u001b[43m,\u001b[49m\u001b[43m \u001b[49m\u001b[43mtotal_words\u001b[49m\u001b[38;5;241;43m=\u001b[39;49m\u001b[43mtotal_words\u001b[49m\u001b[43m,\u001b[49m\n\u001b[0;32m    519\u001b[0m \u001b[43m    \u001b[49m\u001b[43mepochs\u001b[49m\u001b[38;5;241;43m=\u001b[39;49m\u001b[43mepochs\u001b[49m\u001b[43m,\u001b[49m\u001b[43m \u001b[49m\u001b[43mstart_alpha\u001b[49m\u001b[38;5;241;43m=\u001b[39;49m\u001b[43mstart_alpha\u001b[49m\u001b[43m,\u001b[49m\u001b[43m \u001b[49m\u001b[43mend_alpha\u001b[49m\u001b[38;5;241;43m=\u001b[39;49m\u001b[43mend_alpha\u001b[49m\u001b[43m,\u001b[49m\u001b[43m \u001b[49m\u001b[43mword_count\u001b[49m\u001b[38;5;241;43m=\u001b[39;49m\u001b[43mword_count\u001b[49m\u001b[43m,\u001b[49m\n\u001b[0;32m    520\u001b[0m \u001b[43m    \u001b[49m\u001b[43mqueue_factor\u001b[49m\u001b[38;5;241;43m=\u001b[39;49m\u001b[43mqueue_factor\u001b[49m\u001b[43m,\u001b[49m\u001b[43m \u001b[49m\u001b[43mreport_delay\u001b[49m\u001b[38;5;241;43m=\u001b[39;49m\u001b[43mreport_delay\u001b[49m\u001b[43m,\u001b[49m\u001b[43m \u001b[49m\u001b[43mcallbacks\u001b[49m\u001b[38;5;241;43m=\u001b[39;49m\u001b[43mcallbacks\u001b[49m\u001b[43m,\u001b[49m\u001b[43m \u001b[49m\u001b[38;5;241;43m*\u001b[39;49m\u001b[38;5;241;43m*\u001b[39;49m\u001b[43mkwargs\u001b[49m\u001b[43m)\u001b[49m\n",
      "File \u001b[1;32mD:\\anaconda\\envs\\xia\\lib\\site-packages\\gensim\\models\\word2vec.py:1070\u001b[0m, in \u001b[0;36mWord2Vec.train\u001b[1;34m(self, corpus_iterable, corpus_file, total_examples, total_words, epochs, start_alpha, end_alpha, word_count, queue_factor, report_delay, compute_loss, callbacks, **kwargs)\u001b[0m\n\u001b[0;32m   1067\u001b[0m     callback\u001b[38;5;241m.\u001b[39mon_epoch_begin(\u001b[38;5;28mself\u001b[39m)\n\u001b[0;32m   1069\u001b[0m \u001b[38;5;28;01mif\u001b[39;00m corpus_iterable \u001b[38;5;129;01mis\u001b[39;00m \u001b[38;5;129;01mnot\u001b[39;00m \u001b[38;5;28;01mNone\u001b[39;00m:\n\u001b[1;32m-> 1070\u001b[0m     trained_word_count_epoch, raw_word_count_epoch, job_tally_epoch \u001b[38;5;241m=\u001b[39m \u001b[38;5;28;43mself\u001b[39;49m\u001b[38;5;241;43m.\u001b[39;49m\u001b[43m_train_epoch\u001b[49m\u001b[43m(\u001b[49m\n\u001b[0;32m   1071\u001b[0m \u001b[43m        \u001b[49m\u001b[43mcorpus_iterable\u001b[49m\u001b[43m,\u001b[49m\u001b[43m \u001b[49m\u001b[43mcur_epoch\u001b[49m\u001b[38;5;241;43m=\u001b[39;49m\u001b[43mcur_epoch\u001b[49m\u001b[43m,\u001b[49m\u001b[43m \u001b[49m\u001b[43mtotal_examples\u001b[49m\u001b[38;5;241;43m=\u001b[39;49m\u001b[43mtotal_examples\u001b[49m\u001b[43m,\u001b[49m\n\u001b[0;32m   1072\u001b[0m \u001b[43m        \u001b[49m\u001b[43mtotal_words\u001b[49m\u001b[38;5;241;43m=\u001b[39;49m\u001b[43mtotal_words\u001b[49m\u001b[43m,\u001b[49m\u001b[43m \u001b[49m\u001b[43mqueue_factor\u001b[49m\u001b[38;5;241;43m=\u001b[39;49m\u001b[43mqueue_factor\u001b[49m\u001b[43m,\u001b[49m\u001b[43m \u001b[49m\u001b[43mreport_delay\u001b[49m\u001b[38;5;241;43m=\u001b[39;49m\u001b[43mreport_delay\u001b[49m\u001b[43m,\u001b[49m\n\u001b[0;32m   1073\u001b[0m \u001b[43m        \u001b[49m\u001b[43mcallbacks\u001b[49m\u001b[38;5;241;43m=\u001b[39;49m\u001b[43mcallbacks\u001b[49m\u001b[43m,\u001b[49m\u001b[43m \u001b[49m\u001b[38;5;241;43m*\u001b[39;49m\u001b[38;5;241;43m*\u001b[39;49m\u001b[43mkwargs\u001b[49m\u001b[43m)\u001b[49m\n\u001b[0;32m   1074\u001b[0m \u001b[38;5;28;01melse\u001b[39;00m:\n\u001b[0;32m   1075\u001b[0m     trained_word_count_epoch, raw_word_count_epoch, job_tally_epoch \u001b[38;5;241m=\u001b[39m \u001b[38;5;28mself\u001b[39m\u001b[38;5;241m.\u001b[39m_train_epoch_corpusfile(\n\u001b[0;32m   1076\u001b[0m         corpus_file, cur_epoch\u001b[38;5;241m=\u001b[39mcur_epoch, total_examples\u001b[38;5;241m=\u001b[39mtotal_examples, total_words\u001b[38;5;241m=\u001b[39mtotal_words,\n\u001b[0;32m   1077\u001b[0m         callbacks\u001b[38;5;241m=\u001b[39mcallbacks, \u001b[38;5;241m*\u001b[39m\u001b[38;5;241m*\u001b[39mkwargs)\n",
      "File \u001b[1;32mD:\\anaconda\\envs\\xia\\lib\\site-packages\\gensim\\models\\word2vec.py:1431\u001b[0m, in \u001b[0;36mWord2Vec._train_epoch\u001b[1;34m(self, data_iterable, cur_epoch, total_examples, total_words, queue_factor, report_delay, callbacks)\u001b[0m\n\u001b[0;32m   1428\u001b[0m     thread\u001b[38;5;241m.\u001b[39mdaemon \u001b[38;5;241m=\u001b[39m \u001b[38;5;28;01mTrue\u001b[39;00m  \u001b[38;5;66;03m# make interrupting the process with ctrl+c easier\u001b[39;00m\n\u001b[0;32m   1429\u001b[0m     thread\u001b[38;5;241m.\u001b[39mstart()\n\u001b[1;32m-> 1431\u001b[0m trained_word_count, raw_word_count, job_tally \u001b[38;5;241m=\u001b[39m \u001b[38;5;28;43mself\u001b[39;49m\u001b[38;5;241;43m.\u001b[39;49m\u001b[43m_log_epoch_progress\u001b[49m\u001b[43m(\u001b[49m\n\u001b[0;32m   1432\u001b[0m \u001b[43m    \u001b[49m\u001b[43mprogress_queue\u001b[49m\u001b[43m,\u001b[49m\u001b[43m \u001b[49m\u001b[43mjob_queue\u001b[49m\u001b[43m,\u001b[49m\u001b[43m \u001b[49m\u001b[43mcur_epoch\u001b[49m\u001b[38;5;241;43m=\u001b[39;49m\u001b[43mcur_epoch\u001b[49m\u001b[43m,\u001b[49m\u001b[43m \u001b[49m\u001b[43mtotal_examples\u001b[49m\u001b[38;5;241;43m=\u001b[39;49m\u001b[43mtotal_examples\u001b[49m\u001b[43m,\u001b[49m\n\u001b[0;32m   1433\u001b[0m \u001b[43m    \u001b[49m\u001b[43mtotal_words\u001b[49m\u001b[38;5;241;43m=\u001b[39;49m\u001b[43mtotal_words\u001b[49m\u001b[43m,\u001b[49m\u001b[43m \u001b[49m\u001b[43mreport_delay\u001b[49m\u001b[38;5;241;43m=\u001b[39;49m\u001b[43mreport_delay\u001b[49m\u001b[43m,\u001b[49m\u001b[43m \u001b[49m\u001b[43mis_corpus_file_mode\u001b[49m\u001b[38;5;241;43m=\u001b[39;49m\u001b[38;5;28;43;01mFalse\u001b[39;49;00m\u001b[43m,\u001b[49m\n\u001b[0;32m   1434\u001b[0m \u001b[43m\u001b[49m\u001b[43m)\u001b[49m\n\u001b[0;32m   1436\u001b[0m \u001b[38;5;28;01mreturn\u001b[39;00m trained_word_count, raw_word_count, job_tally\n",
      "File \u001b[1;32mD:\\anaconda\\envs\\xia\\lib\\site-packages\\gensim\\models\\word2vec.py:1286\u001b[0m, in \u001b[0;36mWord2Vec._log_epoch_progress\u001b[1;34m(self, progress_queue, job_queue, cur_epoch, total_examples, total_words, report_delay, is_corpus_file_mode)\u001b[0m\n\u001b[0;32m   1283\u001b[0m unfinished_worker_count \u001b[38;5;241m=\u001b[39m \u001b[38;5;28mself\u001b[39m\u001b[38;5;241m.\u001b[39mworkers\n\u001b[0;32m   1285\u001b[0m \u001b[38;5;28;01mwhile\u001b[39;00m unfinished_worker_count \u001b[38;5;241m>\u001b[39m \u001b[38;5;241m0\u001b[39m:\n\u001b[1;32m-> 1286\u001b[0m     report \u001b[38;5;241m=\u001b[39m \u001b[43mprogress_queue\u001b[49m\u001b[38;5;241;43m.\u001b[39;49m\u001b[43mget\u001b[49m\u001b[43m(\u001b[49m\u001b[43m)\u001b[49m  \u001b[38;5;66;03m# blocks if workers too slow\u001b[39;00m\n\u001b[0;32m   1287\u001b[0m     \u001b[38;5;28;01mif\u001b[39;00m report \u001b[38;5;129;01mis\u001b[39;00m \u001b[38;5;28;01mNone\u001b[39;00m:  \u001b[38;5;66;03m# a thread reporting that it finished\u001b[39;00m\n\u001b[0;32m   1288\u001b[0m         unfinished_worker_count \u001b[38;5;241m-\u001b[39m\u001b[38;5;241m=\u001b[39m \u001b[38;5;241m1\u001b[39m\n",
      "File \u001b[1;32mD:\\anaconda\\envs\\xia\\lib\\queue.py:170\u001b[0m, in \u001b[0;36mQueue.get\u001b[1;34m(self, block, timeout)\u001b[0m\n\u001b[0;32m    168\u001b[0m \u001b[38;5;28;01melif\u001b[39;00m timeout \u001b[38;5;129;01mis\u001b[39;00m \u001b[38;5;28;01mNone\u001b[39;00m:\n\u001b[0;32m    169\u001b[0m     \u001b[38;5;28;01mwhile\u001b[39;00m \u001b[38;5;129;01mnot\u001b[39;00m \u001b[38;5;28mself\u001b[39m\u001b[38;5;241m.\u001b[39m_qsize():\n\u001b[1;32m--> 170\u001b[0m         \u001b[38;5;28;43mself\u001b[39;49m\u001b[38;5;241;43m.\u001b[39;49m\u001b[43mnot_empty\u001b[49m\u001b[38;5;241;43m.\u001b[39;49m\u001b[43mwait\u001b[49m\u001b[43m(\u001b[49m\u001b[43m)\u001b[49m\n\u001b[0;32m    171\u001b[0m \u001b[38;5;28;01melif\u001b[39;00m timeout \u001b[38;5;241m<\u001b[39m \u001b[38;5;241m0\u001b[39m:\n\u001b[0;32m    172\u001b[0m     \u001b[38;5;28;01mraise\u001b[39;00m \u001b[38;5;167;01mValueError\u001b[39;00m(\u001b[38;5;124m\"\u001b[39m\u001b[38;5;124m'\u001b[39m\u001b[38;5;124mtimeout\u001b[39m\u001b[38;5;124m'\u001b[39m\u001b[38;5;124m must be a non-negative number\u001b[39m\u001b[38;5;124m\"\u001b[39m)\n",
      "File \u001b[1;32mD:\\anaconda\\envs\\xia\\lib\\threading.py:302\u001b[0m, in \u001b[0;36mCondition.wait\u001b[1;34m(self, timeout)\u001b[0m\n\u001b[0;32m    300\u001b[0m \u001b[38;5;28;01mtry\u001b[39;00m:    \u001b[38;5;66;03m# restore state no matter what (e.g., KeyboardInterrupt)\u001b[39;00m\n\u001b[0;32m    301\u001b[0m     \u001b[38;5;28;01mif\u001b[39;00m timeout \u001b[38;5;129;01mis\u001b[39;00m \u001b[38;5;28;01mNone\u001b[39;00m:\n\u001b[1;32m--> 302\u001b[0m         \u001b[43mwaiter\u001b[49m\u001b[38;5;241;43m.\u001b[39;49m\u001b[43macquire\u001b[49m\u001b[43m(\u001b[49m\u001b[43m)\u001b[49m\n\u001b[0;32m    303\u001b[0m         gotit \u001b[38;5;241m=\u001b[39m \u001b[38;5;28;01mTrue\u001b[39;00m\n\u001b[0;32m    304\u001b[0m     \u001b[38;5;28;01melse\u001b[39;00m:\n",
      "\u001b[1;31mKeyboardInterrupt\u001b[0m: "
     ]
    }
   ],
   "source": [
    "model_text=train_text(X_documents)\n",
    "if not os.path.exists('./WE_models'):\n",
    "    os.mkdir('./WE_models')\n",
    "model_text.save('WE_models/d2v_100D')"
   ]
  },
  {
   "cell_type": "code",
   "execution_count": null,
   "id": "27d97304",
   "metadata": {},
   "outputs": [],
   "source": [
    "# load the model"
   ]
  },
  {
   "cell_type": "code",
   "execution_count": 26,
   "id": "62f68562",
   "metadata": {},
   "outputs": [],
   "source": [
    "model_text=Doc2Vec.load('WE_models/d2v_100D')"
   ]
  },
  {
   "cell_type": "code",
   "execution_count": 27,
   "id": "fb1b5936",
   "metadata": {},
   "outputs": [],
   "source": [
    "def text2vec(text_train,alpha=0.05, min_alpha=0.025, epochs=10):\n",
    "    list_text=[]\n",
    "    for sentence in text_train:\n",
    "        words=sentence.split(\" \")\n",
    "        vec=model_text.infer_vector(doc_words=words, alpha=alpha, min_alpha=min_alpha, epochs=epochs).tolist()\n",
    "        list_text.append(vec)\n",
    "    return np.array(list_text)"
   ]
  },
  {
   "cell_type": "code",
   "execution_count": 28,
   "id": "56170757",
   "metadata": {},
   "outputs": [
    {
     "data": {
      "text/plain": [
       "tensor([[ 0.1891, -0.1726, -0.4459,  ...,  0.1304, -0.0999, -0.0791],\n",
       "        [-0.0097, -0.0274,  0.5916,  ...,  0.2240,  0.1447,  0.2191],\n",
       "        [-0.0737, -0.1221,  0.3941,  ..., -0.1333,  0.1326,  0.1963],\n",
       "        ...,\n",
       "        [ 0.4487, -0.2816, -0.5717,  ...,  0.1426,  0.4588,  0.2127],\n",
       "        [ 0.2633,  0.3057,  0.2458,  ...,  0.1410,  0.1402,  0.3589],\n",
       "        [-0.2488,  0.0233, -0.4455,  ...,  0.1203, -0.1075,  0.1437]])"
      ]
     },
     "execution_count": 28,
     "metadata": {},
     "output_type": "execute_result"
    }
   ],
   "source": [
    "# tencor of the text part\n",
    "X_train_text_vec=text2vec(X_train_text,alpha=0.05, min_alpha=0.025, epochs=10)\n",
    "X_train_text_tensor=torch.Tensor(X_train_text_vec)\n",
    "X_train_text_tensor"
   ]
  },
  {
   "cell_type": "code",
   "execution_count": 29,
   "id": "e673de0e",
   "metadata": {},
   "outputs": [
    {
     "data": {
      "text/plain": [
       "tensor([ 0.1891, -0.1726, -0.4459, -0.6369, -0.1092,  0.4852, -0.0977,  0.2108,\n",
       "         0.2050,  0.1604,  0.3494,  0.2966, -0.1630, -0.2043, -0.1326, -0.3242,\n",
       "        -0.0978,  0.1337,  0.5905, -0.0138, -0.3458,  0.0818, -0.3403, -0.2796,\n",
       "         0.2571,  0.6421,  0.0553, -0.2078, -0.0721, -0.0134,  0.3456,  0.2033,\n",
       "        -0.2690, -0.0409, -0.2929, -0.1682, -0.2576, -0.0255,  0.0314, -0.2966,\n",
       "        -0.1660, -0.4310,  0.3253, -0.0348,  0.5358,  0.0649,  0.2638, -0.0198,\n",
       "        -0.1067,  0.5373,  0.0603,  0.2641,  0.0008, -0.3681,  0.2414, -0.1848,\n",
       "        -0.0776,  0.0448,  0.2742, -0.3375, -0.0438, -0.0858,  0.5241,  0.1783,\n",
       "         0.1783,  0.1135,  0.2864, -0.0883, -0.4336,  0.1020,  0.0168, -0.0649,\n",
       "         0.1552,  0.4201, -0.2344,  0.4878,  0.2410, -0.1763, -0.0793,  0.0391,\n",
       "        -0.1663, -0.1868, -0.4253, -0.2348,  0.1645, -0.3233,  0.0257, -0.0886,\n",
       "        -0.4830, -0.5818,  0.3695, -0.2037, -0.4331, -0.2452,  0.3438,  0.0239,\n",
       "         0.0021,  0.1304, -0.0999, -0.0791])"
      ]
     },
     "execution_count": 29,
     "metadata": {},
     "output_type": "execute_result"
    }
   ],
   "source": [
    "X_train_text_tensor[0]"
   ]
  },
  {
   "cell_type": "code",
   "execution_count": 30,
   "id": "367f3e8d",
   "metadata": {},
   "outputs": [
    {
     "data": {
      "text/plain": [
       "tensor([[ 1.9678e-01,  1.3962e-01, -1.2011e-01,  ...,  2.3719e-02,\n",
       "         -1.0452e-01,  1.3548e-01],\n",
       "        [ 1.0742e-02,  3.6920e-01, -1.6959e-01,  ...,  8.3528e-02,\n",
       "          1.0783e-01, -3.9078e-01],\n",
       "        [ 2.3560e-01, -6.0289e-02, -1.5973e-01,  ...,  2.7903e-02,\n",
       "          1.9778e-01, -1.8797e-02],\n",
       "        ...,\n",
       "        [-1.4762e-01,  1.8328e-01, -4.7985e-02,  ...,  4.6532e-03,\n",
       "          5.4372e-02, -1.3120e-01],\n",
       "        [ 6.8037e-01,  2.8168e-01, -4.2375e-01,  ...,  1.9363e-01,\n",
       "          2.4726e-02, -1.3919e-01],\n",
       "        [ 4.2878e-03,  2.3877e-03, -4.7562e-03,  ...,  4.4457e-03,\n",
       "         -3.9348e-03, -5.3238e-04]])"
      ]
     },
     "execution_count": 30,
     "metadata": {},
     "output_type": "execute_result"
    }
   ],
   "source": [
    "X_test_text_vec=text2vec(X_test_text,alpha=0.05, min_alpha=0.025, epochs=10)\n",
    "X_test_text_tensor=torch.Tensor(X_test_text_vec)\n",
    "X_test_text_tensor"
   ]
  },
  {
   "cell_type": "code",
   "execution_count": 31,
   "id": "68175e2c",
   "metadata": {},
   "outputs": [],
   "source": [
    "# tensor of the numeric part\n",
    "X_train_num_vec=X_train_num.values\n",
    "X_train_num_tensor=torch.Tensor(X_train_num_vec)\n",
    "X_test_num_vec=X_test_num.values\n",
    "X_test_num_tensor=torch.Tensor(X_test_num_vec)"
   ]
  },
  {
   "cell_type": "code",
   "execution_count": 32,
   "id": "34f495db",
   "metadata": {},
   "outputs": [],
   "source": [
    "y_train_tensor=torch.Tensor(y_train.to_numpy())\n",
    "y_train_tensor=y_train_tensor.reshape((-1,1))\n",
    "y_test_tensor=torch.Tensor(y_test.to_numpy())\n",
    "y_test_tensor=y_test_tensor.reshape((-1,1))"
   ]
  },
  {
   "cell_type": "code",
   "execution_count": 33,
   "id": "d173fa4b",
   "metadata": {},
   "outputs": [],
   "source": [
    "dataset_XY = torch.utils.data.TensorDataset(X_train_num_tensor,X_train_text_tensor, y_train_tensor)\n",
    "testset_XY = torch.utils.data.TensorDataset(X_test_num_tensor, X_test_text_tensor, y_test_tensor)"
   ]
  },
  {
   "cell_type": "code",
   "execution_count": null,
   "id": "30dbe654",
   "metadata": {},
   "outputs": [],
   "source": []
  },
  {
   "cell_type": "code",
   "execution_count": null,
   "id": "2286ce7c",
   "metadata": {},
   "outputs": [],
   "source": [
    "# ML methods"
   ]
  },
  {
   "cell_type": "code",
   "execution_count": 35,
   "id": "8167bcd8",
   "metadata": {},
   "outputs": [
    {
     "data": {
      "text/plain": [
       "(247778, 9)"
      ]
     },
     "execution_count": 35,
     "metadata": {},
     "output_type": "execute_result"
    }
   ],
   "source": [
    "X_train_num_vec.shape"
   ]
  },
  {
   "cell_type": "code",
   "execution_count": 37,
   "id": "94a0176c",
   "metadata": {},
   "outputs": [
    {
     "data": {
      "text/plain": [
       "(247778, 100)"
      ]
     },
     "execution_count": 37,
     "metadata": {},
     "output_type": "execute_result"
    }
   ],
   "source": [
    "X_train_text_vec.shape"
   ]
  },
  {
   "cell_type": "code",
   "execution_count": 38,
   "id": "6c009775",
   "metadata": {},
   "outputs": [],
   "source": [
    "def MAE(pred,real):\n",
    "    N=len(pred)\n",
    "    sum=0\n",
    "    for i in range(N):\n",
    "        sum+=abs(pred[i]-real[i])\n",
    "    return sum/N"
   ]
  },
  {
   "cell_type": "code",
   "execution_count": 45,
   "id": "8e245b96",
   "metadata": {},
   "outputs": [],
   "source": [
    "def ACC(pred,real):\n",
    "    N=len(pred)\n",
    "    sum=0\n",
    "    for i in range(N):\n",
    "        if pred[i]==real[i]:\n",
    "            sum+=1\n",
    "    return sum/N"
   ]
  },
  {
   "cell_type": "code",
   "execution_count": 40,
   "id": "f21a03a4",
   "metadata": {},
   "outputs": [
    {
     "data": {
      "text/plain": [
       "(247778, 109)"
      ]
     },
     "execution_count": 40,
     "metadata": {},
     "output_type": "execute_result"
    }
   ],
   "source": [
    "X_train_vec=np.hstack([X_train_text_vec,X_train_num_vec])\n",
    "X_train_vec.shape"
   ]
  },
  {
   "cell_type": "code",
   "execution_count": 48,
   "id": "ac4c08e6",
   "metadata": {},
   "outputs": [
    {
     "data": {
      "text/plain": [
       "(106191, 109)"
      ]
     },
     "execution_count": 48,
     "metadata": {},
     "output_type": "execute_result"
    }
   ],
   "source": [
    "X_test_vec=np.hstack([X_test_text_vec,X_test_num_vec])\n",
    "X_test_vec.shape"
   ]
  },
  {
   "cell_type": "code",
   "execution_count": 49,
   "id": "a943e085",
   "metadata": {},
   "outputs": [
    {
     "data": {
      "text/plain": [
       "(106191, 1)"
      ]
     },
     "execution_count": 49,
     "metadata": {},
     "output_type": "execute_result"
    }
   ],
   "source": [
    "y_test_vec=np.array(y_test).reshape((-1,1))\n",
    "y_test_vec.shape"
   ]
  },
  {
   "cell_type": "code",
   "execution_count": null,
   "id": "0fa3dded",
   "metadata": {},
   "outputs": [],
   "source": []
  },
  {
   "cell_type": "code",
   "execution_count": 51,
   "id": "fb75f3ad",
   "metadata": {},
   "outputs": [],
   "source": [
    "def model_result(model,X_train,y_train,X_test,y_test):\n",
    "    model.fit(X_train,y_train)\n",
    "    y_pred = model.predict(X_test)\n",
    "    y_pred = np.array([int(value) if value >= 0 else 0 for value in y_pred])\n",
    "    loss=MAE(y_pred,y_test)\n",
    "    acc=ACC(y_pred,y_test)\n",
    "    return loss,acc"
   ]
  },
  {
   "cell_type": "code",
   "execution_count": 54,
   "id": "640187f5",
   "metadata": {},
   "outputs": [],
   "source": [
    "model_Lasso=Lasso(alpha=0.1)\n",
    "loss_Lasso,acc_Lasso=model_result(model_Lasso,X_train_vec,y_train_vec,X_test_vec,y_test_vec)"
   ]
  },
  {
   "cell_type": "code",
   "execution_count": 55,
   "id": "f164d839",
   "metadata": {},
   "outputs": [
    {
     "data": {
      "text/plain": [
       "array([9.67214736])"
      ]
     },
     "execution_count": 55,
     "metadata": {},
     "output_type": "execute_result"
    }
   ],
   "source": [
    "loss_Lasso"
   ]
  },
  {
   "cell_type": "code",
   "execution_count": 56,
   "id": "751654d2",
   "metadata": {},
   "outputs": [
    {
     "data": {
      "text/plain": [
       "0.30940475181512556"
      ]
     },
     "execution_count": 56,
     "metadata": {},
     "output_type": "execute_result"
    }
   ],
   "source": [
    "acc_Lasso"
   ]
  },
  {
   "cell_type": "code",
   "execution_count": null,
   "id": "ff4277ae",
   "metadata": {},
   "outputs": [],
   "source": [
    "model_Knn=KNeighborsRegressor(n_neighbors=3)\n",
    "loss_Knn,acc_Knn=model_result(model_Knn,X_train_vec,y_train_vec,X_test_vec,y_test_vec)"
   ]
  },
  {
   "cell_type": "code",
   "execution_count": null,
   "id": "d7209c13",
   "metadata": {},
   "outputs": [],
   "source": [
    "loss_Knn"
   ]
  },
  {
   "cell_type": "code",
   "execution_count": null,
   "id": "506cbc71",
   "metadata": {},
   "outputs": [],
   "source": [
    "acc_Knn"
   ]
  },
  {
   "cell_type": "code",
   "execution_count": null,
   "id": "780a67a9",
   "metadata": {},
   "outputs": [],
   "source": []
  },
  {
   "cell_type": "code",
   "execution_count": null,
   "id": "d381b370",
   "metadata": {},
   "outputs": [],
   "source": []
  },
  {
   "cell_type": "code",
   "execution_count": null,
   "id": "4ff8321a",
   "metadata": {},
   "outputs": [],
   "source": []
  },
  {
   "cell_type": "code",
   "execution_count": null,
   "id": "4c9c2f5a",
   "metadata": {},
   "outputs": [],
   "source": [
    "# build the net 这里开始要改的"
   ]
  },
  {
   "cell_type": "code",
   "execution_count": 98,
   "id": "ad9946ed",
   "metadata": {},
   "outputs": [],
   "source": [
    "class RegressionNet(torch.nn.Module):\n",
    "    def __init__(self, height, width_num, width_text):\n",
    "        super(RegressionNet, self).__init__()\n",
    "        self.layer_num = torch.nn.Linear(height*width_num, height)\n",
    "        self.layer_text = torch.nn.Linear(height*width_text, height)\n",
    "        self.predict=torch.nn.Linear(height*2, height)\n",
    "    def forward(self, x_num,x_text):\n",
    "        x_num=x_num.flatten()\n",
    "        x_num=self.layer_num(x_num)\n",
    "        x_num = F.relu(x_num)\n",
    "        x_text=x_text.flatten()\n",
    "        x_text=self.layer_text(x_text)\n",
    "        x_text = F.relu(x_text)\n",
    "        x_tot=torch.concat([x_num,x_text])\n",
    "        x_tot=self.predict(x_tot)\n",
    "        # x_tot=x_tot.int()\n",
    "        return x_tot"
   ]
  },
  {
   "cell_type": "code",
   "execution_count": 100,
   "id": "3e9eee05",
   "metadata": {},
   "outputs": [],
   "source": [
    "batch_size=16"
   ]
  },
  {
   "cell_type": "code",
   "execution_count": 101,
   "id": "26d0f24f",
   "metadata": {},
   "outputs": [],
   "source": [
    "# 就取一小部分试试能不能跑，真用的时候记得把batch去掉\n",
    "dataset_XY_batch = torch.utils.data.TensorDataset(X_train_num_tensor[:batch_size*10],X_train_text_tensor[:batch_size*10], y_train_tensor[:batch_size*10])\n",
    "testset_XY_batch = torch.utils.data.TensorDataset(X_test_num_tensor[:batch_size*10], X_test_text_tensor[:batch_size*10], y_test_tensor[:batch_size*10])"
   ]
  },
  {
   "cell_type": "code",
   "execution_count": 103,
   "id": "b31b1d54",
   "metadata": {},
   "outputs": [],
   "source": [
    "RNet=RegressionNet(batch_size,X_train_num_tensor.shape[1],X_train_text_tensor.shape[1])"
   ]
  },
  {
   "cell_type": "code",
   "execution_count": 104,
   "id": "f6958aa2",
   "metadata": {},
   "outputs": [],
   "source": [
    "def trainer(data_train,model,loss_fn,epoch=100,batch_size=16,rate=1e-3):\n",
    "    optimiser=torch.optim.Adam(model.parameters(),lr=rate)\n",
    "    loader_train=torch.utils.data.DataLoader(dataset=data_train,batch_size=batch_size,shuffle=True)\n",
    "    for i in range(epoch):\n",
    "        print(\"epoch \"+str(i))\n",
    "        for step,(batch_x_num,batch_x_text,batch_y) in enumerate(loader_train):    \n",
    "            #print(batch_x.float())\n",
    "            pred=model(batch_x_num,batch_x_text)\n",
    "            #class_pred = torch.argmax(pred,dim = -1)\n",
    "            loss=loss_fn(pred,batch_y)  \n",
    "            \n",
    "            optimiser.zero_grad()\n",
    "            loss.backward()\n",
    "            optimiser.step()\n",
    "            if (step%1000==0):\n",
    "                print(\"now training step \"+str(step))\n",
    "                print(loss)"
   ]
  },
  {
   "cell_type": "code",
   "execution_count": 105,
   "id": "db774bae",
   "metadata": {},
   "outputs": [
    {
     "name": "stdout",
     "output_type": "stream",
     "text": [
      "epoch 0\n",
      "now training step 0\n",
      "tensor([59.8015], grad_fn=<DivBackward0>)\n",
      "epoch 1\n",
      "now training step 0\n",
      "tensor([1.9746], grad_fn=<DivBackward0>)\n",
      "epoch 2\n",
      "now training step 0\n",
      "tensor([1.3338], grad_fn=<DivBackward0>)\n",
      "epoch 3\n",
      "now training step 0\n",
      "tensor([3.6518], grad_fn=<DivBackward0>)\n",
      "epoch 4\n",
      "now training step 0\n",
      "tensor([9.1199], grad_fn=<DivBackward0>)\n",
      "epoch 5\n",
      "now training step 0\n",
      "tensor([61.1826], grad_fn=<DivBackward0>)\n",
      "epoch 6\n",
      "now training step 0\n",
      "tensor([1.5609], grad_fn=<DivBackward0>)\n",
      "epoch 7\n",
      "now training step 0\n",
      "tensor([30.8284], grad_fn=<DivBackward0>)\n",
      "epoch 8\n",
      "now training step 0\n",
      "tensor([59.1662], grad_fn=<DivBackward0>)\n",
      "epoch 9\n",
      "now training step 0\n",
      "tensor([2.2391], grad_fn=<DivBackward0>)\n",
      "epoch 10\n",
      "now training step 0\n",
      "tensor([1.7707], grad_fn=<DivBackward0>)\n",
      "epoch 11\n",
      "now training step 0\n",
      "tensor([9.7797], grad_fn=<DivBackward0>)\n",
      "epoch 12\n",
      "now training step 0\n",
      "tensor([1.6283], grad_fn=<DivBackward0>)\n",
      "epoch 13\n",
      "now training step 0\n",
      "tensor([1.1649], grad_fn=<DivBackward0>)\n",
      "epoch 14\n",
      "now training step 0\n",
      "tensor([1.3296], grad_fn=<DivBackward0>)\n",
      "epoch 15\n",
      "now training step 0\n",
      "tensor([60.8431], grad_fn=<DivBackward0>)\n",
      "epoch 16\n",
      "now training step 0\n",
      "tensor([2.0543], grad_fn=<DivBackward0>)\n",
      "epoch 17\n",
      "now training step 0\n",
      "tensor([61.6796], grad_fn=<DivBackward0>)\n",
      "epoch 18\n",
      "now training step 0\n",
      "tensor([1.6189], grad_fn=<DivBackward0>)\n",
      "epoch 19\n",
      "now training step 0\n",
      "tensor([7.6766], grad_fn=<DivBackward0>)\n",
      "epoch 20\n",
      "now training step 0\n",
      "tensor([1.7336], grad_fn=<DivBackward0>)\n",
      "epoch 21\n",
      "now training step 0\n",
      "tensor([1.9558], grad_fn=<DivBackward0>)\n",
      "epoch 22\n",
      "now training step 0\n",
      "tensor([2.0822], grad_fn=<DivBackward0>)\n",
      "epoch 23\n",
      "now training step 0\n",
      "tensor([1.0908], grad_fn=<DivBackward0>)\n",
      "epoch 24\n",
      "now training step 0\n",
      "tensor([1.6789], grad_fn=<DivBackward0>)\n",
      "epoch 25\n",
      "now training step 0\n",
      "tensor([21.2872], grad_fn=<DivBackward0>)\n",
      "epoch 26\n",
      "now training step 0\n",
      "tensor([79.9641], grad_fn=<DivBackward0>)\n",
      "epoch 27\n",
      "now training step 0\n",
      "tensor([1.2530], grad_fn=<DivBackward0>)\n",
      "epoch 28\n",
      "now training step 0\n",
      "tensor([2.7021], grad_fn=<DivBackward0>)\n",
      "epoch 29\n",
      "now training step 0\n",
      "tensor([7.6288], grad_fn=<DivBackward0>)\n",
      "epoch 30\n",
      "now training step 0\n",
      "tensor([1.5887], grad_fn=<DivBackward0>)\n",
      "epoch 31\n",
      "now training step 0\n",
      "tensor([1.4966], grad_fn=<DivBackward0>)\n",
      "epoch 32\n",
      "now training step 0\n",
      "tensor([0.9333], grad_fn=<DivBackward0>)\n",
      "epoch 33\n",
      "now training step 0\n",
      "tensor([21.7878], grad_fn=<DivBackward0>)\n",
      "epoch 34\n",
      "now training step 0\n",
      "tensor([2.0575], grad_fn=<DivBackward0>)\n",
      "epoch 35\n",
      "now training step 0\n",
      "tensor([15.7546], grad_fn=<DivBackward0>)\n",
      "epoch 36\n",
      "now training step 0\n",
      "tensor([23.0298], grad_fn=<DivBackward0>)\n",
      "epoch 37\n",
      "now training step 0\n",
      "tensor([1.6106], grad_fn=<DivBackward0>)\n",
      "epoch 38\n",
      "now training step 0\n",
      "tensor([2.6244], grad_fn=<DivBackward0>)\n",
      "epoch 39\n",
      "now training step 0\n",
      "tensor([3.2984], grad_fn=<DivBackward0>)\n",
      "epoch 40\n",
      "now training step 0\n",
      "tensor([1.6892], grad_fn=<DivBackward0>)\n",
      "epoch 41\n",
      "now training step 0\n",
      "tensor([1.7145], grad_fn=<DivBackward0>)\n",
      "epoch 42\n",
      "now training step 0\n",
      "tensor([2.4439], grad_fn=<DivBackward0>)\n",
      "epoch 43\n",
      "now training step 0\n",
      "tensor([58.7554], grad_fn=<DivBackward0>)\n",
      "epoch 44\n",
      "now training step 0\n",
      "tensor([61.4874], grad_fn=<DivBackward0>)\n",
      "epoch 45\n",
      "now training step 0\n",
      "tensor([22.1573], grad_fn=<DivBackward0>)\n",
      "epoch 46\n",
      "now training step 0\n",
      "tensor([1.2406], grad_fn=<DivBackward0>)\n",
      "epoch 47\n",
      "now training step 0\n",
      "tensor([1.3680], grad_fn=<DivBackward0>)\n",
      "epoch 48\n",
      "now training step 0\n",
      "tensor([21.7527], grad_fn=<DivBackward0>)\n",
      "epoch 49\n",
      "now training step 0\n",
      "tensor([118.9556], grad_fn=<DivBackward0>)\n",
      "epoch 50\n",
      "now training step 0\n",
      "tensor([2.9142], grad_fn=<DivBackward0>)\n",
      "epoch 51\n",
      "now training step 0\n",
      "tensor([1.4788], grad_fn=<DivBackward0>)\n",
      "epoch 52\n",
      "now training step 0\n",
      "tensor([1.1117], grad_fn=<DivBackward0>)\n",
      "epoch 53\n",
      "now training step 0\n",
      "tensor([2.7670], grad_fn=<DivBackward0>)\n",
      "epoch 54\n",
      "now training step 0\n",
      "tensor([1.4854], grad_fn=<DivBackward0>)\n",
      "epoch 55\n",
      "now training step 0\n",
      "tensor([58.9087], grad_fn=<DivBackward0>)\n",
      "epoch 56\n",
      "now training step 0\n",
      "tensor([1.2864], grad_fn=<DivBackward0>)\n",
      "epoch 57\n",
      "now training step 0\n",
      "tensor([21.9498], grad_fn=<DivBackward0>)\n",
      "epoch 58\n",
      "now training step 0\n",
      "tensor([21.0221], grad_fn=<DivBackward0>)\n",
      "epoch 59\n",
      "now training step 0\n",
      "tensor([2.6191], grad_fn=<DivBackward0>)\n",
      "epoch 60\n",
      "now training step 0\n",
      "tensor([10.5585], grad_fn=<DivBackward0>)\n",
      "epoch 61\n",
      "now training step 0\n",
      "tensor([1.8374], grad_fn=<DivBackward0>)\n",
      "epoch 62\n",
      "now training step 0\n",
      "tensor([2.0771], grad_fn=<DivBackward0>)\n",
      "epoch 63\n",
      "now training step 0\n",
      "tensor([2.9204], grad_fn=<DivBackward0>)\n",
      "epoch 64\n",
      "now training step 0\n",
      "tensor([22.5754], grad_fn=<DivBackward0>)\n",
      "epoch 65\n",
      "now training step 0\n",
      "tensor([1.1032], grad_fn=<DivBackward0>)\n",
      "epoch 66\n",
      "now training step 0\n",
      "tensor([10.2092], grad_fn=<DivBackward0>)\n",
      "epoch 67\n",
      "now training step 0\n",
      "tensor([2.2107], grad_fn=<DivBackward0>)\n",
      "epoch 68\n",
      "now training step 0\n",
      "tensor([1.6115], grad_fn=<DivBackward0>)\n",
      "epoch 69\n",
      "now training step 0\n",
      "tensor([1.4132], grad_fn=<DivBackward0>)\n",
      "epoch 70\n",
      "now training step 0\n",
      "tensor([1.9387], grad_fn=<DivBackward0>)\n",
      "epoch 71\n",
      "now training step 0\n",
      "tensor([3.1534], grad_fn=<DivBackward0>)\n",
      "epoch 72\n",
      "now training step 0\n",
      "tensor([1.2410], grad_fn=<DivBackward0>)\n",
      "epoch 73\n",
      "now training step 0\n",
      "tensor([2.2633], grad_fn=<DivBackward0>)\n",
      "epoch 74\n",
      "now training step 0\n",
      "tensor([2.1058], grad_fn=<DivBackward0>)\n",
      "epoch 75\n",
      "now training step 0\n",
      "tensor([2.9592], grad_fn=<DivBackward0>)\n",
      "epoch 76\n",
      "now training step 0\n",
      "tensor([8.7057], grad_fn=<DivBackward0>)\n",
      "epoch 77\n",
      "now training step 0\n",
      "tensor([9.5004], grad_fn=<DivBackward0>)\n",
      "epoch 78\n",
      "now training step 0\n",
      "tensor([1.4348], grad_fn=<DivBackward0>)\n",
      "epoch 79\n",
      "now training step 0\n",
      "tensor([8.1599], grad_fn=<DivBackward0>)\n",
      "epoch 80\n",
      "now training step 0\n",
      "tensor([2.4371], grad_fn=<DivBackward0>)\n",
      "epoch 81\n",
      "now training step 0\n",
      "tensor([10.0586], grad_fn=<DivBackward0>)\n",
      "epoch 82\n",
      "now training step 0\n",
      "tensor([10.1068], grad_fn=<DivBackward0>)\n",
      "epoch 83\n",
      "now training step 0\n",
      "tensor([1.2124], grad_fn=<DivBackward0>)\n",
      "epoch 84\n",
      "now training step 0\n",
      "tensor([60.7163], grad_fn=<DivBackward0>)\n",
      "epoch 85\n",
      "now training step 0\n",
      "tensor([1.8502], grad_fn=<DivBackward0>)\n",
      "epoch 86\n",
      "now training step 0\n",
      "tensor([2.0574], grad_fn=<DivBackward0>)\n",
      "epoch 87\n",
      "now training step 0\n",
      "tensor([27.1963], grad_fn=<DivBackward0>)\n",
      "epoch 88\n",
      "now training step 0\n",
      "tensor([2.1964], grad_fn=<DivBackward0>)\n",
      "epoch 89\n",
      "now training step 0\n",
      "tensor([21.1473], grad_fn=<DivBackward0>)\n",
      "epoch 90\n",
      "now training step 0\n",
      "tensor([2.0910], grad_fn=<DivBackward0>)\n",
      "epoch 91\n",
      "now training step 0\n",
      "tensor([2.5339], grad_fn=<DivBackward0>)\n",
      "epoch 92\n",
      "now training step 0\n",
      "tensor([60.4262], grad_fn=<DivBackward0>)\n",
      "epoch 93\n",
      "now training step 0\n",
      "tensor([9.7346], grad_fn=<DivBackward0>)\n",
      "epoch 94\n",
      "now training step 0\n",
      "tensor([1.8142], grad_fn=<DivBackward0>)\n",
      "epoch 95\n",
      "now training step 0\n",
      "tensor([1.8942], grad_fn=<DivBackward0>)\n",
      "epoch 96\n",
      "now training step 0\n",
      "tensor([1.8192], grad_fn=<DivBackward0>)\n",
      "epoch 97\n",
      "now training step 0\n",
      "tensor([59.3846], grad_fn=<DivBackward0>)\n",
      "epoch 98\n",
      "now training step 0\n",
      "tensor([59.2537], grad_fn=<DivBackward0>)\n",
      "epoch 99\n",
      "now training step 0\n",
      "tensor([59.1818], grad_fn=<DivBackward0>)\n"
     ]
    }
   ],
   "source": [
    "trainer(dataset_XY_batch,RNet,MAE,epoch=100,batch_size=batch_size,rate=1e-3)"
   ]
  },
  {
   "cell_type": "code",
   "execution_count": 120,
   "id": "1bd31911",
   "metadata": {},
   "outputs": [],
   "source": [
    "def success_rate(model,loss_fn,batch_size,test_data):\n",
    "    loader_test=torch.utils.data.DataLoader(dataset=test_data,batch_size=batch_size,shuffle=True)\n",
    "    total=0\n",
    "    total_loss=0\n",
    "    for step,(batch_x_num,batch_x_text,batch_y) in enumerate(loader_test):    \n",
    "            #print(batch_x.float())\n",
    "        pred=model(batch_x_num,batch_x_text)\n",
    "            #class_pred = torch.argmax(pred,dim = -1)\n",
    "        loss=loss_fn(pred,batch_y)  \n",
    "        total_loss+=loss\n",
    "        for i in range(len(pred)):\n",
    "            if int(pred[i])==int(batch_y[i]):\n",
    "                total+=1\n",
    "        # 应该要把预测结果都变成int的，但这样可能产生预测结果全是0，求不了梯度不能反向传播了，要想个办法\n",
    "    return total/len(test_data),total_loss"
   ]
  },
  {
   "cell_type": "code",
   "execution_count": 121,
   "id": "35bb6ee1",
   "metadata": {},
   "outputs": [
    {
     "name": "stdout",
     "output_type": "stream",
     "text": [
      "0.24375\n",
      "tensor([135.0616], grad_fn=<AddBackward0>)\n"
     ]
    }
   ],
   "source": [
    "# 屎一样的准确率和误差\n",
    "accuracy,MAE_loss=success_rate(RNet,MAE,batch_size,testset_XY_batch)\n",
    "print(accuracy)\n",
    "print(MAE_loss)"
   ]
  },
  {
   "cell_type": "code",
   "execution_count": null,
   "id": "1d67a14a",
   "metadata": {},
   "outputs": [],
   "source": [
    "# start evaluation"
   ]
  },
  {
   "cell_type": "code",
   "execution_count": 132,
   "id": "649c657e",
   "metadata": {},
   "outputs": [
    {
     "data": {
      "text/html": [
       "<div>\n",
       "<style scoped>\n",
       "    .dataframe tbody tr th:only-of-type {\n",
       "        vertical-align: middle;\n",
       "    }\n",
       "\n",
       "    .dataframe tbody tr th {\n",
       "        vertical-align: top;\n",
       "    }\n",
       "\n",
       "    .dataframe thead th {\n",
       "        text-align: right;\n",
       "    }\n",
       "</style>\n",
       "<table border=\"1\" class=\"dataframe\">\n",
       "  <thead>\n",
       "    <tr style=\"text-align: right;\">\n",
       "      <th></th>\n",
       "      <th>text</th>\n",
       "      <th>favorites_count</th>\n",
       "      <th>followers_count</th>\n",
       "      <th>statuses_count</th>\n",
       "      <th>friends_count</th>\n",
       "      <th>mentions</th>\n",
       "      <th>urls</th>\n",
       "      <th>verified</th>\n",
       "      <th>hashtags</th>\n",
       "      <th>timestamp</th>\n",
       "      <th>TweetID</th>\n",
       "    </tr>\n",
       "  </thead>\n",
       "  <tbody>\n",
       "    <tr>\n",
       "      <th>0</th>\n",
       "      <td>descendue pourcentage vote</td>\n",
       "      <td>0</td>\n",
       "      <td>85</td>\n",
       "      <td>4442</td>\n",
       "      <td>327</td>\n",
       "      <td>[]</td>\n",
       "      <td>[]</td>\n",
       "      <td>0</td>\n",
       "      <td>['presidentielle2022', 'hidalgo']</td>\n",
       "      <td>1647607994000</td>\n",
       "      <td>1184643</td>\n",
       "    </tr>\n",
       "    <tr>\n",
       "      <th>1</th>\n",
       "      <td>photo demande arbre généalogique</td>\n",
       "      <td>0</td>\n",
       "      <td>427</td>\n",
       "      <td>33282</td>\n",
       "      <td>443</td>\n",
       "      <td>[]</td>\n",
       "      <td>[]</td>\n",
       "      <td>0</td>\n",
       "      <td>[]</td>\n",
       "      <td>1647601275000</td>\n",
       "      <td>1199190</td>\n",
       "    </tr>\n",
       "    <tr>\n",
       "      <th>2</th>\n",
       "      <td>dossiers promis poste gars vraiment fiable</td>\n",
       "      <td>6</td>\n",
       "      <td>1127</td>\n",
       "      <td>13111</td>\n",
       "      <td>1596</td>\n",
       "      <td>[]</td>\n",
       "      <td>[]</td>\n",
       "      <td>0</td>\n",
       "      <td>['macron']</td>\n",
       "      <td>1646900684000</td>\n",
       "      <td>917372</td>\n",
       "    </tr>\n",
       "    <tr>\n",
       "      <th>3</th>\n",
       "      <td>lol cas faut second tour macron sortir définit...</td>\n",
       "      <td>2</td>\n",
       "      <td>1699</td>\n",
       "      <td>25760</td>\n",
       "      <td>2036</td>\n",
       "      <td>[]</td>\n",
       "      <td>['https://t.co/7ox54d8dlm']</td>\n",
       "      <td>0</td>\n",
       "      <td>[]</td>\n",
       "      <td>1647161294000</td>\n",
       "      <td>731754</td>\n",
       "    </tr>\n",
       "    <tr>\n",
       "      <th>4</th>\n",
       "      <td>zemmour putain discours propagandiste littéral...</td>\n",
       "      <td>0</td>\n",
       "      <td>249</td>\n",
       "      <td>20718</td>\n",
       "      <td>369</td>\n",
       "      <td>[]</td>\n",
       "      <td>['https://t.co/tsw9cg6v9j', 'https://t.co/t0j9...</td>\n",
       "      <td>0</td>\n",
       "      <td>[]</td>\n",
       "      <td>1647724874000</td>\n",
       "      <td>1400049</td>\n",
       "    </tr>\n",
       "  </tbody>\n",
       "</table>\n",
       "</div>"
      ],
      "text/plain": [
       "                                                text  favorites_count  \\\n",
       "0                         descendue pourcentage vote                0   \n",
       "1                   photo demande arbre généalogique                0   \n",
       "2         dossiers promis poste gars vraiment fiable                6   \n",
       "3  lol cas faut second tour macron sortir définit...                2   \n",
       "4  zemmour putain discours propagandiste littéral...                0   \n",
       "\n",
       "   followers_count  statuses_count  friends_count mentions  \\\n",
       "0               85            4442            327       []   \n",
       "1              427           33282            443       []   \n",
       "2             1127           13111           1596       []   \n",
       "3             1699           25760           2036       []   \n",
       "4              249           20718            369       []   \n",
       "\n",
       "                                                urls  verified  \\\n",
       "0                                                 []         0   \n",
       "1                                                 []         0   \n",
       "2                                                 []         0   \n",
       "3                        ['https://t.co/7ox54d8dlm']         0   \n",
       "4  ['https://t.co/tsw9cg6v9j', 'https://t.co/t0j9...         0   \n",
       "\n",
       "                            hashtags      timestamp  TweetID  \n",
       "0  ['presidentielle2022', 'hidalgo']  1647607994000  1184643  \n",
       "1                                 []  1647601275000  1199190  \n",
       "2                         ['macron']  1646900684000   917372  \n",
       "3                                 []  1647161294000   731754  \n",
       "4                                 []  1647724874000  1400049  "
      ]
     },
     "execution_count": 132,
     "metadata": {},
     "output_type": "execute_result"
    }
   ],
   "source": [
    "X_eval = pd.read_csv(\"data/evaluation.csv\")\n",
    "X_eval.head()"
   ]
  },
  {
   "cell_type": "code",
   "execution_count": 133,
   "id": "3667398f",
   "metadata": {},
   "outputs": [],
   "source": [
    "count_num(X_eval,[\"mentions\",\"urls\",\"hashtags\"])\n",
    "standardise(X_eval,[\"favorites_count\",\"followers_count\",\"statuses_count\",\"friends_count\",\"mentions\",\"urls\",\"verified\",\"hashtags\",\"timestamp\"])"
   ]
  },
  {
   "cell_type": "code",
   "execution_count": 134,
   "id": "b047b572",
   "metadata": {},
   "outputs": [],
   "source": [
    "X_eval_num=X_eval[[\"favorites_count\",\"followers_count\",\"statuses_count\",\"friends_count\",\"mentions\",\"urls\",\"verified\",\"hashtags\",\"timestamp\"]]\n",
    "X_eval_text=X_eval[\"text\"]"
   ]
  },
  {
   "cell_type": "code",
   "execution_count": 135,
   "id": "a554f4e1",
   "metadata": {},
   "outputs": [
    {
     "data": {
      "text/plain": [
       "tensor([[ 0.1203,  0.0341, -0.0505,  ..., -0.0175, -0.1900,  0.4095],\n",
       "        [-0.0866,  0.0757,  0.1707,  ...,  0.0975,  0.0957, -0.1442],\n",
       "        [ 0.5045,  0.3030, -0.5510,  ...,  0.0991,  0.2207,  0.1374],\n",
       "        ...,\n",
       "        [ 0.1202, -0.0215,  0.4697,  ..., -0.4211,  0.1100,  0.2946],\n",
       "        [ 0.4166,  0.6918, -0.1486,  ...,  0.4981, -0.0503,  0.5017],\n",
       "        [-0.1856,  0.1329,  0.0368,  ...,  0.0999, -0.1310,  0.2792]])"
      ]
     },
     "execution_count": 135,
     "metadata": {},
     "output_type": "execute_result"
    }
   ],
   "source": [
    "X_eval_text_vec=text2vec(X_eval_text,alpha=0.05, min_alpha=0.025, epochs=10)\n",
    "X_eval_text_tensor=torch.Tensor(X_eval_text_vec)\n",
    "X_eval_text_tensor"
   ]
  },
  {
   "cell_type": "code",
   "execution_count": 136,
   "id": "6cd71c37",
   "metadata": {},
   "outputs": [],
   "source": [
    "X_eval_num_vec=X_eval_num.values\n",
    "X_eval_num_tensor=torch.Tensor(X_eval_num_vec)"
   ]
  },
  {
   "cell_type": "code",
   "execution_count": 148,
   "id": "5c4958ec",
   "metadata": {},
   "outputs": [],
   "source": [
    "dataset_eval = torch.utils.data.TensorDataset(X_eval_num_tensor,X_eval_text_tensor)\n",
    "dataset_eval_batch = torch.utils.data.TensorDataset(X_eval_num_tensor[:batch_size*10],X_eval_text_tensor[:batch_size*10])"
   ]
  },
  {
   "cell_type": "code",
   "execution_count": 165,
   "id": "50b04bdc",
   "metadata": {},
   "outputs": [],
   "source": [
    "def evaluate(model,batch_size,test_eval):\n",
    "    res=[]\n",
    "    loader_eval=torch.utils.data.DataLoader(dataset=test_eval,batch_size=batch_size,shuffle=True)\n",
    "    for step,(batch_x_num,batch_x_text) in enumerate(loader_eval):    \n",
    "            #print(batch_x.float())\n",
    "        pred=model(batch_x_num,batch_x_text)\n",
    "            #class_pred = torch.argmax(pred,dim = -1)\n",
    "        for i in range(len(pred)):\n",
    "            res.append(float(pred[i]))\n",
    "        if (step%10==0):\n",
    "                print(\"now training step \"+str(step))\n",
    "    return res"
   ]
  },
  {
   "cell_type": "code",
   "execution_count": 166,
   "id": "bfe34ad3",
   "metadata": {},
   "outputs": [
    {
     "name": "stdout",
     "output_type": "stream",
     "text": [
      "now training step 0\n"
     ]
    }
   ],
   "source": [
    "evaluations=evaluate(RNet,batch_size,dataset_eval_batch)"
   ]
  },
  {
   "cell_type": "code",
   "execution_count": 168,
   "id": "b490499d",
   "metadata": {},
   "outputs": [
    {
     "data": {
      "text/plain": [
       "[1.171513319015503,\n",
       " 1.0925911664962769,\n",
       " 0.6914440989494324,\n",
       " 0.9591779112815857,\n",
       " 1.405458688735962]"
      ]
     },
     "execution_count": 168,
     "metadata": {},
     "output_type": "execute_result"
    }
   ],
   "source": [
    "evaluations[:5]"
   ]
  },
  {
   "cell_type": "code",
   "execution_count": 169,
   "id": "a8fed4c8",
   "metadata": {},
   "outputs": [],
   "source": [
    "with open(\"my_predictions.txt\", 'w') as f:\n",
    "    writer = csv.writer(f)\n",
    "    writer.writerow([\"TweetID\", \"retweets_count\"])\n",
    "    for index, prediction in enumerate(evaluations):\n",
    "        writer.writerow([str(X_eval['TweetID'].iloc[index]) , str(int(prediction))])"
   ]
  },
  {
   "cell_type": "code",
   "execution_count": null,
   "id": "132a19be",
   "metadata": {},
   "outputs": [],
   "source": []
  }
 ],
 "metadata": {
  "kernelspec": {
   "display_name": "Python 3 (ipykernel)",
   "language": "python",
   "name": "python3"
  },
  "language_info": {
   "codemirror_mode": {
    "name": "ipython",
    "version": 3
   },
   "file_extension": ".py",
   "mimetype": "text/x-python",
   "name": "python",
   "nbconvert_exporter": "python",
   "pygments_lexer": "ipython3",
   "version": "3.8.0"
  }
 },
 "nbformat": 4,
 "nbformat_minor": 5
}
