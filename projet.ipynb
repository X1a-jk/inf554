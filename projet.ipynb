{
 "cells": [
  {
   "cell_type": "code",
   "execution_count": null,
   "id": "f018519c",
   "metadata": {},
   "outputs": [],
   "source": [
    "# 思路：把数据分成两部分，一部分只有数字变量，一部分是text\n",
    "# 分别进行embedding化成向量后在训练的途中结合在一起，最后求出回归的值"
   ]
  },
  {
   "cell_type": "code",
   "execution_count": null,
   "id": "7d0ed507",
   "metadata": {},
   "outputs": [],
   "source": [
    "# Training process"
   ]
  },
  {
   "cell_type": "code",
   "execution_count": 58,
   "id": "a06bcb0c",
   "metadata": {},
   "outputs": [],
   "source": [
    "import csv\n",
    "import numpy as np\n",
    "import pandas as pd\n",
    "from sklearn.ensemble import GradientBoostingRegressor\n",
    "from sklearn.dummy import DummyRegressor\n",
    "from sklearn.feature_extraction.text import TfidfVectorizer\n",
    "from sklearn.metrics import mean_absolute_error\n",
    "from sklearn.linear_model import Lasso\n",
    "from sklearn.ensemble import RandomForestRegressor\n",
    "from sklearn.neighbors import KNeighborsRegressor\n",
    "from sklearn.svm import SVR\n",
    "from sklearn.linear_model import LinearRegression\n",
    "from sklearn.linear_model import LogisticRegression\n",
    "from sklearn.decomposition import PCA\n",
    "\n",
    "from verstack.stratified_continuous_split import scsplit # pip install verstack\n",
    "from nltk.corpus import stopwords \n",
    "\n",
    "import torch\n",
    "import torch.nn.functional as F\n",
    "\n",
    "\n",
    "\n",
    "from scipy import spatial\n",
    "import matplotlib.pyplot as plt\n",
    "from sklearn.manifold import TSNE\n",
    "\n",
    "import os\n",
    "import gensim\n",
    "from gensim.models.doc2vec import Doc2Vec\n",
    "import warnings\n",
    "warnings.filterwarnings(action='ignore', category=UserWarning, module='gensim')"
   ]
  },
  {
   "cell_type": "code",
   "execution_count": 2,
   "id": "6a9a4207",
   "metadata": {},
   "outputs": [
    {
     "data": {
      "text/html": [
       "<div>\n",
       "<style scoped>\n",
       "    .dataframe tbody tr th:only-of-type {\n",
       "        vertical-align: middle;\n",
       "    }\n",
       "\n",
       "    .dataframe tbody tr th {\n",
       "        vertical-align: top;\n",
       "    }\n",
       "\n",
       "    .dataframe thead th {\n",
       "        text-align: right;\n",
       "    }\n",
       "</style>\n",
       "<table border=\"1\" class=\"dataframe\">\n",
       "  <thead>\n",
       "    <tr style=\"text-align: right;\">\n",
       "      <th></th>\n",
       "      <th>text</th>\n",
       "      <th>retweets_count</th>\n",
       "      <th>favorites_count</th>\n",
       "      <th>followers_count</th>\n",
       "      <th>statuses_count</th>\n",
       "      <th>friends_count</th>\n",
       "      <th>mentions</th>\n",
       "      <th>urls</th>\n",
       "      <th>verified</th>\n",
       "      <th>hashtags</th>\n",
       "      <th>timestamp</th>\n",
       "      <th>TweetID</th>\n",
       "    </tr>\n",
       "  </thead>\n",
       "  <tbody>\n",
       "    <tr>\n",
       "      <th>0</th>\n",
       "      <td>rt refarcir macron ans nom prépare</td>\n",
       "      <td>3</td>\n",
       "      <td>0</td>\n",
       "      <td>3682</td>\n",
       "      <td>453535</td>\n",
       "      <td>3628</td>\n",
       "      <td>[]</td>\n",
       "      <td>[]</td>\n",
       "      <td>0</td>\n",
       "      <td>[]</td>\n",
       "      <td>1646978048000</td>\n",
       "      <td>832509</td>\n",
       "    </tr>\n",
       "    <tr>\n",
       "      <th>1</th>\n",
       "      <td>populaire</td>\n",
       "      <td>0</td>\n",
       "      <td>0</td>\n",
       "      <td>86</td>\n",
       "      <td>1016</td>\n",
       "      <td>284</td>\n",
       "      <td>[]</td>\n",
       "      <td>[]</td>\n",
       "      <td>0</td>\n",
       "      <td>[]</td>\n",
       "      <td>1647694288000</td>\n",
       "      <td>1388011</td>\n",
       "    </tr>\n",
       "    <tr>\n",
       "      <th>2</th>\n",
       "      <td>faut dégager cinglé</td>\n",
       "      <td>3</td>\n",
       "      <td>1</td>\n",
       "      <td>1944</td>\n",
       "      <td>28234</td>\n",
       "      <td>1995</td>\n",
       "      <td>[]</td>\n",
       "      <td>[]</td>\n",
       "      <td>0</td>\n",
       "      <td>[]</td>\n",
       "      <td>1647370048000</td>\n",
       "      <td>63896</td>\n",
       "    </tr>\n",
       "    <tr>\n",
       "      <th>3</th>\n",
       "      <td>enseignants mettre prescriptions président rép...</td>\n",
       "      <td>0</td>\n",
       "      <td>0</td>\n",
       "      <td>1</td>\n",
       "      <td>1072</td>\n",
       "      <td>0</td>\n",
       "      <td>[]</td>\n",
       "      <td>['https://t.co/rytlted08g']</td>\n",
       "      <td>0</td>\n",
       "      <td>[]</td>\n",
       "      <td>1647256282000</td>\n",
       "      <td>979251</td>\n",
       "    </tr>\n",
       "    <tr>\n",
       "      <th>4</th>\n",
       "      <td>mafieuse oppressive macron</td>\n",
       "      <td>0</td>\n",
       "      <td>0</td>\n",
       "      <td>13957</td>\n",
       "      <td>25311</td>\n",
       "      <td>10841</td>\n",
       "      <td>[]</td>\n",
       "      <td>[]</td>\n",
       "      <td>0</td>\n",
       "      <td>[]</td>\n",
       "      <td>1647258374000</td>\n",
       "      <td>1040049</td>\n",
       "    </tr>\n",
       "  </tbody>\n",
       "</table>\n",
       "</div>"
      ],
      "text/plain": [
       "                                                text  retweets_count  \\\n",
       "0                 rt refarcir macron ans nom prépare               3   \n",
       "1                                          populaire               0   \n",
       "2                                faut dégager cinglé               3   \n",
       "3  enseignants mettre prescriptions président rép...               0   \n",
       "4                         mafieuse oppressive macron               0   \n",
       "\n",
       "   favorites_count  followers_count  statuses_count  friends_count mentions  \\\n",
       "0                0             3682          453535           3628       []   \n",
       "1                0               86            1016            284       []   \n",
       "2                1             1944           28234           1995       []   \n",
       "3                0                1            1072              0       []   \n",
       "4                0            13957           25311          10841       []   \n",
       "\n",
       "                          urls  verified hashtags      timestamp  TweetID  \n",
       "0                           []         0       []  1646978048000   832509  \n",
       "1                           []         0       []  1647694288000  1388011  \n",
       "2                           []         0       []  1647370048000    63896  \n",
       "3  ['https://t.co/rytlted08g']         0       []  1647256282000   979251  \n",
       "4                           []         0       []  1647258374000  1040049  "
      ]
     },
     "execution_count": 2,
     "metadata": {},
     "output_type": "execute_result"
    }
   ],
   "source": [
    "# Load the training data\n",
    "train_data = pd.read_csv(\"data/train.csv\")\n",
    "train_data.head()"
   ]
  },
  {
   "cell_type": "code",
   "execution_count": 63,
   "id": "133de758",
   "metadata": {},
   "outputs": [
    {
     "data": {
      "text/plain": [
       "(353969, 12)"
      ]
     },
     "execution_count": 63,
     "metadata": {},
     "output_type": "execute_result"
    }
   ],
   "source": [
    "train_data.shape"
   ]
  },
  {
   "cell_type": "code",
   "execution_count": 43,
   "id": "e0e56170",
   "metadata": {},
   "outputs": [],
   "source": [
    "# replace the columns of [\"mentions\",\"urls\",\"hashtags\"] by the number of their elements\n",
    "def count_item(str_):\n",
    "    str_=str_[1:-1]\n",
    "    if (len(str_)==0):\n",
    "        return 0\n",
    "    list_str_=str_.split(\",\")\n",
    "    return len(list_str_)"
   ]
  },
  {
   "cell_type": "code",
   "execution_count": 44,
   "id": "47fd19b5",
   "metadata": {},
   "outputs": [],
   "source": [
    "def count_num(data,list_column):\n",
    "    for name_column in list_column:\n",
    "        data[name_column]=[count_item(content) for content in data[name_column]]"
   ]
  },
  {
   "cell_type": "code",
   "execution_count": 47,
   "id": "911bdbdb",
   "metadata": {},
   "outputs": [],
   "source": [
    "data_analyse=train_data.drop([\"TweetID\",\"timestamp\",\"text\"], axis=1)\n",
    "count_num(data_analyse,[\"mentions\",\"urls\",\"hashtags\"])"
   ]
  },
  {
   "cell_type": "code",
   "execution_count": 48,
   "id": "e95e5877",
   "metadata": {},
   "outputs": [
    {
     "data": {
      "text/html": [
       "<div>\n",
       "<style scoped>\n",
       "    .dataframe tbody tr th:only-of-type {\n",
       "        vertical-align: middle;\n",
       "    }\n",
       "\n",
       "    .dataframe tbody tr th {\n",
       "        vertical-align: top;\n",
       "    }\n",
       "\n",
       "    .dataframe thead th {\n",
       "        text-align: right;\n",
       "    }\n",
       "</style>\n",
       "<table border=\"1\" class=\"dataframe\">\n",
       "  <thead>\n",
       "    <tr style=\"text-align: right;\">\n",
       "      <th></th>\n",
       "      <th>retweets_count</th>\n",
       "      <th>favorites_count</th>\n",
       "      <th>followers_count</th>\n",
       "      <th>statuses_count</th>\n",
       "      <th>friends_count</th>\n",
       "      <th>mentions</th>\n",
       "      <th>urls</th>\n",
       "      <th>verified</th>\n",
       "      <th>hashtags</th>\n",
       "    </tr>\n",
       "  </thead>\n",
       "  <tbody>\n",
       "    <tr>\n",
       "      <th>0</th>\n",
       "      <td>3</td>\n",
       "      <td>0</td>\n",
       "      <td>3682</td>\n",
       "      <td>453535</td>\n",
       "      <td>3628</td>\n",
       "      <td>0</td>\n",
       "      <td>0</td>\n",
       "      <td>0</td>\n",
       "      <td>0</td>\n",
       "    </tr>\n",
       "    <tr>\n",
       "      <th>1</th>\n",
       "      <td>0</td>\n",
       "      <td>0</td>\n",
       "      <td>86</td>\n",
       "      <td>1016</td>\n",
       "      <td>284</td>\n",
       "      <td>0</td>\n",
       "      <td>0</td>\n",
       "      <td>0</td>\n",
       "      <td>0</td>\n",
       "    </tr>\n",
       "    <tr>\n",
       "      <th>2</th>\n",
       "      <td>3</td>\n",
       "      <td>1</td>\n",
       "      <td>1944</td>\n",
       "      <td>28234</td>\n",
       "      <td>1995</td>\n",
       "      <td>0</td>\n",
       "      <td>0</td>\n",
       "      <td>0</td>\n",
       "      <td>0</td>\n",
       "    </tr>\n",
       "    <tr>\n",
       "      <th>3</th>\n",
       "      <td>0</td>\n",
       "      <td>0</td>\n",
       "      <td>1</td>\n",
       "      <td>1072</td>\n",
       "      <td>0</td>\n",
       "      <td>0</td>\n",
       "      <td>1</td>\n",
       "      <td>0</td>\n",
       "      <td>0</td>\n",
       "    </tr>\n",
       "    <tr>\n",
       "      <th>4</th>\n",
       "      <td>0</td>\n",
       "      <td>0</td>\n",
       "      <td>13957</td>\n",
       "      <td>25311</td>\n",
       "      <td>10841</td>\n",
       "      <td>0</td>\n",
       "      <td>0</td>\n",
       "      <td>0</td>\n",
       "      <td>0</td>\n",
       "    </tr>\n",
       "  </tbody>\n",
       "</table>\n",
       "</div>"
      ],
      "text/plain": [
       "   retweets_count  favorites_count  followers_count  statuses_count  \\\n",
       "0               3                0             3682          453535   \n",
       "1               0                0               86            1016   \n",
       "2               3                1             1944           28234   \n",
       "3               0                0                1            1072   \n",
       "4               0                0            13957           25311   \n",
       "\n",
       "   friends_count  mentions  urls  verified  hashtags  \n",
       "0           3628         0     0         0         0  \n",
       "1            284         0     0         0         0  \n",
       "2           1995         0     0         0         0  \n",
       "3              0         0     1         0         0  \n",
       "4          10841         0     0         0         0  "
      ]
     },
     "execution_count": 48,
     "metadata": {},
     "output_type": "execute_result"
    }
   ],
   "source": [
    "data_analyse.head()"
   ]
  },
  {
   "cell_type": "code",
   "execution_count": 55,
   "id": "1f23023f",
   "metadata": {},
   "outputs": [
    {
     "data": {
      "image/png": "[encoded data removed]",
      "text/plain": [
       "<Figure size 640x480 with 2 Axes>"
      ]
     },
     "metadata": {},
     "output_type": "display_data"
    }
   ],
   "source": [
    "data_cov=np.cov(data_analyse.T)\n",
    "plt.imshow(data_cov, cmap=plt.cm.hot, vmin=-1, vmax=1)\n",
    "plt.colorbar()\n",
    "plt.show()"
   ]
  },
  {
   "cell_type": "code",
   "execution_count": 57,
   "id": "fb3d41f5",
   "metadata": {},
   "outputs": [
    {
     "data": {
      "text/html": [
       "<div>\n",
       "<style scoped>\n",
       "    .dataframe tbody tr th:only-of-type {\n",
       "        vertical-align: middle;\n",
       "    }\n",
       "\n",
       "    .dataframe tbody tr th {\n",
       "        vertical-align: top;\n",
       "    }\n",
       "\n",
       "    .dataframe thead th {\n",
       "        text-align: right;\n",
       "    }\n",
       "</style>\n",
       "<table border=\"1\" class=\"dataframe\">\n",
       "  <thead>\n",
       "    <tr style=\"text-align: right;\">\n",
       "      <th></th>\n",
       "      <th>0</th>\n",
       "      <th>1</th>\n",
       "      <th>2</th>\n",
       "      <th>3</th>\n",
       "      <th>4</th>\n",
       "      <th>5</th>\n",
       "      <th>6</th>\n",
       "      <th>7</th>\n",
       "      <th>8</th>\n",
       "    </tr>\n",
       "  </thead>\n",
       "  <tbody>\n",
       "    <tr>\n",
       "      <th>0</th>\n",
       "      <td>5.855757e+04</td>\n",
       "      <td>1.709865e+05</td>\n",
       "      <td>3.702179e+06</td>\n",
       "      <td>-2.817059e+04</td>\n",
       "      <td>1.401132e+04</td>\n",
       "      <td>0.0</td>\n",
       "      <td>3.068365</td>\n",
       "      <td>4.110938</td>\n",
       "      <td>0.776434</td>\n",
       "    </tr>\n",
       "    <tr>\n",
       "      <th>1</th>\n",
       "      <td>1.709865e+05</td>\n",
       "      <td>7.259796e+05</td>\n",
       "      <td>1.298201e+07</td>\n",
       "      <td>-2.858000e+05</td>\n",
       "      <td>2.144170e+04</td>\n",
       "      <td>0.0</td>\n",
       "      <td>5.638866</td>\n",
       "      <td>11.519760</td>\n",
       "      <td>-0.747641</td>\n",
       "    </tr>\n",
       "    <tr>\n",
       "      <th>2</th>\n",
       "      <td>3.702179e+06</td>\n",
       "      <td>1.298201e+07</td>\n",
       "      <td>6.753319e+10</td>\n",
       "      <td>4.797285e+09</td>\n",
       "      <td>5.286065e+06</td>\n",
       "      <td>0.0</td>\n",
       "      <td>7585.033178</td>\n",
       "      <td>16478.893056</td>\n",
       "      <td>1077.745043</td>\n",
       "    </tr>\n",
       "    <tr>\n",
       "      <th>3</th>\n",
       "      <td>-2.817059e+04</td>\n",
       "      <td>-2.858000e+05</td>\n",
       "      <td>4.797285e+09</td>\n",
       "      <td>1.285625e+10</td>\n",
       "      <td>6.914994e+07</td>\n",
       "      <td>0.0</td>\n",
       "      <td>-3696.893972</td>\n",
       "      <td>1532.060995</td>\n",
       "      <td>2000.633368</td>\n",
       "    </tr>\n",
       "    <tr>\n",
       "      <th>4</th>\n",
       "      <td>1.401132e+04</td>\n",
       "      <td>2.144170e+04</td>\n",
       "      <td>5.286065e+06</td>\n",
       "      <td>6.914994e+07</td>\n",
       "      <td>6.264675e+06</td>\n",
       "      <td>0.0</td>\n",
       "      <td>23.748410</td>\n",
       "      <td>15.354028</td>\n",
       "      <td>100.913752</td>\n",
       "    </tr>\n",
       "    <tr>\n",
       "      <th>5</th>\n",
       "      <td>0.000000e+00</td>\n",
       "      <td>0.000000e+00</td>\n",
       "      <td>0.000000e+00</td>\n",
       "      <td>0.000000e+00</td>\n",
       "      <td>0.000000e+00</td>\n",
       "      <td>0.0</td>\n",
       "      <td>0.000000</td>\n",
       "      <td>0.000000</td>\n",
       "      <td>0.000000</td>\n",
       "    </tr>\n",
       "    <tr>\n",
       "      <th>6</th>\n",
       "      <td>3.068365e+00</td>\n",
       "      <td>5.638866e+00</td>\n",
       "      <td>7.585033e+03</td>\n",
       "      <td>-3.696894e+03</td>\n",
       "      <td>2.374841e+01</td>\n",
       "      <td>0.0</td>\n",
       "      <td>0.259797</td>\n",
       "      <td>0.010174</td>\n",
       "      <td>-0.003258</td>\n",
       "    </tr>\n",
       "    <tr>\n",
       "      <th>7</th>\n",
       "      <td>4.110938e+00</td>\n",
       "      <td>1.151976e+01</td>\n",
       "      <td>1.647889e+04</td>\n",
       "      <td>1.532061e+03</td>\n",
       "      <td>1.535403e+01</td>\n",
       "      <td>0.0</td>\n",
       "      <td>0.010174</td>\n",
       "      <td>0.029105</td>\n",
       "      <td>0.003022</td>\n",
       "    </tr>\n",
       "    <tr>\n",
       "      <th>8</th>\n",
       "      <td>7.764342e-01</td>\n",
       "      <td>-7.476406e-01</td>\n",
       "      <td>1.077745e+03</td>\n",
       "      <td>2.000633e+03</td>\n",
       "      <td>1.009138e+02</td>\n",
       "      <td>0.0</td>\n",
       "      <td>-0.003258</td>\n",
       "      <td>0.003022</td>\n",
       "      <td>0.595495</td>\n",
       "    </tr>\n",
       "  </tbody>\n",
       "</table>\n",
       "</div>"
      ],
      "text/plain": [
       "              0             1             2             3             4    5  \\\n",
       "0  5.855757e+04  1.709865e+05  3.702179e+06 -2.817059e+04  1.401132e+04  0.0   \n",
       "1  1.709865e+05  7.259796e+05  1.298201e+07 -2.858000e+05  2.144170e+04  0.0   \n",
       "2  3.702179e+06  1.298201e+07  6.753319e+10  4.797285e+09  5.286065e+06  0.0   \n",
       "3 -2.817059e+04 -2.858000e+05  4.797285e+09  1.285625e+10  6.914994e+07  0.0   \n",
       "4  1.401132e+04  2.144170e+04  5.286065e+06  6.914994e+07  6.264675e+06  0.0   \n",
       "5  0.000000e+00  0.000000e+00  0.000000e+00  0.000000e+00  0.000000e+00  0.0   \n",
       "6  3.068365e+00  5.638866e+00  7.585033e+03 -3.696894e+03  2.374841e+01  0.0   \n",
       "7  4.110938e+00  1.151976e+01  1.647889e+04  1.532061e+03  1.535403e+01  0.0   \n",
       "8  7.764342e-01 -7.476406e-01  1.077745e+03  2.000633e+03  1.009138e+02  0.0   \n",
       "\n",
       "             6             7            8  \n",
       "0     3.068365      4.110938     0.776434  \n",
       "1     5.638866     11.519760    -0.747641  \n",
       "2  7585.033178  16478.893056  1077.745043  \n",
       "3 -3696.893972   1532.060995  2000.633368  \n",
       "4    23.748410     15.354028   100.913752  \n",
       "5     0.000000      0.000000     0.000000  \n",
       "6     0.259797      0.010174    -0.003258  \n",
       "7     0.010174      0.029105     0.003022  \n",
       "8    -0.003258      0.003022     0.595495  "
      ]
     },
     "execution_count": 57,
     "metadata": {},
     "output_type": "execute_result"
    }
   ],
   "source": [
    "pd.DataFrame(data_cov)"
   ]
  },
  {
   "cell_type": "code",
   "execution_count": 59,
   "id": "6c38fd39",
   "metadata": {},
   "outputs": [],
   "source": [
    "pca=PCA(n_components=2,copy=True)"
   ]
  },
  {
   "cell_type": "code",
   "execution_count": 60,
   "id": "6a5f5852",
   "metadata": {},
   "outputs": [
    {
     "data": {
      "text/plain": [
       "PCA(n_components=2)"
      ]
     },
     "execution_count": 60,
     "metadata": {},
     "output_type": "execute_result"
    }
   ],
   "source": [
    "pca.fit(data_analyse)"
   ]
  },
  {
   "cell_type": "code",
   "execution_count": 65,
   "id": "426c4c3a",
   "metadata": {},
   "outputs": [
    {
     "data": {
      "text/plain": [
       "(353969, 2)"
      ]
     },
     "execution_count": 65,
     "metadata": {},
     "output_type": "execute_result"
    }
   ],
   "source": [
    "data_pca=pca.fit_transform(data_analyse)\n",
    "data_pca.shape"
   ]
  },
  {
   "cell_type": "code",
   "execution_count": 66,
   "id": "14d7e7bc",
   "metadata": {},
   "outputs": [
    {
     "data": {
      "text/plain": [
       "array([ 18700.15084755, -24136.83478264, -19924.51556502, ...,\n",
       "       -22367.53339664, -24130.00371346, -24303.57400447])"
      ]
     },
     "execution_count": 66,
     "metadata": {},
     "output_type": "execute_result"
    }
   ],
   "source": [
    "data_pca[:,0]"
   ]
  },
  {
   "cell_type": "code",
   "execution_count": 84,
   "id": "02574774",
   "metadata": {},
   "outputs": [
    {
     "data": {
      "image/png": "[encoded data removed]",
      "text/plain": [
       "<Figure size 640x480 with 1 Axes>"
      ]
     },
     "metadata": {},
     "output_type": "display_data"
    }
   ],
   "source": [
    "# cmap=plt.colormaps[\"tab20c\"]\n",
    "fig = plt.figure()\n",
    "ax = plt.axes()\n",
    "ax.scatter(data_pca[:,0],data_pca[:,1],s=np.array(data_analyse[\"retweets_count\"].tolist())*0.01+0.01,c=data_analyse[\"retweets_count\"].tolist(),cmap=\"RdYlGn\")\n",
    "ax.axis(\"equal\")  \n",
    "plt.show()"
   ]
  },
  {
   "cell_type": "code",
   "execution_count": 3,
   "id": "953789ef",
   "metadata": {},
   "outputs": [],
   "source": [
    "# Here we split our training data into trainig and testing set. This way we can estimate the evaluation of our model without uploading to Kaggle and avoid overfitting over our evaluation dataset.\n",
    "# scsplit method is used in order to split our regression data in a stratisfied way and keep a similar distribution of retweet counts between the two sets\n",
    "X_train, X_test, y_train, y_test = scsplit(train_data, train_data['retweets_count'], stratify=train_data['retweets_count'], train_size=0.7, test_size=0.3)\n",
    "\n",
    "# We remove the actual number of retweets from our features since it is the value that we are trying to predict\n",
    "X_train = X_train.drop([\"retweets_count\",\"TweetID\"], axis=1)\n",
    "X_test = X_test.drop([\"retweets_count\",\"TweetID\"], axis=1)"
   ]
  },
  {
   "cell_type": "code",
   "execution_count": 4,
   "id": "40419d5a",
   "metadata": {},
   "outputs": [
    {
     "data": {
      "text/html": [
       "<div>\n",
       "<style scoped>\n",
       "    .dataframe tbody tr th:only-of-type {\n",
       "        vertical-align: middle;\n",
       "    }\n",
       "\n",
       "    .dataframe tbody tr th {\n",
       "        vertical-align: top;\n",
       "    }\n",
       "\n",
       "    .dataframe thead th {\n",
       "        text-align: right;\n",
       "    }\n",
       "</style>\n",
       "<table border=\"1\" class=\"dataframe\">\n",
       "  <thead>\n",
       "    <tr style=\"text-align: right;\">\n",
       "      <th></th>\n",
       "      <th>text</th>\n",
       "      <th>favorites_count</th>\n",
       "      <th>followers_count</th>\n",
       "      <th>statuses_count</th>\n",
       "      <th>friends_count</th>\n",
       "      <th>mentions</th>\n",
       "      <th>urls</th>\n",
       "      <th>verified</th>\n",
       "      <th>hashtags</th>\n",
       "      <th>timestamp</th>\n",
       "    </tr>\n",
       "  </thead>\n",
       "  <tbody>\n",
       "    <tr>\n",
       "      <th>340724</th>\n",
       "      <td>macron réélu melanmachin jamais fort heureusement</td>\n",
       "      <td>0</td>\n",
       "      <td>4</td>\n",
       "      <td>84</td>\n",
       "      <td>6</td>\n",
       "      <td>[]</td>\n",
       "      <td>[]</td>\n",
       "      <td>0</td>\n",
       "      <td>[]</td>\n",
       "      <td>1647292340000</td>\n",
       "    </tr>\n",
       "    <tr>\n",
       "      <th>92844</th>\n",
       "      <td>sondages candidats tour gauche important faire...</td>\n",
       "      <td>313</td>\n",
       "      <td>8408</td>\n",
       "      <td>32672</td>\n",
       "      <td>8622</td>\n",
       "      <td>[]</td>\n",
       "      <td>['https://t.co/kraasmxhlz']</td>\n",
       "      <td>0</td>\n",
       "      <td>[]</td>\n",
       "      <td>1647353797000</td>\n",
       "    </tr>\n",
       "    <tr>\n",
       "      <th>112020</th>\n",
       "      <td>bonsoir famille lâchez votez allez bordeauxxxx</td>\n",
       "      <td>0</td>\n",
       "      <td>559</td>\n",
       "      <td>10866</td>\n",
       "      <td>691</td>\n",
       "      <td>[]</td>\n",
       "      <td>['https://t.co/ozjik9ybmx']</td>\n",
       "      <td>0</td>\n",
       "      <td>[]</td>\n",
       "      <td>1647635808000</td>\n",
       "    </tr>\n",
       "    <tr>\n",
       "      <th>266279</th>\n",
       "      <td>pécresse vendu rachete double</td>\n",
       "      <td>3</td>\n",
       "      <td>443</td>\n",
       "      <td>8980</td>\n",
       "      <td>741</td>\n",
       "      <td>[]</td>\n",
       "      <td>[]</td>\n",
       "      <td>0</td>\n",
       "      <td>['lefaceaface', 'lci', 'pecressenaufrage', 'al...</td>\n",
       "      <td>1646941168000</td>\n",
       "    </tr>\n",
       "    <tr>\n",
       "      <th>82695</th>\n",
       "      <td>fou hidalgo dernière sondages canard boiteux c...</td>\n",
       "      <td>50</td>\n",
       "      <td>22</td>\n",
       "      <td>3830</td>\n",
       "      <td>177</td>\n",
       "      <td>[]</td>\n",
       "      <td>[]</td>\n",
       "      <td>0</td>\n",
       "      <td>[]</td>\n",
       "      <td>1647017617000</td>\n",
       "    </tr>\n",
       "  </tbody>\n",
       "</table>\n",
       "</div>"
      ],
      "text/plain": [
       "                                                     text  favorites_count  \\\n",
       "340724  macron réélu melanmachin jamais fort heureusement                0   \n",
       "92844   sondages candidats tour gauche important faire...              313   \n",
       "112020     bonsoir famille lâchez votez allez bordeauxxxx                0   \n",
       "266279                      pécresse vendu rachete double                3   \n",
       "82695   fou hidalgo dernière sondages canard boiteux c...               50   \n",
       "\n",
       "        followers_count  statuses_count  friends_count mentions  \\\n",
       "340724                4              84              6       []   \n",
       "92844              8408           32672           8622       []   \n",
       "112020              559           10866            691       []   \n",
       "266279              443            8980            741       []   \n",
       "82695                22            3830            177       []   \n",
       "\n",
       "                               urls  verified  \\\n",
       "340724                           []         0   \n",
       "92844   ['https://t.co/kraasmxhlz']         0   \n",
       "112020  ['https://t.co/ozjik9ybmx']         0   \n",
       "266279                           []         0   \n",
       "82695                            []         0   \n",
       "\n",
       "                                                 hashtags      timestamp  \n",
       "340724                                                 []  1647292340000  \n",
       "92844                                                  []  1647353797000  \n",
       "112020                                                 []  1647635808000  \n",
       "266279  ['lefaceaface', 'lci', 'pecressenaufrage', 'al...  1646941168000  \n",
       "82695                                                  []  1647017617000  "
      ]
     },
     "execution_count": 4,
     "metadata": {},
     "output_type": "execute_result"
    }
   ],
   "source": [
    "X_train.head()"
   ]
  },
  {
   "cell_type": "code",
   "execution_count": 7,
   "id": "f282c54c",
   "metadata": {},
   "outputs": [],
   "source": [
    "count_num(X_train,[\"mentions\",\"urls\",\"hashtags\"])\n",
    "count_num(X_test,[\"mentions\",\"urls\",\"hashtags\"])"
   ]
  },
  {
   "cell_type": "code",
   "execution_count": 8,
   "id": "c9a0e2de",
   "metadata": {},
   "outputs": [
    {
     "data": {
      "text/html": [
       "<div>\n",
       "<style scoped>\n",
       "    .dataframe tbody tr th:only-of-type {\n",
       "        vertical-align: middle;\n",
       "    }\n",
       "\n",
       "    .dataframe tbody tr th {\n",
       "        vertical-align: top;\n",
       "    }\n",
       "\n",
       "    .dataframe thead th {\n",
       "        text-align: right;\n",
       "    }\n",
       "</style>\n",
       "<table border=\"1\" class=\"dataframe\">\n",
       "  <thead>\n",
       "    <tr style=\"text-align: right;\">\n",
       "      <th></th>\n",
       "      <th>text</th>\n",
       "      <th>favorites_count</th>\n",
       "      <th>followers_count</th>\n",
       "      <th>statuses_count</th>\n",
       "      <th>friends_count</th>\n",
       "      <th>mentions</th>\n",
       "      <th>urls</th>\n",
       "      <th>verified</th>\n",
       "      <th>hashtags</th>\n",
       "      <th>timestamp</th>\n",
       "    </tr>\n",
       "  </thead>\n",
       "  <tbody>\n",
       "    <tr>\n",
       "      <th>340724</th>\n",
       "      <td>macron réélu melanmachin jamais fort heureusement</td>\n",
       "      <td>0</td>\n",
       "      <td>4</td>\n",
       "      <td>84</td>\n",
       "      <td>6</td>\n",
       "      <td>0</td>\n",
       "      <td>0</td>\n",
       "      <td>0</td>\n",
       "      <td>0</td>\n",
       "      <td>1647292340000</td>\n",
       "    </tr>\n",
       "    <tr>\n",
       "      <th>92844</th>\n",
       "      <td>sondages candidats tour gauche important faire...</td>\n",
       "      <td>313</td>\n",
       "      <td>8408</td>\n",
       "      <td>32672</td>\n",
       "      <td>8622</td>\n",
       "      <td>0</td>\n",
       "      <td>1</td>\n",
       "      <td>0</td>\n",
       "      <td>0</td>\n",
       "      <td>1647353797000</td>\n",
       "    </tr>\n",
       "    <tr>\n",
       "      <th>112020</th>\n",
       "      <td>bonsoir famille lâchez votez allez bordeauxxxx</td>\n",
       "      <td>0</td>\n",
       "      <td>559</td>\n",
       "      <td>10866</td>\n",
       "      <td>691</td>\n",
       "      <td>0</td>\n",
       "      <td>1</td>\n",
       "      <td>0</td>\n",
       "      <td>0</td>\n",
       "      <td>1647635808000</td>\n",
       "    </tr>\n",
       "    <tr>\n",
       "      <th>266279</th>\n",
       "      <td>pécresse vendu rachete double</td>\n",
       "      <td>3</td>\n",
       "      <td>443</td>\n",
       "      <td>8980</td>\n",
       "      <td>741</td>\n",
       "      <td>0</td>\n",
       "      <td>0</td>\n",
       "      <td>0</td>\n",
       "      <td>5</td>\n",
       "      <td>1646941168000</td>\n",
       "    </tr>\n",
       "    <tr>\n",
       "      <th>82695</th>\n",
       "      <td>fou hidalgo dernière sondages canard boiteux c...</td>\n",
       "      <td>50</td>\n",
       "      <td>22</td>\n",
       "      <td>3830</td>\n",
       "      <td>177</td>\n",
       "      <td>0</td>\n",
       "      <td>0</td>\n",
       "      <td>0</td>\n",
       "      <td>0</td>\n",
       "      <td>1647017617000</td>\n",
       "    </tr>\n",
       "  </tbody>\n",
       "</table>\n",
       "</div>"
      ],
      "text/plain": [
       "                                                     text  favorites_count  \\\n",
       "340724  macron réélu melanmachin jamais fort heureusement                0   \n",
       "92844   sondages candidats tour gauche important faire...              313   \n",
       "112020     bonsoir famille lâchez votez allez bordeauxxxx                0   \n",
       "266279                      pécresse vendu rachete double                3   \n",
       "82695   fou hidalgo dernière sondages canard boiteux c...               50   \n",
       "\n",
       "        followers_count  statuses_count  friends_count  mentions  urls  \\\n",
       "340724                4              84              6         0     0   \n",
       "92844              8408           32672           8622         0     1   \n",
       "112020              559           10866            691         0     1   \n",
       "266279              443            8980            741         0     0   \n",
       "82695                22            3830            177         0     0   \n",
       "\n",
       "        verified  hashtags      timestamp  \n",
       "340724         0         0  1647292340000  \n",
       "92844          0         0  1647353797000  \n",
       "112020         0         0  1647635808000  \n",
       "266279         0         5  1646941168000  \n",
       "82695          0         0  1647017617000  "
      ]
     },
     "execution_count": 8,
     "metadata": {},
     "output_type": "execute_result"
    }
   ],
   "source": [
    "X_train.head()"
   ]
  },
  {
   "cell_type": "code",
   "execution_count": 12,
   "id": "2b329461",
   "metadata": {},
   "outputs": [
    {
     "data": {
      "image/png": "[encoded data removed]",
      "text/plain": [
       "<Figure size 640x480 with 1 Axes>"
      ]
     },
     "metadata": {},
     "output_type": "display_data"
    }
   ],
   "source": [
    "np.log10(X_train['followers_count']).plot.hist(bins=50,range=[0,10])\n",
    "plt.tick_params(labelsize=15)\n",
    "plt.title('folloers distribution', fontsize=17)\n",
    "plt.show()"
   ]
  },
  {
   "cell_type": "code",
   "execution_count": 13,
   "id": "ed9bd489",
   "metadata": {},
   "outputs": [
    {
     "data": {
      "image/png": "[encoded data removed]",
      "text/plain": [
       "<Figure size 640x480 with 1 Axes>"
      ]
     },
     "metadata": {},
     "output_type": "display_data"
    }
   ],
   "source": [
    "np.log10(X_train['friends_count']).plot.hist(bins=50,range=[0,10])\n",
    "plt.tick_params(labelsize=15)\n",
    "plt.title('friends distribution', fontsize=17)\n",
    "plt.show()"
   ]
  },
  {
   "cell_type": "code",
   "execution_count": 9,
   "id": "53f38086",
   "metadata": {},
   "outputs": [],
   "source": [
    "# standardise the columns of numeric values\n",
    "def standardise(data,list_column):\n",
    "    for name_column in list_column:\n",
    "        if data[name_column].std()!=0:\n",
    "            data[name_column]=(data[name_column]-data[name_column].mean())/data[name_column].std()\n",
    "        else:\n",
    "            data[name_column]=(data[name_column]-data[name_column].mean())"
   ]
  },
  {
   "cell_type": "code",
   "execution_count": 10,
   "id": "70331046",
   "metadata": {},
   "outputs": [],
   "source": [
    "standardise(X_train,[\"favorites_count\",\"followers_count\",\"statuses_count\",\"friends_count\",\"mentions\",\"urls\",\"verified\",\"hashtags\",\"timestamp\"])\n",
    "standardise(X_test,[\"favorites_count\",\"followers_count\",\"statuses_count\",\"friends_count\",\"mentions\",\"urls\",\"verified\",\"hashtags\",\"timestamp\"])"
   ]
  },
  {
   "cell_type": "code",
   "execution_count": 16,
   "id": "d99a2a77",
   "metadata": {},
   "outputs": [
    {
     "data": {
      "text/html": [
       "<div>\n",
       "<style scoped>\n",
       "    .dataframe tbody tr th:only-of-type {\n",
       "        vertical-align: middle;\n",
       "    }\n",
       "\n",
       "    .dataframe tbody tr th {\n",
       "        vertical-align: top;\n",
       "    }\n",
       "\n",
       "    .dataframe thead th {\n",
       "        text-align: right;\n",
       "    }\n",
       "</style>\n",
       "<table border=\"1\" class=\"dataframe\">\n",
       "  <thead>\n",
       "    <tr style=\"text-align: right;\">\n",
       "      <th></th>\n",
       "      <th>text</th>\n",
       "      <th>favorites_count</th>\n",
       "      <th>followers_count</th>\n",
       "      <th>statuses_count</th>\n",
       "      <th>friends_count</th>\n",
       "      <th>mentions</th>\n",
       "      <th>urls</th>\n",
       "      <th>verified</th>\n",
       "      <th>hashtags</th>\n",
       "      <th>timestamp</th>\n",
       "    </tr>\n",
       "  </thead>\n",
       "  <tbody>\n",
       "    <tr>\n",
       "      <th>189606</th>\n",
       "      <td>article constitution procédé nouvelle dissolut...</td>\n",
       "      <td>-0.055739</td>\n",
       "      <td>-0.065147</td>\n",
       "      <td>1.901790</td>\n",
       "      <td>-0.476549</td>\n",
       "      <td>0.0</td>\n",
       "      <td>0.925575</td>\n",
       "      <td>-0.175443</td>\n",
       "      <td>-0.384052</td>\n",
       "      <td>0.086927</td>\n",
       "    </tr>\n",
       "    <tr>\n",
       "      <th>213943</th>\n",
       "      <td>faire confiance tyrans pareil</td>\n",
       "      <td>-0.050964</td>\n",
       "      <td>-0.075350</td>\n",
       "      <td>-0.414226</td>\n",
       "      <td>0.691358</td>\n",
       "      <td>0.0</td>\n",
       "      <td>-1.034808</td>\n",
       "      <td>-0.175443</td>\n",
       "      <td>3.480158</td>\n",
       "      <td>0.056251</td>\n",
       "    </tr>\n",
       "    <tr>\n",
       "      <th>163776</th>\n",
       "      <td>tweet pue gauche pourtant jsuis</td>\n",
       "      <td>-0.055739</td>\n",
       "      <td>-0.078332</td>\n",
       "      <td>-0.422332</td>\n",
       "      <td>-0.512745</td>\n",
       "      <td>0.0</td>\n",
       "      <td>-1.034808</td>\n",
       "      <td>-0.175443</td>\n",
       "      <td>-0.384052</td>\n",
       "      <td>0.142391</td>\n",
       "    </tr>\n",
       "    <tr>\n",
       "      <th>49651</th>\n",
       "      <td>rt partie</td>\n",
       "      <td>-0.055739</td>\n",
       "      <td>-0.062549</td>\n",
       "      <td>5.617279</td>\n",
       "      <td>1.419288</td>\n",
       "      <td>0.0</td>\n",
       "      <td>-1.034808</td>\n",
       "      <td>-0.175443</td>\n",
       "      <td>-0.384052</td>\n",
       "      <td>0.140013</td>\n",
       "    </tr>\n",
       "    <tr>\n",
       "      <th>163469</th>\n",
       "      <td>rt essentiel question vote blanc consiste élec...</td>\n",
       "      <td>-0.055739</td>\n",
       "      <td>-0.071335</td>\n",
       "      <td>1.490695</td>\n",
       "      <td>0.393348</td>\n",
       "      <td>0.0</td>\n",
       "      <td>-1.034808</td>\n",
       "      <td>-0.175443</td>\n",
       "      <td>-0.384052</td>\n",
       "      <td>0.122947</td>\n",
       "    </tr>\n",
       "  </tbody>\n",
       "</table>\n",
       "</div>"
      ],
      "text/plain": [
       "                                                     text  favorites_count  \\\n",
       "189606  article constitution procédé nouvelle dissolut...        -0.055739   \n",
       "213943                      faire confiance tyrans pareil        -0.050964   \n",
       "163776                    tweet pue gauche pourtant jsuis        -0.055739   \n",
       "49651                                           rt partie        -0.055739   \n",
       "163469  rt essentiel question vote blanc consiste élec...        -0.055739   \n",
       "\n",
       "        followers_count  statuses_count  friends_count  mentions      urls  \\\n",
       "189606        -0.065147        1.901790      -0.476549       0.0  0.925575   \n",
       "213943        -0.075350       -0.414226       0.691358       0.0 -1.034808   \n",
       "163776        -0.078332       -0.422332      -0.512745       0.0 -1.034808   \n",
       "49651         -0.062549        5.617279       1.419288       0.0 -1.034808   \n",
       "163469        -0.071335        1.490695       0.393348       0.0 -1.034808   \n",
       "\n",
       "        verified  hashtags  timestamp  \n",
       "189606 -0.175443 -0.384052   0.086927  \n",
       "213943 -0.175443  3.480158   0.056251  \n",
       "163776 -0.175443 -0.384052   0.142391  \n",
       "49651  -0.175443 -0.384052   0.140013  \n",
       "163469 -0.175443 -0.384052   0.122947  "
      ]
     },
     "execution_count": 16,
     "metadata": {},
     "output_type": "execute_result"
    }
   ],
   "source": [
    "X_test.head()"
   ]
  },
  {
   "cell_type": "code",
   "execution_count": null,
   "id": "650c6a6b",
   "metadata": {},
   "outputs": [],
   "source": [
    "# split the table into 2 parts: one with the text and the other with the numbers"
   ]
  },
  {
   "cell_type": "code",
   "execution_count": 11,
   "id": "b55868ce",
   "metadata": {},
   "outputs": [
    {
     "data": {
      "text/html": [
       "<div>\n",
       "<style scoped>\n",
       "    .dataframe tbody tr th:only-of-type {\n",
       "        vertical-align: middle;\n",
       "    }\n",
       "\n",
       "    .dataframe tbody tr th {\n",
       "        vertical-align: top;\n",
       "    }\n",
       "\n",
       "    .dataframe thead th {\n",
       "        text-align: right;\n",
       "    }\n",
       "</style>\n",
       "<table border=\"1\" class=\"dataframe\">\n",
       "  <thead>\n",
       "    <tr style=\"text-align: right;\">\n",
       "      <th></th>\n",
       "      <th>favorites_count</th>\n",
       "      <th>followers_count</th>\n",
       "      <th>statuses_count</th>\n",
       "      <th>friends_count</th>\n",
       "      <th>mentions</th>\n",
       "      <th>urls</th>\n",
       "      <th>verified</th>\n",
       "      <th>hashtags</th>\n",
       "      <th>timestamp</th>\n",
       "    </tr>\n",
       "  </thead>\n",
       "  <tbody>\n",
       "    <tr>\n",
       "      <th>340724</th>\n",
       "      <td>-0.057468</td>\n",
       "      <td>-0.077623</td>\n",
       "      <td>-0.425850</td>\n",
       "      <td>-0.592586</td>\n",
       "      <td>0.0</td>\n",
       "      <td>-1.038413</td>\n",
       "      <td>-0.175712</td>\n",
       "      <td>-0.384913</td>\n",
       "      <td>0.059706</td>\n",
       "    </tr>\n",
       "    <tr>\n",
       "      <th>92844</th>\n",
       "      <td>0.335883</td>\n",
       "      <td>-0.044888</td>\n",
       "      <td>-0.136312</td>\n",
       "      <td>2.923120</td>\n",
       "      <td>0.0</td>\n",
       "      <td>0.922848</td>\n",
       "      <td>-0.175712</td>\n",
       "      <td>-0.384913</td>\n",
       "      <td>0.072269</td>\n",
       "    </tr>\n",
       "    <tr>\n",
       "      <th>112020</th>\n",
       "      <td>-0.057468</td>\n",
       "      <td>-0.075461</td>\n",
       "      <td>-0.330054</td>\n",
       "      <td>-0.313076</td>\n",
       "      <td>0.0</td>\n",
       "      <td>0.922848</td>\n",
       "      <td>-0.175712</td>\n",
       "      <td>-0.384913</td>\n",
       "      <td>0.129918</td>\n",
       "    </tr>\n",
       "    <tr>\n",
       "      <th>266279</th>\n",
       "      <td>-0.053697</td>\n",
       "      <td>-0.075913</td>\n",
       "      <td>-0.346811</td>\n",
       "      <td>-0.292674</td>\n",
       "      <td>0.0</td>\n",
       "      <td>-1.038413</td>\n",
       "      <td>-0.175712</td>\n",
       "      <td>6.083248</td>\n",
       "      <td>-0.012081</td>\n",
       "    </tr>\n",
       "    <tr>\n",
       "      <th>82695</th>\n",
       "      <td>0.005368</td>\n",
       "      <td>-0.077553</td>\n",
       "      <td>-0.392567</td>\n",
       "      <td>-0.522810</td>\n",
       "      <td>0.0</td>\n",
       "      <td>-1.038413</td>\n",
       "      <td>-0.175712</td>\n",
       "      <td>-0.384913</td>\n",
       "      <td>0.003547</td>\n",
       "    </tr>\n",
       "  </tbody>\n",
       "</table>\n",
       "</div>"
      ],
      "text/plain": [
       "        favorites_count  followers_count  statuses_count  friends_count  \\\n",
       "340724        -0.057468        -0.077623       -0.425850      -0.592586   \n",
       "92844          0.335883        -0.044888       -0.136312       2.923120   \n",
       "112020        -0.057468        -0.075461       -0.330054      -0.313076   \n",
       "266279        -0.053697        -0.075913       -0.346811      -0.292674   \n",
       "82695          0.005368        -0.077553       -0.392567      -0.522810   \n",
       "\n",
       "        mentions      urls  verified  hashtags  timestamp  \n",
       "340724       0.0 -1.038413 -0.175712 -0.384913   0.059706  \n",
       "92844        0.0  0.922848 -0.175712 -0.384913   0.072269  \n",
       "112020       0.0  0.922848 -0.175712 -0.384913   0.129918  \n",
       "266279       0.0 -1.038413 -0.175712  6.083248  -0.012081  \n",
       "82695        0.0 -1.038413 -0.175712 -0.384913   0.003547  "
      ]
     },
     "execution_count": 11,
     "metadata": {},
     "output_type": "execute_result"
    }
   ],
   "source": [
    "X_train_num=X_train[[\"favorites_count\",\"followers_count\",\"statuses_count\",\"friends_count\",\"mentions\",\"urls\",\"verified\",\"hashtags\",\"timestamp\"]]\n",
    "\n",
    "X_test_num=X_test[[\"favorites_count\",\"followers_count\",\"statuses_count\",\"friends_count\",\"mentions\",\"urls\",\"verified\",\"hashtags\",\"timestamp\"]]\n",
    "\n",
    "X_train_num.head()"
   ]
  },
  {
   "cell_type": "code",
   "execution_count": 12,
   "id": "e35c7275",
   "metadata": {},
   "outputs": [
    {
     "data": {
      "text/plain": [
       "340724    macron réélu melanmachin jamais fort heureusement\n",
       "92844     sondages candidats tour gauche important faire...\n",
       "112020       bonsoir famille lâchez votez allez bordeauxxxx\n",
       "266279                        pécresse vendu rachete double\n",
       "82695     fou hidalgo dernière sondages canard boiteux c...\n",
       "Name: text, dtype: object"
      ]
     },
     "execution_count": 12,
     "metadata": {},
     "output_type": "execute_result"
    }
   ],
   "source": [
    "X_train_text=X_train[\"text\"]\n",
    "X_test_text=X_test[\"text\"]\n",
    "X_train_text.head()"
   ]
  },
  {
   "cell_type": "code",
   "execution_count": null,
   "id": "f460a99e",
   "metadata": {},
   "outputs": [],
   "source": []
  },
  {
   "cell_type": "code",
   "execution_count": null,
   "id": "29f05716",
   "metadata": {},
   "outputs": [],
   "source": []
  },
  {
   "cell_type": "code",
   "execution_count": null,
   "id": "bc326615",
   "metadata": {},
   "outputs": [],
   "source": []
  },
  {
   "cell_type": "code",
   "execution_count": 19,
   "id": "1fa2cc84",
   "metadata": {},
   "outputs": [],
   "source": [
    "# these parts are used to train the embedding of the vocabulary, only needed to be run once"
   ]
  },
  {
   "cell_type": "code",
   "execution_count": 13,
   "id": "f369b5b5",
   "metadata": {},
   "outputs": [],
   "source": [
    "def get_text(file):\n",
    "    data_text=pd.read_table(file)\n",
    "    return data_text"
   ]
  },
  {
   "cell_type": "code",
   "execution_count": 14,
   "id": "a959b271",
   "metadata": {},
   "outputs": [
    {
     "data": {
      "text/plain": [
       "['aurant la thérapie , et au niveau sexuel ',\n",
       " 'pas encore  ',\n",
       " 'il veut mettre fin au mariage  ',\n",
       " 'je suis une mauvaise artiste  ',\n",
       " \"ce cours t'a pourtant fait du bien  \"]"
      ]
     },
     "execution_count": 14,
     "metadata": {},
     "output_type": "execute_result"
    }
   ],
   "source": [
    "path_text_dataset='French-Word-Embeddings/Data/data.txt'\n",
    "text_dataset=get_text(path_text_dataset).values\n",
    "text_dataset=[item[0][:-1] for item in text_dataset]\n",
    "text_dataset[:5]"
   ]
  },
  {
   "cell_type": "code",
   "execution_count": 15,
   "id": "a7b5842c",
   "metadata": {},
   "outputs": [],
   "source": [
    "TaggedDocument=gensim.models.doc2vec.TaggedDocument\n",
    "def X_text(sentences):\n",
    "    X=[]\n",
    "    for i,text in enumerate(sentences):\n",
    "        words=text.split(\" \")\n",
    "        l=len(words)\n",
    "        words=words[:-2]\n",
    "        document=TaggedDocument(words,tags=[i])\n",
    "        X.append(document)\n",
    "    return X"
   ]
  },
  {
   "cell_type": "code",
   "execution_count": 16,
   "id": "e2f3186c",
   "metadata": {},
   "outputs": [
    {
     "data": {
      "text/plain": [
       "[TaggedDocument(words=['aurant', 'la', 'thérapie', ',', 'et', 'au', 'niveau'], tags=[0]),\n",
       " TaggedDocument(words=['pas', 'encore'], tags=[1]),\n",
       " TaggedDocument(words=['il', 'veut', 'mettre', 'fin', 'au', 'mariage'], tags=[2]),\n",
       " TaggedDocument(words=['je', 'suis', 'une', 'mauvaise', 'artiste'], tags=[3]),\n",
       " TaggedDocument(words=['ce', 'cours', \"t'a\", 'pourtant', 'fait', 'du', 'bien'], tags=[4])]"
      ]
     },
     "execution_count": 16,
     "metadata": {},
     "output_type": "execute_result"
    }
   ],
   "source": [
    "X_documents=X_text(text_dataset)\n",
    "X_documents[:5]"
   ]
  },
  {
   "cell_type": "code",
   "execution_count": 17,
   "id": "e693d710",
   "metadata": {},
   "outputs": [],
   "source": [
    "def train_text(text_train,size=100,epochs=10):\n",
    "    model=Doc2Vec(text_train,min_count=1,window=3,vector_size=size,sample=1e-3,negative=5,epochs=epochs)\n",
    "    model.train(text_train,total_examples=model.corpus_count,epochs=model.epochs)\n",
    "    return model"
   ]
  },
  {
   "cell_type": "code",
   "execution_count": 18,
   "id": "eaa2bca5",
   "metadata": {},
   "outputs": [],
   "source": [
    "model_text=train_text(X_documents)\n",
    "if not os.path.exists('./WE_models'):\n",
    "    os.mkdir('./WE_models')\n",
    "model_text.save('WE_models/d2v_100D')"
   ]
  },
  {
   "cell_type": "code",
   "execution_count": null,
   "id": "27d97304",
   "metadata": {},
   "outputs": [],
   "source": [
    "# load the model"
   ]
  },
  {
   "cell_type": "code",
   "execution_count": 19,
   "id": "62f68562",
   "metadata": {},
   "outputs": [],
   "source": [
    "model_text=Doc2Vec.load('WE_models/d2v_100D')"
   ]
  },
  {
   "cell_type": "code",
   "execution_count": 20,
   "id": "fb1b5936",
   "metadata": {},
   "outputs": [],
   "source": [
    "def text2vec(text_train,alpha=0.05, min_alpha=0.025, epochs=10):\n",
    "    list_text=[]\n",
    "    for sentence in text_train:\n",
    "        words=sentence.split(\" \")\n",
    "        vec=model_text.infer_vector(doc_words=words, alpha=alpha, min_alpha=min_alpha, epochs=epochs).tolist()\n",
    "        list_text.append(vec)\n",
    "    return np.array(list_text)"
   ]
  },
  {
   "cell_type": "code",
   "execution_count": 21,
   "id": "56170757",
   "metadata": {},
   "outputs": [
    {
     "data": {
      "text/plain": [
       "tensor([[-0.1901, -0.3203,  0.2535,  ..., -0.3329, -0.1031, -0.0708],\n",
       "        [ 0.5580, -0.2010, -0.4202,  ...,  0.1384,  0.4039, -0.0992],\n",
       "        [ 0.3278, -0.0569,  0.1961,  ...,  0.0991, -0.0818,  0.2575],\n",
       "        ...,\n",
       "        [ 0.0369, -0.2180,  0.1382,  ..., -0.1751, -0.0956,  0.0022],\n",
       "        [ 0.2537, -0.3418, -0.4177,  ...,  0.6343, -0.6798, -0.2361],\n",
       "        [ 0.0648, -0.2422, -0.0311,  ..., -0.4094, -0.2663,  0.0797]])"
      ]
     },
     "execution_count": 21,
     "metadata": {},
     "output_type": "execute_result"
    }
   ],
   "source": [
    "# tencor of the text part\n",
    "X_train_text_vec=text2vec(X_train_text,alpha=0.05, min_alpha=0.025, epochs=10)\n",
    "X_train_text_tensor=torch.Tensor(X_train_text_vec)\n",
    "X_train_text_tensor"
   ]
  },
  {
   "cell_type": "code",
   "execution_count": 22,
   "id": "e673de0e",
   "metadata": {},
   "outputs": [
    {
     "data": {
      "text/plain": [
       "tensor([-0.1901, -0.3203,  0.2535, -0.1469, -0.2711,  0.0016, -0.1118, -0.3038,\n",
       "        -0.1986,  0.1833, -0.2714, -0.0914, -0.1758,  0.3648,  0.0977,  0.2224,\n",
       "         0.1818, -0.0910,  0.1362, -0.3332, -0.2967, -0.1172, -0.0999, -0.4095,\n",
       "        -0.3670, -0.0676,  0.0739,  0.2572,  0.2174,  0.1574, -0.3730,  0.3229,\n",
       "        -0.2316, -0.0273,  0.0882,  0.1646,  0.1239, -0.6179, -0.2163,  0.5916,\n",
       "        -0.1101, -0.2061,  0.2032,  0.3434, -0.4185, -0.2785, -0.1663,  0.1288,\n",
       "         0.4903, -0.0589, -0.1602,  0.0961,  0.1499, -0.4142, -0.0184,  0.4553,\n",
       "         0.1789,  0.2670,  0.2255,  0.1290, -0.1199, -0.3545,  0.1355, -0.0526,\n",
       "         0.2337,  0.1236, -0.3372, -0.3955, -0.2521,  0.0013, -0.3117, -0.2518,\n",
       "        -0.2481,  0.3541, -0.1516,  0.2438, -0.2214, -0.3664,  0.4081, -0.4682,\n",
       "        -0.1307, -0.6323, -0.2322,  0.1372, -0.1190,  0.2201,  0.0842,  0.2716,\n",
       "        -0.3005,  0.2129, -0.1779, -0.1418, -0.2663,  0.0513, -0.3570,  0.0361,\n",
       "         0.1853, -0.3329, -0.1031, -0.0708])"
      ]
     },
     "execution_count": 22,
     "metadata": {},
     "output_type": "execute_result"
    }
   ],
   "source": [
    "X_train_text_tensor[0]"
   ]
  },
  {
   "cell_type": "code",
   "execution_count": 23,
   "id": "367f3e8d",
   "metadata": {},
   "outputs": [
    {
     "data": {
      "text/plain": [
       "tensor([[ 0.2050, -0.5108,  0.0610,  ...,  0.0987, -0.5907,  0.3009],\n",
       "        [-0.1205,  0.0300,  0.0206,  ..., -0.4134,  0.0271,  0.1817],\n",
       "        [ 0.4262, -0.0610, -0.3616,  ..., -0.1420, -0.1402, -0.1227],\n",
       "        ...,\n",
       "        [-0.0176, -0.0396,  0.0646,  ...,  0.0135,  0.1268,  0.3586],\n",
       "        [ 0.0837, -0.1041, -0.1144,  ..., -0.0235, -0.0279,  0.2760],\n",
       "        [ 0.5912, -0.0837, -0.4484,  ..., -0.3961,  0.0228, -0.1074]])"
      ]
     },
     "execution_count": 23,
     "metadata": {},
     "output_type": "execute_result"
    }
   ],
   "source": [
    "X_test_text_vec=text2vec(X_test_text,alpha=0.05, min_alpha=0.025, epochs=10)\n",
    "X_test_text_tensor=torch.Tensor(X_test_text_vec)\n",
    "X_test_text_tensor"
   ]
  },
  {
   "cell_type": "code",
   "execution_count": 24,
   "id": "68175e2c",
   "metadata": {},
   "outputs": [],
   "source": [
    "# tensor of the numeric part\n",
    "X_train_num_vec=X_train_num.values\n",
    "X_train_num_tensor=torch.Tensor(X_train_num_vec)\n",
    "X_test_num_vec=X_test_num.values\n",
    "X_test_num_tensor=torch.Tensor(X_test_num_vec)"
   ]
  },
  {
   "cell_type": "code",
   "execution_count": 25,
   "id": "34f495db",
   "metadata": {},
   "outputs": [],
   "source": [
    "y_train_tensor=torch.Tensor(y_train.to_numpy())\n",
    "y_train_tensor=y_train_tensor.reshape((-1,1))\n",
    "y_test_tensor=torch.Tensor(y_test.to_numpy())\n",
    "y_test_tensor=y_test_tensor.reshape((-1,1))"
   ]
  },
  {
   "cell_type": "code",
   "execution_count": 26,
   "id": "d173fa4b",
   "metadata": {},
   "outputs": [],
   "source": [
    "dataset_XY = torch.utils.data.TensorDataset(X_train_num_tensor,X_train_text_tensor, y_train_tensor)\n",
    "testset_XY = torch.utils.data.TensorDataset(X_test_num_tensor, X_test_text_tensor, y_test_tensor)"
   ]
  },
  {
   "cell_type": "code",
   "execution_count": null,
   "id": "6a16332b",
   "metadata": {},
   "outputs": [],
   "source": []
  },
  {
   "cell_type": "code",
   "execution_count": null,
   "id": "ff7abb3c",
   "metadata": {},
   "outputs": [],
   "source": [
    "# ML methods"
   ]
  },
  {
   "cell_type": "code",
   "execution_count": 35,
   "id": "8167bcd8",
   "metadata": {},
   "outputs": [
    {
     "data": {
      "text/plain": [
       "(247778, 9)"
      ]
     },
     "execution_count": 35,
     "metadata": {},
     "output_type": "execute_result"
    }
   ],
   "source": [
    "X_train_num_vec.shape"
   ]
  },
  {
   "cell_type": "code",
   "execution_count": 37,
   "id": "f408350b",
   "metadata": {},
   "outputs": [
    {
     "data": {
      "text/plain": [
       "(247778, 100)"
      ]
     },
     "execution_count": 37,
     "metadata": {},
     "output_type": "execute_result"
    }
   ],
   "source": [
    "X_train_text_vec.shape"
   ]
  },
  {
   "cell_type": "code",
   "execution_count": 27,
   "id": "2fde9365",
   "metadata": {},
   "outputs": [],
   "source": [
    "def MAE(pred,real):\n",
    "    N=len(pred)\n",
    "    sum=0\n",
    "    for i in range(N):\n",
    "        sum+=abs(pred[i]-real[i])\n",
    "    return sum/N"
   ]
  },
  {
   "cell_type": "code",
   "execution_count": 28,
   "id": "61dd4800",
   "metadata": {},
   "outputs": [],
   "source": [
    "def ACC(pred,real):\n",
    "    N=len(pred)\n",
    "    sum=0\n",
    "    for i in range(N):\n",
    "        if pred[i]==real[i]:\n",
    "            sum+=1\n",
    "    return sum/N"
   ]
  },
  {
   "cell_type": "code",
   "execution_count": 29,
   "id": "a9df6858",
   "metadata": {},
   "outputs": [
    {
     "data": {
      "text/plain": [
       "(247778, 109)"
      ]
     },
     "execution_count": 29,
     "metadata": {},
     "output_type": "execute_result"
    }
   ],
   "source": [
    "X_train_vec=np.hstack([X_train_text_vec,X_train_num_vec])\n",
    "X_train_vec.shape"
   ]
  },
  {
   "cell_type": "code",
   "execution_count": 30,
   "id": "b959a785",
   "metadata": {},
   "outputs": [
    {
     "data": {
      "text/plain": [
       "(106191, 109)"
      ]
     },
     "execution_count": 30,
     "metadata": {},
     "output_type": "execute_result"
    }
   ],
   "source": [
    "X_test_vec=np.hstack([X_test_text_vec,X_test_num_vec])\n",
    "X_test_vec.shape"
   ]
  },
  {
   "cell_type": "code",
   "execution_count": 34,
   "id": "001f3d7b",
   "metadata": {},
   "outputs": [
    {
     "data": {
      "text/plain": [
       "(247778, 1)"
      ]
     },
     "execution_count": 34,
     "metadata": {},
     "output_type": "execute_result"
    }
   ],
   "source": [
    "y_train_vec=np.array(y_train).reshape((-1,1))\n",
    "y_train_vec.shape"
   ]
  },
  {
   "cell_type": "code",
   "execution_count": 35,
   "id": "de235135",
   "metadata": {},
   "outputs": [
    {
     "data": {
      "text/plain": [
       "(106191, 1)"
      ]
     },
     "execution_count": 35,
     "metadata": {},
     "output_type": "execute_result"
    }
   ],
   "source": [
    "y_test_vec=np.array(y_test).reshape((-1,1))\n",
    "y_test_vec.shape"
   ]
  },
  {
   "cell_type": "code",
   "execution_count": null,
   "id": "86b13f41",
   "metadata": {},
   "outputs": [],
   "source": []
  },
  {
   "cell_type": "code",
   "execution_count": 32,
   "id": "4c6a4c4c",
   "metadata": {},
   "outputs": [],
   "source": [
    "def model_result(model,X_train,y_train,X_test,y_test):\n",
    "    model.fit(X_train,y_train)\n",
    "    y_pred = model.predict(X_test)\n",
    "    y_pred = np.array([int(value) if value >= 0 else 0 for value in y_pred])\n",
    "    loss=MAE(y_pred,y_test)\n",
    "    acc=ACC(y_pred,y_test)\n",
    "    return loss,acc"
   ]
  },
  {
   "cell_type": "code",
   "execution_count": 165,
   "id": "c46e36ef",
   "metadata": {},
   "outputs": [],
   "source": [
    "model_Lasso=Lasso(alpha=0.1)"
   ]
  },
  {
   "cell_type": "code",
   "execution_count": 54,
   "id": "8c63118a",
   "metadata": {},
   "outputs": [],
   "source": [
    "loss_Lasso,acc_Lasso=model_result(model_Lasso,X_train_vec,y_train_vec,X_test_vec,y_test_vec)"
   ]
  },
  {
   "cell_type": "code",
   "execution_count": 55,
   "id": "97686662",
   "metadata": {},
   "outputs": [
    {
     "data": {
      "text/plain": [
       "array([9.67214736])"
      ]
     },
     "execution_count": 55,
     "metadata": {},
     "output_type": "execute_result"
    }
   ],
   "source": [
    "loss_Lasso"
   ]
  },
  {
   "cell_type": "code",
   "execution_count": 56,
   "id": "76d036c8",
   "metadata": {},
   "outputs": [
    {
     "data": {
      "text/plain": [
       "0.30940475181512556"
      ]
     },
     "execution_count": 56,
     "metadata": {},
     "output_type": "execute_result"
    }
   ],
   "source": [
    "acc_Lasso"
   ]
  },
  {
   "cell_type": "code",
   "execution_count": 166,
   "id": "0a219e5e",
   "metadata": {},
   "outputs": [],
   "source": [
    "loss_Lasso_num,acc_Lasso_num=model_result(model_Lasso,X_train_num_vec,y_train_vec,X_test_num_vec,y_test_vec)"
   ]
  },
  {
   "cell_type": "code",
   "execution_count": 167,
   "id": "8a733160",
   "metadata": {},
   "outputs": [
    {
     "data": {
      "text/plain": [
       "array([11.01404074])"
      ]
     },
     "execution_count": 167,
     "metadata": {},
     "output_type": "execute_result"
    }
   ],
   "source": [
    "loss_Lasso_num"
   ]
  },
  {
   "cell_type": "code",
   "execution_count": 168,
   "id": "4bad71d6",
   "metadata": {},
   "outputs": [
    {
     "data": {
      "text/plain": [
       "0.18074978105489165"
      ]
     },
     "execution_count": 168,
     "metadata": {},
     "output_type": "execute_result"
    }
   ],
   "source": [
    "acc_Lasso_num"
   ]
  },
  {
   "cell_type": "code",
   "execution_count": null,
   "id": "4384d202",
   "metadata": {},
   "outputs": [],
   "source": []
  },
  {
   "cell_type": "code",
   "execution_count": 169,
   "id": "eb1a5176",
   "metadata": {},
   "outputs": [],
   "source": [
    "model_Knn=KNeighborsRegressor(n_neighbors=3)"
   ]
  },
  {
   "cell_type": "code",
   "execution_count": 58,
   "id": "2dfa88bb",
   "metadata": {},
   "outputs": [],
   "source": [
    "loss_Knn,acc_Knn=model_result(model_Knn,X_train_vec,y_train_vec,X_test_vec,y_test_vec)"
   ]
  },
  {
   "cell_type": "code",
   "execution_count": 59,
   "id": "a5310dac",
   "metadata": {},
   "outputs": [
    {
     "data": {
      "text/plain": [
       "array([10.68313699])"
      ]
     },
     "execution_count": 59,
     "metadata": {},
     "output_type": "execute_result"
    }
   ],
   "source": [
    "loss_Knn"
   ]
  },
  {
   "cell_type": "code",
   "execution_count": 60,
   "id": "08b6df7e",
   "metadata": {},
   "outputs": [
    {
     "data": {
      "text/plain": [
       "0.3010236272377132"
      ]
     },
     "execution_count": 60,
     "metadata": {},
     "output_type": "execute_result"
    }
   ],
   "source": [
    "acc_Knn"
   ]
  },
  {
   "cell_type": "code",
   "execution_count": 170,
   "id": "a743aec6",
   "metadata": {},
   "outputs": [],
   "source": [
    "loss_Knn_num,acc_Knn_num=model_result(model_Knn,X_train_num_vec,y_train_vec,X_test_num_vec,y_test_vec)"
   ]
  },
  {
   "cell_type": "code",
   "execution_count": 171,
   "id": "4a8719af",
   "metadata": {},
   "outputs": [
    {
     "data": {
      "text/plain": [
       "array([7.9995009])"
      ]
     },
     "execution_count": 171,
     "metadata": {},
     "output_type": "execute_result"
    }
   ],
   "source": [
    "loss_Knn_num"
   ]
  },
  {
   "cell_type": "code",
   "execution_count": 172,
   "id": "4d99d6ed",
   "metadata": {},
   "outputs": [
    {
     "data": {
      "text/plain": [
       "0.2841483741560019"
      ]
     },
     "execution_count": 172,
     "metadata": {},
     "output_type": "execute_result"
    }
   ],
   "source": [
    "acc_Knn_num"
   ]
  },
  {
   "cell_type": "code",
   "execution_count": null,
   "id": "4e62476b",
   "metadata": {},
   "outputs": [],
   "source": []
  },
  {
   "cell_type": "code",
   "execution_count": null,
   "id": "2f8ca2b0",
   "metadata": {},
   "outputs": [],
   "source": [
    "# 5 7.41351904 0.12514243203284647 7.36766769 0.12604646344793816"
   ]
  },
  {
   "cell_type": "code",
   "execution_count": 216,
   "id": "31088809",
   "metadata": {},
   "outputs": [],
   "source": [
    "model_RF=RandomForestRegressor(max_depth=16)"
   ]
  },
  {
   "cell_type": "code",
   "execution_count": null,
   "id": "c3d6f6ea",
   "metadata": {},
   "outputs": [],
   "source": [
    "loss_RF,acc_RF=model_result(model_RF,X_train_vec,y_train_vec,X_test_vec,y_test_vec)"
   ]
  },
  {
   "cell_type": "code",
   "execution_count": null,
   "id": "ce6fbae2",
   "metadata": {},
   "outputs": [],
   "source": [
    "loss_RF"
   ]
  },
  {
   "cell_type": "code",
   "execution_count": null,
   "id": "77b7045e",
   "metadata": {},
   "outputs": [],
   "source": [
    "acc_RF"
   ]
  },
  {
   "cell_type": "code",
   "execution_count": null,
   "id": "ce61a227",
   "metadata": {},
   "outputs": [],
   "source": [
    "loss_RF_num,acc_RF_num=model_result(model_RF,X_train_num_vec,y_train_vec,X_test_num_vec,y_test_vec)"
   ]
  },
  {
   "cell_type": "code",
   "execution_count": null,
   "id": "30b08687",
   "metadata": {},
   "outputs": [],
   "source": [
    "loss_RF_num"
   ]
  },
  {
   "cell_type": "code",
   "execution_count": null,
   "id": "1c449dd8",
   "metadata": {},
   "outputs": [],
   "source": [
    "acc_RF_num"
   ]
  },
  {
   "cell_type": "code",
   "execution_count": null,
   "id": "57493110",
   "metadata": {},
   "outputs": [],
   "source": []
  },
  {
   "cell_type": "code",
   "execution_count": null,
   "id": "17466f4d",
   "metadata": {},
   "outputs": [],
   "source": [
    "model_SVR=SVR(C=1.0, epsilon=0.2)"
   ]
  },
  {
   "cell_type": "code",
   "execution_count": null,
   "id": "75cff9d9",
   "metadata": {},
   "outputs": [],
   "source": [
    "loss_SVR,acc_SVR=model_result(model_SVR,X_train_vec,y_train_vec,X_test_vec,y_test_vec)"
   ]
  },
  {
   "cell_type": "code",
   "execution_count": null,
   "id": "0f0ea1f6",
   "metadata": {},
   "outputs": [],
   "source": [
    "loss_SVR"
   ]
  },
  {
   "cell_type": "code",
   "execution_count": null,
   "id": "33accc4a",
   "metadata": {},
   "outputs": [],
   "source": [
    "acc_SVR"
   ]
  },
  {
   "cell_type": "code",
   "execution_count": null,
   "id": "b31419ca",
   "metadata": {},
   "outputs": [],
   "source": [
    "loss_SVR_num,acc_SVR_num=model_result(model_SVR,X_train_num_vec,y_train_vec,X_test_num_vec,y_test_vec)"
   ]
  },
  {
   "cell_type": "code",
   "execution_count": null,
   "id": "9c02bdbb",
   "metadata": {},
   "outputs": [],
   "source": [
    "loss_SVR_num"
   ]
  },
  {
   "cell_type": "code",
   "execution_count": null,
   "id": "f2d638e0",
   "metadata": {},
   "outputs": [],
   "source": [
    "acc_SVR_num"
   ]
  },
  {
   "cell_type": "code",
   "execution_count": null,
   "id": "b663b827",
   "metadata": {},
   "outputs": [],
   "source": []
  },
  {
   "cell_type": "code",
   "execution_count": 184,
   "id": "64bc2a7e",
   "metadata": {},
   "outputs": [],
   "source": [
    "model_LR=LinearRegression()"
   ]
  },
  {
   "cell_type": "code",
   "execution_count": 36,
   "id": "eb70dc04",
   "metadata": {},
   "outputs": [],
   "source": [
    "loss_LR,acc_LR=model_result(model_LR,X_train_vec,y_train_vec,X_test_vec,y_test_vec)"
   ]
  },
  {
   "cell_type": "code",
   "execution_count": 37,
   "id": "35245628",
   "metadata": {},
   "outputs": [
    {
     "data": {
      "text/plain": [
       "array([11.67475586])"
      ]
     },
     "execution_count": 37,
     "metadata": {},
     "output_type": "execute_result"
    }
   ],
   "source": [
    "loss_LR"
   ]
  },
  {
   "cell_type": "code",
   "execution_count": 38,
   "id": "0781356d",
   "metadata": {},
   "outputs": [
    {
     "data": {
      "text/plain": [
       "0.22753340678588582"
      ]
     },
     "execution_count": 38,
     "metadata": {},
     "output_type": "execute_result"
    }
   ],
   "source": [
    "acc_LR"
   ]
  },
  {
   "cell_type": "code",
   "execution_count": 185,
   "id": "d7bbfd8c",
   "metadata": {},
   "outputs": [],
   "source": [
    "loss_LR_num,acc_LR_num=model_result(model_LR,X_train_num_vec,y_train_vec,X_test_num_vec,y_test_vec)"
   ]
  },
  {
   "cell_type": "code",
   "execution_count": 186,
   "id": "3c72425f",
   "metadata": {},
   "outputs": [
    {
     "data": {
      "text/plain": [
       "array([11.04352535])"
      ]
     },
     "execution_count": 186,
     "metadata": {},
     "output_type": "execute_result"
    }
   ],
   "source": [
    "loss_LR_num"
   ]
  },
  {
   "cell_type": "code",
   "execution_count": 187,
   "id": "926822f3",
   "metadata": {},
   "outputs": [
    {
     "data": {
      "text/plain": [
       "0.1861833865393489"
      ]
     },
     "execution_count": 187,
     "metadata": {},
     "output_type": "execute_result"
    }
   ],
   "source": [
    "acc_LR_num"
   ]
  },
  {
   "cell_type": "code",
   "execution_count": null,
   "id": "5095b29c",
   "metadata": {},
   "outputs": [],
   "source": []
  },
  {
   "cell_type": "code",
   "execution_count": 188,
   "id": "04cf13b9",
   "metadata": {},
   "outputs": [],
   "source": [
    "model_LogR=LogisticRegression(random_state=0)"
   ]
  },
  {
   "cell_type": "code",
   "execution_count": 39,
   "id": "ba3d9420",
   "metadata": {},
   "outputs": [],
   "source": [
    "loss_LogR,acc_LogR=model_result(model_LogR,X_train_vec,y_train_vec,X_test_vec,y_test_vec)"
   ]
  },
  {
   "cell_type": "code",
   "execution_count": 40,
   "id": "97d52ede",
   "metadata": {},
   "outputs": [
    {
     "data": {
      "text/plain": [
       "array([14.52081627])"
      ]
     },
     "execution_count": 40,
     "metadata": {},
     "output_type": "execute_result"
    }
   ],
   "source": [
    "loss_LogR"
   ]
  },
  {
   "cell_type": "code",
   "execution_count": 42,
   "id": "f4b18047",
   "metadata": {},
   "outputs": [
    {
     "data": {
      "text/plain": [
       "0.48584154966051735"
      ]
     },
     "execution_count": 42,
     "metadata": {},
     "output_type": "execute_result"
    }
   ],
   "source": [
    "acc_LogR"
   ]
  },
  {
   "cell_type": "code",
   "execution_count": 189,
   "id": "dd7ebdac",
   "metadata": {},
   "outputs": [],
   "source": [
    "loss_LogR_num,acc_LogR_num=model_result(model_LogR,X_train_num_vec,y_train_vec,X_test_num_vec,y_test_vec)"
   ]
  },
  {
   "cell_type": "code",
   "execution_count": 190,
   "id": "aa710cb9",
   "metadata": {},
   "outputs": [
    {
     "data": {
      "text/plain": [
       "array([16.27716096])"
      ]
     },
     "execution_count": 190,
     "metadata": {},
     "output_type": "execute_result"
    }
   ],
   "source": [
    "loss_LogR_num"
   ]
  },
  {
   "cell_type": "code",
   "execution_count": 191,
   "id": "1e06cc48",
   "metadata": {},
   "outputs": [
    {
     "data": {
      "text/plain": [
       "0.4866796621182586"
      ]
     },
     "execution_count": 191,
     "metadata": {},
     "output_type": "execute_result"
    }
   ],
   "source": [
    "acc_LogR_num"
   ]
  },
  {
   "cell_type": "code",
   "execution_count": null,
   "id": "0c21be04",
   "metadata": {},
   "outputs": [],
   "source": []
  },
  {
   "cell_type": "code",
   "execution_count": null,
   "id": "000449ae",
   "metadata": {},
   "outputs": [],
   "source": []
  },
  {
   "cell_type": "code",
   "execution_count": null,
   "id": "3c5f5e67",
   "metadata": {},
   "outputs": [],
   "source": []
  },
  {
   "cell_type": "code",
   "execution_count": null,
   "id": "42e2a040",
   "metadata": {},
   "outputs": [],
   "source": []
  },
  {
   "cell_type": "code",
   "execution_count": null,
   "id": "4c9c2f5a",
   "metadata": {},
   "outputs": [],
   "source": [
    "# build the net 这里开始要改的"
   ]
  },
  {
   "cell_type": "code",
   "execution_count": null,
   "id": "ad9946ed",
   "metadata": {},
   "outputs": [],
   "source": [
    "class RegressionNet(torch.nn.Module):\n",
    "    def __init__(self, width_num, width_text, hidden,final):\n",
    "        super(RegressionNet, self).__init__()\n",
    "        self.layer_num_1 = torch.nn.Linear(width_num, hidden)\n",
    "        self.layer_num_2 = torch.nn.Linear(hidden,final)\n",
    "        self.layer_text_1 = torch.nn.Linear(width_text, hidden)\n",
    "        self.layer_text_2 = torch.nn.Linear(hidden,final)\n",
    "        self.predict=torch.nn.Linear(2*final, 1)\n",
    "    def forward(self, x_num,x_text):\n",
    "        # x_num=x_num.flatten()\n",
    "        \n",
    "        \n",
    "        x_num=self.layer_num_1(x_num)\n",
    "        x_num = F.relu(x_num)\n",
    "        x_num=self.layer_num_2(x_num)\n",
    "        x_num=F.relu(x_num)\n",
    "        \n",
    "        # x_text=x_text.flatten()\n",
    "        x_text=self.layer_text_1(x_text)\n",
    "        x_text = F.relu(x_text)\n",
    "        x_text=self.layer_text_2(x_text)\n",
    "        x_text = F.relu(x_text)\n",
    "        \n",
    "        x_tot=torch.concat([x_num,x_text],dim=1)  \n",
    "        x_tot=self.predict(x_tot)\n",
    "        # x_tot=x_tot.int()\n",
    "        for item in x_tot:\n",
    "            item=0.0 if item<0 else item\n",
    "        return x_tot"
   ]
  },
  {
   "cell_type": "code",
   "execution_count": null,
   "id": "3e9eee05",
   "metadata": {},
   "outputs": [],
   "source": [
    "batch_size=16"
   ]
  },
  {
   "cell_type": "code",
   "execution_count": null,
   "id": "26d0f24f",
   "metadata": {},
   "outputs": [],
   "source": [
    "# 就取一小部分试试能不能跑，真用的时候记得把batch去掉\n",
    "dataset_XY_batch = torch.utils.data.TensorDataset(X_train_num_tensor,X_train_text_tensor, y_train_tensor)\n",
    "testset_XY_batch = torch.utils.data.TensorDataset(X_test_num_tensor, X_test_text_tensor, y_test_tensor)"
   ]
  },
  {
   "cell_type": "code",
   "execution_count": null,
   "id": "b31b1d54",
   "metadata": {},
   "outputs": [],
   "source": [
    "RNet=RegressionNet(X_train_num_tensor.shape[1],X_train_text_tensor.shape[1],20,5)"
   ]
  },
  {
   "cell_type": "code",
   "execution_count": null,
   "id": "f6958aa2",
   "metadata": {},
   "outputs": [],
   "source": [
    "def trainer(data_train,model,loss_fn,epoch=100,batch_size=16,rate=1e-3):\n",
    "    optimiser=torch.optim.Adam(model.parameters(),lr=rate)\n",
    "    loader_train=torch.utils.data.DataLoader(dataset=data_train,batch_size=batch_size,shuffle=True)\n",
    "    for i in range(epoch):\n",
    "        if i%10==0:\n",
    "            print(\"epoch \"+str(i))\n",
    "        for step,(batch_x_num,batch_x_text,batch_y) in enumerate(loader_train):    \n",
    "            #print(batch_x.float())\n",
    "            pred=model(batch_x_num,batch_x_text)\n",
    "            #class_pred = torch.argmax(pred,dim = -1)\n",
    "            loss=loss_fn(pred,batch_y)  \n",
    "            \n",
    "            optimiser.zero_grad()\n",
    "            loss.backward()\n",
    "            optimiser.step()\n",
    "            if (step%1000==0) and step>0:\n",
    "                print(\"now training step \"+str(step))\n",
    "                print(loss)"
   ]
  },
  {
   "cell_type": "code",
   "execution_count": null,
   "id": "db774bae",
   "metadata": {},
   "outputs": [],
   "source": [
    "trainer(dataset_XY_batch,RNet,MAE,epoch=100,batch_size=batch_size,rate=1e-3)"
   ]
  },
  {
   "cell_type": "code",
   "execution_count": null,
   "id": "1bd31911",
   "metadata": {},
   "outputs": [],
   "source": [
    "def success_rate(model,loss_fn,batch_size,test_data):\n",
    "    loader_test=torch.utils.data.DataLoader(dataset=test_data,batch_size=batch_size,shuffle=True)\n",
    "    loss_record=[]\n",
    "    acc_record=[]\n",
    "    total=0\n",
    "    total_loss=0\n",
    "    for step,(batch_x_num,batch_x_text,batch_y) in enumerate(loader_test):    \n",
    "            #print(batch_x.float())\n",
    "        pred=model(batch_x_num,batch_x_text)\n",
    "            #class_pred = torch.argmax(pred,dim = -1)\n",
    "        loss=loss_fn(pred,batch_y)  \n",
    "        total_loss+=loss\n",
    "        for i in range(len(pred)):\n",
    "            if int(pred[i])==int(batch_y[i]):\n",
    "                total+=1\n",
    "        # 应该要把预测结果都变成int的，但这样可能产生预测结果全是0，求不了梯度不能反向传播了，要想个办法\n",
    "        if step%1000==0:\n",
    "            loss_record.append(total_loss)\n",
    "            acc_record.append(total/((step+1)*batch_size))\n",
    "    return total/len(test_data),total_loss"
   ]
  },
  {
   "cell_type": "code",
   "execution_count": null,
   "id": "35bb6ee1",
   "metadata": {},
   "outputs": [],
   "source": [
    "# 屎一样的准确率和误差\n",
    "accuracy,MAE_loss=success_rate(RNet,MAE,batch_size,testset_XY_batch)\n",
    "print(accuracy)\n",
    "print(MAE_loss)"
   ]
  },
  {
   "cell_type": "code",
   "execution_count": null,
   "id": "e901ac83",
   "metadata": {},
   "outputs": [],
   "source": []
  },
  {
   "cell_type": "code",
   "execution_count": null,
   "id": "da7bdfbd",
   "metadata": {},
   "outputs": [],
   "source": []
  },
  {
   "cell_type": "code",
   "execution_count": null,
   "id": "a69b5e69",
   "metadata": {},
   "outputs": [],
   "source": []
  },
  {
   "cell_type": "code",
   "execution_count": null,
   "id": "1d67a14a",
   "metadata": {},
   "outputs": [],
   "source": [
    "# start evaluation"
   ]
  },
  {
   "cell_type": "code",
   "execution_count": 196,
   "id": "649c657e",
   "metadata": {},
   "outputs": [
    {
     "data": {
      "text/html": [
       "<div>\n",
       "<style scoped>\n",
       "    .dataframe tbody tr th:only-of-type {\n",
       "        vertical-align: middle;\n",
       "    }\n",
       "\n",
       "    .dataframe tbody tr th {\n",
       "        vertical-align: top;\n",
       "    }\n",
       "\n",
       "    .dataframe thead th {\n",
       "        text-align: right;\n",
       "    }\n",
       "</style>\n",
       "<table border=\"1\" class=\"dataframe\">\n",
       "  <thead>\n",
       "    <tr style=\"text-align: right;\">\n",
       "      <th></th>\n",
       "      <th>text</th>\n",
       "      <th>favorites_count</th>\n",
       "      <th>followers_count</th>\n",
       "      <th>statuses_count</th>\n",
       "      <th>friends_count</th>\n",
       "      <th>mentions</th>\n",
       "      <th>urls</th>\n",
       "      <th>verified</th>\n",
       "      <th>hashtags</th>\n",
       "      <th>timestamp</th>\n",
       "      <th>TweetID</th>\n",
       "    </tr>\n",
       "  </thead>\n",
       "  <tbody>\n",
       "    <tr>\n",
       "      <th>0</th>\n",
       "      <td>descendue pourcentage vote</td>\n",
       "      <td>0</td>\n",
       "      <td>85</td>\n",
       "      <td>4442</td>\n",
       "      <td>327</td>\n",
       "      <td>[]</td>\n",
       "      <td>[]</td>\n",
       "      <td>0</td>\n",
       "      <td>['presidentielle2022', 'hidalgo']</td>\n",
       "      <td>1647607994000</td>\n",
       "      <td>1184643</td>\n",
       "    </tr>\n",
       "    <tr>\n",
       "      <th>1</th>\n",
       "      <td>photo demande arbre généalogique</td>\n",
       "      <td>0</td>\n",
       "      <td>427</td>\n",
       "      <td>33282</td>\n",
       "      <td>443</td>\n",
       "      <td>[]</td>\n",
       "      <td>[]</td>\n",
       "      <td>0</td>\n",
       "      <td>[]</td>\n",
       "      <td>1647601275000</td>\n",
       "      <td>1199190</td>\n",
       "    </tr>\n",
       "    <tr>\n",
       "      <th>2</th>\n",
       "      <td>dossiers promis poste gars vraiment fiable</td>\n",
       "      <td>6</td>\n",
       "      <td>1127</td>\n",
       "      <td>13111</td>\n",
       "      <td>1596</td>\n",
       "      <td>[]</td>\n",
       "      <td>[]</td>\n",
       "      <td>0</td>\n",
       "      <td>['macron']</td>\n",
       "      <td>1646900684000</td>\n",
       "      <td>917372</td>\n",
       "    </tr>\n",
       "    <tr>\n",
       "      <th>3</th>\n",
       "      <td>lol cas faut second tour macron sortir définit...</td>\n",
       "      <td>2</td>\n",
       "      <td>1699</td>\n",
       "      <td>25760</td>\n",
       "      <td>2036</td>\n",
       "      <td>[]</td>\n",
       "      <td>['https://t.co/7ox54d8dlm']</td>\n",
       "      <td>0</td>\n",
       "      <td>[]</td>\n",
       "      <td>1647161294000</td>\n",
       "      <td>731754</td>\n",
       "    </tr>\n",
       "    <tr>\n",
       "      <th>4</th>\n",
       "      <td>zemmour putain discours propagandiste littéral...</td>\n",
       "      <td>0</td>\n",
       "      <td>249</td>\n",
       "      <td>20718</td>\n",
       "      <td>369</td>\n",
       "      <td>[]</td>\n",
       "      <td>['https://t.co/tsw9cg6v9j', 'https://t.co/t0j9...</td>\n",
       "      <td>0</td>\n",
       "      <td>[]</td>\n",
       "      <td>1647724874000</td>\n",
       "      <td>1400049</td>\n",
       "    </tr>\n",
       "  </tbody>\n",
       "</table>\n",
       "</div>"
      ],
      "text/plain": [
       "                                                text  favorites_count  \\\n",
       "0                         descendue pourcentage vote                0   \n",
       "1                   photo demande arbre généalogique                0   \n",
       "2         dossiers promis poste gars vraiment fiable                6   \n",
       "3  lol cas faut second tour macron sortir définit...                2   \n",
       "4  zemmour putain discours propagandiste littéral...                0   \n",
       "\n",
       "   followers_count  statuses_count  friends_count mentions  \\\n",
       "0               85            4442            327       []   \n",
       "1              427           33282            443       []   \n",
       "2             1127           13111           1596       []   \n",
       "3             1699           25760           2036       []   \n",
       "4              249           20718            369       []   \n",
       "\n",
       "                                                urls  verified  \\\n",
       "0                                                 []         0   \n",
       "1                                                 []         0   \n",
       "2                                                 []         0   \n",
       "3                        ['https://t.co/7ox54d8dlm']         0   \n",
       "4  ['https://t.co/tsw9cg6v9j', 'https://t.co/t0j9...         0   \n",
       "\n",
       "                            hashtags      timestamp  TweetID  \n",
       "0  ['presidentielle2022', 'hidalgo']  1647607994000  1184643  \n",
       "1                                 []  1647601275000  1199190  \n",
       "2                         ['macron']  1646900684000   917372  \n",
       "3                                 []  1647161294000   731754  \n",
       "4                                 []  1647724874000  1400049  "
      ]
     },
     "execution_count": 196,
     "metadata": {},
     "output_type": "execute_result"
    }
   ],
   "source": [
    "X_eval = pd.read_csv(\"data/evaluation.csv\")\n",
    "X_eval.head()"
   ]
  },
  {
   "cell_type": "code",
   "execution_count": 197,
   "id": "3667398f",
   "metadata": {},
   "outputs": [],
   "source": [
    "count_num(X_eval,[\"mentions\",\"urls\",\"hashtags\"])\n",
    "standardise(X_eval,[\"favorites_count\",\"followers_count\",\"statuses_count\",\"friends_count\",\"mentions\",\"urls\",\"verified\",\"hashtags\",\"timestamp\"])"
   ]
  },
  {
   "cell_type": "code",
   "execution_count": 198,
   "id": "b047b572",
   "metadata": {},
   "outputs": [],
   "source": [
    "X_eval_num=X_eval[[\"favorites_count\",\"followers_count\",\"statuses_count\",\"friends_count\",\"mentions\",\"urls\",\"verified\",\"hashtags\",\"timestamp\"]]\n",
    "X_eval_text=X_eval[\"text\"]"
   ]
  },
  {
   "cell_type": "code",
   "execution_count": 199,
   "id": "a554f4e1",
   "metadata": {},
   "outputs": [
    {
     "data": {
      "text/plain": [
       "tensor([[-0.0843, -0.0660,  0.0845,  ..., -0.1616, -0.0815,  0.2933],\n",
       "        [-0.2241, -0.2528, -0.0196,  ..., -0.1387, -0.1284, -0.0548],\n",
       "        [-0.3822, -0.3009,  0.5992,  ..., -0.3552, -0.3161,  0.0904],\n",
       "        ...,\n",
       "        [ 0.0174, -0.2312,  0.5523,  ..., -0.2367, -0.2610,  0.3282],\n",
       "        [ 0.4810,  0.2937,  0.1674,  ...,  0.4392, -0.0916,  0.7914],\n",
       "        [-0.2869, -0.1827, -0.0221,  ...,  0.0068, -0.3218,  0.2963]])"
      ]
     },
     "execution_count": 199,
     "metadata": {},
     "output_type": "execute_result"
    }
   ],
   "source": [
    "X_eval_text_vec=text2vec(X_eval_text,alpha=0.05, min_alpha=0.025, epochs=10)\n",
    "X_eval_text_tensor=torch.Tensor(X_eval_text_vec)\n",
    "X_eval_text_tensor"
   ]
  },
  {
   "cell_type": "code",
   "execution_count": 200,
   "id": "6cd71c37",
   "metadata": {},
   "outputs": [],
   "source": [
    "X_eval_num_vec=X_eval_num.values\n",
    "X_eval_num_tensor=torch.Tensor(X_eval_num_vec)"
   ]
  },
  {
   "cell_type": "code",
   "execution_count": 201,
   "id": "39ec2fc8",
   "metadata": {},
   "outputs": [
    {
     "data": {
      "text/plain": [
       "(117990, 109)"
      ]
     },
     "execution_count": 201,
     "metadata": {},
     "output_type": "execute_result"
    }
   ],
   "source": [
    "X_eval_vec=np.hstack([X_eval_text_vec,X_eval_num_vec])\n",
    "X_eval_vec.shape"
   ]
  },
  {
   "cell_type": "code",
   "execution_count": 214,
   "id": "73876142",
   "metadata": {},
   "outputs": [],
   "source": [
    "def evaluate_modle(model,filename):\n",
    "    y_val = model.predict(X_eval_vec)\n",
    "    y_val = np.array([int(value) if value >= 0 else 0 for value in y_val])\n",
    "    y_val=y_val.reshape((-1,1))\n",
    "    with open(filename, 'w',newline='') as f:\n",
    "        writer = csv.writer(f)\n",
    "        writer.writerow([\"TweetID\", \"retweets_count\"])\n",
    "        for index, prediction in enumerate(y_val):\n",
    "            writer.writerow([str(X_eval['TweetID'].iloc[index]) , str(int(prediction))])"
   ]
  },
  {
   "cell_type": "code",
   "execution_count": 215,
   "id": "6a6f1c66",
   "metadata": {},
   "outputs": [],
   "source": [
    "evaluate_modle(model_RF,\"RF_predictions.txt\")"
   ]
  },
  {
   "cell_type": "code",
   "execution_count": null,
   "id": "b1f2cedc",
   "metadata": {},
   "outputs": [],
   "source": []
  },
  {
   "cell_type": "code",
   "execution_count": 148,
   "id": "5c4958ec",
   "metadata": {},
   "outputs": [],
   "source": [
    "dataset_eval = torch.utils.data.TensorDataset(X_eval_num_tensor,X_eval_text_tensor)\n",
    "dataset_eval_batch = torch.utils.data.TensorDataset(X_eval_num_tensor[:batch_size*10],X_eval_text_tensor[:batch_size*10])"
   ]
  },
  {
   "cell_type": "code",
   "execution_count": 165,
   "id": "50b04bdc",
   "metadata": {},
   "outputs": [],
   "source": [
    "def evaluate(model,batch_size,test_eval):\n",
    "    res=[]\n",
    "    loader_eval=torch.utils.data.DataLoader(dataset=test_eval,batch_size=batch_size,shuffle=True)\n",
    "    for step,(batch_x_num,batch_x_text) in enumerate(loader_eval):    \n",
    "            #print(batch_x.float())\n",
    "        pred=model(batch_x_num,batch_x_text)\n",
    "            #class_pred = torch.argmax(pred,dim = -1)\n",
    "        for i in range(len(pred)):\n",
    "            res.append(float(pred[i]))\n",
    "        if (step%10==0):\n",
    "                print(\"now training step \"+str(step))\n",
    "    return res"
   ]
  },
  {
   "cell_type": "code",
   "execution_count": 166,
   "id": "bfe34ad3",
   "metadata": {},
   "outputs": [
    {
     "name": "stdout",
     "output_type": "stream",
     "text": [
      "now training step 0\n"
     ]
    }
   ],
   "source": [
    "evaluations=evaluate(RNet,batch_size,dataset_eval_batch)"
   ]
  },
  {
   "cell_type": "code",
   "execution_count": 168,
   "id": "b490499d",
   "metadata": {},
   "outputs": [
    {
     "data": {
      "text/plain": [
       "[1.171513319015503,\n",
       " 1.0925911664962769,\n",
       " 0.6914440989494324,\n",
       " 0.9591779112815857,\n",
       " 1.405458688735962]"
      ]
     },
     "execution_count": 168,
     "metadata": {},
     "output_type": "execute_result"
    }
   ],
   "source": [
    "evaluations[:5]"
   ]
  },
  {
   "cell_type": "code",
   "execution_count": 169,
   "id": "a8fed4c8",
   "metadata": {},
   "outputs": [],
   "source": [
    "with open(\"my_predictions.txt\", 'w',newline='') as f:\n",
    "    writer = csv.writer(f)\n",
    "    writer.writerow([\"TweetID\", \"retweets_count\"])\n",
    "    for index, prediction in enumerate(evaluations):\n",
    "        writer.writerow([str(X_eval['TweetID'].iloc[index]) , str(int(prediction))])"
   ]
  },
  {
   "cell_type": "code",
   "execution_count": null,
   "id": "132a19be",
   "metadata": {},
   "outputs": [],
   "source": []
  }
 ],
 "metadata": {
  "kernelspec": {
   "display_name": "Python 3 (ipykernel)",
   "language": "python",
   "name": "python3"
  },
  "language_info": {
   "codemirror_mode": {
    "name": "ipython",
    "version": 3
   },
   "file_extension": ".py",
   "mimetype": "text/x-python",
   "name": "python",
   "nbconvert_exporter": "python",
   "pygments_lexer": "ipython3",
   "version": "3.8.0"
  }
 },
 "nbformat": 4,
 "nbformat_minor": 5
}
