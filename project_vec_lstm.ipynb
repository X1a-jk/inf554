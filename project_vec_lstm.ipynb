{
 "cells": [
  {
   "cell_type": "code",
   "execution_count": 1,
   "metadata": {},
   "outputs": [],
   "source": [
    "import csv\n",
    "import time\n",
    "import numpy as np\n",
    "import pandas as pd\n",
    "\n",
    "from sklearn.ensemble import GradientBoostingRegressor\n",
    "from sklearn.dummy import DummyRegressor\n",
    "from sklearn.feature_extraction.text import TfidfVectorizer\n",
    "from sklearn.metrics import mean_absolute_error\n",
    "from sklearn.linear_model import Lasso\n",
    "from sklearn.ensemble import RandomForestRegressor\n",
    "from sklearn.neighbors import KNeighborsRegressor\n",
    "from sklearn.svm import SVR\n",
    "from sklearn.linear_model import LinearRegression\n",
    "from sklearn.linear_model import LogisticRegression\n",
    "from sklearn.decomposition import PCA\n",
    "\n",
    "from verstack.stratified_continuous_split import scsplit # pip install verstack\n",
    "from nltk.corpus import stopwords \n",
    "\n",
    "import torch\n",
    "import torch.nn.functional as F\n",
    "\n",
    "from scipy import spatial\n",
    "import matplotlib.pyplot as plt\n",
    "from sklearn.manifold import TSNE\n",
    "\n",
    "import os\n",
    "import gensim\n",
    "from gensim.models.doc2vec import Doc2Vec\n",
    "import warnings\n",
    "warnings.filterwarnings(action='ignore', category=UserWarning, module='gensim')"
   ]
  },
  {
   "cell_type": "markdown",
   "metadata": {},
   "source": [
    "### 基本思路\n",
    "使用如下两组要素\n",
    "- 数字变量\n",
    "  1. favorites count (log_stand)\n",
    "  2. followers count (log_stand)\n",
    "  3. statues count (发推数量) (log_stand)\n",
    "  4. friends count (log_stand)\n",
    "  5. urls count (log_stand)\n",
    "  6. verified (1 or 0) (这一部分我们不做log_stand)\n",
    "  7. timestamp (一天内的早中晚（hour），距离大选的时间(month和day)，周几(wday)都可能产生影响)\n",
    "- 文本变量\n",
    "  1. tweet text\n",
    "  2. hashtags \n",
    "\n",
    "将文本变量通过embedding处理后用CNN/LSTM得到一部分输出，另外对数字变量通过CNN也得到了一部分结果，最后汇总，用2层dense layer。\n"
   ]
  },
  {
   "cell_type": "code",
   "execution_count": 2,
   "metadata": {},
   "outputs": [
    {
     "name": "stdout",
     "output_type": "stream",
     "text": [
      "all mentions in train data:  {']', '['}\n",
      "average number of urls in train data: 0.529\n",
      "number of distinct urls in train data:  185951\n",
      "verified users:  10621\n",
      "average number of hashtags in train data: 0.297\n",
      "number of distinct hashtags in train data: 12093\n",
      "average number of hashtags in evaluation data: 0.299\n",
      "number of distinct hashtags in evaluation data: 5942\n",
      "number of tweets not posted in 2022 in train data: 2380\n"
     ]
    },
    {
     "data": {
      "text/html": [
       "<div>\n",
       "<style scoped>\n",
       "    .dataframe tbody tr th:only-of-type {\n",
       "        vertical-align: middle;\n",
       "    }\n",
       "\n",
       "    .dataframe tbody tr th {\n",
       "        vertical-align: top;\n",
       "    }\n",
       "\n",
       "    .dataframe thead th {\n",
       "        text-align: right;\n",
       "    }\n",
       "</style>\n",
       "<table border=\"1\" class=\"dataframe\">\n",
       "  <thead>\n",
       "    <tr style=\"text-align: right;\">\n",
       "      <th></th>\n",
       "      <th>text</th>\n",
       "      <th>retweets_count</th>\n",
       "      <th>favorites_count</th>\n",
       "      <th>followers_count</th>\n",
       "      <th>statuses_count</th>\n",
       "      <th>friends_count</th>\n",
       "      <th>verified</th>\n",
       "      <th>hashtags</th>\n",
       "      <th>urls_count</th>\n",
       "      <th>month</th>\n",
       "      <th>yday</th>\n",
       "      <th>wday</th>\n",
       "      <th>hour</th>\n",
       "    </tr>\n",
       "  </thead>\n",
       "  <tbody>\n",
       "    <tr>\n",
       "      <th>0</th>\n",
       "      <td>[rt, refarcir, macron, ans, nom, prépare]</td>\n",
       "      <td>3</td>\n",
       "      <td>0</td>\n",
       "      <td>3682</td>\n",
       "      <td>453535</td>\n",
       "      <td>3628</td>\n",
       "      <td>0</td>\n",
       "      <td>[]</td>\n",
       "      <td>0</td>\n",
       "      <td>3</td>\n",
       "      <td>70</td>\n",
       "      <td>4</td>\n",
       "      <td>5</td>\n",
       "    </tr>\n",
       "    <tr>\n",
       "      <th>1</th>\n",
       "      <td>[populaire]</td>\n",
       "      <td>0</td>\n",
       "      <td>0</td>\n",
       "      <td>86</td>\n",
       "      <td>1016</td>\n",
       "      <td>284</td>\n",
       "      <td>0</td>\n",
       "      <td>[]</td>\n",
       "      <td>0</td>\n",
       "      <td>3</td>\n",
       "      <td>78</td>\n",
       "      <td>5</td>\n",
       "      <td>12</td>\n",
       "    </tr>\n",
       "    <tr>\n",
       "      <th>2</th>\n",
       "      <td>[faut, dégager, cinglé]</td>\n",
       "      <td>3</td>\n",
       "      <td>1</td>\n",
       "      <td>1944</td>\n",
       "      <td>28234</td>\n",
       "      <td>1995</td>\n",
       "      <td>0</td>\n",
       "      <td>[]</td>\n",
       "      <td>0</td>\n",
       "      <td>3</td>\n",
       "      <td>74</td>\n",
       "      <td>1</td>\n",
       "      <td>18</td>\n",
       "    </tr>\n",
       "    <tr>\n",
       "      <th>3</th>\n",
       "      <td>[enseignants, mettre, prescriptions, président...</td>\n",
       "      <td>0</td>\n",
       "      <td>0</td>\n",
       "      <td>1</td>\n",
       "      <td>1072</td>\n",
       "      <td>0</td>\n",
       "      <td>0</td>\n",
       "      <td>[]</td>\n",
       "      <td>1</td>\n",
       "      <td>3</td>\n",
       "      <td>73</td>\n",
       "      <td>0</td>\n",
       "      <td>11</td>\n",
       "    </tr>\n",
       "    <tr>\n",
       "      <th>4</th>\n",
       "      <td>[mafieuse, oppressive, macron]</td>\n",
       "      <td>0</td>\n",
       "      <td>0</td>\n",
       "      <td>13957</td>\n",
       "      <td>25311</td>\n",
       "      <td>10841</td>\n",
       "      <td>0</td>\n",
       "      <td>[]</td>\n",
       "      <td>0</td>\n",
       "      <td>3</td>\n",
       "      <td>73</td>\n",
       "      <td>0</td>\n",
       "      <td>11</td>\n",
       "    </tr>\n",
       "  </tbody>\n",
       "</table>\n",
       "</div>"
      ],
      "text/plain": [
       "                                                text  retweets_count  \\\n",
       "0          [rt, refarcir, macron, ans, nom, prépare]               3   \n",
       "1                                        [populaire]               0   \n",
       "2                            [faut, dégager, cinglé]               3   \n",
       "3  [enseignants, mettre, prescriptions, président...               0   \n",
       "4                     [mafieuse, oppressive, macron]               0   \n",
       "\n",
       "   favorites_count  followers_count  statuses_count  friends_count  verified  \\\n",
       "0                0             3682          453535           3628         0   \n",
       "1                0               86            1016            284         0   \n",
       "2                1             1944           28234           1995         0   \n",
       "3                0                1            1072              0         0   \n",
       "4                0            13957           25311          10841         0   \n",
       "\n",
       "  hashtags  urls_count  month  yday  wday  hour  \n",
       "0       []           0      3    70     4     5  \n",
       "1       []           0      3    78     5    12  \n",
       "2       []           0      3    74     1    18  \n",
       "3       []           1      3    73     0    11  \n",
       "4       []           0      3    73     0    11  "
      ]
     },
     "execution_count": 2,
     "metadata": {},
     "output_type": "execute_result"
    }
   ],
   "source": [
    "# Load data\n",
    "\n",
    "train_data = pd.read_csv(\"data/train.csv\")\n",
    "eval_data = pd.read_csv(\"data/evaluation.csv\")\n",
    "\n",
    "# Pre-process the traning data\n",
    "label = \"text\"\n",
    "train_data[label] = train_data[label].map(lambda x: str.split(x, sep=\" \"))\n",
    "\n",
    "\n",
    "label = \"mentions\"\n",
    "train_data[label+\"_count\"] = train_data[label].map(lambda x: len(str.split(x)))\n",
    "mentions = set()\n",
    "train_data[label].apply(lambda x: mentions.update(x))\n",
    "print(\"all mentions in train data: \", mentions)\n",
    "\n",
    "\n",
    "label = \"urls\"\n",
    "train_data[label] = train_data[label].map(lambda x: [] if x==\"[]\" else [str.strip(url) for url in str.split(x[1:-1], sep=\",\")])\n",
    "train_data[label+\"_count\"] = train_data[label].map(lambda x: len(x))\n",
    "urls = set()\n",
    "# hashtags=set()\n",
    "train_data[label].apply(lambda x: None if len(x)<1 else urls.update(x))\n",
    "# train_data[label].apply(lambda x: None if len(x)<1 else hashtags.update(x))\n",
    "print(f\"average number of urls in train data: {train_data.urls_count.mean():1.3f}\")\n",
    "print(\"number of distinct urls in train data: \", len(urls))\n",
    "\n",
    "label = \"verified\"\n",
    "print(\"verified users: \", train_data[\"verified\"].sum())\n",
    "\n",
    "\n",
    "label = \"hashtags\"\n",
    "train_data[label] = train_data[label].map(lambda x: [] if x==\"[]\" else [str.strip(tag) for tag in str.split(x[1:-1], sep=\",\")])\n",
    "train_data[label+\"_count\"] = train_data[label].map(lambda x: len(x))\n",
    "hashtags = set()\n",
    "train_data[label].apply(lambda x: None if len(x)<1 else hashtags.update(x))\n",
    "print(f\"average number of hashtags in train data: {train_data.hashtags_count.mean():1.3f}\")\n",
    "print(\"number of distinct hashtags in train data:\", len(hashtags))\n",
    "\n",
    "\n",
    "label = \"hashtags\"\n",
    "eval_data[label] = eval_data[label].map(lambda x: [] if x==\"[]\" else [str.strip(tag) for tag in str.split(x[1:-1], sep=\",\")])\n",
    "eval_data[label+\"_count\"] = eval_data[label].map(lambda x: len(x))\n",
    "hashtags2 = set()\n",
    "eval_data[label].apply(lambda x: None if not x else hashtags2.update(x))\n",
    "print(f\"average number of hashtags in evaluation data: {eval_data.hashtags_count.mean():1.3f}\")\n",
    "print(\"number of distinct hashtags in evaluation data:\", len(hashtags2))\n",
    "\n",
    "\n",
    "\n",
    "# Treatment of time\n",
    "# The time relative to the election (month and yday), day in the week, \n",
    "# and the hour all affect the number of retweets.\n",
    "train_data[\"timestamp\"] = train_data[\"timestamp\"].map(lambda x: time.gmtime(x//1000))\n",
    "# Only 2380 tweets are not posted in 2022, so we ignore the year\n",
    "# train_data[\"year\"] = train_data[\"timestamp\"].map(lambda x: x.tm_year)\n",
    "train_data[\"month\"] = train_data[\"timestamp\"].map(lambda x: x.tm_mon)\n",
    "train_data[\"yday\"] = train_data[\"timestamp\"].map(lambda x: x.tm_yday)\n",
    "train_data[\"wday\"] = train_data[\"timestamp\"].map(lambda x: x.tm_wday)\n",
    "train_data[\"hour\"] = train_data[\"timestamp\"].map(lambda x: x.tm_hour)\n",
    "print(\"number of tweets not posted in 2022 in train data:\", len(train_data[train_data[\"timestamp\"].map(lambda x: x.tm_year) < 2022]))\n",
    "\n",
    "# We drop the following data:\n",
    "# @TweetID: useless\n",
    "# @mentions: none of the mentions in the train data are not null\n",
    "# @mentions_count\n",
    "# @hashtags_count: we use hashtags directly\n",
    "# @urls: we use urls_count instead\n",
    "\n",
    "train_data.drop(labels=[\"TweetID\",\"timestamp\", \"mentions\",\"mentions_count\", \"hashtags_count\", \"urls\"], axis=1, inplace=True)\n",
    "train_data.head(5)"
   ]
  },
  {
   "cell_type": "code",
   "execution_count": 3,
   "metadata": {},
   "outputs": [],
   "source": [
    "# Here we split our training data into trainig and testing set. This way we can estimate the evaluation of our model without uploading to Kaggle and avoid overfitting over our evaluation dataset.\n",
    "# scsplit method is used in order to split our regression data in a stratisfied way and keep a similar distribution of retweet counts between the two sets\n",
    "X_train, X_test, y_train, y_test = scsplit(train_data, train_data['retweets_count'], stratify=train_data['retweets_count'], train_size=0.7, test_size=0.3)\n",
    "\n",
    "# We remove the actual number of retweets from our features since it is the value that we are trying to predict\n",
    "X_train = X_train.drop([\"retweets_count\"], axis=1)\n",
    "X_test = X_test.drop([\"retweets_count\"], axis=1)\n",
    "\n",
    "# log transform\n",
    "def log_transform(data, list_column):\n",
    "        for name_column in list_column:\n",
    "            data[name_column] = np.log(data[name_column])\n",
    "\n",
    "# standardise the columns of numeric values\n",
    "def standardise(data,list_column):\n",
    "    for name_column in list_column:\n",
    "        # standardize\n",
    "        if data[name_column].std()!=0:\n",
    "            data[name_column]=(data[name_column]-data[name_column].mean())/data[name_column].std()\n",
    "        else:\n",
    "            data[name_column]=(data[name_column]-data[name_column].mean())\n",
    "\n",
    "standardise(X_train,[\"favorites_count\",\"followers_count\",\"statuses_count\",\"friends_count\",\"urls_count\",\"month\",\"yday\",\"wday\",\"hour\"])\n",
    "standardise(X_test, [\"favorites_count\",\"followers_count\",\"statuses_count\",\"friends_count\",\"urls_count\",\"month\",\"yday\",\"wday\",\"hour\"])\n",
    "\n",
    "standardise(X_train,[\"favorites_count\",\"followers_count\",\"statuses_count\",\"friends_count\",\"urls_count\",\"month\",\"yday\",\"wday\",\"hour\"])\n",
    "standardise(X_test, [\"favorites_count\",\"followers_count\",\"statuses_count\",\"friends_count\",\"urls_count\",\"month\",\"yday\",\"wday\",\"hour\"])\n",
    "\n",
    "# split the table into 2 parts: one with the text and the other with the numbers\n",
    "X_train_num=X_train.drop([\"text\", \"hashtags\"], axis=1)\n",
    "X_test_num=X_test.drop([\"text\", \"hashtags\"], axis=1)\n",
    "\n",
    "X_train_text=X_train[[\"text\", \"hashtags\"]]\n",
    "X_test_text=X_test[[\"text\", \"hashtags\"]]"
   ]
  },
  {
   "cell_type": "code",
   "execution_count": 4,
   "metadata": {},
   "outputs": [],
   "source": [
    "# This part is used to train the embedding of the vocabulary, only needed to be run once\n",
    "\n",
    "path_text_dataset='French-Word-Embeddings/Data/data.txt'\n",
    "text_dataset=pd.read_table(path_text_dataset).values\n",
    "text_dataset=[item[0][:-1] for item in text_dataset]\n",
    "\n",
    "TaggedDocument=gensim.models.doc2vec.TaggedDocument\n",
    "\n",
    "def X_text(sentences):\n",
    "    X=[]\n",
    "    for i,text in enumerate(sentences):\n",
    "        words=text.split(\" \")\n",
    "        l=len(words)\n",
    "        words=words[:-2]\n",
    "        document=TaggedDocument(words,tags=[i])\n",
    "        X.append(document)\n",
    "    return X\n",
    "\n",
    "X_documents=X_text(text_dataset)\n",
    "X_documents[:5]\n",
    "\n",
    "def train_text(text_train,size=10,epochs=10):\n",
    "    model=Doc2Vec(text_train,min_count=1,window=3,vector_size=size,sample=1e-3,negative=5,epochs=epochs)\n",
    "    model.train(text_train,total_examples=model.corpus_count,epochs=model.epochs)\n",
    "    return model\n",
    "\n",
    "if not os.path.exists('./WE_models'):\n",
    "    os.mkdir('./WE_models')\n",
    "\n",
    "# run only once this part  \n",
    "# model_text10=train_text(X_documents, size=64)\n",
    "# model_text10.save('WE_models/d2v_64D')\n",
    "# model_text5=train_text(X_documents, size=32)\n",
    "# model_text5.save('WE_models/d2v_32D')"
   ]
  },
  {
   "cell_type": "code",
   "execution_count": 11,
   "metadata": {},
   "outputs": [],
   "source": [
    "# Here we load the embedding model:\n",
    "model_text10 = Doc2Vec.load('WE_models/d2v_10D')\n",
    "model_text5 = Doc2Vec.load('WE_models/d2v_5D')"
   ]
  },
  {
   "cell_type": "code",
   "execution_count": 12,
   "metadata": {},
   "outputs": [],
   "source": [
    "# Tranform the textual part to vector\n",
    "\n",
    "def text2vec(text_train, model, alpha=0.05, min_alpha=0.025, epochs=10, tags=True):\n",
    "    list_text=[]\n",
    "    for sentence in text_train:\n",
    "        vec = model.infer_vector(doc_words=sentence, alpha=alpha, min_alpha=min_alpha, epochs=epochs).tolist()\n",
    "        list_text.append(vec)\n",
    "    return np.array(list_text)\n",
    "\n",
    "# text to vector\n",
    "train_text_tensor=torch.Tensor(text2vec(X_train_text[\"text\"], model=model_text10))\n",
    "test_text_tensor=torch.Tensor(text2vec(X_test_text[\"text\"], model=model_text10))\n",
    "\n",
    "# hashtags to vector\n",
    "train_tags_tensor=torch.Tensor(text2vec(X_train_text[\"hashtags\"], model=model_text5))\n",
    "test_tags_tensor=torch.Tensor(text2vec(X_test_text[\"hashtags\"], model=model_text5))\n",
    "\n",
    "# combine the two vectors\n",
    "X_train_text_tensor = torch.cat((train_text_tensor, train_tags_tensor), axis=1)\n",
    "X_test_text_tensor = torch.cat((test_text_tensor, test_tags_tensor), axis=1)\n"
   ]
  },
  {
   "cell_type": "code",
   "execution_count": 13,
   "metadata": {},
   "outputs": [],
   "source": [
    "X_train_num_vec=X_train_num.to_numpy()\n",
    "X_train_text_vec=X_train_text_tensor.numpy()\n",
    "X_train_vec=np.hstack([X_train_num_vec,X_train_text_vec])\n",
    "\n",
    "X_test_num_vec=X_test_num.to_numpy()\n",
    "X_test_text_vec=X_test_text_tensor.numpy()\n",
    "X_test_vec=np.hstack([X_test_num_vec,X_test_text_vec])\n",
    "\n",
    "y_train_vec=y_train.to_numpy()\n",
    "y_test_vec=y_test.to_numpy()"
   ]
  },
  {
   "cell_type": "code",
   "execution_count": 14,
   "metadata": {},
   "outputs": [
    {
     "name": "stdout",
     "output_type": "stream",
     "text": [
      "torch.Size([247778, 10]) torch.Size([247778, 1])\n",
      "torch.Size([247778, 15]) torch.Size([106191, 15])\n",
      "torch.Size([247778, 25]) torch.Size([106191, 25])\n"
     ]
    }
   ],
   "source": [
    "X_train_num_tensor=torch.Tensor(X_train_num.values)\n",
    "X_test_num_tensor=torch.Tensor(X_test_num.values)\n",
    "\n",
    "X_train_tensor=torch.cat((X_train_num_tensor, X_train_text_tensor), axis=1)\n",
    "X_test_tensor=torch.cat((X_test_num_tensor, X_test_text_tensor), axis=1)\n",
    "\n",
    "y_train_tensor=torch.Tensor(y_train.to_numpy()).reshape((-1,1))\n",
    "y_test_tensor=torch.Tensor(y_test.to_numpy()).reshape((-1,1))\n",
    "\n",
    "print(X_train_num_tensor.shape, y_train_tensor.shape)\n",
    "print(X_train_text_tensor.shape, X_test_text_tensor.shape)\n",
    "print(X_train_tensor.shape, X_test_tensor.shape)"
   ]
  },
  {
   "cell_type": "code",
   "execution_count": 15,
   "metadata": {},
   "outputs": [],
   "source": [
    "def MAE(pred,real):\n",
    "    N=len(pred)\n",
    "    sum=0\n",
    "    for i in range(N):\n",
    "        sum+=abs(pred[i]-real[i])\n",
    "    return sum/N"
   ]
  },
  {
   "cell_type": "code",
   "execution_count": 16,
   "metadata": {},
   "outputs": [],
   "source": [
    "def model_result(model,X_train,y_train,X_test,y_test):\n",
    "    model.fit(X_train,y_train)\n",
    "    y_pred = model.predict(X_test)\n",
    "    y_pred = np.array([int(value) if value >= 0 else 0 for value in y_pred])\n",
    "    loss=MAE(y_pred,y_test)\n",
    "    return loss"
   ]
  },
  {
   "cell_type": "code",
   "execution_count": null,
   "metadata": {},
   "outputs": [],
   "source": []
  },
  {
   "cell_type": "code",
   "execution_count": 47,
   "metadata": {},
   "outputs": [],
   "source": [
    "model_LR=LinearRegression()"
   ]
  },
  {
   "cell_type": "code",
   "execution_count": 48,
   "metadata": {},
   "outputs": [
    {
     "data": {
      "text/plain": [
       "11.873445018881073"
      ]
     },
     "execution_count": 48,
     "metadata": {},
     "output_type": "execute_result"
    }
   ],
   "source": [
    "loss_LR=model_result(model_LR,X_train_vec,y_train_vec,X_test_vec,y_test_vec)\n",
    "loss_LR"
   ]
  },
  {
   "cell_type": "code",
   "execution_count": 49,
   "metadata": {},
   "outputs": [
    {
     "data": {
      "text/plain": [
       "11.778079121582808"
      ]
     },
     "execution_count": 49,
     "metadata": {},
     "output_type": "execute_result"
    }
   ],
   "source": [
    "loss_LR_num=model_result(model_LR,X_train_num_vec,y_train_vec,X_test_num_vec,y_test_vec)\n",
    "loss_LR_num"
   ]
  },
  {
   "cell_type": "code",
   "execution_count": null,
   "metadata": {},
   "outputs": [],
   "source": []
  },
  {
   "cell_type": "code",
   "execution_count": 39,
   "metadata": {},
   "outputs": [
    {
     "name": "stdout",
     "output_type": "stream",
     "text": [
      "loss=11.873445018881073; param=0.000000\n",
      "loss=11.791018071211308; param=0.100000\n",
      "loss=11.75600568786432; param=0.200000\n",
      "loss=11.733593242365172; param=0.300000\n",
      "loss=11.723912572628565; param=0.400000\n",
      "loss=11.722754282377979; param=0.500000\n",
      "loss=11.73204885536439; param=0.600000\n",
      "loss=11.762927178386116; param=0.700000\n",
      "loss=11.7712706349879; param=0.800000\n",
      "loss=11.768718629639046; param=0.900000\n",
      "loss=11.786658003032272; param=1.000000\n",
      "loss=11.834468081099152; param=1.100000\n",
      "loss=11.94851729430931; param=1.200000\n",
      "loss=11.992428736898606; param=1.300000\n",
      "loss=11.990291079281672; param=1.400000\n"
     ]
    }
   ],
   "source": [
    "Lasso_alpha_list=[0.1*i for i in range(0,15)]\n",
    "loss_Lasso_tot=[]\n",
    "for alpha in Lasso_alpha_list:    \n",
    "    # print(alpha)\n",
    "    model_Lasso=Lasso(alpha=alpha)\n",
    "    loss_Lasso=model_result(model_Lasso,X_train_vec,y_train_vec,X_test_vec,y_test_vec)\n",
    "    print(\"loss=\"+str(loss_Lasso)+\"; param={:2f}\".format(alpha))\n",
    "    loss_Lasso_tot.append(loss_Lasso)"
   ]
  },
  {
   "cell_type": "code",
   "execution_count": 40,
   "metadata": {},
   "outputs": [
    {
     "data": {
      "image/png": "[encoded data removed]",
      "text/plain": [
       "<Figure size 640x480 with 1 Axes>"
      ]
     },
     "metadata": {},
     "output_type": "display_data"
    }
   ],
   "source": [
    "fig = plt.figure()\n",
    "ax = plt.axes()\n",
    "ax.scatter(Lasso_alpha_list,loss_Lasso_tot)\n",
    "ax.plot(Lasso_alpha_list,loss_Lasso_tot) \n",
    "plt.title(\"Loss for Lasso model\")\n",
    "plt.show()"
   ]
  },
  {
   "cell_type": "code",
   "execution_count": 41,
   "metadata": {},
   "outputs": [],
   "source": [
    "model_Lasso=Lasso(alpha=0.1*np.argmin(np.array(loss_Lasso_tot)))"
   ]
  },
  {
   "cell_type": "code",
   "execution_count": 44,
   "metadata": {},
   "outputs": [
    {
     "data": {
      "text/plain": [
       "11.722754282377979"
      ]
     },
     "execution_count": 44,
     "metadata": {},
     "output_type": "execute_result"
    }
   ],
   "source": [
    "loss_Lasso=model_result(model_Lasso,X_train_vec,y_train_vec,X_test_vec,y_test_vec)\n",
    "loss_Lasso"
   ]
  },
  {
   "cell_type": "code",
   "execution_count": 45,
   "metadata": {},
   "outputs": [
    {
     "data": {
      "text/plain": [
       "11.728216138844159"
      ]
     },
     "execution_count": 45,
     "metadata": {},
     "output_type": "execute_result"
    }
   ],
   "source": [
    "loss_Lasso_num=model_result(model_Lasso,X_train_num_vec,y_train_vec,X_test_num_vec,y_test_vec)\n",
    "loss_Lasso_num"
   ]
  },
  {
   "cell_type": "code",
   "execution_count": null,
   "metadata": {},
   "outputs": [],
   "source": []
  },
  {
   "cell_type": "code",
   "execution_count": null,
   "metadata": {},
   "outputs": [],
   "source": []
  },
  {
   "cell_type": "code",
   "execution_count": 50,
   "metadata": {},
   "outputs": [
    {
     "name": "stdout",
     "output_type": "stream",
     "text": [
      "loss=10.002439001421966; param=7.000000\n",
      "loss=9.976645855110132; param=8.000000\n",
      "loss=9.879330640073077; param=9.000000\n",
      "loss=9.84488327636052; param=10.000000\n",
      "loss=9.838969404186795; param=11.000000\n",
      "loss=9.843508395250069; param=12.000000\n",
      "loss=9.842472525920275; param=13.000000\n",
      "loss=9.86856701603714; param=14.000000\n"
     ]
    }
   ],
   "source": [
    "alpha_list_Knn=[(i+1) for i in range(6,14)]\n",
    "loss_Knn_tot=[]\n",
    "for alpha in alpha_list_Knn:    \n",
    "    model_Knn=KNeighborsRegressor(n_neighbors=alpha)\n",
    "    loss_Knn=model_result(model_Knn,X_train_vec,y_train_vec,X_test_vec,y_test_vec)\n",
    "    loss_Knn_tot.append(loss_Knn)\n",
    "    print(\"loss=\"+str(loss_Knn)+\"; param={:2f}\".format(alpha))"
   ]
  },
  {
   "cell_type": "code",
   "execution_count": 51,
   "metadata": {},
   "outputs": [
    {
     "data": {
      "image/png": "[encoded data removed]",
      "text/plain": [
       "<Figure size 640x480 with 1 Axes>"
      ]
     },
     "metadata": {},
     "output_type": "display_data"
    }
   ],
   "source": [
    "fig = plt.figure()\n",
    "ax = plt.axes()\n",
    "ax.scatter(alpha_list_Knn,loss_Knn_tot)\n",
    "ax.plot(alpha_list_Knn,loss_Knn_tot) \n",
    "plt.title(\"Loss for Knn model\")\n",
    "plt.show()"
   ]
  },
  {
   "cell_type": "code",
   "execution_count": 52,
   "metadata": {},
   "outputs": [],
   "source": [
    "model_Knn=KNeighborsRegressor(n_neighbors=1+np.argmin(np.array(loss_Knn_tot)))"
   ]
  },
  {
   "cell_type": "code",
   "execution_count": 53,
   "metadata": {},
   "outputs": [],
   "source": [
    "loss_Knn=model_result(model_Knn,X_train_vec,y_train_vec,X_test_vec,y_test_vec)"
   ]
  },
  {
   "cell_type": "code",
   "execution_count": 54,
   "metadata": {},
   "outputs": [
    {
     "data": {
      "text/plain": [
       "10.138881826143459"
      ]
     },
     "execution_count": 54,
     "metadata": {},
     "output_type": "execute_result"
    }
   ],
   "source": [
    "loss_Knn"
   ]
  },
  {
   "cell_type": "code",
   "execution_count": 55,
   "metadata": {},
   "outputs": [
    {
     "data": {
      "text/plain": [
       "9.084602273262329"
      ]
     },
     "execution_count": 55,
     "metadata": {},
     "output_type": "execute_result"
    }
   ],
   "source": [
    "loss_Knn_num=model_result(model_Knn,X_train_num_vec,y_train_vec,X_test_num_vec,y_test_vec)\n",
    "loss_Knn_num"
   ]
  },
  {
   "cell_type": "code",
   "execution_count": null,
   "metadata": {},
   "outputs": [],
   "source": []
  },
  {
   "cell_type": "code",
   "execution_count": null,
   "metadata": {},
   "outputs": [],
   "source": []
  },
  {
   "cell_type": "code",
   "execution_count": 56,
   "metadata": {},
   "outputs": [
    {
     "name": "stdout",
     "output_type": "stream",
     "text": [
      "loss=8.288169430554378; param=10.000000\n",
      "loss=8.244747671648257; param=11.000000\n",
      "loss=8.25484268911678; param=12.000000\n",
      "loss=8.196965844563099; param=13.000000\n",
      "loss=8.105300825870366; param=14.000000\n",
      "loss=8.152188038534339; param=15.000000\n",
      "loss=8.152847228107843; param=16.000000\n",
      "loss=8.172943093105818; param=17.000000\n",
      "loss=8.180269514365625; param=18.000000\n",
      "loss=8.138834741173923; param=19.000000\n"
     ]
    }
   ],
   "source": [
    "alpha_list_RF=[i for i in range(10,20)]\n",
    "loss_RF_tot=[]\n",
    "for alpha in alpha_list_RF:    \n",
    "    model_RF=RandomForestRegressor(max_depth=alpha)\n",
    "    loss_RF=model_result(model_RF,X_train_vec,y_train_vec,X_test_vec,y_test_vec)\n",
    "    loss_RF_tot.append(loss_RF)\n",
    "    print(\"loss=\"+str(loss_RF)+\"; param={:2f}\".format(alpha))"
   ]
  },
  {
   "cell_type": "code",
   "execution_count": 57,
   "metadata": {},
   "outputs": [
    {
     "data": {
      "image/png": "[encoded data removed]",
      "text/plain": [
       "<Figure size 640x480 with 1 Axes>"
      ]
     },
     "metadata": {},
     "output_type": "display_data"
    }
   ],
   "source": [
    "fig = plt.figure()\n",
    "ax = plt.axes()\n",
    "ax.scatter(alpha_list_RF,loss_RF_tot)\n",
    "ax.plot(alpha_list_RF,loss_RF_tot) \n",
    "plt.title(\"Loss for RF model\")\n",
    "plt.show()"
   ]
  },
  {
   "cell_type": "code",
   "execution_count": 58,
   "metadata": {},
   "outputs": [],
   "source": [
    "model_RF=RandomForestRegressor(max_depth=np.argmin(np.array(loss_Knn_tot)))"
   ]
  },
  {
   "cell_type": "code",
   "execution_count": 59,
   "metadata": {},
   "outputs": [
    {
     "data": {
      "text/plain": [
       "8.04710380352384"
      ]
     },
     "execution_count": 59,
     "metadata": {},
     "output_type": "execute_result"
    }
   ],
   "source": [
    "loss_RF=model_result(model_RF,X_train_vec,y_train_vec,X_test_vec,y_test_vec)\n",
    "loss_RF"
   ]
  },
  {
   "cell_type": "code",
   "execution_count": 60,
   "metadata": {},
   "outputs": [
    {
     "data": {
      "text/plain": [
       "8.31815313915492"
      ]
     },
     "execution_count": 60,
     "metadata": {},
     "output_type": "execute_result"
    }
   ],
   "source": [
    "loss_RF_num=model_result(model_RF,X_train_num_vec,y_train_vec,X_test_num_vec,y_test_vec)\n",
    "loss_RF_num"
   ]
  },
  {
   "cell_type": "code",
   "execution_count": null,
   "metadata": {},
   "outputs": [],
   "source": []
  },
  {
   "cell_type": "code",
   "execution_count": null,
   "metadata": {},
   "outputs": [],
   "source": []
  },
  {
   "cell_type": "code",
   "execution_count": 61,
   "metadata": {},
   "outputs": [
    {
     "name": "stdout",
     "output_type": "stream",
     "text": [
      "loss=13.502923976608187; param=1.500000\n",
      "loss=13.316147319452684; param=1.600000\n",
      "loss=13.88214632125133; param=1.700000\n",
      "loss=13.976043167500071; param=1.800000\n",
      "loss=13.532257912629131; param=1.900000\n",
      "loss=13.800180806283018; param=2.000000\n",
      "loss=13.330743660008851; param=2.100000\n",
      "loss=13.380126376058234; param=2.200000\n",
      "loss=13.3155163808609; param=2.300000\n"
     ]
    }
   ],
   "source": [
    "alpha_list_LogR=[1.0+0.1*i for i in range(5,14)]\n",
    "loss_LogR_tot=[]\n",
    "for alpha in alpha_list_LogR:    \n",
    "    model_LogR=LogisticRegression(C=alpha)\n",
    "    loss_LogR=model_result(model_LogR,X_train_vec,y_train_vec,X_test_vec,y_test_vec)\n",
    "    loss_LogR_tot.append(loss_LogR)\n",
    "    print(\"loss=\"+str(loss_LogR)+\"; param={:2f}\".format(alpha))"
   ]
  },
  {
   "cell_type": "code",
   "execution_count": 62,
   "metadata": {},
   "outputs": [
    {
     "data": {
      "image/png": "[encoded data removed]",
      "text/plain": [
       "<Figure size 640x480 with 1 Axes>"
      ]
     },
     "metadata": {},
     "output_type": "display_data"
    }
   ],
   "source": [
    "fig = plt.figure()\n",
    "ax = plt.axes()\n",
    "ax.scatter(alpha_list_LogR,loss_LogR_tot)\n",
    "ax.plot(alpha_list_LogR,loss_LogR_tot) \n",
    "plt.title(\"Loss for LogR model\")\n",
    "plt.show()"
   ]
  },
  {
   "cell_type": "code",
   "execution_count": 63,
   "metadata": {},
   "outputs": [],
   "source": [
    "model_LogR=LogisticRegression(C=1+0.1*np.argmin(np.array(loss_Knn_tot)))"
   ]
  },
  {
   "cell_type": "code",
   "execution_count": 64,
   "metadata": {},
   "outputs": [
    {
     "data": {
      "text/plain": [
       "13.880827942104322"
      ]
     },
     "execution_count": 64,
     "metadata": {},
     "output_type": "execute_result"
    }
   ],
   "source": [
    "loss_LogR=model_result(model_LogR,X_train_vec,y_train_vec,X_test_vec,y_test_vec)\n",
    "loss_LogR"
   ]
  },
  {
   "cell_type": "code",
   "execution_count": 65,
   "metadata": {},
   "outputs": [
    {
     "data": {
      "text/plain": [
       "13.872371481575652"
      ]
     },
     "execution_count": 65,
     "metadata": {},
     "output_type": "execute_result"
    }
   ],
   "source": [
    "loss_LogR_num=model_result(model_LogR,X_train_num_vec,y_train_vec,X_test_num_vec,y_test_vec)\n",
    "loss_LogR_num"
   ]
  },
  {
   "cell_type": "code",
   "execution_count": null,
   "metadata": {},
   "outputs": [],
   "source": []
  },
  {
   "cell_type": "code",
   "execution_count": null,
   "metadata": {},
   "outputs": [],
   "source": []
  },
  {
   "cell_type": "code",
   "execution_count": 17,
   "metadata": {},
   "outputs": [],
   "source": [
    "device = torch.device(\"cuda:0\" if torch.cuda.is_available() else \"cpu\")"
   ]
  },
  {
   "cell_type": "code",
   "execution_count": 18,
   "metadata": {},
   "outputs": [],
   "source": [
    "dataset_tot_XY = torch.utils.data.TensorDataset(X_train_num_tensor.to(device),train_text_tensor.to(device),train_tags_tensor.to(device), y_train_tensor.to(device))\n",
    "testset_tot_XY = torch.utils.data.TensorDataset(X_test_num_tensor.to(device),test_text_tensor.to(device),test_tags_tensor.to(device), y_test_tensor.to(device))"
   ]
  },
  {
   "cell_type": "code",
   "execution_count": 113,
   "metadata": {},
   "outputs": [],
   "source": [
    "class RegressionNet_lstm(torch.nn.Module):\n",
    "    def __init__(self, numeric, text_length,tag_length, hidden_size, num_layers, batch_size, fc1, fc2):\n",
    "        super(RegressionNet_lstm, self).__init__()\n",
    "        self.hidden_size=hidden_size\n",
    "        self.num_layers=num_layers\n",
    "        self.numeric=numeric\n",
    "        \n",
    "        self.lstm_text=torch.nn.LSTM(text_length,hidden_size,num_layers,batch_first=True)  \n",
    "        self.lstm_tag=torch.nn.LSTM(tag_length,hidden_size,num_layers,batch_first=True) \n",
    "        \n",
    "        self.fc_layer1=torch.nn.Linear(hidden_size+numeric, fc1)\n",
    "        self.fc_layer2=torch.nn.Linear(fc1, fc2)\n",
    "        self.fc_layer3=torch.nn.Linear(fc2, 1)\n",
    "        \n",
    "        self.dropout=torch.nn.Dropout(p=0.5)\n",
    "    def forward(self, x_num, x_text, x_tag):\n",
    "        # x_num=x_num.flatten()\n",
    "        h0_text=torch.zeros(self.num_layers,x_text.size(0),self.hidden_size).to(device)\n",
    "        c0_text=torch.zeros(self.num_layers,x_text.size(0),self.hidden_size).to(device)        \n",
    "        out_text,_=self.lstm_text(x_text,(h0_text,c0_text))\n",
    "        out_text=self.dropout(out_text)\n",
    "        out_text=out_text[0]\n",
    "        \n",
    "        h0_tag=torch.zeros(self.num_layers,x_tag.size(0),self.hidden_size).to(device)\n",
    "        c0_tag=torch.zeros(self.num_layers,x_tag.size(0),self.hidden_size).to(device)        \n",
    "        out_tag,_=self.lstm_tag(x_tag,(h0_tag,c0_tag))\n",
    "        out_tag=self.dropout(out_tag)\n",
    "        out_tag=out_tag[0]\n",
    "        \n",
    "        out_non_num=out_text+out_tag\n",
    "        \n",
    "#         print(x_num.shape)\n",
    "#         print(out_non_num.shape)\n",
    "        \n",
    "        out=torch.cat((x_num,out_non_num), axis=1)\n",
    "        out=self.fc_layer1(out)\n",
    "        out = self.dropout(out)\n",
    "        out=F.relu(out)\n",
    "        out=self.fc_layer2(out)\n",
    "        out = self.dropout(out)\n",
    "        out=F.relu(out)\n",
    "        out=self.fc_layer3(out)\n",
    "        # x_tot=x_tot.int()\n",
    "        out=F.relu(out)\n",
    "        \n",
    "        \n",
    "        return out"
   ]
  },
  {
   "cell_type": "code",
   "execution_count": 137,
   "metadata": {},
   "outputs": [],
   "source": [
    "def trainer(data_train,data_test,model,loss_fn,epoch=100,batch_size=16,rate=1e-3,train_record=[],eval_record=[],eval_interval=10):\n",
    "    optimiser=torch.optim.Adam(model.parameters(),lr=rate)\n",
    "    loader_train=torch.utils.data.DataLoader(dataset=data_train,batch_size=batch_size,shuffle=True)\n",
    "    loader_test=torch.utils.data.DataLoader(dataset=data_test,batch_size=batch_size,shuffle=True)\n",
    "    for i in range(epoch):\n",
    "        loss_epoch=0\n",
    "        loss_total=0\n",
    "        print(\"---------------------- now training epoch \"+str(i)+\" ----------------------\")\n",
    "        for step,(batch_x_num,batch_x_text,batch_x_tag,batch_y) in enumerate(loader_train):    \n",
    "            #print(batch_x.float())            \n",
    "            batch_x_num=batch_x_num.to(device)\n",
    "            \n",
    "            batch_x_text=batch_x_text.reshape((-1,batch_x_text.shape[0],batch_x_text.shape[1]))\n",
    "            batch_x_text=batch_x_text.to(device)\n",
    "            \n",
    "            batch_x_tag=batch_x_tag.reshape((-1,batch_x_tag.shape[0],batch_x_tag.shape[1]))\n",
    "            batch_x_tag=batch_x_tag.to(device)\n",
    "            \n",
    "            batch_y=batch_y.to(device)\n",
    "            \n",
    "            pred=model(batch_x_num,batch_x_text,batch_x_tag)\n",
    "                        \n",
    "            loss=loss_fn(pred,batch_y)  \n",
    "\n",
    "            loss_total+=loss\n",
    "            train_loss=float(loss_total/(step+1))\n",
    "            \n",
    "            optimiser.zero_grad()\n",
    "            loss.backward()\n",
    "            optimiser.step()\n",
    "\n",
    "        train_record.append(train_loss)\n",
    "        print(\"training epoch \"+str(i)+\" loss \"+str(train_loss))\n",
    "                \n",
    "        if i % (eval_interval)==0:\n",
    "            loss_total_test=0\n",
    "            test_loss=0\n",
    "            print(\"---------------------- epoch \"+str(i)+\" now evaluating ------------------------\")\n",
    "            for step,(batch_x_num,batch_x_text,batch_x_tag,batch_y) in enumerate(loader_test):    \n",
    "            #print(batch_x.float())\n",
    "                batch_x_num=batch_x_num.to(device)\n",
    "            \n",
    "                batch_x_text=batch_x_text.reshape((-1,batch_x_text.shape[0],batch_x_text.shape[1]))\n",
    "                batch_x_text=batch_x_text.to(device)\n",
    "            \n",
    "                batch_x_tag=batch_x_tag.reshape((-1,batch_x_tag.shape[0],batch_x_tag.shape[1]))\n",
    "                batch_x_tag=batch_x_tag.to(device)\n",
    "            \n",
    "                batch_y=batch_y.to(device)\n",
    "                \n",
    "                pred=model(batch_x_num,batch_x_text,batch_x_tag)\n",
    "            #class_pred = torch.argmax(pred,dim = -1)\n",
    "                loss=loss_fn(pred,batch_y)  \n",
    "                loss_total_test+=loss\n",
    "                test_loss=float(loss_total_test/(step+1))\n",
    "        # 应该要把预测结果都变成int的，但这样可能产生预测结果全是0，求不了梯度不能反向传播了，要想个办法\n",
    "            eval_record.append(test_loss)\n",
    "            \n",
    "            print(\"evaluation epoch \"+str(i)+\" loss \"+str(test_loss))\n",
    "        "
   ]
  },
  {
   "cell_type": "code",
   "execution_count": 138,
   "metadata": {},
   "outputs": [],
   "source": [
    "batch_size=16"
   ]
  },
  {
   "cell_type": "code",
   "execution_count": 139,
   "metadata": {},
   "outputs": [],
   "source": [
    "RNet=RegressionNet_lstm(X_train_num_tensor.shape[1],train_text_tensor.shape[1],train_tags_tensor.shape[1],20,5,batch_size,100,30).to(device)"
   ]
  },
  {
   "cell_type": "code",
   "execution_count": 140,
   "metadata": {},
   "outputs": [],
   "source": [
    "train_record=[]\n",
    "eval_record=[]"
   ]
  },
  {
   "cell_type": "code",
   "execution_count": null,
   "metadata": {},
   "outputs": [
    {
     "name": "stdout",
     "output_type": "stream",
     "text": [
      "---------------------- now training epoch 0 ----------------------\n",
      "---------------------- epoch 0 now evaluating ------------------------\n",
      "epoch 0 loss 15.597705841064453\n",
      "---------------------- now training epoch 1 ----------------------\n",
      "---------------------- now training epoch 2 ----------------------\n",
      "---------------------- now training epoch 3 ----------------------\n",
      "---------------------- now training epoch 4 ----------------------\n",
      "---------------------- now training epoch 5 ----------------------\n",
      "---------------------- now training epoch 6 ----------------------\n",
      "---------------------- now training epoch 7 ----------------------\n",
      "---------------------- now training epoch 8 ----------------------\n",
      "---------------------- now training epoch 9 ----------------------\n",
      "---------------------- now training epoch 10 ----------------------\n",
      "---------------------- epoch 10 now evaluating ------------------------\n",
      "epoch 10 loss 15.356171607971191\n",
      "---------------------- now training epoch 11 ----------------------\n",
      "---------------------- now training epoch 12 ----------------------\n",
      "---------------------- now training epoch 13 ----------------------\n",
      "---------------------- now training epoch 14 ----------------------\n",
      "---------------------- now training epoch 15 ----------------------\n",
      "---------------------- now training epoch 16 ----------------------\n",
      "---------------------- now training epoch 17 ----------------------\n",
      "---------------------- now training epoch 18 ----------------------\n",
      "---------------------- now training epoch 19 ----------------------\n",
      "---------------------- now training epoch 20 ----------------------\n",
      "---------------------- epoch 20 now evaluating ------------------------\n",
      "epoch 20 loss 15.203093528747559\n",
      "---------------------- now training epoch 21 ----------------------\n",
      "---------------------- now training epoch 22 ----------------------\n",
      "---------------------- now training epoch 23 ----------------------\n",
      "---------------------- now training epoch 24 ----------------------\n",
      "---------------------- now training epoch 25 ----------------------\n",
      "---------------------- now training epoch 26 ----------------------\n",
      "---------------------- now training epoch 27 ----------------------\n",
      "---------------------- now training epoch 28 ----------------------\n",
      "---------------------- now training epoch 29 ----------------------\n",
      "---------------------- now training epoch 30 ----------------------\n",
      "---------------------- epoch 30 now evaluating ------------------------\n",
      "epoch 30 loss 15.004323959350586\n",
      "---------------------- now training epoch 31 ----------------------\n",
      "---------------------- now training epoch 32 ----------------------\n",
      "---------------------- now training epoch 33 ----------------------\n",
      "---------------------- now training epoch 34 ----------------------\n",
      "---------------------- now training epoch 35 ----------------------\n",
      "---------------------- now training epoch 36 ----------------------\n",
      "---------------------- now training epoch 37 ----------------------\n",
      "---------------------- now training epoch 38 ----------------------\n",
      "---------------------- now training epoch 39 ----------------------\n",
      "---------------------- now training epoch 40 ----------------------\n",
      "---------------------- epoch 40 now evaluating ------------------------\n",
      "epoch 40 loss 14.715288162231445\n",
      "---------------------- now training epoch 41 ----------------------\n",
      "---------------------- now training epoch 42 ----------------------\n",
      "---------------------- now training epoch 43 ----------------------\n",
      "---------------------- now training epoch 44 ----------------------\n",
      "---------------------- now training epoch 45 ----------------------\n",
      "---------------------- now training epoch 46 ----------------------\n",
      "---------------------- now training epoch 47 ----------------------\n",
      "---------------------- now training epoch 48 ----------------------\n",
      "---------------------- now training epoch 49 ----------------------\n",
      "---------------------- now training epoch 50 ----------------------\n",
      "---------------------- epoch 50 now evaluating ------------------------\n",
      "epoch 50 loss 14.312058448791504\n",
      "---------------------- now training epoch 51 ----------------------\n",
      "---------------------- now training epoch 52 ----------------------\n",
      "---------------------- now training epoch 53 ----------------------\n",
      "---------------------- now training epoch 54 ----------------------\n",
      "---------------------- now training epoch 55 ----------------------\n",
      "---------------------- now training epoch 56 ----------------------\n",
      "---------------------- now training epoch 57 ----------------------\n",
      "---------------------- now training epoch 58 ----------------------\n",
      "---------------------- now training epoch 59 ----------------------\n",
      "---------------------- now training epoch 60 ----------------------\n",
      "---------------------- epoch 60 now evaluating ------------------------\n",
      "epoch 60 loss 13.713502883911133\n",
      "---------------------- now training epoch 61 ----------------------\n",
      "---------------------- now training epoch 62 ----------------------\n",
      "---------------------- now training epoch 63 ----------------------\n",
      "---------------------- now training epoch 64 ----------------------\n",
      "---------------------- now training epoch 65 ----------------------\n",
      "---------------------- now training epoch 66 ----------------------\n",
      "---------------------- now training epoch 67 ----------------------\n",
      "---------------------- now training epoch 68 ----------------------\n",
      "---------------------- now training epoch 69 ----------------------\n",
      "---------------------- now training epoch 70 ----------------------\n",
      "---------------------- epoch 70 now evaluating ------------------------\n",
      "epoch 70 loss 12.907919883728027\n",
      "---------------------- now training epoch 71 ----------------------\n",
      "---------------------- now training epoch 72 ----------------------\n",
      "---------------------- now training epoch 73 ----------------------\n",
      "---------------------- now training epoch 74 ----------------------\n",
      "---------------------- now training epoch 75 ----------------------\n",
      "---------------------- now training epoch 76 ----------------------\n",
      "---------------------- now training epoch 77 ----------------------\n",
      "---------------------- now training epoch 78 ----------------------\n",
      "---------------------- now training epoch 79 ----------------------\n",
      "---------------------- now training epoch 80 ----------------------\n",
      "---------------------- epoch 80 now evaluating ------------------------\n",
      "epoch 80 loss 11.91207218170166\n",
      "---------------------- now training epoch 81 ----------------------\n",
      "---------------------- now training epoch 82 ----------------------\n"
     ]
    }
   ],
   "source": [
    "trainer(dataset_tot_XY,testset_tot_XY,RNet,torch.nn.L1Loss(),epoch=120,batch_size=batch_size,rate=1e-4,train_record=train_record,eval_record=eval_record,eval_interval=10)"
   ]
  },
  {
   "cell_type": "code",
   "execution_count": null,
   "metadata": {},
   "outputs": [],
   "source": []
  },
  {
   "cell_type": "code",
   "execution_count": 134,
   "metadata": {},
   "outputs": [
    {
     "name": "stdout",
     "output_type": "stream",
     "text": [
      "all mentions in eval data:  {']', '['}\n",
      "average number of urls in eval data: 0.528\n",
      "number of distinct urls in eval data:  62185\n",
      "verified users:  3464\n",
      "average number of hashtags in eval data: 0.299\n",
      "number of distinct hashtags in eval data: 5942\n",
      "number of tweets not posted in 2022 in eval data: 777\n"
     ]
    },
    {
     "data": {
      "text/html": [
       "<div>\n",
       "<style scoped>\n",
       "    .dataframe tbody tr th:only-of-type {\n",
       "        vertical-align: middle;\n",
       "    }\n",
       "\n",
       "    .dataframe tbody tr th {\n",
       "        vertical-align: top;\n",
       "    }\n",
       "\n",
       "    .dataframe thead th {\n",
       "        text-align: right;\n",
       "    }\n",
       "</style>\n",
       "<table border=\"1\" class=\"dataframe\">\n",
       "  <thead>\n",
       "    <tr style=\"text-align: right;\">\n",
       "      <th></th>\n",
       "      <th>text</th>\n",
       "      <th>favorites_count</th>\n",
       "      <th>followers_count</th>\n",
       "      <th>statuses_count</th>\n",
       "      <th>friends_count</th>\n",
       "      <th>verified</th>\n",
       "      <th>hashtags</th>\n",
       "      <th>urls_count</th>\n",
       "      <th>month</th>\n",
       "      <th>yday</th>\n",
       "      <th>wday</th>\n",
       "      <th>hour</th>\n",
       "    </tr>\n",
       "  </thead>\n",
       "  <tbody>\n",
       "    <tr>\n",
       "      <th>0</th>\n",
       "      <td>[descendue, pourcentage, vote]</td>\n",
       "      <td>0</td>\n",
       "      <td>85</td>\n",
       "      <td>4442</td>\n",
       "      <td>327</td>\n",
       "      <td>0</td>\n",
       "      <td>['presidentielle2022', 'hidalgo']</td>\n",
       "      <td>0</td>\n",
       "      <td>3</td>\n",
       "      <td>77</td>\n",
       "      <td>4</td>\n",
       "      <td>12</td>\n",
       "    </tr>\n",
       "    <tr>\n",
       "      <th>1</th>\n",
       "      <td>[photo, demande, arbre, généalogique]</td>\n",
       "      <td>0</td>\n",
       "      <td>427</td>\n",
       "      <td>33282</td>\n",
       "      <td>443</td>\n",
       "      <td>0</td>\n",
       "      <td>[]</td>\n",
       "      <td>0</td>\n",
       "      <td>3</td>\n",
       "      <td>77</td>\n",
       "      <td>4</td>\n",
       "      <td>11</td>\n",
       "    </tr>\n",
       "    <tr>\n",
       "      <th>2</th>\n",
       "      <td>[dossiers, promis, poste, gars, vraiment, fiable]</td>\n",
       "      <td>6</td>\n",
       "      <td>1127</td>\n",
       "      <td>13111</td>\n",
       "      <td>1596</td>\n",
       "      <td>0</td>\n",
       "      <td>['macron']</td>\n",
       "      <td>0</td>\n",
       "      <td>3</td>\n",
       "      <td>69</td>\n",
       "      <td>3</td>\n",
       "      <td>8</td>\n",
       "    </tr>\n",
       "    <tr>\n",
       "      <th>3</th>\n",
       "      <td>[lol, cas, faut, second, tour, macron, sortir,...</td>\n",
       "      <td>2</td>\n",
       "      <td>1699</td>\n",
       "      <td>25760</td>\n",
       "      <td>2036</td>\n",
       "      <td>0</td>\n",
       "      <td>[]</td>\n",
       "      <td>1</td>\n",
       "      <td>3</td>\n",
       "      <td>72</td>\n",
       "      <td>6</td>\n",
       "      <td>8</td>\n",
       "    </tr>\n",
       "    <tr>\n",
       "      <th>4</th>\n",
       "      <td>[zemmour, putain, discours, propagandiste, lit...</td>\n",
       "      <td>0</td>\n",
       "      <td>249</td>\n",
       "      <td>20718</td>\n",
       "      <td>369</td>\n",
       "      <td>0</td>\n",
       "      <td>[]</td>\n",
       "      <td>2</td>\n",
       "      <td>3</td>\n",
       "      <td>78</td>\n",
       "      <td>5</td>\n",
       "      <td>21</td>\n",
       "    </tr>\n",
       "  </tbody>\n",
       "</table>\n",
       "</div>"
      ],
      "text/plain": [
       "                                                text  favorites_count  \\\n",
       "0                     [descendue, pourcentage, vote]                0   \n",
       "1              [photo, demande, arbre, généalogique]                0   \n",
       "2  [dossiers, promis, poste, gars, vraiment, fiable]                6   \n",
       "3  [lol, cas, faut, second, tour, macron, sortir,...                2   \n",
       "4  [zemmour, putain, discours, propagandiste, lit...                0   \n",
       "\n",
       "   followers_count  statuses_count  friends_count  verified  \\\n",
       "0               85            4442            327         0   \n",
       "1              427           33282            443         0   \n",
       "2             1127           13111           1596         0   \n",
       "3             1699           25760           2036         0   \n",
       "4              249           20718            369         0   \n",
       "\n",
       "                            hashtags  urls_count  month  yday  wday  hour  \n",
       "0  ['presidentielle2022', 'hidalgo']           0      3    77     4    12  \n",
       "1                                 []           0      3    77     4    11  \n",
       "2                         ['macron']           0      3    69     3     8  \n",
       "3                                 []           1      3    72     6     8  \n",
       "4                                 []           2      3    78     5    21  "
      ]
     },
     "execution_count": 134,
     "metadata": {},
     "output_type": "execute_result"
    }
   ],
   "source": [
    "# Load data\n",
    "\n",
    "\n",
    "eval_data = pd.read_csv(\"data/evaluation.csv\")\n",
    "X_eval=pd.read_csv(\"data/evaluation.csv\")\n",
    "\n",
    "# Pre-process the traning data\n",
    "label = \"text\"\n",
    "eval_data[label] = eval_data[label].map(lambda x: str.split(x, sep=\" \"))\n",
    "\n",
    "\n",
    "label = \"mentions\"\n",
    "eval_data[label+\"_count\"] = eval_data[label].map(lambda x: len(str.split(x)))\n",
    "mentions = set()\n",
    "eval_data[label].apply(lambda x: mentions.update(x))\n",
    "print(\"all mentions in eval data: \", mentions)\n",
    "\n",
    "\n",
    "label = \"urls\"\n",
    "eval_data[label] = eval_data[label].map(lambda x: [] if x==\"[]\" else [str.strip(url) for url in str.split(x[1:-1], sep=\",\")])\n",
    "eval_data[label+\"_count\"] = eval_data[label].map(lambda x: len(x))\n",
    "urls = set()\n",
    "# hashtags=set()\n",
    "eval_data[label].apply(lambda x: None if len(x)<1 else urls.update(x))\n",
    "# train_data[label].apply(lambda x: None if len(x)<1 else hashtags.update(x))\n",
    "print(f\"average number of urls in eval data: {eval_data.urls_count.mean():1.3f}\")\n",
    "print(\"number of distinct urls in eval data: \", len(urls))\n",
    "\n",
    "label = \"verified\"\n",
    "print(\"verified users: \", eval_data[\"verified\"].sum())\n",
    "\n",
    "\n",
    "label = \"hashtags\"\n",
    "eval_data[label] = eval_data[label].map(lambda x: [] if x==\"[]\" else [str.strip(tag) for tag in str.split(x[1:-1], sep=\",\")])\n",
    "eval_data[label+\"_count\"] = eval_data[label].map(lambda x: len(x))\n",
    "hashtags = set()\n",
    "eval_data[label].apply(lambda x: None if len(x)<1 else hashtags.update(x))\n",
    "print(f\"average number of hashtags in eval data: {eval_data.hashtags_count.mean():1.3f}\")\n",
    "print(\"number of distinct hashtags in eval data:\", len(hashtags))\n",
    "\n",
    "# Treatment of time\n",
    "# The time relative to the election (month and yday), day in the week, \n",
    "# and the hour all affect the number of retweets.\n",
    "eval_data[\"timestamp\"] = eval_data[\"timestamp\"].map(lambda x: time.gmtime(x//1000))\n",
    "# Only 2380 tweets are not posted in 2022, so we ignore the year\n",
    "# train_data[\"year\"] = train_data[\"timestamp\"].map(lambda x: x.tm_year)\n",
    "eval_data[\"month\"] = eval_data[\"timestamp\"].map(lambda x: x.tm_mon)\n",
    "eval_data[\"yday\"] = eval_data[\"timestamp\"].map(lambda x: x.tm_yday)\n",
    "eval_data[\"wday\"] = eval_data[\"timestamp\"].map(lambda x: x.tm_wday)\n",
    "eval_data[\"hour\"] = eval_data[\"timestamp\"].map(lambda x: x.tm_hour)\n",
    "print(\"number of tweets not posted in 2022 in eval data:\", len(eval_data[eval_data[\"timestamp\"].map(lambda x: x.tm_year) < 2022]))\n",
    "\n",
    "# We drop the following data:\n",
    "# @TweetID: useless\n",
    "# @mentions: none of the mentions in the train data are not null\n",
    "# @mentions_count\n",
    "# @hashtags_count: we use hashtags directly\n",
    "# @urls: we use urls_count instead\n",
    "\n",
    "eval_data.drop(labels=[\"TweetID\",\"timestamp\", \"mentions\",\"mentions_count\", \"hashtags_count\", \"urls\"], axis=1, inplace=True)\n",
    "eval_data.head(5)"
   ]
  },
  {
   "cell_type": "code",
   "execution_count": 102,
   "metadata": {},
   "outputs": [],
   "source": [
    "standardise(eval_data,[\"favorites_count\",\"followers_count\",\"statuses_count\",\"friends_count\",\"urls_count\",\"month\",\"yday\",\"wday\",\"hour\"])\n",
    "\n",
    "# split the table into 2 parts: one with the text and the other with the numbers\n",
    "X_eval_num=eval_data.drop([\"text\", \"hashtags\"], axis=1)\n",
    "\n",
    "X_eval_text=eval_data[[\"text\", \"hashtags\"]]\n"
   ]
  },
  {
   "cell_type": "code",
   "execution_count": 103,
   "metadata": {},
   "outputs": [],
   "source": [
    "# text to vector\n",
    "eval_text_tensor=torch.Tensor(text2vec(X_eval_text[\"text\"], model=model_text10))\n",
    "\n",
    "# hashtags to vector\n",
    "eval_tags_tensor=torch.Tensor(text2vec(X_eval_text[\"hashtags\"], model=model_text5))\n",
    "\n",
    "# combine the two vectors\n",
    "X_eval_text_tensor = torch.cat((eval_text_tensor, eval_tags_tensor), axis=1)"
   ]
  },
  {
   "cell_type": "code",
   "execution_count": 104,
   "metadata": {},
   "outputs": [],
   "source": [
    "X_eval_num_vec=X_eval_num.to_numpy()\n",
    "X_eval_text_vec=X_eval_text_tensor.numpy()\n",
    "X_eval_vec=np.hstack([X_eval_num_vec,X_eval_text_vec])"
   ]
  },
  {
   "cell_type": "code",
   "execution_count": 105,
   "metadata": {},
   "outputs": [
    {
     "name": "stdout",
     "output_type": "stream",
     "text": [
      "torch.Size([117990, 10])\n",
      "torch.Size([117990, 15])\n",
      "torch.Size([117990, 25])\n"
     ]
    }
   ],
   "source": [
    "X_eval_num_tensor=torch.Tensor(X_eval_num.values)\n",
    "\n",
    "X_eval_tensor=torch.cat((X_eval_num_tensor, X_eval_text_tensor), axis=1)\n",
    "\n",
    "print(X_eval_num_tensor.shape)\n",
    "print(X_eval_text_tensor.shape)\n",
    "print(X_eval_tensor.shape)"
   ]
  },
  {
   "cell_type": "code",
   "execution_count": 106,
   "metadata": {},
   "outputs": [],
   "source": [
    "evalset_tot_XY = torch.utils.data.TensorDataset(X_eval_num_tensor.to(device),eval_text_tensor.to(device),eval_tags_tensor.to(device))"
   ]
  },
  {
   "cell_type": "code",
   "execution_count": 125,
   "metadata": {},
   "outputs": [],
   "source": [
    "def evaluate(data_eval,model,batch_size=16):\n",
    "    loader_eval=torch.utils.data.DataLoader(dataset=data_eval,batch_size=batch_size,shuffle=True)\n",
    "    res=[]\n",
    "    for step,(batch_x_num,batch_x_text,batch_x_tag) in enumerate(loader_eval):    \n",
    "            #print(batch_x.float())            \n",
    "        batch_x_num=batch_x_num.to(device)\n",
    "            \n",
    "        batch_x_text=batch_x_text.reshape((-1,batch_x_text.shape[0],batch_x_text.shape[1]))\n",
    "        batch_x_text=batch_x_text.to(device)\n",
    "            \n",
    "        batch_x_tag=batch_x_tag.reshape((-1,batch_x_tag.shape[0],batch_x_tag.shape[1]))\n",
    "        batch_x_tag=batch_x_tag.to(device)\n",
    "            \n",
    "            \n",
    "        pred=model(batch_x_num,batch_x_text,batch_x_tag)                   \n",
    "        \n",
    "            \n",
    "        for i in range(len(pred)):\n",
    "            pd=round(pred[i]) if pred[i]>0 else 0                       \n",
    "            res.append(pd)\n",
    "            \n",
    "        if (step%1000==0):\n",
    "                print(\"now evaluating step \"+str(step))\n",
    "        \n",
    "    return res\n",
    "        "
   ]
  },
  {
   "cell_type": "code",
   "execution_count": 126,
   "metadata": {},
   "outputs": [
    {
     "name": "stdout",
     "output_type": "stream",
     "text": [
      "now evaluating step 0\n",
      "now evaluating step 100\n",
      "now evaluating step 200\n",
      "now evaluating step 300\n",
      "now evaluating step 400\n",
      "now evaluating step 500\n",
      "now evaluating step 600\n",
      "now evaluating step 700\n",
      "now evaluating step 800\n",
      "now evaluating step 900\n",
      "now evaluating step 1000\n",
      "now evaluating step 1100\n",
      "now evaluating step 1200\n",
      "now evaluating step 1300\n",
      "now evaluating step 1400\n",
      "now evaluating step 1500\n",
      "now evaluating step 1600\n",
      "now evaluating step 1700\n",
      "now evaluating step 1800\n",
      "now evaluating step 1900\n",
      "now evaluating step 2000\n",
      "now evaluating step 2100\n",
      "now evaluating step 2200\n",
      "now evaluating step 2300\n",
      "now evaluating step 2400\n",
      "now evaluating step 2500\n",
      "now evaluating step 2600\n",
      "now evaluating step 2700\n",
      "now evaluating step 2800\n",
      "now evaluating step 2900\n",
      "now evaluating step 3000\n",
      "now evaluating step 3100\n",
      "now evaluating step 3200\n",
      "now evaluating step 3300\n",
      "now evaluating step 3400\n",
      "now evaluating step 3500\n",
      "now evaluating step 3600\n",
      "now evaluating step 3700\n",
      "now evaluating step 3800\n",
      "now evaluating step 3900\n",
      "now evaluating step 4000\n",
      "now evaluating step 4100\n",
      "now evaluating step 4200\n",
      "now evaluating step 4300\n",
      "now evaluating step 4400\n",
      "now evaluating step 4500\n",
      "now evaluating step 4600\n",
      "now evaluating step 4700\n",
      "now evaluating step 4800\n",
      "now evaluating step 4900\n",
      "now evaluating step 5000\n",
      "now evaluating step 5100\n",
      "now evaluating step 5200\n",
      "now evaluating step 5300\n",
      "now evaluating step 5400\n",
      "now evaluating step 5500\n",
      "now evaluating step 5600\n",
      "now evaluating step 5700\n",
      "now evaluating step 5800\n",
      "now evaluating step 5900\n",
      "now evaluating step 6000\n",
      "now evaluating step 6100\n",
      "now evaluating step 6200\n",
      "now evaluating step 6300\n",
      "now evaluating step 6400\n",
      "now evaluating step 6500\n",
      "now evaluating step 6600\n",
      "now evaluating step 6700\n",
      "now evaluating step 6800\n",
      "now evaluating step 6900\n",
      "now evaluating step 7000\n",
      "now evaluating step 7100\n",
      "now evaluating step 7200\n",
      "now evaluating step 7300\n"
     ]
    }
   ],
   "source": [
    "evaluations_lstm=evaluate(evalset_tot_XY,RNet,batch_size)"
   ]
  },
  {
   "cell_type": "code",
   "execution_count": 135,
   "metadata": {},
   "outputs": [],
   "source": [
    "def write_result(filename,results):\n",
    "    with open(filename, 'w',newline='') as f:\n",
    "        writer = csv.writer(f)\n",
    "        writer.writerow([\"TweetID\", \"retweets_count\"])\n",
    "        for index, prediction in enumerate(results):\n",
    "            writer.writerow([str(X_eval['TweetID'].iloc[index]) , str(int(prediction))])"
   ]
  },
  {
   "cell_type": "code",
   "execution_count": 136,
   "metadata": {},
   "outputs": [],
   "source": [
    "write_result(\"tabnet_predictions_0.txt\",evaluations_lstm)"
   ]
  },
  {
   "cell_type": "code",
   "execution_count": null,
   "metadata": {},
   "outputs": [],
   "source": []
  }
 ],
 "metadata": {
  "kernelspec": {
   "display_name": "Python 3 (ipykernel)",
   "language": "python",
   "name": "python3"
  },
  "language_info": {
   "codemirror_mode": {
    "name": "ipython",
    "version": 3
   },
   "file_extension": ".py",
   "mimetype": "text/x-python",
   "name": "python",
   "nbconvert_exporter": "python",
   "pygments_lexer": "ipython3",
   "version": "3.8.0"
  },
  "vscode": {
   "interpreter": {
    "hash": "107bf26d3be942b0376d323aa83938b654b529496a5c3f1b6b3e9c409d104805"
   }
  }
 },
 "nbformat": 4,
 "nbformat_minor": 2
}
