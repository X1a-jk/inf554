{
 "cells": [
  {
   "cell_type": "code",
   "execution_count": 1,
   "metadata": {},
   "outputs": [],
   "source": [
    "import csv\n",
    "import time\n",
    "import numpy as np\n",
    "import pandas as pd\n",
    "\n",
    "from sklearn.ensemble import GradientBoostingRegressor\n",
    "from sklearn.dummy import DummyRegressor\n",
    "from sklearn.feature_extraction.text import TfidfVectorizer\n",
    "from sklearn.metrics import mean_absolute_error\n",
    "from sklearn.linear_model import Lasso\n",
    "from sklearn.ensemble import RandomForestRegressor\n",
    "from sklearn.neighbors import KNeighborsRegressor\n",
    "from sklearn.svm import SVR\n",
    "from sklearn.linear_model import LinearRegression\n",
    "from sklearn.linear_model import LogisticRegression\n",
    "from sklearn.decomposition import PCA\n",
    "\n",
    "from verstack.stratified_continuous_split import scsplit # pip install verstack\n",
    "from nltk.corpus import stopwords \n",
    "\n",
    "import torch\n",
    "import torch.nn.functional as F\n",
    "\n",
    "from scipy import spatial\n",
    "import matplotlib.pyplot as plt\n",
    "from sklearn.manifold import TSNE\n",
    "\n",
    "import os\n",
    "import gensim\n",
    "from gensim.models.doc2vec import Doc2Vec\n",
    "import warnings\n",
    "warnings.filterwarnings(action='ignore', category=UserWarning, module='gensim')"
   ]
  },
  {
   "cell_type": "code",
   "execution_count": 2,
   "metadata": {},
   "outputs": [],
   "source": [
    "device = torch.device(\"cuda:0\" if torch.cuda.is_available() else \"cpu\")"
   ]
  },
  {
   "cell_type": "markdown",
   "metadata": {},
   "source": [
    "### 基本思路\n",
    "使用如下两组要素\n",
    "- 数字变量\n",
    "  1. favorites count (log_stand)\n",
    "  2. followers count (log_stand)\n",
    "  3. statues count (发推数量) (log_stand)\n",
    "  4. friends count (log_stand)\n",
    "  5. urls count (log_stand)\n",
    "  6. verified (1 or 0) (这一部分我们不做log_stand)\n",
    "  7. timestamp (一天内的早中晚（hour），距离大选的时间(month和day)，周几(wday)都可能产生影响)\n",
    "- 文本变量\n",
    "  1. tweet text\n",
    "  2. hashtags \n",
    "\n",
    "将文本变量通过embedding处理后用CNN/LSTM得到一部分输出，另外对数字变量通过CNN也得到了一部分结果，最后汇总，用2层dense layer。\n"
   ]
  },
  {
   "cell_type": "code",
   "execution_count": 5,
   "metadata": {},
   "outputs": [
    {
     "name": "stdout",
     "output_type": "stream",
     "text": [
      "all mentions in train data:  {']', '['}\n",
      "average number of urls in train data: 0.529\n",
      "number of distinct urls in train data:  185951\n",
      "verified users:  10621\n",
      "average number of hashtags in train data: 0.297\n",
      "number of distinct hashtags in train data: 12093\n",
      "average number of hashtags in evaluation data: 0.299\n",
      "number of distinct hashtags in evaluation data: 5942\n",
      "number of tweets not posted in 2022 in train data: 2380\n"
     ]
    },
    {
     "data": {
      "text/html": [
       "<div>\n",
       "<style scoped>\n",
       "    .dataframe tbody tr th:only-of-type {\n",
       "        vertical-align: middle;\n",
       "    }\n",
       "\n",
       "    .dataframe tbody tr th {\n",
       "        vertical-align: top;\n",
       "    }\n",
       "\n",
       "    .dataframe thead th {\n",
       "        text-align: right;\n",
       "    }\n",
       "</style>\n",
       "<table border=\"1\" class=\"dataframe\">\n",
       "  <thead>\n",
       "    <tr style=\"text-align: right;\">\n",
       "      <th></th>\n",
       "      <th>text</th>\n",
       "      <th>retweets_count</th>\n",
       "      <th>favorites_count</th>\n",
       "      <th>followers_count</th>\n",
       "      <th>statuses_count</th>\n",
       "      <th>friends_count</th>\n",
       "      <th>verified</th>\n",
       "      <th>hashtags</th>\n",
       "      <th>timestamp</th>\n",
       "      <th>urls_count</th>\n",
       "      <th>hashtags_count</th>\n",
       "      <th>month</th>\n",
       "      <th>wday</th>\n",
       "      <th>hour</th>\n",
       "    </tr>\n",
       "  </thead>\n",
       "  <tbody>\n",
       "    <tr>\n",
       "      <th>0</th>\n",
       "      <td>[rt, refarcir, macron, ans, nom, prépare]</td>\n",
       "      <td>3</td>\n",
       "      <td>0</td>\n",
       "      <td>3682</td>\n",
       "      <td>453535</td>\n",
       "      <td>3628</td>\n",
       "      <td>0</td>\n",
       "      <td>[]</td>\n",
       "      <td>1646978048000</td>\n",
       "      <td>0</td>\n",
       "      <td>0</td>\n",
       "      <td>3</td>\n",
       "      <td>4</td>\n",
       "      <td>5</td>\n",
       "    </tr>\n",
       "    <tr>\n",
       "      <th>1</th>\n",
       "      <td>[populaire]</td>\n",
       "      <td>0</td>\n",
       "      <td>0</td>\n",
       "      <td>86</td>\n",
       "      <td>1016</td>\n",
       "      <td>284</td>\n",
       "      <td>0</td>\n",
       "      <td>[]</td>\n",
       "      <td>1647694288000</td>\n",
       "      <td>0</td>\n",
       "      <td>0</td>\n",
       "      <td>3</td>\n",
       "      <td>5</td>\n",
       "      <td>12</td>\n",
       "    </tr>\n",
       "    <tr>\n",
       "      <th>2</th>\n",
       "      <td>[faut, dégager, cinglé]</td>\n",
       "      <td>3</td>\n",
       "      <td>1</td>\n",
       "      <td>1944</td>\n",
       "      <td>28234</td>\n",
       "      <td>1995</td>\n",
       "      <td>0</td>\n",
       "      <td>[]</td>\n",
       "      <td>1647370048000</td>\n",
       "      <td>0</td>\n",
       "      <td>0</td>\n",
       "      <td>3</td>\n",
       "      <td>1</td>\n",
       "      <td>18</td>\n",
       "    </tr>\n",
       "    <tr>\n",
       "      <th>3</th>\n",
       "      <td>[enseignants, mettre, prescriptions, président...</td>\n",
       "      <td>0</td>\n",
       "      <td>0</td>\n",
       "      <td>1</td>\n",
       "      <td>1072</td>\n",
       "      <td>0</td>\n",
       "      <td>0</td>\n",
       "      <td>[]</td>\n",
       "      <td>1647256282000</td>\n",
       "      <td>1</td>\n",
       "      <td>0</td>\n",
       "      <td>3</td>\n",
       "      <td>0</td>\n",
       "      <td>11</td>\n",
       "    </tr>\n",
       "    <tr>\n",
       "      <th>4</th>\n",
       "      <td>[mafieuse, oppressive, macron]</td>\n",
       "      <td>0</td>\n",
       "      <td>0</td>\n",
       "      <td>13957</td>\n",
       "      <td>25311</td>\n",
       "      <td>10841</td>\n",
       "      <td>0</td>\n",
       "      <td>[]</td>\n",
       "      <td>1647258374000</td>\n",
       "      <td>0</td>\n",
       "      <td>0</td>\n",
       "      <td>3</td>\n",
       "      <td>0</td>\n",
       "      <td>11</td>\n",
       "    </tr>\n",
       "  </tbody>\n",
       "</table>\n",
       "</div>"
      ],
      "text/plain": [
       "                                                text  retweets_count  \\\n",
       "0          [rt, refarcir, macron, ans, nom, prépare]               3   \n",
       "1                                        [populaire]               0   \n",
       "2                            [faut, dégager, cinglé]               3   \n",
       "3  [enseignants, mettre, prescriptions, président...               0   \n",
       "4                     [mafieuse, oppressive, macron]               0   \n",
       "\n",
       "   favorites_count  followers_count  statuses_count  friends_count  verified  \\\n",
       "0                0             3682          453535           3628         0   \n",
       "1                0               86            1016            284         0   \n",
       "2                1             1944           28234           1995         0   \n",
       "3                0                1            1072              0         0   \n",
       "4                0            13957           25311          10841         0   \n",
       "\n",
       "  hashtags      timestamp  urls_count  hashtags_count  month  wday  hour  \n",
       "0       []  1646978048000           0               0      3     4     5  \n",
       "1       []  1647694288000           0               0      3     5    12  \n",
       "2       []  1647370048000           0               0      3     1    18  \n",
       "3       []  1647256282000           1               0      3     0    11  \n",
       "4       []  1647258374000           0               0      3     0    11  "
      ]
     },
     "execution_count": 5,
     "metadata": {},
     "output_type": "execute_result"
    }
   ],
   "source": [
    "# Load data\n",
    "\n",
    "train_data = pd.read_csv(\"data/train.csv\")\n",
    "eval_data = pd.read_csv(\"data/evaluation.csv\")\n",
    "\n",
    "# Pre-process the traning data\n",
    "label = \"text\"\n",
    "train_data[label] = train_data[label].map(lambda x: str.split(x, sep=\" \"))\n",
    "\n",
    "\n",
    "label = \"mentions\"\n",
    "train_data[label+\"_count\"] = train_data[label].map(lambda x: len(str.split(x)))\n",
    "mentions = set()\n",
    "train_data[label].apply(lambda x: mentions.update(x))\n",
    "print(\"all mentions in train data: \", mentions)\n",
    "\n",
    "\n",
    "label = \"urls\"\n",
    "train_data[label] = train_data[label].map(lambda x: [] if x==\"[]\" else [str.strip(url) for url in str.split(x[1:-1], sep=\",\")])\n",
    "train_data[label+\"_count\"] = train_data[label].map(lambda x: len(x))\n",
    "urls = set()\n",
    "train_data[label].apply(lambda x: None if len(x)<1 else urls.update(x))\n",
    "print(f\"average number of urls in train data: {train_data.urls_count.mean():1.3f}\")\n",
    "print(\"number of distinct urls in train data: \", len(urls))\n",
    "\n",
    "label = \"verified\"\n",
    "print(\"verified users: \", train_data[\"verified\"].sum())\n",
    "\n",
    "\n",
    "label = \"hashtags\"\n",
    "train_data[label] = train_data[label].map(lambda x: [] if x==\"[]\" else [str.strip(tag) for tag in str.split(x[1:-1], sep=\",\")])\n",
    "train_data[label+\"_count\"] = train_data[label].map(lambda x: len(x))\n",
    "hashtags = set()\n",
    "train_data[label].apply(lambda x: None if len(x)<1 else hashtags.update(x))\n",
    "print(f\"average number of hashtags in train data: {train_data.hashtags_count.mean():1.3f}\")\n",
    "print(\"number of distinct hashtags in train data:\", len(hashtags))\n",
    "\n",
    "\n",
    "label = \"hashtags\"\n",
    "eval_data[label] = eval_data[label].map(lambda x: [] if x==\"[]\" else [str.strip(tag) for tag in str.split(x[1:-1], sep=\",\")])\n",
    "eval_data[label+\"_count\"] = eval_data[label].map(lambda x: len(x))\n",
    "hashtags2 = set()\n",
    "eval_data[label].apply(lambda x: None if not x else hashtags2.update(x))\n",
    "print(f\"average number of hashtags in evaluation data: {eval_data.hashtags_count.mean():1.3f}\")\n",
    "print(\"number of distinct hashtags in evaluation data:\", len(hashtags2))\n",
    "\n",
    "\n",
    "\n",
    "# Treatment of time\n",
    "# The time relative to the election (month and yday), day in the week, \n",
    "# and the hour all affect the number of retweets.\n",
    "train_data[\"time\"] = train_data[\"timestamp\"].map(lambda x: time.gmtime(x//1000))\n",
    "# Only 2380 tweets are not posted in 2022, so we ignore the year\n",
    "# train_data[\"year\"] = train_data[\"timestamp\"].map(lambda x: x.tm_year)\n",
    "train_data[\"month\"] = train_data[\"time\"].map(lambda x: x.tm_mon)\n",
    "train_data[\"wday\"] = train_data[\"time\"].map(lambda x: x.tm_wday)\n",
    "train_data[\"hour\"] = train_data[\"time\"].map(lambda x: x.tm_hour)\n",
    "print(\"number of tweets not posted in 2022 in train data:\", len(train_data[train_data.time.map(lambda x: x.tm_year) < 2022]))\n",
    "\n",
    "# We drop the following data:\n",
    "# @TweetID: useless\n",
    "# @mentions: none of the mentions in the train data are not null\n",
    "# @mentions_count\n",
    "# @urls: we use urls_count instead\n",
    "\n",
    "train_data.drop(labels=[\"TweetID\",\"time\", \"mentions\",\"mentions_count\", \"urls\"], axis=1, inplace=True)\n",
    "train_data.head(5)"
   ]
  },
  {
   "cell_type": "code",
   "execution_count": null,
   "metadata": {},
   "outputs": [],
   "source": [
    "# Here we split our training data into trainig and testing set. This way we can estimate the evaluation of our model without uploading to Kaggle and avoid overfitting over our evaluation dataset.\n",
    "# scsplit method is used in order to split our regression data in a stratisfied way and keep a similar distribution of retweet counts between the two sets\n",
    "X_train, X_test, y_train, y_test = scsplit(train_data, train_data['retweets_count'], stratify=train_data['retweets_count'], train_size=0.7, test_size=0.3)\n",
    "\n",
    "# We remove the actual number of retweets from our features since it is the value that we are trying to predict\n",
    "X_train = X_train.drop([\"retweets_count\"], axis=1)\n",
    "X_test = X_test.drop([\"retweets_count\"], axis=1)"
   ]
  },
  {
   "cell_type": "code",
   "execution_count": 17,
   "metadata": {},
   "outputs": [
    {
     "data": {
      "text/html": [
       "<div>\n",
       "<style scoped>\n",
       "    .dataframe tbody tr th:only-of-type {\n",
       "        vertical-align: middle;\n",
       "    }\n",
       "\n",
       "    .dataframe tbody tr th {\n",
       "        vertical-align: top;\n",
       "    }\n",
       "\n",
       "    .dataframe thead th {\n",
       "        text-align: right;\n",
       "    }\n",
       "</style>\n",
       "<table border=\"1\" class=\"dataframe\">\n",
       "  <thead>\n",
       "    <tr style=\"text-align: right;\">\n",
       "      <th></th>\n",
       "      <th>favorites_count</th>\n",
       "      <th>followers_count</th>\n",
       "      <th>statuses_count</th>\n",
       "      <th>friends_count</th>\n",
       "      <th>verified</th>\n",
       "      <th>timestamp</th>\n",
       "      <th>urls_count</th>\n",
       "      <th>hashtags_count</th>\n",
       "      <th>month</th>\n",
       "      <th>wday</th>\n",
       "      <th>hour</th>\n",
       "    </tr>\n",
       "  </thead>\n",
       "  <tbody>\n",
       "    <tr>\n",
       "      <th>153328</th>\n",
       "      <td>-0.054969</td>\n",
       "      <td>-0.072333</td>\n",
       "      <td>-0.337547</td>\n",
       "      <td>0.428413</td>\n",
       "      <td>-0.174819</td>\n",
       "      <td>0.124445</td>\n",
       "      <td>-1.038673</td>\n",
       "      <td>-0.383052</td>\n",
       "      <td>-0.042882</td>\n",
       "      <td>0.479665</td>\n",
       "      <td>-0.421182</td>\n",
       "    </tr>\n",
       "    <tr>\n",
       "      <th>17340</th>\n",
       "      <td>-0.054969</td>\n",
       "      <td>-0.073309</td>\n",
       "      <td>-0.142232</td>\n",
       "      <td>-0.188901</td>\n",
       "      <td>-0.174819</td>\n",
       "      <td>0.122408</td>\n",
       "      <td>0.923364</td>\n",
       "      <td>-0.383052</td>\n",
       "      <td>-0.042882</td>\n",
       "      <td>0.479665</td>\n",
       "      <td>-0.978176</td>\n",
       "    </tr>\n",
       "    <tr>\n",
       "      <th>135369</th>\n",
       "      <td>-0.054969</td>\n",
       "      <td>-0.077913</td>\n",
       "      <td>-0.315744</td>\n",
       "      <td>-0.492465</td>\n",
       "      <td>-0.174819</td>\n",
       "      <td>-0.014027</td>\n",
       "      <td>0.923364</td>\n",
       "      <td>-0.383052</td>\n",
       "      <td>-0.042882</td>\n",
       "      <td>-0.080699</td>\n",
       "      <td>0.878471</td>\n",
       "    </tr>\n",
       "  </tbody>\n",
       "</table>\n",
       "</div>"
      ],
      "text/plain": [
       "        favorites_count  followers_count  statuses_count  friends_count  \\\n",
       "153328        -0.054969        -0.072333       -0.337547       0.428413   \n",
       "17340         -0.054969        -0.073309       -0.142232      -0.188901   \n",
       "135369        -0.054969        -0.077913       -0.315744      -0.492465   \n",
       "\n",
       "        verified  timestamp  urls_count  hashtags_count     month      wday  \\\n",
       "153328 -0.174819   0.124445   -1.038673       -0.383052 -0.042882  0.479665   \n",
       "17340  -0.174819   0.122408    0.923364       -0.383052 -0.042882  0.479665   \n",
       "135369 -0.174819  -0.014027    0.923364       -0.383052 -0.042882 -0.080699   \n",
       "\n",
       "            hour  \n",
       "153328 -0.421182  \n",
       "17340  -0.978176  \n",
       "135369  0.878471  "
      ]
     },
     "execution_count": 17,
     "metadata": {},
     "output_type": "execute_result"
    }
   ],
   "source": [
    "# standardise the columns of numeric values\n",
    "def standardise(data,list_column):\n",
    "    for name_column in list_column:\n",
    "        # standardize\n",
    "        if data[name_column].std()!=0:\n",
    "            data[name_column]=(data[name_column]-data[name_column].mean())/data[name_column].std()\n",
    "        else:\n",
    "            data[name_column]=(data[name_column]-data[name_column].mean())\n",
    "            \n",
    "standardise(X_train,[\"favorites_count\",\"followers_count\",\"statuses_count\",\"friends_count\",\"urls_count\",\"hashtags_count\",\"verified\",\"timestamp\",\"month\",\"wday\",\"hour\"])\n",
    "standardise(X_test, [\"favorites_count\",\"followers_count\",\"statuses_count\",\"friends_count\",\"urls_count\",\"hashtags_count\",\"verified\",\"timestamp\",\"month\",\"wday\",\"hour\"])\n",
    "\n",
    "# split the table into 2 parts: one with the text and the other with the numbers\n",
    "X_train_num=X_train.drop([\"text\", \"hashtags\"], axis=1)\n",
    "X_test_num=X_test.drop([\"text\", \"hashtags\"], axis=1)\n",
    "\n",
    "X_train_text=X_train[[\"text\", \"hashtags\"]]\n",
    "X_test_text=X_test[[\"text\", \"hashtags\"]]\n",
    "X_train_num.head(3)"
   ]
  },
  {
   "cell_type": "code",
   "execution_count": 18,
   "metadata": {},
   "outputs": [],
   "source": [
    "# This part is used to train the embedding of the vocabulary, only needed to be run once\n",
    "\n",
    "path_text_dataset='French-Word-Embeddings/Data/data.txt'\n",
    "text_dataset=pd.read_table(path_text_dataset).values\n",
    "text_dataset=[item[0][:-1] for item in text_dataset]\n",
    "\n",
    "TaggedDocument=gensim.models.doc2vec.TaggedDocument\n",
    "\n",
    "def X_text(sentences):\n",
    "    X=[]\n",
    "    for i,text in enumerate(sentences):\n",
    "        words=text.split(\" \")\n",
    "        l=len(words)\n",
    "        words=words[:-2]\n",
    "        document=TaggedDocument(words,tags=[i])\n",
    "        X.append(document)\n",
    "    return X\n",
    "\n",
    "X_documents=X_text(text_dataset)\n",
    "X_documents[:5]\n",
    "\n",
    "def train_text(text_train,size=10,epochs=10):\n",
    "    model=Doc2Vec(text_train,min_count=1,window=3,vector_size=size,sample=1e-3,negative=5,epochs=epochs)\n",
    "    model.train(text_train,total_examples=model.corpus_count,epochs=model.epochs)\n",
    "    return model\n",
    "\n",
    "if not os.path.exists('./WE_models'):\n",
    "    os.mkdir('./WE_models')\n",
    "\n",
    "# run only once this part  \n",
    "# model_text10=train_text(X_documents, size=10)\n",
    "# model_text10.save('WE_models/d2v_10D')\n",
    "# model_text5=train_text(X_documents, size=5)\n",
    "# model_text5.save('WE_models/d2v_5D')"
   ]
  },
  {
   "cell_type": "code",
   "execution_count": 19,
   "metadata": {},
   "outputs": [],
   "source": [
    "# Here we load the embedding model:\n",
    "model_text10 = Doc2Vec.load('WE_models/d2v_10D')\n",
    "model_text5 = Doc2Vec.load('WE_models/d2v_5D')"
   ]
  },
  {
   "cell_type": "code",
   "execution_count": 20,
   "metadata": {},
   "outputs": [],
   "source": [
    "\n",
    "# Tranform the textual part to vector\n",
    "\n",
    "def text2vec(text_train, model, alpha=0.05, min_alpha=0.025, epochs=10, tags=True):\n",
    "    list_text=[]\n",
    "    for sentence in text_train:\n",
    "        vec = model.infer_vector(doc_words=sentence, alpha=alpha, min_alpha=min_alpha, epochs=epochs).tolist()\n",
    "        list_text.append(vec)\n",
    "    return np.array(list_text)\n",
    "\n",
    "# text to vector\n",
    "X_train_tweet_vec = text2vec(X_train_text[\"text\"], model=model_text10)\n",
    "train_text_tensor=torch.Tensor(X_train_tweet_vec)\n",
    "X_test_tweet_vec = text2vec(X_test_text[\"text\"], model=model_text10)\n",
    "test_text_tensor=torch.Tensor(X_test_tweet_vec)\n",
    "\n",
    "# hashtags to vector\n",
    "X_train_tags_vec = text2vec(X_train_text[\"hashtags\"], model=model_text5)\n",
    "train_tags_tensor=torch.Tensor(X_train_tags_vec)\n",
    "X_test_tags_vec = text2vec(X_test_text[\"hashtags\"], model=model_text5)\n",
    "test_tags_tensor=torch.Tensor(X_test_tags_vec)\n",
    "\n",
    "# combine the two vectors\n",
    "X_train_text_vec = np.concatenate((X_train_tweet_vec, X_train_tags_vec), axis=1)\n",
    "X_test_text_vec = np.concatenate((X_test_tweet_vec, X_test_tags_vec), axis=1)\n",
    "\n",
    "X_train_text_tensor = torch.Tensor(X_train_text_vec)\n",
    "X_test_text_tensor = torch.Tensor(X_test_text_vec)\n"
   ]
  },
  {
   "cell_type": "code",
   "execution_count": 21,
   "metadata": {},
   "outputs": [
    {
     "name": "stdout",
     "output_type": "stream",
     "text": [
      "torch.Size([247778, 11]) torch.Size([106191, 11])\n",
      "torch.Size([247778, 15]) torch.Size([106191, 15])\n",
      "torch.Size([247778, 26]) torch.Size([106191, 26])\n",
      "torch.Size([247778, 1]) torch.Size([106191, 1])\n"
     ]
    }
   ],
   "source": [
    "X_train_num_vec=X_train_num.values\n",
    "X_train_num_tensor=torch.Tensor(X_train_num_vec)\n",
    "X_test_num_vec=X_test_num.values\n",
    "X_test_num_tensor=torch.Tensor(X_test_num_vec)\n",
    "\n",
    "X_train_vec=np.concatenate((X_train_text_vec,X_train_num_vec), axis=1)\n",
    "X_test_vec=np.concatenate((X_test_text_vec, X_test_num_vec), axis=1)\n",
    "\n",
    "X_train_tensor=torch.Tensor(X_train_vec)\n",
    "X_test_tensor=torch.Tensor(X_test_vec)\n",
    "\n",
    "y_train_vec=y_train.values\n",
    "y_test_vec=y_test.values\n",
    "y_train_tensor=torch.Tensor(y_train_vec).reshape((-1,1))\n",
    "y_test_tensor=torch.Tensor(y_test_vec).reshape((-1,1))\n",
    "\n",
    "print(X_train_num_tensor.shape,X_test_num_tensor.shape)\n",
    "print(X_train_text_tensor.shape, X_test_text_tensor.shape)\n",
    "print(X_train_tensor.shape, X_test_tensor.shape)\n",
    "print(y_train_tensor.shape, y_test_tensor.shape)\n",
    "\n",
    "# dataset_num_XY = torch.utils.data.TensorDataset(X_train_num_tensor.to(device), y_train_tensor.to(device))\n",
    "# testset_num_XY = torch.utils.data.TensorDataset(X_test_num_tensor.to(device), y_test_tensor.to(device))\n",
    "\n",
    "# dataset_tot_XY = torch.utils.data.TensorDataset(X_train_tensor.to(device), y_train_tensor.to(device))\n",
    "# testset_tot_XY = torch.utils.data.TensorDataset(X_test_tensor.to(device), y_test_tensor.to(device))"
   ]
  },
  {
   "cell_type": "code",
   "execution_count": 22,
   "metadata": {},
   "outputs": [],
   "source": [
    "def MAE(pred,real):\n",
    "    N=len(pred)\n",
    "    sum=0\n",
    "    for i in range(N):\n",
    "        sum+=abs(pred[i]-real[i])\n",
    "    return sum/N\n",
    "\n",
    "def ACC(pred,real):\n",
    "    N=len(pred)\n",
    "    sum=0\n",
    "    for i in range(N):\n",
    "        if pred[i]==real[i]:\n",
    "            sum+=1\n",
    "    return sum/N\n",
    "\n",
    "def model_result(model,X_train,y_train,X_test,y_test):\n",
    "    model.fit(X_train,y_train)\n",
    "    y_pred = model.predict(X_test)\n",
    "    y_pred = np.array([int(value) if value >= 0 else 0 for value in y_pred])\n",
    "    loss=MAE(y_pred,y_test)\n",
    "    acc=ACC(y_pred,y_test)\n",
    "    return loss,acc\n"
   ]
  },
  {
   "cell_type": "code",
   "execution_count": 25,
   "metadata": {},
   "outputs": [
    {
     "data": {
      "image/png": "[encoded data removed]",
      "text/plain": [
       "<Figure size 432x288 with 1 Axes>"
      ]
     },
     "metadata": {
      "needs_background": "light"
     },
     "output_type": "display_data"
    }
   ],
   "source": [
    "alpha_list=[0.1*i for i in range(30)]\n",
    "loss_Lasso_tot=[]\n",
    "acc_Lasso_tot=[]\n",
    "for alpha in alpha_list:    \n",
    "    model_Lasso=Lasso(alpha=alpha)\n",
    "    loss_Lasso,acc_Lasso=model_result(model_Lasso,X_train_vec,y_train_vec,X_test_vec,y_test_vec)\n",
    "    loss_Lasso_tot.append(loss_Lasso)\n",
    "    acc_Lasso_tot.append(acc_Lasso)\n",
    "    \n",
    "fig = plt.figure()\n",
    "ax = plt.axes()\n",
    "ax.scatter(alpha_list,loss_Lasso_tot)\n",
    "ax.plot(alpha_list,loss_Lasso_tot) \n",
    "plt.title(\"Loss for Lasso model\")\n",
    "plt.show()\n",
    "\n",
    "model_Lasso=Lasso(alpha=0.1*np.argmin(np.array(loss_Lasso_tot)))\n",
    "\n"
   ]
  },
  {
   "cell_type": "code",
   "execution_count": 26,
   "metadata": {},
   "outputs": [
    {
     "name": "stdout",
     "output_type": "stream",
     "text": [
      "9.414658492715954 0.1452100460491002\n"
     ]
    },
    {
     "data": {
      "text/plain": [
       "(9.414639658728142, 0.14520062905519301)"
      ]
     },
     "execution_count": 26,
     "metadata": {},
     "output_type": "execute_result"
    }
   ],
   "source": [
    "loss_Lasso,acc_Lasso=model_result(model_Lasso,X_train_vec,y_train_vec,X_test_vec,y_test_vec)\n",
    "print(loss_Lasso,acc_Lasso)\n",
    "\n",
    "loss_Lasso_num,acc_Lasso_num=model_result(model_Lasso,X_train_num_vec,y_train_vec,X_test_num_vec,y_test_vec)\n",
    "loss_Lasso_num,acc_Lasso_num"
   ]
  },
  {
   "cell_type": "code",
   "execution_count": 31,
   "metadata": {},
   "outputs": [
    {
     "name": "stdout",
     "output_type": "stream",
     "text": [
      "7\n",
      "8\n",
      "9\n",
      "10\n",
      "11\n",
      "12\n",
      "13\n",
      "14\n"
     ]
    },
    {
     "data": {
      "image/png": "[encoded data removed]",
      "text/plain": [
       "<Figure size 432x288 with 1 Axes>"
      ]
     },
     "metadata": {
      "needs_background": "light"
     },
     "output_type": "display_data"
    }
   ],
   "source": [
    "alpha_list=[i for i in range(7,15)]\n",
    "loss_Knn_tot=[]\n",
    "acc_Knn_tot=[]\n",
    "for alpha in alpha_list:    \n",
    "    print(alpha)\n",
    "    model_Knn=KNeighborsRegressor(n_neighbors=alpha)\n",
    "    loss_Knn,acc_Knn=model_result(model_Knn,X_train_vec,y_train_vec,X_test_vec,y_test_vec)\n",
    "    loss_Knn_tot.append(loss_Knn)\n",
    "    acc_Knn_tot.append(acc_Knn)\n",
    "\n",
    "fig = plt.figure()\n",
    "ax = plt.axes()\n",
    "ax.scatter(alpha_list,loss_Knn_tot)\n",
    "ax.plot(alpha_list,loss_Knn_tot) \n",
    "plt.title(\"Loss for Knn model\")\n",
    "plt.show()\n"
   ]
  },
  {
   "cell_type": "code",
   "execution_count": 32,
   "metadata": {},
   "outputs": [
    {
     "name": "stdout",
     "output_type": "stream",
     "text": [
      "10.007947942857681 0.2858434330592988\n",
      "9.099029107928168 0.34160145398385927\n"
     ]
    }
   ],
   "source": [
    "model_Knn=KNeighborsRegressor(n_neighbors=np.argmin(np.array(loss_Knn_tot))+7)\n",
    "loss_Knn,acc_Knn=model_result(model_Knn,X_train_vec,y_train_vec,X_test_vec,y_test_vec)\n",
    "print(loss_Knn,acc_Knn)\n",
    "loss_Knn_num,acc_Knn_num=model_result(model_Knn,X_train_num_vec,y_train_vec,X_test_num_vec,y_test_vec)\n",
    "print(loss_Knn_num,acc_Knn_num)"
   ]
  },
  {
   "cell_type": "code",
   "execution_count": 33,
   "metadata": {},
   "outputs": [
    {
     "name": "stdout",
     "output_type": "stream",
     "text": [
      "10\n",
      "11\n",
      "12\n",
      "13\n",
      "14\n",
      "15\n",
      "16\n",
      "17\n",
      "18\n",
      "19\n"
     ]
    },
    {
     "data": {
      "image/png": "[encoded data removed]",
      "text/plain": [
       "<Figure size 432x288 with 1 Axes>"
      ]
     },
     "metadata": {
      "needs_background": "light"
     },
     "output_type": "display_data"
    }
   ],
   "source": [
    "alpha_list=[i for i in range(10,20)]\n",
    "loss_RF_tot=[]\n",
    "acc_RF_tot=[]\n",
    "for alpha in alpha_list:    \n",
    "    print(alpha)\n",
    "    model_RF=RandomForestRegressor(max_depth=alpha)\n",
    "    loss_RF,acc_RF=model_result(model_RF,X_train_vec,y_train_vec,X_test_vec,y_test_vec)\n",
    "    loss_RF_tot.append(loss_RF)\n",
    "    acc_RF_tot.append(acc_RF)\n",
    "    \n",
    "fig = plt.figure()\n",
    "ax = plt.axes()\n",
    "ax.scatter(alpha_list,loss_RF_tot)\n",
    "ax.plot(alpha_list,loss_RF_tot) \n",
    "plt.title(\"Loss for RF model\")\n",
    "plt.show()"
   ]
  },
  {
   "cell_type": "code",
   "execution_count": 34,
   "metadata": {},
   "outputs": [
    {
     "name": "stdout",
     "output_type": "stream",
     "text": [
      "6.757634827810266 0.13103747021875678\n",
      "6.749912892806359 0.13214867549980694\n"
     ]
    }
   ],
   "source": [
    "model_RF=RandomForestRegressor(max_depth=np.argmin(np.array(loss_RF_tot))+10)\n",
    "loss_RF,acc_RF=model_result(model_RF,X_train_vec,y_train_vec,X_test_vec,y_test_vec)\n",
    "print(loss_RF,acc_RF)\n",
    "loss_RF_num,acc_RF_num=model_result(model_RF,X_train_num_vec,y_train_vec,X_test_num_vec,y_test_vec)\n",
    "print(loss_RF_num,acc_RF_num)"
   ]
  }
 ],
 "metadata": {
  "kernelspec": {
   "display_name": "Python 3.9.2 64-bit",
   "language": "python",
   "name": "python3"
  },
  "language_info": {
   "codemirror_mode": {
    "name": "ipython",
    "version": 3
   },
   "file_extension": ".py",
   "mimetype": "text/x-python",
   "name": "python",
   "nbconvert_exporter": "python",
   "pygments_lexer": "ipython3",
   "version": "3.9.2"
  },
  "orig_nbformat": 4,
  "vscode": {
   "interpreter": {
    "hash": "107bf26d3be942b0376d323aa83938b654b529496a5c3f1b6b3e9c409d104805"
   }
  }
 },
 "nbformat": 4,
 "nbformat_minor": 2
}
