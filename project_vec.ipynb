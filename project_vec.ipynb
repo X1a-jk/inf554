{
 "cells": [
  {
   "cell_type": "code",
   "execution_count": 459,
   "metadata": {},
   "outputs": [],
   "source": [
    "import csv\n",
    "import time\n",
    "import numpy as np\n",
    "import pandas as pd\n",
    "\n",
    "from sklearn.ensemble import GradientBoostingRegressor\n",
    "from sklearn.dummy import DummyRegressor\n",
    "from sklearn.feature_extraction.text import TfidfVectorizer\n",
    "from sklearn.metrics import mean_absolute_error\n",
    "from sklearn.linear_model import Lasso\n",
    "from sklearn.ensemble import RandomForestRegressor\n",
    "from sklearn.neighbors import KNeighborsRegressor\n",
    "from sklearn.svm import SVR\n",
    "from sklearn.linear_model import LinearRegression\n",
    "from sklearn.linear_model import LogisticRegression\n",
    "from sklearn.decomposition import PCA\n",
    "\n",
    "from verstack.stratified_continuous_split import scsplit # pip install verstack\n",
    "from nltk.corpus import stopwords \n",
    "\n",
    "import torch\n",
    "import torch.nn as nn\n",
    "import torch.optim as optim\n",
    "import torch.nn.functional as F\n",
    "from torch.utils.data import TensorDataset, DataLoader\n",
    "\n",
    "from scipy import spatial\n",
    "import matplotlib.pyplot as plt\n",
    "from sklearn.manifold import TSNE\n",
    "\n",
    "import os\n",
    "import gensim\n",
    "from gensim.models.doc2vec import Doc2Vec\n",
    "import warnings\n",
    "warnings.filterwarnings(action='ignore', category=UserWarning, module='gensim')"
   ]
  },
  {
   "cell_type": "code",
   "execution_count": 629,
   "metadata": {},
   "outputs": [],
   "source": [
    "device = torch.device(\"cuda:0\" if torch.cuda.is_available() else \"cpu\")"
   ]
  },
  {
   "cell_type": "markdown",
   "metadata": {},
   "source": [
    "### 基本思路\n",
    "使用如下两组要素\n",
    "- 数字变量\n",
    "  1. favorites count (log_stand)\n",
    "  2. followers count (log_stand)\n",
    "  3. statues count (发推数量) (log_stand)\n",
    "  4. friends count (log_stand)\n",
    "  5. urls count (log_stand)\n",
    "  6. verified (1 or 0) (这一部分我们不做log_stand)\n",
    "  7. timestamp (一天内的早中晚（hour），距离大选的时间(month和day)，周几(wday)都可能产生影响)\n",
    "- 文本变量\n",
    "  1. tweet text\n",
    "  2. hashtags \n",
    "\n",
    "将文本变量通过embedding处理后用CNN/LSTM得到一部分输出，另外对数字变量通过CNN也得到了一部分结果，最后汇总，用2层dense layer。\n"
   ]
  },
  {
   "cell_type": "code",
   "execution_count": 461,
   "metadata": {},
   "outputs": [
    {
     "name": "stdout",
     "output_type": "stream",
     "text": [
      "all mentions in train data:  {']', '['}\n",
      "average number of urls in train data: 0.529\n",
      "number of distinct urls in eval data:  185951\n",
      "verified users:  10621\n",
      "average number of hashtags in train data: 0.297\n",
      "number of distinct hashtags in train data: 12093\n",
      "average number of hashtags in evaluation data: 0.299\n",
      "number of distinct hashtags in evaluation data: 5942\n",
      "number of tweets not posted in 2022 in train data: 2380\n"
     ]
    },
    {
     "data": {
      "text/html": [
       "<div>\n",
       "<style scoped>\n",
       "    .dataframe tbody tr th:only-of-type {\n",
       "        vertical-align: middle;\n",
       "    }\n",
       "\n",
       "    .dataframe tbody tr th {\n",
       "        vertical-align: top;\n",
       "    }\n",
       "\n",
       "    .dataframe thead th {\n",
       "        text-align: right;\n",
       "    }\n",
       "</style>\n",
       "<table border=\"1\" class=\"dataframe\">\n",
       "  <thead>\n",
       "    <tr style=\"text-align: right;\">\n",
       "      <th></th>\n",
       "      <th>text</th>\n",
       "      <th>retweets_count</th>\n",
       "      <th>favorites_count</th>\n",
       "      <th>followers_count</th>\n",
       "      <th>statuses_count</th>\n",
       "      <th>friends_count</th>\n",
       "      <th>verified</th>\n",
       "      <th>hashtags</th>\n",
       "      <th>timestamp</th>\n",
       "      <th>urls_count</th>\n",
       "      <th>hashtags_count</th>\n",
       "      <th>month</th>\n",
       "      <th>wday</th>\n",
       "      <th>hour</th>\n",
       "    </tr>\n",
       "  </thead>\n",
       "  <tbody>\n",
       "    <tr>\n",
       "      <th>0</th>\n",
       "      <td>[rt, refarcir, macron, ans, nom, prépare]</td>\n",
       "      <td>3</td>\n",
       "      <td>0</td>\n",
       "      <td>3682</td>\n",
       "      <td>453535</td>\n",
       "      <td>3628</td>\n",
       "      <td>0</td>\n",
       "      <td>[]</td>\n",
       "      <td>1646978048000</td>\n",
       "      <td>0</td>\n",
       "      <td>0</td>\n",
       "      <td>3</td>\n",
       "      <td>4</td>\n",
       "      <td>5</td>\n",
       "    </tr>\n",
       "    <tr>\n",
       "      <th>1</th>\n",
       "      <td>[populaire]</td>\n",
       "      <td>0</td>\n",
       "      <td>0</td>\n",
       "      <td>86</td>\n",
       "      <td>1016</td>\n",
       "      <td>284</td>\n",
       "      <td>0</td>\n",
       "      <td>[]</td>\n",
       "      <td>1647694288000</td>\n",
       "      <td>0</td>\n",
       "      <td>0</td>\n",
       "      <td>3</td>\n",
       "      <td>5</td>\n",
       "      <td>12</td>\n",
       "    </tr>\n",
       "    <tr>\n",
       "      <th>2</th>\n",
       "      <td>[faut, dégager, cinglé]</td>\n",
       "      <td>3</td>\n",
       "      <td>1</td>\n",
       "      <td>1944</td>\n",
       "      <td>28234</td>\n",
       "      <td>1995</td>\n",
       "      <td>0</td>\n",
       "      <td>[]</td>\n",
       "      <td>1647370048000</td>\n",
       "      <td>0</td>\n",
       "      <td>0</td>\n",
       "      <td>3</td>\n",
       "      <td>1</td>\n",
       "      <td>18</td>\n",
       "    </tr>\n",
       "    <tr>\n",
       "      <th>3</th>\n",
       "      <td>[enseignants, mettre, prescriptions, président...</td>\n",
       "      <td>0</td>\n",
       "      <td>0</td>\n",
       "      <td>1</td>\n",
       "      <td>1072</td>\n",
       "      <td>0</td>\n",
       "      <td>0</td>\n",
       "      <td>[]</td>\n",
       "      <td>1647256282000</td>\n",
       "      <td>1</td>\n",
       "      <td>0</td>\n",
       "      <td>3</td>\n",
       "      <td>0</td>\n",
       "      <td>11</td>\n",
       "    </tr>\n",
       "    <tr>\n",
       "      <th>4</th>\n",
       "      <td>[mafieuse, oppressive, macron]</td>\n",
       "      <td>0</td>\n",
       "      <td>0</td>\n",
       "      <td>13957</td>\n",
       "      <td>25311</td>\n",
       "      <td>10841</td>\n",
       "      <td>0</td>\n",
       "      <td>[]</td>\n",
       "      <td>1647258374000</td>\n",
       "      <td>0</td>\n",
       "      <td>0</td>\n",
       "      <td>3</td>\n",
       "      <td>0</td>\n",
       "      <td>11</td>\n",
       "    </tr>\n",
       "  </tbody>\n",
       "</table>\n",
       "</div>"
      ],
      "text/plain": [
       "                                                text  retweets_count  \\\n",
       "0          [rt, refarcir, macron, ans, nom, prépare]               3   \n",
       "1                                        [populaire]               0   \n",
       "2                            [faut, dégager, cinglé]               3   \n",
       "3  [enseignants, mettre, prescriptions, président...               0   \n",
       "4                     [mafieuse, oppressive, macron]               0   \n",
       "\n",
       "   favorites_count  followers_count  statuses_count  friends_count  verified  \\\n",
       "0                0             3682          453535           3628         0   \n",
       "1                0               86            1016            284         0   \n",
       "2                1             1944           28234           1995         0   \n",
       "3                0                1            1072              0         0   \n",
       "4                0            13957           25311          10841         0   \n",
       "\n",
       "  hashtags      timestamp  urls_count  hashtags_count  month  wday  hour  \n",
       "0       []  1646978048000           0               0      3     4     5  \n",
       "1       []  1647694288000           0               0      3     5    12  \n",
       "2       []  1647370048000           0               0      3     1    18  \n",
       "3       []  1647256282000           1               0      3     0    11  \n",
       "4       []  1647258374000           0               0      3     0    11  "
      ]
     },
     "execution_count": 461,
     "metadata": {},
     "output_type": "execute_result"
    }
   ],
   "source": [
    "# Load data\n",
    "train_data = pd.read_csv(\"data/train.csv\")\n",
    "eval_data = pd.read_csv(\"data/evaluation.csv\")\n",
    "\n",
    "# Pre-process the traning data\n",
    "label = \"text\"\n",
    "train_data[label] = train_data[label].map(lambda x: str.split(x, sep=\" \"))\n",
    "\n",
    "\n",
    "label = \"mentions\"\n",
    "train_data[label+\"_count\"] = train_data[label].map(lambda x: len(str.split(x)))\n",
    "mentions = set()\n",
    "train_data[label].apply(lambda x: mentions.update(x))\n",
    "print(\"all mentions in train data: \", mentions)\n",
    "\n",
    "\n",
    "label = \"urls\"\n",
    "train_data[label] = train_data[label].map(lambda x: [] if x==\"[]\" else [str.strip(url) for url in str.split(x[1:-1], sep=\",\")])\n",
    "train_data[label+\"_count\"] = train_data[label].map(lambda x: len(x))\n",
    "urls = set()\n",
    "train_data[label].apply(lambda x: None if len(x)<1 else urls.update(x))\n",
    "print(f\"average number of urls in train data: {train_data.urls_count.mean():1.3f}\")\n",
    "print(\"number of distinct urls in eval data: \", len(urls))\n",
    "\n",
    "label = \"verified\"\n",
    "print(\"verified users: \", train_data[\"verified\"].sum())\n",
    "\n",
    "\n",
    "label = \"hashtags\"\n",
    "train_data[label] = train_data[label].map(lambda x: [] if x==\"[]\" else [str.strip(tag) for tag in str.split(x[1:-1], sep=\",\")])\n",
    "train_data[label+\"_count\"] = train_data[label].map(lambda x: len(x))\n",
    "hashtags = set()\n",
    "train_data[label].apply(lambda x: None if len(x)<1 else hashtags.update(x))\n",
    "print(f\"average number of hashtags in train data: {train_data.hashtags_count.mean():1.3f}\")\n",
    "print(\"number of distinct hashtags in train data:\", len(hashtags))\n",
    "\n",
    "\n",
    "label = \"hashtags\"\n",
    "eval_data[label] = eval_data[label].map(lambda x: [] if x==\"[]\" else [str.strip(tag) for tag in str.split(x[1:-1], sep=\",\")])\n",
    "eval_data[label+\"_count\"] = eval_data[label].map(lambda x: len(x))\n",
    "hashtags2 = set()\n",
    "eval_data[label].apply(lambda x: None if not x else hashtags2.update(x))\n",
    "print(f\"average number of hashtags in evaluation data: {eval_data.hashtags_count.mean():1.3f}\")\n",
    "print(\"number of distinct hashtags in evaluation data:\", len(hashtags2))\n",
    "\n",
    "\n",
    "\n",
    "# Treatment of time\n",
    "# The time relative to the election (month and yday), day in the week, \n",
    "# and the hour all affect the number of retweets.\n",
    "train_data[\"time\"] = train_data[\"timestamp\"].map(lambda x: time.gmtime(x//1000))\n",
    "# Only 2380 tweets are not posted in 2022, so we ignore the year\n",
    "# train_data[\"year\"] = train_data[\"timestamp\"].map(lambda x: x.tm_year)\n",
    "train_data[\"month\"] = train_data[\"time\"].map(lambda x: x.tm_mon)\n",
    "train_data[\"wday\"] = train_data[\"time\"].map(lambda x: x.tm_wday)\n",
    "train_data[\"hour\"] = train_data[\"time\"].map(lambda x: x.tm_hour)\n",
    "print(\"number of tweets not posted in 2022 in train data:\", len(train_data[train_data.time.map(lambda x: x.tm_year) < 2022]))\n",
    "\n",
    "# We drop the following data:\n",
    "# @TweetID: useless\n",
    "# @mentions: none of the mentions in the train data are not null\n",
    "# @mentions_count\n",
    "# @urls: we use urls_count instead\n",
    "\n",
    "train_data.drop(labels=[\"TweetID\",\"time\", \"mentions\",\"mentions_count\", \"urls\"], axis=1, inplace=True)\n",
    "train_data.head(5)"
   ]
  },
  {
   "cell_type": "code",
   "execution_count": 462,
   "metadata": {},
   "outputs": [],
   "source": [
    "# Here we split our training data into trainig and testing set. This way we can estimate the evaluation of our model without uploading to Kaggle and avoid overfitting over our evaluation dataset.\n",
    "# scsplit method is used in order to split our regression data in a stratisfied way and keep a similar distribution of retweet counts between the two sets\n",
    "X_train, X_test, y_train, y_test = scsplit(train_data, train_data['retweets_count'], stratify=train_data['retweets_count'], train_size=0.7, test_size=0.3)\n",
    "\n",
    "# We remove the actual number of retweets from our features since it is the value that we are trying to predict\n",
    "X_train = X_train.drop([\"retweets_count\"], axis=1)\n",
    "X_test = X_test.drop([\"retweets_count\"], axis=1)"
   ]
  },
  {
   "cell_type": "code",
   "execution_count": 463,
   "metadata": {},
   "outputs": [
    {
     "data": {
      "text/html": [
       "<div>\n",
       "<style scoped>\n",
       "    .dataframe tbody tr th:only-of-type {\n",
       "        vertical-align: middle;\n",
       "    }\n",
       "\n",
       "    .dataframe tbody tr th {\n",
       "        vertical-align: top;\n",
       "    }\n",
       "\n",
       "    .dataframe thead th {\n",
       "        text-align: right;\n",
       "    }\n",
       "</style>\n",
       "<table border=\"1\" class=\"dataframe\">\n",
       "  <thead>\n",
       "    <tr style=\"text-align: right;\">\n",
       "      <th></th>\n",
       "      <th>favorites_count</th>\n",
       "      <th>followers_count</th>\n",
       "      <th>statuses_count</th>\n",
       "      <th>friends_count</th>\n",
       "      <th>verified</th>\n",
       "      <th>timestamp</th>\n",
       "      <th>urls_count</th>\n",
       "      <th>hashtags_count</th>\n",
       "      <th>month</th>\n",
       "      <th>wday</th>\n",
       "      <th>hour</th>\n",
       "    </tr>\n",
       "  </thead>\n",
       "  <tbody>\n",
       "    <tr>\n",
       "      <th>244059</th>\n",
       "      <td>-0.054576</td>\n",
       "      <td>-0.077429</td>\n",
       "      <td>-0.428520</td>\n",
       "      <td>-0.574823</td>\n",
       "      <td>-0.176005</td>\n",
       "      <td>0.069038</td>\n",
       "      <td>-1.038795</td>\n",
       "      <td>-0.382996</td>\n",
       "      <td>-0.041519</td>\n",
       "      <td>-1.202310</td>\n",
       "      <td>-0.606260</td>\n",
       "    </tr>\n",
       "    <tr>\n",
       "      <th>108405</th>\n",
       "      <td>-0.055785</td>\n",
       "      <td>-0.071297</td>\n",
       "      <td>-0.000068</td>\n",
       "      <td>-0.359549</td>\n",
       "      <td>-0.176005</td>\n",
       "      <td>0.140950</td>\n",
       "      <td>-1.038795</td>\n",
       "      <td>-0.382996</td>\n",
       "      <td>-0.041519</td>\n",
       "      <td>1.041258</td>\n",
       "      <td>-0.420549</td>\n",
       "    </tr>\n",
       "    <tr>\n",
       "      <th>291999</th>\n",
       "      <td>-0.005023</td>\n",
       "      <td>-0.074609</td>\n",
       "      <td>-0.418921</td>\n",
       "      <td>-0.439542</td>\n",
       "      <td>-0.176005</td>\n",
       "      <td>0.137745</td>\n",
       "      <td>0.922335</td>\n",
       "      <td>-0.382996</td>\n",
       "      <td>-0.041519</td>\n",
       "      <td>1.041258</td>\n",
       "      <td>-1.349102</td>\n",
       "    </tr>\n",
       "  </tbody>\n",
       "</table>\n",
       "</div>"
      ],
      "text/plain": [
       "        favorites_count  followers_count  statuses_count  friends_count  \\\n",
       "244059        -0.054576        -0.077429       -0.428520      -0.574823   \n",
       "108405        -0.055785        -0.071297       -0.000068      -0.359549   \n",
       "291999        -0.005023        -0.074609       -0.418921      -0.439542   \n",
       "\n",
       "        verified  timestamp  urls_count  hashtags_count     month      wday  \\\n",
       "244059 -0.176005   0.069038   -1.038795       -0.382996 -0.041519 -1.202310   \n",
       "108405 -0.176005   0.140950   -1.038795       -0.382996 -0.041519  1.041258   \n",
       "291999 -0.176005   0.137745    0.922335       -0.382996 -0.041519  1.041258   \n",
       "\n",
       "            hour  \n",
       "244059 -0.606260  \n",
       "108405 -0.420549  \n",
       "291999 -1.349102  "
      ]
     },
     "execution_count": 463,
     "metadata": {},
     "output_type": "execute_result"
    }
   ],
   "source": [
    "# standardise the columns of numeric values\n",
    "def standardise(data,list_column):\n",
    "    for name_column in list_column:\n",
    "        # standardize\n",
    "        if data[name_column].std()!=0:\n",
    "            data[name_column]=(data[name_column]-data[name_column].mean())/data[name_column].std()\n",
    "        else:\n",
    "            data[name_column]=(data[name_column]-data[name_column].mean())\n",
    "            \n",
    "standardise(X_train,[\"favorites_count\",\"followers_count\",\"statuses_count\",\"friends_count\",\"urls_count\",\"hashtags_count\",\"verified\",\"timestamp\",\"month\",\"wday\",\"hour\"])\n",
    "standardise(X_test, [\"favorites_count\",\"followers_count\",\"statuses_count\",\"friends_count\",\"urls_count\",\"hashtags_count\",\"verified\",\"timestamp\",\"month\",\"wday\",\"hour\"])\n",
    "\n",
    "# split the table into 2 parts: one with the text and the other with the numbers\n",
    "X_train_num=X_train.drop([\"text\", \"hashtags\"], axis=1)\n",
    "X_test_num=X_test.drop([\"text\", \"hashtags\"], axis=1)\n",
    "\n",
    "X_train_text=X_train[[\"text\", \"hashtags\"]]\n",
    "X_test_text=X_test[[\"text\", \"hashtags\"]]\n",
    "X_train_num.head(3)"
   ]
  },
  {
   "cell_type": "code",
   "execution_count": 464,
   "metadata": {},
   "outputs": [],
   "source": [
    "# This part is used to train the embedding of the vocabulary, only needed to be run once\n",
    "\n",
    "path_text_dataset='French-Word-Embeddings/Data/data.txt'\n",
    "text_dataset=pd.read_table(path_text_dataset).values\n",
    "text_dataset=[item[0][:-1] for item in text_dataset]\n",
    "\n",
    "TaggedDocument=gensim.models.doc2vec.TaggedDocument\n",
    "\n",
    "def X_text(sentences):\n",
    "    X=[]\n",
    "    for i,text in enumerate(sentences):\n",
    "        words=text.split(\" \")\n",
    "        l=len(words)\n",
    "        words=words[:-2]\n",
    "        document=TaggedDocument(words,tags=[i])\n",
    "        X.append(document)\n",
    "    return X\n",
    "\n",
    "X_documents=X_text(text_dataset)\n",
    "\n",
    "def train_text(text_train,size=10,epochs=10):\n",
    "    model=Doc2Vec(text_train,min_count=1,window=3,vector_size=size,sample=1e-3,negative=5,epochs=epochs)\n",
    "    model.train(text_train,total_examples=model.corpus_count,epochs=model.epochs)\n",
    "    return model\n",
    "\n",
    "if not os.path.exists('./WE_models'):\n",
    "    os.mkdir('./WE_models')\n",
    "\n",
    "# run only once this part  \n",
    "# model_text128=train_text(X_documents, size=128)\n",
    "# model_text128.save('WE_models/d2v_128D')\n",
    "# model_text64=train_text(X_documents, size=64)\n",
    "# model_text64.save('WE_models/d2v_64D')\n",
    "# model_text32=train_text(X_documents, size=32)\n",
    "# model_text32.save('WE_models/d2v_32D')\n",
    "# model_text10=train_text(X_documents, size=10)\n",
    "# model_text10.save('WE_models/d2v_10D')\n",
    "# model_text5=train_text(X_documents, size=5)\n",
    "# model_text5.save('WE_models/d2v_5D')"
   ]
  },
  {
   "cell_type": "code",
   "execution_count": 465,
   "metadata": {},
   "outputs": [],
   "source": [
    "# Here we load the embedding model:\n",
    "model_text128 = Doc2Vec.load('WE_models/d2v_128D')\n",
    "# model_text32 = Doc2Vec.load('WE_models/d2v_32D')"
   ]
  },
  {
   "cell_type": "code",
   "execution_count": 466,
   "metadata": {},
   "outputs": [],
   "source": [
    "\n",
    "# Tranform the textual part to vector\n",
    "\n",
    "def text2vec(text_train, model, alpha=0.05, min_alpha=0.025, epochs=10, tags=True):\n",
    "    list_text=[]\n",
    "    for sentence in text_train:\n",
    "        vec = model.infer_vector(doc_words=sentence, alpha=alpha, min_alpha=min_alpha, epochs=epochs).tolist()\n",
    "        list_text.append(vec)\n",
    "    return np.array(list_text)\n",
    "\n",
    "# text to vector\n",
    "X_train_tweet_vec = text2vec(X_train_text[\"text\"], model=model_text128)\n",
    "train_text_tensor=torch.Tensor(X_train_tweet_vec)\n",
    "X_test_tweet_vec = text2vec(X_test_text[\"text\"], model=model_text128)\n",
    "test_text_tensor=torch.Tensor(X_test_tweet_vec)\n",
    "\n",
    "# hashtags to vector\n",
    "X_train_tags_vec = text2vec(X_train_text[\"hashtags\"], model=model_text128)\n",
    "train_tags_tensor=torch.Tensor(X_train_tags_vec)\n",
    "X_test_tags_vec = text2vec(X_test_text[\"hashtags\"], model=model_text128)\n",
    "test_tags_tensor=torch.Tensor(X_test_tags_vec)\n",
    "\n",
    "# combine the two vectors\n",
    "X_train_text_vec = np.concatenate((X_train_tweet_vec, X_train_tags_vec), axis=1)\n",
    "X_test_text_vec = np.concatenate((X_test_tweet_vec, X_test_tags_vec), axis=1)\n",
    "\n",
    "X_train_text_tensor = torch.Tensor(X_train_text_vec)\n",
    "X_test_text_tensor = torch.Tensor(X_test_text_vec)\n"
   ]
  },
  {
   "cell_type": "code",
   "execution_count": 467,
   "metadata": {},
   "outputs": [
    {
     "name": "stdout",
     "output_type": "stream",
     "text": [
      "torch.Size([247778, 11]) torch.Size([106191, 11])\n",
      "torch.Size([247778, 256]) torch.Size([106191, 256])\n",
      "torch.Size([247778, 267]) torch.Size([106191, 267])\n",
      "torch.Size([247778, 1]) torch.Size([106191, 1])\n"
     ]
    }
   ],
   "source": [
    "\n",
    "X_train_num_vec=X_train_num.values\n",
    "X_train_num_tensor=torch.Tensor(X_train_num_vec)\n",
    "X_test_num_vec=X_test_num.values\n",
    "X_test_num_tensor=torch.Tensor(X_test_num_vec)\n",
    "\n",
    "X_train_vec=np.concatenate((X_train_num_vec, X_train_text_vec), axis=1)\n",
    "X_test_vec=np.concatenate((X_test_num_vec, X_test_text_vec), axis=1)\n",
    "\n",
    "X_train_tensor=torch.Tensor(X_train_vec)\n",
    "X_test_tensor=torch.Tensor(X_test_vec)\n",
    "\n",
    "y_train_vec=y_train.values\n",
    "y_test_vec=y_test.values\n",
    "y_train_tensor=torch.Tensor(y_train_vec).reshape((-1,1))\n",
    "y_test_tensor=torch.Tensor(y_test_vec).reshape((-1,1))\n",
    "\n",
    "print(X_train_num_tensor.shape,X_test_num_tensor.shape)\n",
    "print(X_train_text_tensor.shape, X_test_text_tensor.shape)\n",
    "print(X_train_tensor.shape, X_test_tensor.shape)\n",
    "print(y_train_tensor.shape, y_test_tensor.shape)\n",
    "\n",
    "# dataset_num_XY = torch.utils.data.TensorDataset(X_train_num_tensor.to(device), y_train_tensor.to(device))\n",
    "# testset_num_XY = torch.utils.data.TensorDataset(X_test_num_tensor.to(device), y_test_tensor.to(device))\n",
    "\n",
    "# dataset_tot_XY = torch.utils.data.TensorDataset(X_train_tensor.to(device), y_train_tensor.to(device))\n",
    "# testset_tot_XY = torch.utils.data.TensorDataset(X_test_tensor.to(device), y_test_tensor.to(device))"
   ]
  },
  {
   "cell_type": "code",
   "execution_count": 468,
   "metadata": {},
   "outputs": [],
   "source": [
    "def MAE(pred,real):\n",
    "    N=len(pred)\n",
    "    sum=0\n",
    "    for i in range(N):\n",
    "        sum+=abs(pred[i]-real[i])\n",
    "    return sum/N\n",
    "\n",
    "def ACC(pred,real):\n",
    "    N=len(pred)\n",
    "    sum=0\n",
    "    for i in range(N):\n",
    "        if pred[i]==real[i]:\n",
    "            sum+=1\n",
    "    return sum/N\n",
    "\n",
    "def model_result(model,X_train,y_train,X_test,y_test):\n",
    "    model.fit(X_train,y_train)\n",
    "    y_pred = model.predict(X_test)\n",
    "    y_pred = np.array([int(value) if value >= 0 else 0 for value in y_pred])\n",
    "    loss=MAE(y_pred,y_test)\n",
    "    acc=ACC(y_pred,y_test)\n",
    "    return loss,acc\n"
   ]
  },
  {
   "cell_type": "code",
   "execution_count": 68,
   "metadata": {},
   "outputs": [
    {
     "data": {
      "image/png": "[encoded data removed]",
      "text/plain": [
       "<Figure size 432x288 with 1 Axes>"
      ]
     },
     "metadata": {
      "needs_background": "light"
     },
     "output_type": "display_data"
    }
   ],
   "source": [
    "alpha_list=[0.1*i for i in range(30)]\n",
    "loss_Lasso_tot=[]\n",
    "acc_Lasso_tot=[]\n",
    "for alpha in alpha_list:    \n",
    "    model_Lasso=Lasso(alpha=alpha)\n",
    "    loss_Lasso,acc_Lasso=model_result(model_Lasso,X_train_vec,y_train_vec,X_test_vec,y_test_vec)\n",
    "    loss_Lasso_tot.append(loss_Lasso)\n",
    "    acc_Lasso_tot.append(acc_Lasso)\n",
    "    \n",
    "fig = plt.figure()\n",
    "ax = plt.axes()\n",
    "ax.scatter(alpha_list,loss_Lasso_tot)\n",
    "ax.plot(alpha_list,loss_Lasso_tot) \n",
    "plt.title(\"Loss for Lasso model\")\n",
    "plt.show()\n",
    "\n",
    "model_Lasso=Lasso(alpha=0.1*np.argmin(np.array(loss_Lasso_tot)))\n",
    "\n"
   ]
  },
  {
   "cell_type": "code",
   "execution_count": 69,
   "metadata": {},
   "outputs": [
    {
     "name": "stdout",
     "output_type": "stream",
     "text": [
      "9.414658492715954 0.1452100460491002\n"
     ]
    },
    {
     "data": {
      "text/plain": [
       "(9.414639658728142, 0.14520062905519301)"
      ]
     },
     "execution_count": 69,
     "metadata": {},
     "output_type": "execute_result"
    }
   ],
   "source": [
    "loss_Lasso,acc_Lasso=model_result(model_Lasso,X_train_vec,y_train_vec,X_test_vec,y_test_vec)\n",
    "print(loss_Lasso,acc_Lasso)\n",
    "\n",
    "loss_Lasso_num,acc_Lasso_num=model_result(model_Lasso,X_train_num_vec,y_train_vec,X_test_num_vec,y_test_vec)\n",
    "loss_Lasso_num,acc_Lasso_num"
   ]
  },
  {
   "cell_type": "code",
   "execution_count": 31,
   "metadata": {},
   "outputs": [
    {
     "name": "stdout",
     "output_type": "stream",
     "text": [
      "7\n",
      "8\n",
      "9\n",
      "10\n",
      "11\n",
      "12\n",
      "13\n",
      "14\n"
     ]
    },
    {
     "data": {
      "image/png": "[encoded data removed]",
      "text/plain": [
       "<Figure size 432x288 with 1 Axes>"
      ]
     },
     "metadata": {
      "needs_background": "light"
     },
     "output_type": "display_data"
    }
   ],
   "source": [
    "alpha_list=[i for i in range(7,15)]\n",
    "loss_Knn_tot=[]\n",
    "acc_Knn_tot=[]\n",
    "for alpha in alpha_list:    \n",
    "    print(alpha)\n",
    "    model_Knn=KNeighborsRegressor(n_neighbors=alpha)\n",
    "    loss_Knn,acc_Knn=model_result(model_Knn,X_train_vec,y_train_vec,X_test_vec,y_test_vec)\n",
    "    loss_Knn_tot.append(loss_Knn)\n",
    "    acc_Knn_tot.append(acc_Knn)\n",
    "\n",
    "fig = plt.figure()\n",
    "ax = plt.axes()\n",
    "ax.scatter(alpha_list,loss_Knn_tot)\n",
    "ax.plot(alpha_list,loss_Knn_tot) \n",
    "plt.title(\"Loss for Knn model\")\n",
    "plt.show()\n"
   ]
  },
  {
   "cell_type": "code",
   "execution_count": 61,
   "metadata": {},
   "outputs": [
    {
     "name": "stdout",
     "output_type": "stream",
     "text": [
      "10.042338804606793 0.28482639771732066\n",
      "9.099029107928168 0.34160145398385927\n"
     ]
    }
   ],
   "source": [
    "model_Knn=KNeighborsRegressor(n_neighbors=np.argmin(np.array(loss_Knn_tot))+7)\n",
    "loss_Knn,acc_Knn=model_result(model_Knn,X_train_vec,y_train_vec,X_test_vec,y_test_vec)\n",
    "print(loss_Knn,acc_Knn)\n",
    "loss_Knn_num,acc_Knn_num=model_result(model_Knn,X_train_num_vec,y_train_vec,X_test_num_vec,y_test_vec)\n",
    "print(loss_Knn_num,acc_Knn_num)"
   ]
  },
  {
   "cell_type": "code",
   "execution_count": 33,
   "metadata": {},
   "outputs": [
    {
     "name": "stdout",
     "output_type": "stream",
     "text": [
      "10\n",
      "11\n",
      "12\n",
      "13\n",
      "14\n",
      "15\n",
      "16\n",
      "17\n",
      "18\n",
      "19\n"
     ]
    },
    {
     "data": {
      "image/png": "[encoded data removed]",
      "text/plain": [
       "<Figure size 432x288 with 1 Axes>"
      ]
     },
     "metadata": {
      "needs_background": "light"
     },
     "output_type": "display_data"
    }
   ],
   "source": [
    "alpha_list=[i for i in range(10,20)]\n",
    "loss_RF_tot=[]\n",
    "acc_RF_tot=[]\n",
    "for alpha in alpha_list:    \n",
    "    print(alpha)\n",
    "    model_RF=RandomForestRegressor(max_depth=alpha)\n",
    "    loss_RF,acc_RF=model_result(model_RF,X_train_vec,y_train_vec,X_test_vec,y_test_vec)\n",
    "    loss_RF_tot.append(loss_RF)\n",
    "    acc_RF_tot.append(acc_RF)\n",
    "    \n",
    "fig = plt.figure()\n",
    "ax = plt.axes()\n",
    "ax.scatter(alpha_list,loss_RF_tot)\n",
    "ax.plot(alpha_list,loss_RF_tot) \n",
    "plt.title(\"Loss for RF model\")\n",
    "plt.show()"
   ]
  },
  {
   "cell_type": "code",
   "execution_count": 70,
   "metadata": {},
   "outputs": [
    {
     "name": "stdout",
     "output_type": "stream",
     "text": [
      "6.75432004595493 0.13152715390193143\n",
      "6.665527210403895 0.13174374476179715\n"
     ]
    }
   ],
   "source": [
    "model_RF=RandomForestRegressor(max_depth=np.argmin(np.array(loss_RF_tot))+10)\n",
    "loss_RF,acc_RF=model_result(model_RF,X_train_vec,y_train_vec,X_test_vec,y_test_vec)\n",
    "print(loss_RF,acc_RF)\n",
    "loss_RF_num,acc_RF_num=model_result(model_RF,X_train_num_vec,y_train_vec,X_test_num_vec,y_test_vec)\n",
    "print(loss_RF_num,acc_RF_num)"
   ]
  },
  {
   "cell_type": "code",
   "execution_count": 552,
   "metadata": {},
   "outputs": [
    {
     "data": {
      "text/html": [
       "<div>\n",
       "<style scoped>\n",
       "    .dataframe tbody tr th:only-of-type {\n",
       "        vertical-align: middle;\n",
       "    }\n",
       "\n",
       "    .dataframe tbody tr th {\n",
       "        vertical-align: top;\n",
       "    }\n",
       "\n",
       "    .dataframe thead th {\n",
       "        text-align: right;\n",
       "    }\n",
       "</style>\n",
       "<table border=\"1\" class=\"dataframe\">\n",
       "  <thead>\n",
       "    <tr style=\"text-align: right;\">\n",
       "      <th></th>\n",
       "      <th>text</th>\n",
       "      <th>favorites_count</th>\n",
       "      <th>followers_count</th>\n",
       "      <th>statuses_count</th>\n",
       "      <th>friends_count</th>\n",
       "      <th>verified</th>\n",
       "      <th>hashtags</th>\n",
       "      <th>timestamp</th>\n",
       "      <th>TweetID</th>\n",
       "      <th>urls_count</th>\n",
       "      <th>hashtags_count</th>\n",
       "      <th>month</th>\n",
       "      <th>wday</th>\n",
       "      <th>hour</th>\n",
       "    </tr>\n",
       "  </thead>\n",
       "  <tbody>\n",
       "    <tr>\n",
       "      <th>0</th>\n",
       "      <td>[descendue, pourcentage, vote]</td>\n",
       "      <td>0</td>\n",
       "      <td>85</td>\n",
       "      <td>4442</td>\n",
       "      <td>327</td>\n",
       "      <td>0</td>\n",
       "      <td>['presidentielle2022', 'hidalgo']</td>\n",
       "      <td>1647607994000</td>\n",
       "      <td>1184643</td>\n",
       "      <td>0</td>\n",
       "      <td>2</td>\n",
       "      <td>3</td>\n",
       "      <td>4</td>\n",
       "      <td>12</td>\n",
       "    </tr>\n",
       "    <tr>\n",
       "      <th>1</th>\n",
       "      <td>[photo, demande, arbre, généalogique]</td>\n",
       "      <td>0</td>\n",
       "      <td>427</td>\n",
       "      <td>33282</td>\n",
       "      <td>443</td>\n",
       "      <td>0</td>\n",
       "      <td>[]</td>\n",
       "      <td>1647601275000</td>\n",
       "      <td>1199190</td>\n",
       "      <td>0</td>\n",
       "      <td>0</td>\n",
       "      <td>3</td>\n",
       "      <td>4</td>\n",
       "      <td>11</td>\n",
       "    </tr>\n",
       "    <tr>\n",
       "      <th>2</th>\n",
       "      <td>[dossiers, promis, poste, gars, vraiment, fiable]</td>\n",
       "      <td>6</td>\n",
       "      <td>1127</td>\n",
       "      <td>13111</td>\n",
       "      <td>1596</td>\n",
       "      <td>0</td>\n",
       "      <td>['macron']</td>\n",
       "      <td>1646900684000</td>\n",
       "      <td>917372</td>\n",
       "      <td>0</td>\n",
       "      <td>1</td>\n",
       "      <td>3</td>\n",
       "      <td>3</td>\n",
       "      <td>8</td>\n",
       "    </tr>\n",
       "    <tr>\n",
       "      <th>3</th>\n",
       "      <td>[lol, cas, faut, second, tour, macron, sortir,...</td>\n",
       "      <td>2</td>\n",
       "      <td>1699</td>\n",
       "      <td>25760</td>\n",
       "      <td>2036</td>\n",
       "      <td>0</td>\n",
       "      <td>[]</td>\n",
       "      <td>1647161294000</td>\n",
       "      <td>731754</td>\n",
       "      <td>1</td>\n",
       "      <td>0</td>\n",
       "      <td>3</td>\n",
       "      <td>6</td>\n",
       "      <td>8</td>\n",
       "    </tr>\n",
       "    <tr>\n",
       "      <th>4</th>\n",
       "      <td>[zemmour, putain, discours, propagandiste, lit...</td>\n",
       "      <td>0</td>\n",
       "      <td>249</td>\n",
       "      <td>20718</td>\n",
       "      <td>369</td>\n",
       "      <td>0</td>\n",
       "      <td>[]</td>\n",
       "      <td>1647724874000</td>\n",
       "      <td>1400049</td>\n",
       "      <td>2</td>\n",
       "      <td>0</td>\n",
       "      <td>3</td>\n",
       "      <td>5</td>\n",
       "      <td>21</td>\n",
       "    </tr>\n",
       "  </tbody>\n",
       "</table>\n",
       "</div>"
      ],
      "text/plain": [
       "                                                text  favorites_count  \\\n",
       "0                     [descendue, pourcentage, vote]                0   \n",
       "1              [photo, demande, arbre, généalogique]                0   \n",
       "2  [dossiers, promis, poste, gars, vraiment, fiable]                6   \n",
       "3  [lol, cas, faut, second, tour, macron, sortir,...                2   \n",
       "4  [zemmour, putain, discours, propagandiste, lit...                0   \n",
       "\n",
       "   followers_count  statuses_count  friends_count  verified  \\\n",
       "0               85            4442            327         0   \n",
       "1              427           33282            443         0   \n",
       "2             1127           13111           1596         0   \n",
       "3             1699           25760           2036         0   \n",
       "4              249           20718            369         0   \n",
       "\n",
       "                            hashtags      timestamp  TweetID  urls_count  \\\n",
       "0  ['presidentielle2022', 'hidalgo']  1647607994000  1184643           0   \n",
       "1                                 []  1647601275000  1199190           0   \n",
       "2                         ['macron']  1646900684000   917372           0   \n",
       "3                                 []  1647161294000   731754           1   \n",
       "4                                 []  1647724874000  1400049           2   \n",
       "\n",
       "   hashtags_count  month  wday  hour  \n",
       "0               2      3     4    12  \n",
       "1               0      3     4    11  \n",
       "2               1      3     3     8  \n",
       "3               0      3     6     8  \n",
       "4               0      3     5    21  "
      ]
     },
     "execution_count": 552,
     "metadata": {},
     "output_type": "execute_result"
    }
   ],
   "source": [
    "# Load data\n",
    "eval_data = pd.read_csv(\"data/evaluation.csv\")\n",
    "\n",
    "# Pre-process the traning data\n",
    "label = \"text\"\n",
    "eval_data[label] = eval_data[label].map(lambda x: str.split(x, sep=\" \"))\n",
    "\n",
    "\n",
    "label = \"urls\"\n",
    "eval_data[label] = eval_data[label].map(lambda x: [] if x==\"[]\" else [str.strip(url) for url in str.split(x[1:-1], sep=\",\")])\n",
    "eval_data[label+\"_count\"] = eval_data[label].map(lambda x: len(x))\n",
    "\n",
    "\n",
    "label = \"hashtags\"\n",
    "eval_data[label] = eval_data[label].map(lambda x: [] if x==\"[]\" else [str.strip(tag) for tag in str.split(x[1:-1], sep=\",\")])\n",
    "eval_data[label+\"_count\"] = eval_data[label].map(lambda x: len(x))\n",
    "\n",
    "\n",
    "\n",
    "# Treatment of time\n",
    "# The time relative to the election (month and yday), day in the week, \n",
    "# and the hour all affect the number of retweets.\n",
    "eval_data[\"time\"] = eval_data[\"timestamp\"].map(lambda x: time.gmtime(x//1000))\n",
    "# Only 2380 tweets are not posted in 2022, so we ignore the year\n",
    "# eval_data[\"year\"] = eval_data[\"timestamp\"].map(lambda x: x.tm_year)\n",
    "eval_data[\"month\"] = eval_data[\"time\"].map(lambda x: x.tm_mon)\n",
    "eval_data[\"wday\"] = eval_data[\"time\"].map(lambda x: x.tm_wday)\n",
    "eval_data[\"hour\"] = eval_data[\"time\"].map(lambda x: x.tm_hour)\n",
    "\n",
    "\n",
    "# We drop the following data:\n",
    "# @TweetID: useless\n",
    "# @mentions: none of the mentions in the eval data are not null\n",
    "# @mentions_count\n",
    "# @urls: we use urls_count instead\n",
    "\n",
    "eval_data.drop(labels=[\"time\", \"mentions\", \"urls\"], axis=1, inplace=True)\n",
    "eval_data.head(5)"
   ]
  },
  {
   "cell_type": "code",
   "execution_count": 553,
   "metadata": {},
   "outputs": [
    {
     "data": {
      "text/plain": [
       "(117990, 11)"
      ]
     },
     "execution_count": 553,
     "metadata": {},
     "output_type": "execute_result"
    }
   ],
   "source": [
    "X_eval = eval_data.drop(labels=[\"TweetID\"], axis=1)\n",
    "    \n",
    "standardise(X_eval,[\"favorites_count\",\"followers_count\",\"statuses_count\",\"friends_count\",\"urls_count\",\"hashtags_count\",\"verified\",\"timestamp\",\"month\",\"wday\",\"hour\"])\n",
    "\n",
    "# split the table into 2 parts: one with the text and the other with the numbers\n",
    "X_eval_num=X_eval.drop([\"text\", \"hashtags\"], axis=1)\n",
    "\n",
    "\n",
    "X_eval_text=X_eval[[\"text\", \"hashtags\"]]\n",
    "\n",
    "X_eval_num_vec=X_eval_num.values\n",
    "X_eval_num_vec.shape"
   ]
  },
  {
   "cell_type": "code",
   "execution_count": 554,
   "metadata": {},
   "outputs": [],
   "source": [
    "# text to vector\n",
    "eval_text_tensor=torch.Tensor(text2vec(X_eval_text[\"text\"], model=model_text128))\n",
    "\n",
    "# hashtags to vector\n",
    "eval_tags_tensor=torch.Tensor(text2vec(X_eval_text[\"hashtags\"], model=model_text128))\n",
    "\n",
    "# combine the two vectors\n",
    "X_eval_text_tensor = torch.cat((eval_text_tensor, eval_tags_tensor), axis=1)"
   ]
  },
  {
   "cell_type": "code",
   "execution_count": 559,
   "metadata": {},
   "outputs": [
    {
     "name": "stdout",
     "output_type": "stream",
     "text": [
      "torch.Size([117990, 11])\n",
      "torch.Size([117990, 256])\n",
      "torch.Size([117990, 267])\n"
     ]
    }
   ],
   "source": [
    "X_eval_num_vec=X_eval_num.to_numpy()\n",
    "X_eval_text_vec=X_eval_text_tensor.numpy()\n",
    "X_eval_vec=np.hstack([X_eval_num_vec,X_eval_text_vec])\n",
    "\n",
    "X_eval_num_tensor=torch.Tensor(X_eval_num.values)\n",
    "\n",
    "X_eval_tensor=torch.cat((X_eval_num_tensor, X_eval_text_tensor), axis=1)\n",
    "\n",
    "print(X_eval_num_tensor.shape)\n",
    "print(X_eval_text_tensor.shape)\n",
    "print(X_eval_tensor.shape)"
   ]
  },
  {
   "cell_type": "code",
   "execution_count": 53,
   "metadata": {},
   "outputs": [
    {
     "name": "stdout",
     "output_type": "stream",
     "text": [
      "(117990,)\n"
     ]
    }
   ],
   "source": [
    "model_RF=RandomForestRegressor(max_depth=np.argmin(np.array(loss_RF_tot))+10)\n",
    "model_RF.fit(np.concatenate((X_train_num_vec,X_test_num_vec)), np.concatenate((y_train_vec, y_test_vec)))\n",
    "pred_RF = model_RF.predict(X_eval_num_vec)\n",
    "\n",
    "def write_result(filename,results):\n",
    "    with open(filename, 'w',newline='') as f:\n",
    "        writer = csv.writer(f)\n",
    "        writer.writerow([\"TweetID\", \"retweets_count\"])\n",
    "        for index, prediction in enumerate(results):\n",
    "            writer.writerow([str(eval_data['TweetID'].iloc[index]) , str(int(np.round(prediction)))])\n",
    "            \n",
    "print(pred_RF.shape)      \n",
    "write_result(\"data/RF_predictions.txt\", pred_RF)"
   ]
  },
  {
   "cell_type": "code",
   "execution_count": 743,
   "metadata": {},
   "outputs": [],
   "source": [
    "class CNN(nn.Module):\n",
    "    def __init__(self, \n",
    "                 input_size, \n",
    "                 filter_sizes=[3, 4, 5],\n",
    "                 num_filters=[64, 64, 64], \n",
    "                 output_size=15, \n",
    "                 dropout=0.5):\n",
    "        super(CNN, self).__init__()\n",
    "        \n",
    "        self.input_size = input_size\n",
    "        \n",
    "        # Conv Network\n",
    "        self.conv1d_list = nn.ModuleList([\n",
    "            nn.Conv1d(in_channels=1,\n",
    "                      out_channels=num_filters[i],\n",
    "                      kernel_size=filter_sizes[i])\n",
    "            for i in range(len(filter_sizes))\n",
    "        ])\n",
    "        \n",
    "        # Fully-connected layer and Dropout\n",
    "        self.fc = nn.Linear(np.sum(num_filters), output_size)\n",
    "        self.dropout = nn.Dropout(p=dropout)\n",
    "        self.batchnorm= nn.BatchNorm1d(np.sum(num_filters))\n",
    "        \n",
    "        \n",
    "    def forward(self, x, verbose=False):\n",
    "\n",
    "        # Permute `x_embed` to match input shape requirement of `nn.Conv1d`.\n",
    "        # Output shape: (b, embed_dim, max_len)\n",
    "        # print(\"x.type\",type(x))\n",
    "\n",
    "        x_reshaped = x.unsqueeze(dim=1)\n",
    "\n",
    "        # Apply CNN and ReLU. \n",
    "        x_conv_list = [F.relu(conv1d(x_reshaped)) for conv1d in self.conv1d_list]\n",
    "\n",
    "        # Max pooling.\n",
    "        x_pool_list = [F.max_pool1d(x_conv, kernel_size=x_conv.shape[2])\n",
    "            for x_conv in x_conv_list]\n",
    "        # print(x_pool_list[0].shape)\n",
    "        # print(x_pool_list[0].squeeze(dim=2).shape)\n",
    "        \n",
    "        # Concatenate x_pool_list to feed the fully connected layer.\n",
    "        x_fc = torch.cat([x_pool.squeeze(dim=2) for x_pool in x_pool_list],\n",
    "                         dim=1)\n",
    "        \n",
    "        # Compute res.\n",
    "        x = self.dropout(x_fc)\n",
    "        x = self.batchnorm(x)\n",
    "        res = self.fc(x)\n",
    "\n",
    "        return res\n",
    "    \n",
    "    \n",
    "def initilize_model_CNN(input_size, \n",
    "                    num_filters=[64, 64, 64],\n",
    "                    filter_sizes=[3, 4, 5],\n",
    "                    output_size=15,\n",
    "                    dropout=0.5,\n",
    "                    learning_rate=0.01):\n",
    "\n",
    "    cnn_model = CNN(input_size=1,\n",
    "                    filter_sizes=filter_sizes,\n",
    "                    num_filters=num_filters,\n",
    "                    output_size=output_size,\n",
    "                    dropout=dropout)\n",
    "    \n",
    "    cnn_model.to(device)\n",
    "\n",
    "    optimizer = optim.Adam(cnn_model.parameters(),\n",
    "                           lr=learning_rate)\n",
    "    \n",
    "    # L1loss is the MAE loss\n",
    "    loss_function = nn.L1Loss()\n",
    "    \n",
    "    return cnn_model, optimizer, loss_function"
   ]
  },
  {
   "cell_type": "code",
   "execution_count": 794,
   "metadata": {},
   "outputs": [],
   "source": [
    "def train(model, optimizer, train_loader, epoch=100):\n",
    "    log_interval= max(epoch//10, 1)\n",
    "    #set model in train mode\n",
    "    model.train() \n",
    "    t0_epoch = time.time()\n",
    "    for epoch_i in range(epoch):\n",
    "        for batch_idx, (data, target) in enumerate(train_loader):\n",
    "            data, target = data.to(device), target.to(device)\n",
    "            optimizer.zero_grad()\n",
    "            output = model(data)\n",
    "            # print(output.shape)\n",
    "            loss = F.l1_loss(output, target)\n",
    "            \n",
    "            loss.backward()\n",
    "            optimizer.step()\n",
    "            \n",
    "        if epoch_i % log_interval == 0:\n",
    "            print('Train Epoch: {} [{}/{} ({:.0f}%)]\\tLoss: {:.6f} \\ttime_elapsed: {:^9.2f}'.format(\n",
    "                epoch, epoch_i+1, epoch,\n",
    "                100. * (epoch_i+1) / epoch, loss.item(), time.time()-t0_epoch))\n",
    "                \n",
    "\n",
    "def evaluate(model, loss_function, eval_loader):\n",
    "\n",
    "    #set model in eval mode\n",
    "    model.eval()\n",
    "\n",
    "    # Tracking variables\n",
    "    val_accuracy = []\n",
    "    val_loss = []\n",
    "    # For each batch in our validation set...\n",
    "    for step, (data, target) in enumerate(eval_loader):\n",
    "        # print(data.shape, target.shape)\n",
    "        # break\n",
    "        # Compute logits\n",
    "        with torch.no_grad():\n",
    "            data, target = data.to(device), target.to(device)\n",
    "            output = model(data)\n",
    "        # Compute loss\n",
    "        loss = loss_function(output, target)\n",
    "        val_loss.append(loss)\n",
    "\n",
    "        # Calculate the accuracy rate\n",
    "        accuracy = (output == target).cpu().numpy().mean() * 100\n",
    "        val_accuracy.append(accuracy)\n",
    "\n",
    "    # Compute the average accuracy and loss over the validation set.\n",
    "    val_loss = np.mean(val_loss)\n",
    "    val_accuracy = np.mean(val_accuracy)\n",
    "\n",
    "    return val_loss, val_accuracy"
   ]
  },
  {
   "cell_type": "code",
   "execution_count": 795,
   "metadata": {},
   "outputs": [],
   "source": [
    "batch_size = 24\n",
    "dataset_train_text = TensorDataset(X_train_text_tensor[:10000].to(device), y_train_tensor[:10000].to(device))\n",
    "X_train_loader_text = DataLoader(dataset=dataset_train_text, batch_size=batch_size, shuffle=True)\n",
    "\n",
    "dataset_train_tweet = TensorDataset(train_text_tensor.to(device), y_train_tensor.to(device))\n",
    "X_train_loader_tweet = DataLoader(dataset=dataset_train_tweet , batch_size=batch_size, shuffle=True)\n",
    "\n",
    "dataset_train_tags = TensorDataset(train_tags_tensor.to(device), y_train_tensor.to(device))\n",
    "X_train_loader_tags = DataLoader(dataset=dataset_train_tags, batch_size=batch_size, shuffle=True)\n"
   ]
  },
  {
   "cell_type": "code",
   "execution_count": 796,
   "metadata": {},
   "outputs": [],
   "source": [
    "input_size = X_train_text_vec.shape[1]\n",
    "cnn_model, optimizer, loss_function = initilize_model_CNN(input_size=input_size,\n",
    "                                                      filter_sizes=[3, 4, 5],\n",
    "                                                      num_filters=[input_size, input_size, input_size],\n",
    "                                                      output_size=1,\n",
    "                                                      dropout=0.7)"
   ]
  },
  {
   "cell_type": "code",
   "execution_count": 797,
   "metadata": {},
   "outputs": [
    {
     "name": "stdout",
     "output_type": "stream",
     "text": [
      "Train Epoch: 1 [1/1 (100%)]\tLoss: 2.222336 \ttime_elapsed:   14.13  \n"
     ]
    }
   ],
   "source": [
    "train(cnn_model, optimizer, train_loader=X_train_loader_text, epoch=1)"
   ]
  },
  {
   "cell_type": "code",
   "execution_count": 747,
   "metadata": {},
   "outputs": [
    {
     "data": {
      "text/plain": [
       "(19.621527, 0.0)"
      ]
     },
     "execution_count": 747,
     "metadata": {},
     "output_type": "execute_result"
    }
   ],
   "source": [
    "dataset_test_text = TensorDataset(X_test_text_tensor[:1000].to(device), y_test_tensor[:1000].to(device))\n",
    "X_test_loader_text = DataLoader(dataset=dataset_test_text, shuffle=True)\n",
    "\n",
    "dataset_test_tweet = TensorDataset(test_text_tensor.to(device), y_test_tensor.to(device))\n",
    "X_test_loader_tweet = DataLoader(dataset=dataset_test_tweet, shuffle=True)\n",
    "\n",
    "dataset_test_tags = TensorDataset(test_tags_tensor.to(device), y_test_tensor.to(device))\n",
    "X_test_loader_tags = DataLoader(dataset=dataset_test_tags, shuffle=True)\n",
    "\n",
    "evaluate(cnn_model, loss_function, eval_loader=X_test_loader_text)"
   ]
  },
  {
   "cell_type": "code",
   "execution_count": 804,
   "metadata": {},
   "outputs": [],
   "source": [
    "# Here we define the full internet\n",
    "class FNN(nn.Module):\n",
    "    def __init__(self, \n",
    "                 input_num_size,\n",
    "                 input_tweet_size,  \n",
    "                 input_tags_size, \n",
    "                 dense_layers, \n",
    "                 output_tweet_size, \n",
    "                 output_tags_size, \n",
    "                 dropout):\n",
    "        super(FNN, self).__init__()\n",
    "        \n",
    "        self.input_num_size = input_num_size\n",
    "        self.input_tweet_size = input_tweet_size\n",
    "        self.input_tags_size = input_tags_size\n",
    "        self.tot_size = input_num_size + output_tweet_size + output_tags_size\n",
    "        \n",
    "        self.CNN_tweet = CNN(input_size=input_tweet_size, num_filters=[input_tweet_size,input_tweet_size,input_tweet_size], output_size=output_tweet_size,dropout=dropout)\n",
    "        self.CNN_tags = CNN(input_size=input_tags_size, num_filters=[input_tags_size,input_tags_size,input_tags_size], output_size=output_tags_size, dropout=dropout)\n",
    "        self.dense1 = nn.Linear(self.tot_size, dense_layers[0])\n",
    "        self.dense2 = nn.Linear(dense_layers[0], dense_layers[1])\n",
    "        self.dense3 = nn.Linear(dense_layers[1], 1)\n",
    "        self.dropout = nn.Dropout(p=dropout)\n",
    "        self.batchnorm= nn.BatchNorm1d(self.tot_size)\n",
    "\n",
    "    def forward(self, x, verbose=False):\n",
    "        \n",
    "        # assert(self.tot_size==len(x))\n",
    "        # print(x.shape)\n",
    "        x_num = x[:,:self.input_num_size]\n",
    "        x_tweet = x[:,self.input_num_size: self.input_num_size + self.input_tweet_size]\n",
    "        x_tags = x[:,self.input_num_size + self.input_tweet_size:]\n",
    "        x_tweet = self.CNN_tweet(x_tweet)\n",
    "        x_tags = self.CNN_tags(x_tags)\n",
    "        \n",
    "        x_dense = torch.cat((x_num, x_tweet, x_tags), axis=1)\n",
    "        x_dense = self.dropout(x_dense)\n",
    "        x_dense = self.batchnorm(x_dense)\n",
    "        \n",
    "        x_dense = self.dense1(x_dense)\n",
    "        x_dense = self.dense2(F.relu(x_dense))\n",
    "        \n",
    "        res = self.dense3(F.relu(x_dense))\n",
    "        return F.relu(res)"
   ]
  },
  {
   "cell_type": "code",
   "execution_count": 805,
   "metadata": {},
   "outputs": [],
   "source": [
    "def initilize_model_FNN(input_num_size,\n",
    "                        input_tweet_size,  \n",
    "                        input_tags_size, \n",
    "                        dense_layers=[30, 15], \n",
    "                        output_tweet_size=10, \n",
    "                        output_tags_size=5, \n",
    "                        dropout=0.5,\n",
    "                        learning_rate=0.001):\n",
    "\n",
    "    fnn_model = FNN(input_num_size=input_num_size,\n",
    "                    input_tweet_size=input_tweet_size,  \n",
    "                    input_tags_size=input_tags_size, \n",
    "                    dense_layers=dense_layers, \n",
    "                    output_tweet_size=output_tweet_size, \n",
    "                    output_tags_size=output_tags_size, \n",
    "                    dropout=dropout)\n",
    "    \n",
    "    fnn_model.to(device)\n",
    "\n",
    "    optimizer = optim.Adam(cnn_model.parameters(),\n",
    "                           lr=learning_rate)\n",
    "    \n",
    "    # L1loss is the MAE loss\n",
    "    loss_function = nn.L1Loss()\n",
    "    \n",
    "    return fnn_model, optimizer, loss_function"
   ]
  },
  {
   "cell_type": "code",
   "execution_count": 806,
   "metadata": {},
   "outputs": [],
   "source": [
    "\n",
    "\n",
    "dataset_train = TensorDataset(X_train_tensor[10000:20000].to(device), y_train_tensor[10000:20000].to(device))\n",
    "X_train_loader = DataLoader(dataset=dataset_train, batch_size=batch_size, shuffle=True)\n",
    "\n",
    "\n",
    "input_num_size = X_train_num_vec.shape[1]\n",
    "input_tweet_size = X_train_tweet_vec.shape[1]\n",
    "input_tags_size = X_train_tags_vec.shape[1]\n",
    "fnn_model, optimizer, loss_function = initilize_model_FNN(input_num_size, \n",
    "                                                          input_tweet_size, \n",
    "                                                          input_tags_size, \n",
    "                                                          learning_rate=1e-5,\n",
    "                                                          output_tweet_size=10, \n",
    "                                                          output_tags_size=5, \n",
    "                                                          dropout=0.7)"
   ]
  },
  {
   "cell_type": "code",
   "execution_count": 807,
   "metadata": {},
   "outputs": [
    {
     "name": "stdout",
     "output_type": "stream",
     "text": [
      "128\n",
      "10008\n",
      "Train Epoch: 5 [1/5 (20%)]\tLoss: 1.488269 \ttime_elapsed:   9.55   \n",
      "Train Epoch: 5 [2/5 (40%)]\tLoss: 1.243773 \ttime_elapsed:   19.54  \n",
      "Train Epoch: 5 [3/5 (60%)]\tLoss: 5.985219 \ttime_elapsed:   29.25  \n",
      "Train Epoch: 5 [4/5 (80%)]\tLoss: 1.071038 \ttime_elapsed:   39.09  \n",
      "Train Epoch: 5 [5/5 (100%)]\tLoss: 3.410781 \ttime_elapsed:   48.60  \n"
     ]
    }
   ],
   "source": [
    "print(input_tweet_size)\n",
    "print(len(X_train_loader)*batch_size)\n",
    "train(fnn_model, optimizer, train_loader=X_train_loader, epoch=5)"
   ]
  },
  {
   "cell_type": "code",
   "execution_count": 800,
   "metadata": {},
   "outputs": [
    {
     "data": {
      "text/plain": [
       "(12.928361, 50.148809523809526)"
      ]
     },
     "execution_count": 800,
     "metadata": {},
     "output_type": "execute_result"
    }
   ],
   "source": [
    "dataset_test = TensorDataset(X_test_tensor[1000:2000].to(device), y_test_tensor[1000:2000].to(device))\n",
    "X_test_loader = DataLoader(dataset=dataset_test, batch_size=batch_size, shuffle=True)\n",
    "\n",
    "evaluate(fnn_model, loss_function, eval_loader=X_test_loader)"
   ]
  },
  {
   "cell_type": "code",
   "execution_count": 757,
   "metadata": {},
   "outputs": [],
   "source": [
    "def predict(model, eval_loader):\n",
    "\n",
    "    #set model in eval mode\n",
    "    model.eval()\n",
    "\n",
    "    # Tracking variables\n",
    "    preds=[]\n",
    "    \n",
    "    # For each batch in our validation set...\n",
    "    for step, (data,) in enumerate(eval_loader):\n",
    "        data = data.to(device)\n",
    "        with torch.no_grad():\n",
    "            output = model(data)\n",
    "            preds.append(output)\n",
    "\n",
    "    return np.array(preds)"
   ]
  },
  {
   "cell_type": "code",
   "execution_count": 759,
   "metadata": {},
   "outputs": [
    {
     "name": "stdout",
     "output_type": "stream",
     "text": [
      "torch.Size([117990, 267])\n"
     ]
    }
   ],
   "source": [
    "dataset_eval = TensorDataset(X_eval_tensor[:10000].to(device))\n",
    "print(X_eval_tensor.shape)\n",
    "X_eval_loader = DataLoader(dataset=dataset_eval)\n",
    "\n",
    "preds = predict(fnn_model, X_eval_loader)\n"
   ]
  },
  {
   "cell_type": "code",
   "execution_count": 760,
   "metadata": {},
   "outputs": [
    {
     "name": "stdout",
     "output_type": "stream",
     "text": [
      "0.0011\n"
     ]
    }
   ],
   "source": [
    "preds = np.array([int(np.round(num)) for num in preds ])\n",
    "# write_result(\"data/FNN_predictions.txt\", preds)\n",
    "print(np.mean(preds))"
   ]
  },
  {
   "cell_type": "code",
   "execution_count": 782,
   "metadata": {},
   "outputs": [
    {
     "data": {
      "text/plain": [
       "1.0"
      ]
     },
     "execution_count": 782,
     "metadata": {},
     "output_type": "execute_result"
    }
   ],
   "source": [
    "train_data[\"retweets_count\"].median()"
   ]
  }
 ],
 "metadata": {
  "kernelspec": {
   "display_name": "Python 3.9.2 64-bit",
   "language": "python",
   "name": "python3"
  },
  "language_info": {
   "codemirror_mode": {
    "name": "ipython",
    "version": 3
   },
   "file_extension": ".py",
   "mimetype": "text/x-python",
   "name": "python",
   "nbconvert_exporter": "python",
   "pygments_lexer": "ipython3",
   "version": "3.9.2"
  },
  "orig_nbformat": 4,
  "vscode": {
   "interpreter": {
    "hash": "107bf26d3be942b0376d323aa83938b654b529496a5c3f1b6b3e9c409d104805"
   }
  }
 },
 "nbformat": 4,
 "nbformat_minor": 2
}
